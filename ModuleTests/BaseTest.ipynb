{
 "cells": [
  {
   "cell_type": "code",
   "execution_count": 1,
   "outputs": [],
   "source": [
    "from XQuant import Tester, Tools\n",
    "from XQuant import Size\n",
    "\n",
    "s = Size(begin='20220101')\n",
    "IC, IR = Tester.ICIR(s.LNCAP, s.returns)"
   ],
   "metadata": {
    "collapsed": false,
    "ExecuteTime": {
     "start_time": "2023-08-11T12:21:35.243091Z",
     "end_time": "2023-08-11T12:21:45.277650Z"
    }
   }
  },
  {
   "cell_type": "code",
   "execution_count": 2,
   "outputs": [
    {
     "data": {
      "text/plain": "                  IC\n2022-01-04 -0.343167\n2022-01-05 -0.139012\n2022-01-06 -0.181675\n2022-01-07  0.199438\n2022-01-10 -0.125565\n...              ...\n2023-07-24 -0.112583\n2023-07-25  0.056923\n2023-07-26  0.000000\n2023-07-27  0.000000\n2023-07-28  0.211671\n\n[380 rows x 1 columns]",
      "text/html": "<div>\n<style scoped>\n    .dataframe tbody tr th:only-of-type {\n        vertical-align: middle;\n    }\n\n    .dataframe tbody tr th {\n        vertical-align: top;\n    }\n\n    .dataframe thead th {\n        text-align: right;\n    }\n</style>\n<table border=\"1\" class=\"dataframe\">\n  <thead>\n    <tr style=\"text-align: right;\">\n      <th></th>\n      <th>IC</th>\n    </tr>\n  </thead>\n  <tbody>\n    <tr>\n      <th>2022-01-04</th>\n      <td>-0.343167</td>\n    </tr>\n    <tr>\n      <th>2022-01-05</th>\n      <td>-0.139012</td>\n    </tr>\n    <tr>\n      <th>2022-01-06</th>\n      <td>-0.181675</td>\n    </tr>\n    <tr>\n      <th>2022-01-07</th>\n      <td>0.199438</td>\n    </tr>\n    <tr>\n      <th>2022-01-10</th>\n      <td>-0.125565</td>\n    </tr>\n    <tr>\n      <th>...</th>\n      <td>...</td>\n    </tr>\n    <tr>\n      <th>2023-07-24</th>\n      <td>-0.112583</td>\n    </tr>\n    <tr>\n      <th>2023-07-25</th>\n      <td>0.056923</td>\n    </tr>\n    <tr>\n      <th>2023-07-26</th>\n      <td>0.000000</td>\n    </tr>\n    <tr>\n      <th>2023-07-27</th>\n      <td>0.000000</td>\n    </tr>\n    <tr>\n      <th>2023-07-28</th>\n      <td>0.211671</td>\n    </tr>\n  </tbody>\n</table>\n<p>380 rows × 1 columns</p>\n</div>"
     },
     "execution_count": 2,
     "metadata": {},
     "output_type": "execute_result"
    }
   ],
   "source": [
    "IC"
   ],
   "metadata": {
    "collapsed": false,
    "ExecuteTime": {
     "start_time": "2023-08-11T12:22:12.891669Z",
     "end_time": "2023-08-11T12:22:12.898427Z"
    }
   }
  }
 ],
 "metadata": {
  "kernelspec": {
   "display_name": "Python 3",
   "language": "python",
   "name": "python3"
  },
  "language_info": {
   "codemirror_mode": {
    "name": "ipython",
    "version": 2
   },
   "file_extension": ".py",
   "mimetype": "text/x-python",
   "name": "python",
   "nbconvert_exporter": "python",
   "pygments_lexer": "ipython2",
   "version": "2.7.6"
  }
 },
 "nbformat": 4,
 "nbformat_minor": 0
}
