{
 "cells": [
  {
   "cell_type": "code",
   "execution_count": 1,
   "outputs": [],
   "source": [
    "from XQuant import BackTestRunner, BackTestOptions, BARRA, Tools"
   ],
   "metadata": {
    "collapsed": false,
    "ExecuteTime": {
     "start_time": "2023-08-19T11:46:00.113152Z",
     "end_time": "2023-08-19T11:46:01.392338Z"
    }
   }
  },
  {
   "cell_type": "code",
   "execution_count": 2,
   "outputs": [],
   "source": [
    "barra = BARRA(begin='20230105')\n",
    "opt = BackTestOptions(begin = '20230101', end = '20230202', clean_cache = True)\n",
    "bg = BackTestRunner(barra.LNCAP, options=opt)\n",
    "bg.prepare()"
   ],
   "metadata": {
    "collapsed": false,
    "ExecuteTime": {
     "start_time": "2023-08-19T11:46:01.393341Z",
     "end_time": "2023-08-19T11:46:03.397443Z"
    }
   }
  },
  {
   "cell_type": "code",
   "execution_count": 3,
   "outputs": [],
   "source": [
    "opt.begin= '20230108'\n",
    "bg.prepare()"
   ],
   "metadata": {
    "collapsed": false,
    "ExecuteTime": {
     "start_time": "2023-08-19T11:46:03.397443Z",
     "end_time": "2023-08-19T11:46:04.344106Z"
    }
   }
  },
  {
   "cell_type": "code",
   "execution_count": null,
   "outputs": [],
   "source": [],
   "metadata": {
    "collapsed": false
   }
  },
  {
   "cell_type": "code",
   "execution_count": 4,
   "outputs": [
    {
     "data": {
      "text/plain": "'20230106-20230203'"
     },
     "execution_count": 4,
     "metadata": {},
     "output_type": "execute_result"
    }
   ],
   "source": [
    "bg.date_range_str"
   ],
   "metadata": {
    "collapsed": false,
    "ExecuteTime": {
     "start_time": "2023-08-19T11:47:28.674203Z",
     "end_time": "2023-08-19T11:47:28.684239Z"
    }
   }
  },
  {
   "cell_type": "code",
   "execution_count": 6,
   "outputs": [
    {
     "data": {
      "text/plain": "ticker      600000.SH  600001.SH  600002.SH  600003.SH  600004.SH  600005.SH  \\\n2023-01-06  26.095971        NaN        NaN        NaN  24.265107        NaN   \n2023-01-09  26.095971        NaN        NaN        NaN  24.309350        NaN   \n2023-01-10  26.087763        NaN        NaN        NaN  24.304090        NaN   \n2023-01-11  26.090507        NaN        NaN        NaN  24.282770        NaN   \n2023-01-12  26.086389        NaN        NaN        NaN  24.282096        NaN   \n2023-01-13  26.095971        NaN        NaN        NaN  24.294153        NaN   \n2023-01-16  26.094608        NaN        NaN        NaN  24.292153        NaN   \n2023-01-17  26.090507        NaN        NaN        NaN  24.279397        NaN   \n2023-01-18  26.091876        NaN        NaN        NaN  24.264421        NaN   \n2023-01-19  26.094608        NaN        NaN        NaN  24.250609        NaN   \n2023-01-20  26.098692        NaN        NaN        NaN  24.254080        NaN   \n2023-01-30  26.104112        NaN        NaN        NaN  24.233778        NaN   \n2023-01-31  26.100050        NaN        NaN        NaN  24.221682        NaN   \n2023-02-01  26.098692        NaN        NaN        NaN  24.220966        NaN   \n2023-02-02  26.098692        NaN        NaN        NaN  24.240825        NaN   \n2023-02-03  26.086389        NaN        NaN        NaN  24.240825        NaN   \n\nticker      600006.SH  600007.SH  600008.SH  600009.SH  ...  301387.SZ  \\\n2023-01-06  23.151602  23.513680  23.770997  25.677990  ...        NaN   \n2023-01-09  23.160382  23.506854  23.774475  25.704478  ...        NaN   \n2023-01-10  23.194749  23.512442  23.764004  25.695381  ...        NaN   \n2023-01-11  23.167350  23.524750  23.760489  25.680793  ...        NaN   \n2023-01-12  23.163872  23.544732  23.760489  25.679567  ...        NaN   \n2023-01-13  23.163872  23.574850  23.767507  25.695381  ...        NaN   \n2023-01-16  23.167350  23.564911  23.774475  25.778073  ...        NaN   \n2023-01-17  23.163872  23.563735  23.777942  25.776326  ...        NaN   \n2023-01-18  23.169085  23.576013  23.774475  25.780926  ...        NaN   \n2023-01-19  23.169085  23.594436  23.781396  25.759327  ...        NaN   \n2023-01-20  23.181144  23.583538  23.788269  25.761912  ...        NaN   \n2023-01-30  23.199804  23.557244  23.791688  25.745812  ...        NaN   \n2023-01-31  23.211500  23.563147  23.788269  25.737582  ...        NaN   \n2023-02-01  23.231238  23.556651  23.795095  25.737417  ...        NaN   \n2023-02-02  23.219772  23.554279  23.788269  25.737747  ...        NaN   \n2023-02-03  23.211500  23.539925  23.777942  25.742035  ...        NaN   \n\nticker      301388.SZ  301389.SZ  301391.SZ  301396.SZ  301398.SZ  301408.SZ  \\\n2023-01-06  21.655706  22.418154  22.577568  21.905682  21.659517        NaN   \n2023-01-09  21.664937  22.419194  22.631148  21.910990  21.709084        NaN   \n2023-01-10  21.648015  22.418674  22.726366  21.915161  21.699486        NaN   \n2023-01-11  21.626659  22.386959  22.688026  21.885880  21.665459        NaN   \n2023-01-12  21.623332  22.393916  22.673913  21.887307  21.671056        NaN   \n2023-01-13  21.637804  22.425415  22.707660  21.885308  21.638277        NaN   \n2023-01-16  21.645981  22.424898  22.748774  21.922349  21.657005        NaN   \n2023-01-17  21.640674  22.430055  22.737315  21.914051  21.671367        NaN   \n2023-01-18  21.656512  22.439782  22.731673  21.936573  21.712660        NaN   \n2023-01-19  21.655302  22.442834  22.734589  21.993837  21.718295        NaN   \n2023-01-20  21.667730  22.438762  22.750835  21.984820  21.719773        NaN   \n2023-01-30  21.669720  22.442834  22.744098  22.010623  21.761421        NaN   \n2023-01-31  21.682756  22.441309  22.697514  22.026883  21.754885        NaN   \n2023-02-01  21.694849  22.485584  22.722229  22.096141  21.768479        NaN   \n2023-02-02  21.684324  22.479237  22.699871  22.073663  21.738498        NaN   \n2023-02-03  21.677246  22.467910  22.711113  22.122419  21.753458        NaN   \n\nticker      301419.SZ  301429.SZ  301439.SZ  \n2023-01-06        NaN        NaN        NaN  \n2023-01-09        NaN        NaN        NaN  \n2023-01-10        NaN        NaN        NaN  \n2023-01-11        NaN        NaN        NaN  \n2023-01-12        NaN        NaN        NaN  \n2023-01-13        NaN        NaN        NaN  \n2023-01-16        NaN        NaN        NaN  \n2023-01-17        NaN        NaN        NaN  \n2023-01-18        NaN        NaN        NaN  \n2023-01-19        NaN        NaN        NaN  \n2023-01-20        NaN        NaN        NaN  \n2023-01-30        NaN        NaN        NaN  \n2023-01-31        NaN        NaN        NaN  \n2023-02-01        NaN        NaN        NaN  \n2023-02-02        NaN        NaN        NaN  \n2023-02-03        NaN        NaN        NaN  \n\n[16 rows x 5291 columns]",
      "text/html": "<div>\n<style scoped>\n    .dataframe tbody tr th:only-of-type {\n        vertical-align: middle;\n    }\n\n    .dataframe tbody tr th {\n        vertical-align: top;\n    }\n\n    .dataframe thead th {\n        text-align: right;\n    }\n</style>\n<table border=\"1\" class=\"dataframe\">\n  <thead>\n    <tr style=\"text-align: right;\">\n      <th>ticker</th>\n      <th>600000.SH</th>\n      <th>600001.SH</th>\n      <th>600002.SH</th>\n      <th>600003.SH</th>\n      <th>600004.SH</th>\n      <th>600005.SH</th>\n      <th>600006.SH</th>\n      <th>600007.SH</th>\n      <th>600008.SH</th>\n      <th>600009.SH</th>\n      <th>...</th>\n      <th>301387.SZ</th>\n      <th>301388.SZ</th>\n      <th>301389.SZ</th>\n      <th>301391.SZ</th>\n      <th>301396.SZ</th>\n      <th>301398.SZ</th>\n      <th>301408.SZ</th>\n      <th>301419.SZ</th>\n      <th>301429.SZ</th>\n      <th>301439.SZ</th>\n    </tr>\n  </thead>\n  <tbody>\n    <tr>\n      <th>2023-01-06</th>\n      <td>26.095971</td>\n      <td>NaN</td>\n      <td>NaN</td>\n      <td>NaN</td>\n      <td>24.265107</td>\n      <td>NaN</td>\n      <td>23.151602</td>\n      <td>23.513680</td>\n      <td>23.770997</td>\n      <td>25.677990</td>\n      <td>...</td>\n      <td>NaN</td>\n      <td>21.655706</td>\n      <td>22.418154</td>\n      <td>22.577568</td>\n      <td>21.905682</td>\n      <td>21.659517</td>\n      <td>NaN</td>\n      <td>NaN</td>\n      <td>NaN</td>\n      <td>NaN</td>\n    </tr>\n    <tr>\n      <th>2023-01-09</th>\n      <td>26.095971</td>\n      <td>NaN</td>\n      <td>NaN</td>\n      <td>NaN</td>\n      <td>24.309350</td>\n      <td>NaN</td>\n      <td>23.160382</td>\n      <td>23.506854</td>\n      <td>23.774475</td>\n      <td>25.704478</td>\n      <td>...</td>\n      <td>NaN</td>\n      <td>21.664937</td>\n      <td>22.419194</td>\n      <td>22.631148</td>\n      <td>21.910990</td>\n      <td>21.709084</td>\n      <td>NaN</td>\n      <td>NaN</td>\n      <td>NaN</td>\n      <td>NaN</td>\n    </tr>\n    <tr>\n      <th>2023-01-10</th>\n      <td>26.087763</td>\n      <td>NaN</td>\n      <td>NaN</td>\n      <td>NaN</td>\n      <td>24.304090</td>\n      <td>NaN</td>\n      <td>23.194749</td>\n      <td>23.512442</td>\n      <td>23.764004</td>\n      <td>25.695381</td>\n      <td>...</td>\n      <td>NaN</td>\n      <td>21.648015</td>\n      <td>22.418674</td>\n      <td>22.726366</td>\n      <td>21.915161</td>\n      <td>21.699486</td>\n      <td>NaN</td>\n      <td>NaN</td>\n      <td>NaN</td>\n      <td>NaN</td>\n    </tr>\n    <tr>\n      <th>2023-01-11</th>\n      <td>26.090507</td>\n      <td>NaN</td>\n      <td>NaN</td>\n      <td>NaN</td>\n      <td>24.282770</td>\n      <td>NaN</td>\n      <td>23.167350</td>\n      <td>23.524750</td>\n      <td>23.760489</td>\n      <td>25.680793</td>\n      <td>...</td>\n      <td>NaN</td>\n      <td>21.626659</td>\n      <td>22.386959</td>\n      <td>22.688026</td>\n      <td>21.885880</td>\n      <td>21.665459</td>\n      <td>NaN</td>\n      <td>NaN</td>\n      <td>NaN</td>\n      <td>NaN</td>\n    </tr>\n    <tr>\n      <th>2023-01-12</th>\n      <td>26.086389</td>\n      <td>NaN</td>\n      <td>NaN</td>\n      <td>NaN</td>\n      <td>24.282096</td>\n      <td>NaN</td>\n      <td>23.163872</td>\n      <td>23.544732</td>\n      <td>23.760489</td>\n      <td>25.679567</td>\n      <td>...</td>\n      <td>NaN</td>\n      <td>21.623332</td>\n      <td>22.393916</td>\n      <td>22.673913</td>\n      <td>21.887307</td>\n      <td>21.671056</td>\n      <td>NaN</td>\n      <td>NaN</td>\n      <td>NaN</td>\n      <td>NaN</td>\n    </tr>\n    <tr>\n      <th>2023-01-13</th>\n      <td>26.095971</td>\n      <td>NaN</td>\n      <td>NaN</td>\n      <td>NaN</td>\n      <td>24.294153</td>\n      <td>NaN</td>\n      <td>23.163872</td>\n      <td>23.574850</td>\n      <td>23.767507</td>\n      <td>25.695381</td>\n      <td>...</td>\n      <td>NaN</td>\n      <td>21.637804</td>\n      <td>22.425415</td>\n      <td>22.707660</td>\n      <td>21.885308</td>\n      <td>21.638277</td>\n      <td>NaN</td>\n      <td>NaN</td>\n      <td>NaN</td>\n      <td>NaN</td>\n    </tr>\n    <tr>\n      <th>2023-01-16</th>\n      <td>26.094608</td>\n      <td>NaN</td>\n      <td>NaN</td>\n      <td>NaN</td>\n      <td>24.292153</td>\n      <td>NaN</td>\n      <td>23.167350</td>\n      <td>23.564911</td>\n      <td>23.774475</td>\n      <td>25.778073</td>\n      <td>...</td>\n      <td>NaN</td>\n      <td>21.645981</td>\n      <td>22.424898</td>\n      <td>22.748774</td>\n      <td>21.922349</td>\n      <td>21.657005</td>\n      <td>NaN</td>\n      <td>NaN</td>\n      <td>NaN</td>\n      <td>NaN</td>\n    </tr>\n    <tr>\n      <th>2023-01-17</th>\n      <td>26.090507</td>\n      <td>NaN</td>\n      <td>NaN</td>\n      <td>NaN</td>\n      <td>24.279397</td>\n      <td>NaN</td>\n      <td>23.163872</td>\n      <td>23.563735</td>\n      <td>23.777942</td>\n      <td>25.776326</td>\n      <td>...</td>\n      <td>NaN</td>\n      <td>21.640674</td>\n      <td>22.430055</td>\n      <td>22.737315</td>\n      <td>21.914051</td>\n      <td>21.671367</td>\n      <td>NaN</td>\n      <td>NaN</td>\n      <td>NaN</td>\n      <td>NaN</td>\n    </tr>\n    <tr>\n      <th>2023-01-18</th>\n      <td>26.091876</td>\n      <td>NaN</td>\n      <td>NaN</td>\n      <td>NaN</td>\n      <td>24.264421</td>\n      <td>NaN</td>\n      <td>23.169085</td>\n      <td>23.576013</td>\n      <td>23.774475</td>\n      <td>25.780926</td>\n      <td>...</td>\n      <td>NaN</td>\n      <td>21.656512</td>\n      <td>22.439782</td>\n      <td>22.731673</td>\n      <td>21.936573</td>\n      <td>21.712660</td>\n      <td>NaN</td>\n      <td>NaN</td>\n      <td>NaN</td>\n      <td>NaN</td>\n    </tr>\n    <tr>\n      <th>2023-01-19</th>\n      <td>26.094608</td>\n      <td>NaN</td>\n      <td>NaN</td>\n      <td>NaN</td>\n      <td>24.250609</td>\n      <td>NaN</td>\n      <td>23.169085</td>\n      <td>23.594436</td>\n      <td>23.781396</td>\n      <td>25.759327</td>\n      <td>...</td>\n      <td>NaN</td>\n      <td>21.655302</td>\n      <td>22.442834</td>\n      <td>22.734589</td>\n      <td>21.993837</td>\n      <td>21.718295</td>\n      <td>NaN</td>\n      <td>NaN</td>\n      <td>NaN</td>\n      <td>NaN</td>\n    </tr>\n    <tr>\n      <th>2023-01-20</th>\n      <td>26.098692</td>\n      <td>NaN</td>\n      <td>NaN</td>\n      <td>NaN</td>\n      <td>24.254080</td>\n      <td>NaN</td>\n      <td>23.181144</td>\n      <td>23.583538</td>\n      <td>23.788269</td>\n      <td>25.761912</td>\n      <td>...</td>\n      <td>NaN</td>\n      <td>21.667730</td>\n      <td>22.438762</td>\n      <td>22.750835</td>\n      <td>21.984820</td>\n      <td>21.719773</td>\n      <td>NaN</td>\n      <td>NaN</td>\n      <td>NaN</td>\n      <td>NaN</td>\n    </tr>\n    <tr>\n      <th>2023-01-30</th>\n      <td>26.104112</td>\n      <td>NaN</td>\n      <td>NaN</td>\n      <td>NaN</td>\n      <td>24.233778</td>\n      <td>NaN</td>\n      <td>23.199804</td>\n      <td>23.557244</td>\n      <td>23.791688</td>\n      <td>25.745812</td>\n      <td>...</td>\n      <td>NaN</td>\n      <td>21.669720</td>\n      <td>22.442834</td>\n      <td>22.744098</td>\n      <td>22.010623</td>\n      <td>21.761421</td>\n      <td>NaN</td>\n      <td>NaN</td>\n      <td>NaN</td>\n      <td>NaN</td>\n    </tr>\n    <tr>\n      <th>2023-01-31</th>\n      <td>26.100050</td>\n      <td>NaN</td>\n      <td>NaN</td>\n      <td>NaN</td>\n      <td>24.221682</td>\n      <td>NaN</td>\n      <td>23.211500</td>\n      <td>23.563147</td>\n      <td>23.788269</td>\n      <td>25.737582</td>\n      <td>...</td>\n      <td>NaN</td>\n      <td>21.682756</td>\n      <td>22.441309</td>\n      <td>22.697514</td>\n      <td>22.026883</td>\n      <td>21.754885</td>\n      <td>NaN</td>\n      <td>NaN</td>\n      <td>NaN</td>\n      <td>NaN</td>\n    </tr>\n    <tr>\n      <th>2023-02-01</th>\n      <td>26.098692</td>\n      <td>NaN</td>\n      <td>NaN</td>\n      <td>NaN</td>\n      <td>24.220966</td>\n      <td>NaN</td>\n      <td>23.231238</td>\n      <td>23.556651</td>\n      <td>23.795095</td>\n      <td>25.737417</td>\n      <td>...</td>\n      <td>NaN</td>\n      <td>21.694849</td>\n      <td>22.485584</td>\n      <td>22.722229</td>\n      <td>22.096141</td>\n      <td>21.768479</td>\n      <td>NaN</td>\n      <td>NaN</td>\n      <td>NaN</td>\n      <td>NaN</td>\n    </tr>\n    <tr>\n      <th>2023-02-02</th>\n      <td>26.098692</td>\n      <td>NaN</td>\n      <td>NaN</td>\n      <td>NaN</td>\n      <td>24.240825</td>\n      <td>NaN</td>\n      <td>23.219772</td>\n      <td>23.554279</td>\n      <td>23.788269</td>\n      <td>25.737747</td>\n      <td>...</td>\n      <td>NaN</td>\n      <td>21.684324</td>\n      <td>22.479237</td>\n      <td>22.699871</td>\n      <td>22.073663</td>\n      <td>21.738498</td>\n      <td>NaN</td>\n      <td>NaN</td>\n      <td>NaN</td>\n      <td>NaN</td>\n    </tr>\n    <tr>\n      <th>2023-02-03</th>\n      <td>26.086389</td>\n      <td>NaN</td>\n      <td>NaN</td>\n      <td>NaN</td>\n      <td>24.240825</td>\n      <td>NaN</td>\n      <td>23.211500</td>\n      <td>23.539925</td>\n      <td>23.777942</td>\n      <td>25.742035</td>\n      <td>...</td>\n      <td>NaN</td>\n      <td>21.677246</td>\n      <td>22.467910</td>\n      <td>22.711113</td>\n      <td>22.122419</td>\n      <td>21.753458</td>\n      <td>NaN</td>\n      <td>NaN</td>\n      <td>NaN</td>\n      <td>NaN</td>\n    </tr>\n  </tbody>\n</table>\n<p>16 rows × 5291 columns</p>\n</div>"
     },
     "execution_count": 6,
     "metadata": {},
     "output_type": "execute_result"
    }
   ],
   "source": [
    "bg.signals"
   ],
   "metadata": {
    "collapsed": false,
    "ExecuteTime": {
     "start_time": "2023-08-19T11:47:43.767886Z",
     "end_time": "2023-08-19T11:47:43.815051Z"
    }
   }
  }
 ],
 "metadata": {
  "kernelspec": {
   "display_name": "Python 3",
   "language": "python",
   "name": "python3"
  },
  "language_info": {
   "codemirror_mode": {
    "name": "ipython",
    "version": 2
   },
   "file_extension": ".py",
   "mimetype": "text/x-python",
   "name": "python",
   "nbconvert_exporter": "python",
   "pygments_lexer": "ipython2",
   "version": "2.7.6"
  }
 },
 "nbformat": 4,
 "nbformat_minor": 0
}
