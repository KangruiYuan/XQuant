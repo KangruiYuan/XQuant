{
 "cells": [
  {
   "cell_type": "code",
   "execution_count": 1,
   "outputs": [],
   "source": [
    "from XQuant import BackTestRunner, BackTestOptions, BARRA\n",
    "from XQuant import Strategy, DataAPI, Config, Tools"
   ],
   "metadata": {
    "collapsed": false,
    "ExecuteTime": {
     "start_time": "2023-08-28T12:17:29.167619Z",
     "end_time": "2023-08-28T12:17:30.579854Z"
    }
   }
  },
  {
   "cell_type": "code",
   "execution_count": 2,
   "outputs": [
    {
     "data": {
      "text/plain": "             secID  ticker exchangeCD secShortName     endDate publishDate  \\\n0      000559.XSHE  000559       XSHE         万向钱潮  2021-12-31  2022-03-30   \n1      000987.XSHE  000987       XSHE         越秀资本  2021-12-31  2022-04-02   \n2      001289.XSHE  001289       XSHE         龙源电力  2021-12-31  2022-03-31   \n3      002061.XSHE  002061       XSHE         浙江交科  2021-12-31  2022-04-29   \n4      002243.XSHE  002243       XSHE         力合科创  2021-12-31  2022-03-24   \n...            ...     ...        ...          ...         ...         ...   \n15207  300286.XSHE  300286       XSHE          安科瑞  2022-12-31  2023-03-18   \n15208  301439.XSHE  301439       XSHE         泓淋电力  2022-12-31  2023-04-26   \n15209  603688.XSHG  603688       XSHG         石英股份  2022-12-31  2023-03-22   \n15210  603703.XSHG  603703       XSHG         盛洋科技  2022-12-31  2023-04-21   \n15211  688131.XSHG  688131       XSHG         皓元医药  2022-12-31  2023-03-22   \n\n       eventProcessCD  perCashDiv  perCashDivAfTax currencyCD  ...  \\\n0                   6    0.180000         0.180000        CNY  ...   \n1                   6    0.200000         0.200000        CNY  ...   \n2                   6    0.147000         0.147000        CNY  ...   \n3                   6    0.161292         0.161292        CNY  ...   \n4                   6    0.080000         0.080000        CNY  ...   \n...               ...         ...              ...        ...  ...   \n15207               6    0.200000         0.200000        CNY  ...   \n15208               6    0.150000         0.150000        CNY  ...   \n15209               6    0.875000         0.875000        CNY  ...   \n15210               6         NaN              NaN        CNY  ...   \n15211               6    0.380000         0.380000        CNY  ...   \n\n      sharesBfDiv sharesAfDiv  baseShares perShareTransRatio  \\\n0      3303791344  3303791344  3303791344                NaN   \n1      3716394417  5017132462  3716394417               0.35   \n2      8381963164  8381963164  8381963164                NaN   \n3      1705855834  1705855834  1705855834                NaN   \n4      1210604219  1210604219  1210604219                NaN   \n...           ...         ...         ...                ...   \n15207   214716125   214716125   214716125                NaN   \n15208   389101809   389101809   389101809                NaN   \n15209   361277126   361277126   361277126                NaN   \n15210   298610000   414982120   290930300               0.40   \n15211   107298099   150217339   107298099               0.40   \n\n       bonusShareListDate  frPerCashDiv  frPerCashDivAfTax  frCurrencyCD  \\\n0                     NaN           NaN                NaN           NaN   \n1              2022-06-23           NaN                NaN           NaN   \n2                     NaN           NaN                NaN           NaN   \n3                     NaN           NaN                NaN           NaN   \n4                     NaN           NaN                NaN           NaN   \n...                   ...           ...                ...           ...   \n15207                 NaN           NaN                NaN           NaN   \n15208                 NaN           NaN                NaN           NaN   \n15209                 NaN           NaN                NaN           NaN   \n15210          2023-06-19           NaN                NaN           NaN   \n15211          2023-05-30           NaN                NaN           NaN   \n\n      bLastTradeDate  perShareDivRatio  \n0                NaN               NaN  \n1                NaN               NaN  \n2                NaN               NaN  \n3                NaN               NaN  \n4                NaN               NaN  \n...              ...               ...  \n15207            NaN               NaN  \n15208            NaN               NaN  \n15209            NaN               NaN  \n15210            NaN               NaN  \n15211            NaN               NaN  \n\n[15212 rows x 24 columns]",
      "text/html": "<div>\n<style scoped>\n    .dataframe tbody tr th:only-of-type {\n        vertical-align: middle;\n    }\n\n    .dataframe tbody tr th {\n        vertical-align: top;\n    }\n\n    .dataframe thead th {\n        text-align: right;\n    }\n</style>\n<table border=\"1\" class=\"dataframe\">\n  <thead>\n    <tr style=\"text-align: right;\">\n      <th></th>\n      <th>secID</th>\n      <th>ticker</th>\n      <th>exchangeCD</th>\n      <th>secShortName</th>\n      <th>endDate</th>\n      <th>publishDate</th>\n      <th>eventProcessCD</th>\n      <th>perCashDiv</th>\n      <th>perCashDivAfTax</th>\n      <th>currencyCD</th>\n      <th>...</th>\n      <th>sharesBfDiv</th>\n      <th>sharesAfDiv</th>\n      <th>baseShares</th>\n      <th>perShareTransRatio</th>\n      <th>bonusShareListDate</th>\n      <th>frPerCashDiv</th>\n      <th>frPerCashDivAfTax</th>\n      <th>frCurrencyCD</th>\n      <th>bLastTradeDate</th>\n      <th>perShareDivRatio</th>\n    </tr>\n  </thead>\n  <tbody>\n    <tr>\n      <th>0</th>\n      <td>000559.XSHE</td>\n      <td>000559</td>\n      <td>XSHE</td>\n      <td>万向钱潮</td>\n      <td>2021-12-31</td>\n      <td>2022-03-30</td>\n      <td>6</td>\n      <td>0.180000</td>\n      <td>0.180000</td>\n      <td>CNY</td>\n      <td>...</td>\n      <td>3303791344</td>\n      <td>3303791344</td>\n      <td>3303791344</td>\n      <td>NaN</td>\n      <td>NaN</td>\n      <td>NaN</td>\n      <td>NaN</td>\n      <td>NaN</td>\n      <td>NaN</td>\n      <td>NaN</td>\n    </tr>\n    <tr>\n      <th>1</th>\n      <td>000987.XSHE</td>\n      <td>000987</td>\n      <td>XSHE</td>\n      <td>越秀资本</td>\n      <td>2021-12-31</td>\n      <td>2022-04-02</td>\n      <td>6</td>\n      <td>0.200000</td>\n      <td>0.200000</td>\n      <td>CNY</td>\n      <td>...</td>\n      <td>3716394417</td>\n      <td>5017132462</td>\n      <td>3716394417</td>\n      <td>0.35</td>\n      <td>2022-06-23</td>\n      <td>NaN</td>\n      <td>NaN</td>\n      <td>NaN</td>\n      <td>NaN</td>\n      <td>NaN</td>\n    </tr>\n    <tr>\n      <th>2</th>\n      <td>001289.XSHE</td>\n      <td>001289</td>\n      <td>XSHE</td>\n      <td>龙源电力</td>\n      <td>2021-12-31</td>\n      <td>2022-03-31</td>\n      <td>6</td>\n      <td>0.147000</td>\n      <td>0.147000</td>\n      <td>CNY</td>\n      <td>...</td>\n      <td>8381963164</td>\n      <td>8381963164</td>\n      <td>8381963164</td>\n      <td>NaN</td>\n      <td>NaN</td>\n      <td>NaN</td>\n      <td>NaN</td>\n      <td>NaN</td>\n      <td>NaN</td>\n      <td>NaN</td>\n    </tr>\n    <tr>\n      <th>3</th>\n      <td>002061.XSHE</td>\n      <td>002061</td>\n      <td>XSHE</td>\n      <td>浙江交科</td>\n      <td>2021-12-31</td>\n      <td>2022-04-29</td>\n      <td>6</td>\n      <td>0.161292</td>\n      <td>0.161292</td>\n      <td>CNY</td>\n      <td>...</td>\n      <td>1705855834</td>\n      <td>1705855834</td>\n      <td>1705855834</td>\n      <td>NaN</td>\n      <td>NaN</td>\n      <td>NaN</td>\n      <td>NaN</td>\n      <td>NaN</td>\n      <td>NaN</td>\n      <td>NaN</td>\n    </tr>\n    <tr>\n      <th>4</th>\n      <td>002243.XSHE</td>\n      <td>002243</td>\n      <td>XSHE</td>\n      <td>力合科创</td>\n      <td>2021-12-31</td>\n      <td>2022-03-24</td>\n      <td>6</td>\n      <td>0.080000</td>\n      <td>0.080000</td>\n      <td>CNY</td>\n      <td>...</td>\n      <td>1210604219</td>\n      <td>1210604219</td>\n      <td>1210604219</td>\n      <td>NaN</td>\n      <td>NaN</td>\n      <td>NaN</td>\n      <td>NaN</td>\n      <td>NaN</td>\n      <td>NaN</td>\n      <td>NaN</td>\n    </tr>\n    <tr>\n      <th>...</th>\n      <td>...</td>\n      <td>...</td>\n      <td>...</td>\n      <td>...</td>\n      <td>...</td>\n      <td>...</td>\n      <td>...</td>\n      <td>...</td>\n      <td>...</td>\n      <td>...</td>\n      <td>...</td>\n      <td>...</td>\n      <td>...</td>\n      <td>...</td>\n      <td>...</td>\n      <td>...</td>\n      <td>...</td>\n      <td>...</td>\n      <td>...</td>\n      <td>...</td>\n      <td>...</td>\n    </tr>\n    <tr>\n      <th>15207</th>\n      <td>300286.XSHE</td>\n      <td>300286</td>\n      <td>XSHE</td>\n      <td>安科瑞</td>\n      <td>2022-12-31</td>\n      <td>2023-03-18</td>\n      <td>6</td>\n      <td>0.200000</td>\n      <td>0.200000</td>\n      <td>CNY</td>\n      <td>...</td>\n      <td>214716125</td>\n      <td>214716125</td>\n      <td>214716125</td>\n      <td>NaN</td>\n      <td>NaN</td>\n      <td>NaN</td>\n      <td>NaN</td>\n      <td>NaN</td>\n      <td>NaN</td>\n      <td>NaN</td>\n    </tr>\n    <tr>\n      <th>15208</th>\n      <td>301439.XSHE</td>\n      <td>301439</td>\n      <td>XSHE</td>\n      <td>泓淋电力</td>\n      <td>2022-12-31</td>\n      <td>2023-04-26</td>\n      <td>6</td>\n      <td>0.150000</td>\n      <td>0.150000</td>\n      <td>CNY</td>\n      <td>...</td>\n      <td>389101809</td>\n      <td>389101809</td>\n      <td>389101809</td>\n      <td>NaN</td>\n      <td>NaN</td>\n      <td>NaN</td>\n      <td>NaN</td>\n      <td>NaN</td>\n      <td>NaN</td>\n      <td>NaN</td>\n    </tr>\n    <tr>\n      <th>15209</th>\n      <td>603688.XSHG</td>\n      <td>603688</td>\n      <td>XSHG</td>\n      <td>石英股份</td>\n      <td>2022-12-31</td>\n      <td>2023-03-22</td>\n      <td>6</td>\n      <td>0.875000</td>\n      <td>0.875000</td>\n      <td>CNY</td>\n      <td>...</td>\n      <td>361277126</td>\n      <td>361277126</td>\n      <td>361277126</td>\n      <td>NaN</td>\n      <td>NaN</td>\n      <td>NaN</td>\n      <td>NaN</td>\n      <td>NaN</td>\n      <td>NaN</td>\n      <td>NaN</td>\n    </tr>\n    <tr>\n      <th>15210</th>\n      <td>603703.XSHG</td>\n      <td>603703</td>\n      <td>XSHG</td>\n      <td>盛洋科技</td>\n      <td>2022-12-31</td>\n      <td>2023-04-21</td>\n      <td>6</td>\n      <td>NaN</td>\n      <td>NaN</td>\n      <td>CNY</td>\n      <td>...</td>\n      <td>298610000</td>\n      <td>414982120</td>\n      <td>290930300</td>\n      <td>0.40</td>\n      <td>2023-06-19</td>\n      <td>NaN</td>\n      <td>NaN</td>\n      <td>NaN</td>\n      <td>NaN</td>\n      <td>NaN</td>\n    </tr>\n    <tr>\n      <th>15211</th>\n      <td>688131.XSHG</td>\n      <td>688131</td>\n      <td>XSHG</td>\n      <td>皓元医药</td>\n      <td>2022-12-31</td>\n      <td>2023-03-22</td>\n      <td>6</td>\n      <td>0.380000</td>\n      <td>0.380000</td>\n      <td>CNY</td>\n      <td>...</td>\n      <td>107298099</td>\n      <td>150217339</td>\n      <td>107298099</td>\n      <td>0.40</td>\n      <td>2023-05-30</td>\n      <td>NaN</td>\n      <td>NaN</td>\n      <td>NaN</td>\n      <td>NaN</td>\n      <td>NaN</td>\n    </tr>\n  </tbody>\n</table>\n<p>15212 rows × 24 columns</p>\n</div>"
     },
     "execution_count": 2,
     "metadata": {},
     "output_type": "execute_result"
    }
   ],
   "source": [
    "DataAPI.get_data('EquDiv')"
   ],
   "metadata": {
    "collapsed": false,
    "ExecuteTime": {
     "start_time": "2023-08-28T12:17:41.120030Z",
     "end_time": "2023-08-28T12:17:41.255996Z"
    }
   }
  },
  {
   "cell_type": "code",
   "execution_count": 4,
   "outputs": [
    {
     "data": {
      "text/plain": "{'assets': 'info', 'description': 'DataAPI.EquDivGet'}"
     },
     "execution_count": 4,
     "metadata": {},
     "output_type": "execute_result"
    }
   ],
   "source": [
    "Config.datatables['EquDiv_info']"
   ],
   "metadata": {
    "collapsed": false,
    "ExecuteTime": {
     "start_time": "2023-08-28T10:50:01.029545Z",
     "end_time": "2023-08-28T10:50:01.042589Z"
    }
   }
  },
  {
   "cell_type": "code",
   "execution_count": 6,
   "outputs": [
    {
     "name": "stderr",
     "output_type": "stream",
     "text": [
      "\u001B[32m2023-08-28 10:51:47.733\u001B[0m | \u001B[1mINFO    \u001B[0m | \u001B[36mXQuant.Utils\u001B[0m:\u001B[36msearch_keyword\u001B[0m:\u001B[36m608\u001B[0m - \u001B[1m缓存文件被保存至E:\\yuankangrui\\XQuant\\XQuant\\Temp\\attrs.json\u001B[0m\n"
     ]
    },
    {
     "data": {
      "text/plain": "{'perCashDiv': ['EquDiv_info'],\n 'frPerCashDiv': ['EquDiv_info'],\n 'PE': ['MktEqud', 'MktEqudEval', 'FdmtIndiPSPit'],\n 'perCashDivAfTax': ['EquDiv_info'],\n 'frPerCashDivAfTax': ['EquDiv_info']}"
     },
     "execution_count": 6,
     "metadata": {},
     "output_type": "execute_result"
    }
   ],
   "source": [
    "Tools.search_keyword('perCashDiv')"
   ],
   "metadata": {
    "collapsed": false,
    "ExecuteTime": {
     "start_time": "2023-08-28T10:51:47.734896Z",
     "end_time": "2023-08-28T10:51:47.773029Z"
    }
   }
  }
 ],
 "metadata": {
  "kernelspec": {
   "display_name": "Python 3",
   "language": "python",
   "name": "python3"
  },
  "language_info": {
   "codemirror_mode": {
    "name": "ipython",
    "version": 2
   },
   "file_extension": ".py",
   "mimetype": "text/x-python",
   "name": "python",
   "nbconvert_exporter": "python",
   "pygments_lexer": "ipython2",
   "version": "2.7.6"
  }
 },
 "nbformat": 4,
 "nbformat_minor": 0
}
