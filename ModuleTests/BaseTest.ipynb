{
 "cells": [
  {
   "cell_type": "code",
   "execution_count": 3,
   "metadata": {
    "collapsed": true,
    "ExecuteTime": {
     "start_time": "2023-08-03T14:49:08.388164Z",
     "end_time": "2023-08-03T14:49:08.396355Z"
    }
   },
   "outputs": [
    {
     "data": {
      "text/plain": "True"
     },
     "execution_count": 3,
     "metadata": {},
     "output_type": "execute_result"
    }
   ],
   "source": [
    "from pathlib import Path\n",
    "\"Module\" in str(Path.cwd())"
   ]
  },
  {
   "cell_type": "code",
   "execution_count": 4,
   "outputs": [
    {
     "data": {
      "text/plain": "'E:\\\\Share\\\\Stk_Data\\\\dataFile\\\\ResConSecTarpriScore\\\\ResConSecTarpriScore_Y2023.h5'"
     },
     "execution_count": 4,
     "metadata": {},
     "output_type": "execute_result"
    }
   ],
   "source": [
    "from XQuant import Tools\n",
    "Tools.get_newest_file(\"ResConSecTarpriScore\")"
   ],
   "metadata": {
    "collapsed": false,
    "ExecuteTime": {
     "start_time": "2023-08-04T10:49:43.558632Z",
     "end_time": "2023-08-04T10:49:43.929984Z"
    }
   }
  },
  {
   "cell_type": "code",
   "execution_count": 1,
   "outputs": [
    {
     "data": {
      "text/plain": "            symbol   end_date      MANANETR     NETPROFIT      TOTASSET  \\\n0      SHSE.600000 2021-12-31 -2.571920e+11  5.376600e+10  8.136757e+12   \n1      SHSE.600000 2022-06-30  6.525700e+10  3.059600e+10  8.505959e+12   \n2      SHSE.600004 2021-12-31  8.448503e+08 -3.854062e+08  2.754503e+10   \n3      SHSE.600004 2022-06-30  1.668371e+08 -5.306237e+08  2.767428e+10   \n4      SHSE.600006 2021-12-31  9.803643e+08  3.822105e+08  1.988165e+10   \n...            ...        ...           ...           ...           ...   \n11134  SZSE.301369 2022-12-31  1.438536e+08  1.264835e+08  1.705313e+09   \n11135  SZSE.301377 2022-12-31  1.561280e+08  2.226261e+08  2.935961e+09   \n11136  SZSE.301380 2022-12-31  2.478149e+07  5.870761e+07  1.026831e+09   \n11137  SZSE.301389 2022-12-31  1.850968e+08  1.688592e+08  2.403445e+09   \n11138  SZSE.301391 2022-12-31  6.872201e+07  1.313749e+08  2.534952e+09   \n\n        pub_date  \n0     2022-04-28  \n1     2022-08-27  \n2     2022-04-09  \n3     2022-08-31  \n4     2022-03-31  \n...          ...  \n11134 2023-03-20  \n11135 2023-04-15  \n11136 2023-03-20  \n11137 2023-03-24  \n11138 2023-03-15  \n\n[11139 rows x 6 columns]",
      "text/html": "<div>\n<style scoped>\n    .dataframe tbody tr th:only-of-type {\n        vertical-align: middle;\n    }\n\n    .dataframe tbody tr th {\n        vertical-align: top;\n    }\n\n    .dataframe thead th {\n        text-align: right;\n    }\n</style>\n<table border=\"1\" class=\"dataframe\">\n  <thead>\n    <tr style=\"text-align: right;\">\n      <th></th>\n      <th>symbol</th>\n      <th>end_date</th>\n      <th>MANANETR</th>\n      <th>NETPROFIT</th>\n      <th>TOTASSET</th>\n      <th>pub_date</th>\n    </tr>\n  </thead>\n  <tbody>\n    <tr>\n      <th>0</th>\n      <td>SHSE.600000</td>\n      <td>2021-12-31</td>\n      <td>-2.571920e+11</td>\n      <td>5.376600e+10</td>\n      <td>8.136757e+12</td>\n      <td>2022-04-28</td>\n    </tr>\n    <tr>\n      <th>1</th>\n      <td>SHSE.600000</td>\n      <td>2022-06-30</td>\n      <td>6.525700e+10</td>\n      <td>3.059600e+10</td>\n      <td>8.505959e+12</td>\n      <td>2022-08-27</td>\n    </tr>\n    <tr>\n      <th>2</th>\n      <td>SHSE.600004</td>\n      <td>2021-12-31</td>\n      <td>8.448503e+08</td>\n      <td>-3.854062e+08</td>\n      <td>2.754503e+10</td>\n      <td>2022-04-09</td>\n    </tr>\n    <tr>\n      <th>3</th>\n      <td>SHSE.600004</td>\n      <td>2022-06-30</td>\n      <td>1.668371e+08</td>\n      <td>-5.306237e+08</td>\n      <td>2.767428e+10</td>\n      <td>2022-08-31</td>\n    </tr>\n    <tr>\n      <th>4</th>\n      <td>SHSE.600006</td>\n      <td>2021-12-31</td>\n      <td>9.803643e+08</td>\n      <td>3.822105e+08</td>\n      <td>1.988165e+10</td>\n      <td>2022-03-31</td>\n    </tr>\n    <tr>\n      <th>...</th>\n      <td>...</td>\n      <td>...</td>\n      <td>...</td>\n      <td>...</td>\n      <td>...</td>\n      <td>...</td>\n    </tr>\n    <tr>\n      <th>11134</th>\n      <td>SZSE.301369</td>\n      <td>2022-12-31</td>\n      <td>1.438536e+08</td>\n      <td>1.264835e+08</td>\n      <td>1.705313e+09</td>\n      <td>2023-03-20</td>\n    </tr>\n    <tr>\n      <th>11135</th>\n      <td>SZSE.301377</td>\n      <td>2022-12-31</td>\n      <td>1.561280e+08</td>\n      <td>2.226261e+08</td>\n      <td>2.935961e+09</td>\n      <td>2023-04-15</td>\n    </tr>\n    <tr>\n      <th>11136</th>\n      <td>SZSE.301380</td>\n      <td>2022-12-31</td>\n      <td>2.478149e+07</td>\n      <td>5.870761e+07</td>\n      <td>1.026831e+09</td>\n      <td>2023-03-20</td>\n    </tr>\n    <tr>\n      <th>11137</th>\n      <td>SZSE.301389</td>\n      <td>2022-12-31</td>\n      <td>1.850968e+08</td>\n      <td>1.688592e+08</td>\n      <td>2.403445e+09</td>\n      <td>2023-03-24</td>\n    </tr>\n    <tr>\n      <th>11138</th>\n      <td>SZSE.301391</td>\n      <td>2022-12-31</td>\n      <td>6.872201e+07</td>\n      <td>1.313749e+08</td>\n      <td>2.534952e+09</td>\n      <td>2023-03-15</td>\n    </tr>\n  </tbody>\n</table>\n<p>11139 rows × 6 columns</p>\n</div>"
     },
     "execution_count": 1,
     "metadata": {},
     "output_type": "execute_result"
    }
   ],
   "source": [
    "from XQuant import get_data\n",
    "get_data(\"ACCA_gm\", begin='20220101')"
   ],
   "metadata": {
    "collapsed": false,
    "ExecuteTime": {
     "start_time": "2023-08-08T09:56:31.698045Z",
     "end_time": "2023-08-08T09:56:32.053747Z"
    }
   }
  }
 ],
 "metadata": {
  "kernelspec": {
   "display_name": "Python 3",
   "language": "python",
   "name": "python3"
  },
  "language_info": {
   "codemirror_mode": {
    "name": "ipython",
    "version": 2
   },
   "file_extension": ".py",
   "mimetype": "text/x-python",
   "name": "python",
   "nbconvert_exporter": "python",
   "pygments_lexer": "ipython2",
   "version": "2.7.6"
  }
 },
 "nbformat": 4,
 "nbformat_minor": 0
}
