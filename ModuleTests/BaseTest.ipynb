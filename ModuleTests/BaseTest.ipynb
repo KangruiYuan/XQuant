{
 "cells": [
  {
   "cell_type": "code",
   "execution_count": 3,
   "metadata": {
    "collapsed": true,
    "ExecuteTime": {
     "start_time": "2023-08-03T14:49:08.388164Z",
     "end_time": "2023-08-03T14:49:08.396355Z"
    }
   },
   "outputs": [
    {
     "data": {
      "text/plain": "True"
     },
     "execution_count": 3,
     "metadata": {},
     "output_type": "execute_result"
    }
   ],
   "source": [
    "from pathlib import Path\n",
    "\"Module\" in str(Path.cwd())"
   ]
  },
  {
   "cell_type": "code",
   "execution_count": 4,
   "outputs": [
    {
     "data": {
      "text/plain": "'E:\\\\Share\\\\Stk_Data\\\\dataFile\\\\ResConSecTarpriScore\\\\ResConSecTarpriScore_Y2023.h5'"
     },
     "execution_count": 4,
     "metadata": {},
     "output_type": "execute_result"
    }
   ],
   "source": [
    "from XQuant import Tools\n",
    "Tools.get_newest_file(\"ResConSecTarpriScore\")"
   ],
   "metadata": {
    "collapsed": false,
    "ExecuteTime": {
     "start_time": "2023-08-04T10:49:43.558632Z",
     "end_time": "2023-08-04T10:49:43.929984Z"
    }
   }
  },
  {
   "cell_type": "code",
   "execution_count": 5,
   "outputs": [],
   "source": [
    "import h5py"
   ],
   "metadata": {
    "collapsed": false,
    "ExecuteTime": {
     "start_time": "2023-08-04T10:50:03.627155Z",
     "end_time": "2023-08-04T10:50:03.652744Z"
    }
   }
  },
  {
   "cell_type": "code",
   "execution_count": 40,
   "outputs": [],
   "source": [
    "data = h5py.File('E:\\\\Share\\\\Stk_Data\\\\dataFile\\\\ResConSecTarpriScore\\\\ResConSecTarpriScore_Y2023.h5', 'r')"
   ],
   "metadata": {
    "collapsed": false,
    "ExecuteTime": {
     "start_time": "2023-08-04T11:22:52.163511Z",
     "end_time": "2023-08-04T11:22:52.167525Z"
    }
   }
  },
  {
   "cell_type": "code",
   "execution_count": 15,
   "outputs": [
    {
     "data": {
      "text/plain": "<KeysViewHDF5 ['axis0', 'axis1', 'block0_items', 'block0_values', 'block1_items', 'block1_values', 'block2_items', 'block2_values']>"
     },
     "execution_count": 15,
     "metadata": {},
     "output_type": "execute_result"
    }
   ],
   "source": [
    "data[\"a\"].keys()"
   ],
   "metadata": {
    "collapsed": false,
    "ExecuteTime": {
     "start_time": "2023-08-04T10:59:19.735674Z",
     "end_time": "2023-08-04T10:59:19.744705Z"
    }
   }
  },
  {
   "cell_type": "code",
   "execution_count": 67,
   "outputs": [
    {
     "ename": "TypeError",
     "evalue": "argument of type 'numpy.dtype[bytes_]' is not iterable",
     "output_type": "error",
     "traceback": [
      "\u001B[1;31m---------------------------------------------------------------------------\u001B[0m",
      "\u001B[1;31mTypeError\u001B[0m                                 Traceback (most recent call last)",
      "Cell \u001B[1;32mIn[67], line 1\u001B[0m\n\u001B[1;32m----> 1\u001B[0m \u001B[38;5;124;43m\"\u001B[39;49m\u001B[38;5;124;43mS\u001B[39;49m\u001B[38;5;124;43m\"\u001B[39;49m\u001B[43m \u001B[49m\u001B[38;5;129;43;01min\u001B[39;49;00m\u001B[43m \u001B[49m\u001B[43mdata\u001B[49m\u001B[43m[\u001B[49m\u001B[38;5;124;43m\"\u001B[39;49m\u001B[38;5;124;43ma\u001B[39;49m\u001B[38;5;124;43m\"\u001B[39;49m\u001B[43m]\u001B[49m\u001B[43m[\u001B[49m\u001B[38;5;124;43m\"\u001B[39;49m\u001B[38;5;124;43maxis0\u001B[39;49m\u001B[38;5;124;43m\"\u001B[39;49m\u001B[43m]\u001B[49m\u001B[38;5;241;43m.\u001B[39;49m\u001B[43mdtype\u001B[49m\n",
      "\u001B[1;31mTypeError\u001B[0m: argument of type 'numpy.dtype[bytes_]' is not iterable"
     ]
    }
   ],
   "source": [
    "\"S\" in data[\"a\"][\"axis0\"].dtype"
   ],
   "metadata": {
    "collapsed": false,
    "ExecuteTime": {
     "start_time": "2023-08-04T12:29:32.514673Z",
     "end_time": "2023-08-04T12:29:32.522702Z"
    }
   }
  },
  {
   "cell_type": "code",
   "execution_count": 54,
   "outputs": [
    {
     "data": {
      "text/plain": "<HDF5 dataset \"axis0\": shape (12,), type \"|S16\">"
     },
     "execution_count": 54,
     "metadata": {},
     "output_type": "execute_result"
    }
   ],
   "source": [
    "data[\"a\"][\"axis0\"]"
   ],
   "metadata": {
    "collapsed": false,
    "ExecuteTime": {
     "start_time": "2023-08-04T12:17:41.006510Z",
     "end_time": "2023-08-04T12:17:41.022222Z"
    }
   }
  },
  {
   "cell_type": "code",
   "execution_count": 63,
   "outputs": [
    {
     "data": {
      "text/plain": "True"
     },
     "execution_count": 63,
     "metadata": {},
     "output_type": "execute_result"
    }
   ],
   "source": [
    "data[\"a\"][\"axis1\"].dtype == \"int64\""
   ],
   "metadata": {
    "collapsed": false,
    "ExecuteTime": {
     "start_time": "2023-08-04T12:26:59.094253Z",
     "end_time": "2023-08-04T12:26:59.107297Z"
    }
   }
  },
  {
   "cell_type": "code",
   "execution_count": 49,
   "outputs": [
    {
     "ename": "AttributeError",
     "evalue": "'numpy.ndarray' object has no attribute 'decode'",
     "output_type": "error",
     "traceback": [
      "\u001B[1;31m---------------------------------------------------------------------------\u001B[0m",
      "\u001B[1;31mAttributeError\u001B[0m                            Traceback (most recent call last)",
      "Cell \u001B[1;32mIn[49], line 1\u001B[0m\n\u001B[1;32m----> 1\u001B[0m \u001B[43mdata\u001B[49m\u001B[43m[\u001B[49m\u001B[38;5;124;43m\"\u001B[39;49m\u001B[38;5;124;43ma\u001B[39;49m\u001B[38;5;124;43m\"\u001B[39;49m\u001B[43m]\u001B[49m\u001B[43m[\u001B[49m\u001B[38;5;124;43m\"\u001B[39;49m\u001B[38;5;124;43maxis0\u001B[39;49m\u001B[38;5;124;43m\"\u001B[39;49m\u001B[43m]\u001B[49m\u001B[43m[\u001B[49m\u001B[43m:\u001B[49m\u001B[43m]\u001B[49m\u001B[38;5;241;43m.\u001B[39;49m\u001B[43mdecode\u001B[49m(\u001B[38;5;124m\"\u001B[39m\u001B[38;5;124mutf-8\u001B[39m\u001B[38;5;124m\"\u001B[39m) \u001B[38;5;241m==\u001B[39m \u001B[38;5;124m\"\u001B[39m\u001B[38;5;124msecCode\u001B[39m\u001B[38;5;124m\"\u001B[39m\n",
      "\u001B[1;31mAttributeError\u001B[0m: 'numpy.ndarray' object has no attribute 'decode'"
     ]
    }
   ],
   "source": [
    "data[\"a\"][\"axis0\"][:][0].decode(\"utf-8\") == \"secCode\""
   ],
   "metadata": {
    "collapsed": false,
    "ExecuteTime": {
     "start_time": "2023-08-04T11:27:55.319299Z",
     "end_time": "2023-08-04T11:27:55.329334Z"
    }
   }
  },
  {
   "cell_type": "code",
   "execution_count": 38,
   "outputs": [],
   "source": [
    "import pandas as pd\n",
    "data = pd.HDFStore('E:\\\\Share\\\\Stk_Data\\\\dataFile\\\\ResConSecTarpriScore\\\\ResConSecTarpriScore_Y2023.h5', mode='r')"
   ],
   "metadata": {
    "collapsed": false,
    "ExecuteTime": {
     "start_time": "2023-08-04T11:22:28.912186Z",
     "end_time": "2023-08-04T11:22:28.926006Z"
    }
   }
  },
  {
   "cell_type": "code",
   "execution_count": 39,
   "outputs": [
    {
     "data": {
      "text/plain": "    secCode secName repForeDate  conTarPriceType  conTarPrice  \\\n0    000400    许继电气  2023-01-03                2        24.25   \n1    000400    许继电气  2023-01-04                1        24.15   \n2    000400    许继电气  2023-01-05                1        24.15   \n3    000400    许继电气  2023-01-06                1        24.15   \n4    000400    许继电气  2023-01-09                1        24.15   \n..      ...     ...         ...              ...          ...   \n137  002683    广东宏大  2023-07-28                3          NaN   \n137  002164    宁波东力  2023-07-28                3          NaN   \n137  600165    宁科生物  2023-07-28                3          NaN   \n110  603307    扬州金泉  2023-07-28                3          NaN   \n137  603919     金徽酒  2023-07-28                3          NaN   \n\n    tarPriceLastDate  conScoreType  conScore scoreLastDate  closePrice  \\\n0         2022-10-31             1      1.00    2022-10-31       20.71   \n1         2023-01-03             1      1.00    2023-01-03       20.40   \n2         2023-01-03             1      1.00    2023-01-03       20.84   \n3         2023-01-03             1      1.00    2023-01-03       21.37   \n4         2023-01-03             1      1.00    2023-01-03       21.71   \n..               ...           ...       ...           ...         ...   \n137              NaN             2      0.75    2023-05-08       26.79   \n137              NaN             3       NaN           NaN        5.87   \n137              NaN             3       NaN           NaN        4.37   \n110              NaN             2      1.00    2023-05-18       49.43   \n137              NaN             2      0.75    2023-07-21       25.78   \n\n     conTarReturn           updateTime  \n0          0.1709  2023-01-03 17:36:27  \n1          0.1838  2023-01-04 17:36:13  \n2          0.1588  2023-01-05 17:36:19  \n3          0.1301  2023-01-06 17:36:24  \n4          0.1124  2023-01-09 17:36:11  \n..            ...                  ...  \n137           NaN  2023-07-28 17:32:17  \n137           NaN  2023-07-28 17:32:17  \n137           NaN  2023-07-28 17:32:18  \n110           NaN  2023-07-28 17:32:19  \n137           NaN  2023-07-28 17:32:19  \n\n[682276 rows x 12 columns]",
      "text/html": "<div>\n<style scoped>\n    .dataframe tbody tr th:only-of-type {\n        vertical-align: middle;\n    }\n\n    .dataframe tbody tr th {\n        vertical-align: top;\n    }\n\n    .dataframe thead th {\n        text-align: right;\n    }\n</style>\n<table border=\"1\" class=\"dataframe\">\n  <thead>\n    <tr style=\"text-align: right;\">\n      <th></th>\n      <th>secCode</th>\n      <th>secName</th>\n      <th>repForeDate</th>\n      <th>conTarPriceType</th>\n      <th>conTarPrice</th>\n      <th>tarPriceLastDate</th>\n      <th>conScoreType</th>\n      <th>conScore</th>\n      <th>scoreLastDate</th>\n      <th>closePrice</th>\n      <th>conTarReturn</th>\n      <th>updateTime</th>\n    </tr>\n  </thead>\n  <tbody>\n    <tr>\n      <th>0</th>\n      <td>000400</td>\n      <td>许继电气</td>\n      <td>2023-01-03</td>\n      <td>2</td>\n      <td>24.25</td>\n      <td>2022-10-31</td>\n      <td>1</td>\n      <td>1.00</td>\n      <td>2022-10-31</td>\n      <td>20.71</td>\n      <td>0.1709</td>\n      <td>2023-01-03 17:36:27</td>\n    </tr>\n    <tr>\n      <th>1</th>\n      <td>000400</td>\n      <td>许继电气</td>\n      <td>2023-01-04</td>\n      <td>1</td>\n      <td>24.15</td>\n      <td>2023-01-03</td>\n      <td>1</td>\n      <td>1.00</td>\n      <td>2023-01-03</td>\n      <td>20.40</td>\n      <td>0.1838</td>\n      <td>2023-01-04 17:36:13</td>\n    </tr>\n    <tr>\n      <th>2</th>\n      <td>000400</td>\n      <td>许继电气</td>\n      <td>2023-01-05</td>\n      <td>1</td>\n      <td>24.15</td>\n      <td>2023-01-03</td>\n      <td>1</td>\n      <td>1.00</td>\n      <td>2023-01-03</td>\n      <td>20.84</td>\n      <td>0.1588</td>\n      <td>2023-01-05 17:36:19</td>\n    </tr>\n    <tr>\n      <th>3</th>\n      <td>000400</td>\n      <td>许继电气</td>\n      <td>2023-01-06</td>\n      <td>1</td>\n      <td>24.15</td>\n      <td>2023-01-03</td>\n      <td>1</td>\n      <td>1.00</td>\n      <td>2023-01-03</td>\n      <td>21.37</td>\n      <td>0.1301</td>\n      <td>2023-01-06 17:36:24</td>\n    </tr>\n    <tr>\n      <th>4</th>\n      <td>000400</td>\n      <td>许继电气</td>\n      <td>2023-01-09</td>\n      <td>1</td>\n      <td>24.15</td>\n      <td>2023-01-03</td>\n      <td>1</td>\n      <td>1.00</td>\n      <td>2023-01-03</td>\n      <td>21.71</td>\n      <td>0.1124</td>\n      <td>2023-01-09 17:36:11</td>\n    </tr>\n    <tr>\n      <th>...</th>\n      <td>...</td>\n      <td>...</td>\n      <td>...</td>\n      <td>...</td>\n      <td>...</td>\n      <td>...</td>\n      <td>...</td>\n      <td>...</td>\n      <td>...</td>\n      <td>...</td>\n      <td>...</td>\n      <td>...</td>\n    </tr>\n    <tr>\n      <th>137</th>\n      <td>002683</td>\n      <td>广东宏大</td>\n      <td>2023-07-28</td>\n      <td>3</td>\n      <td>NaN</td>\n      <td>NaN</td>\n      <td>2</td>\n      <td>0.75</td>\n      <td>2023-05-08</td>\n      <td>26.79</td>\n      <td>NaN</td>\n      <td>2023-07-28 17:32:17</td>\n    </tr>\n    <tr>\n      <th>137</th>\n      <td>002164</td>\n      <td>宁波东力</td>\n      <td>2023-07-28</td>\n      <td>3</td>\n      <td>NaN</td>\n      <td>NaN</td>\n      <td>3</td>\n      <td>NaN</td>\n      <td>NaN</td>\n      <td>5.87</td>\n      <td>NaN</td>\n      <td>2023-07-28 17:32:17</td>\n    </tr>\n    <tr>\n      <th>137</th>\n      <td>600165</td>\n      <td>宁科生物</td>\n      <td>2023-07-28</td>\n      <td>3</td>\n      <td>NaN</td>\n      <td>NaN</td>\n      <td>3</td>\n      <td>NaN</td>\n      <td>NaN</td>\n      <td>4.37</td>\n      <td>NaN</td>\n      <td>2023-07-28 17:32:18</td>\n    </tr>\n    <tr>\n      <th>110</th>\n      <td>603307</td>\n      <td>扬州金泉</td>\n      <td>2023-07-28</td>\n      <td>3</td>\n      <td>NaN</td>\n      <td>NaN</td>\n      <td>2</td>\n      <td>1.00</td>\n      <td>2023-05-18</td>\n      <td>49.43</td>\n      <td>NaN</td>\n      <td>2023-07-28 17:32:19</td>\n    </tr>\n    <tr>\n      <th>137</th>\n      <td>603919</td>\n      <td>金徽酒</td>\n      <td>2023-07-28</td>\n      <td>3</td>\n      <td>NaN</td>\n      <td>NaN</td>\n      <td>2</td>\n      <td>0.75</td>\n      <td>2023-07-21</td>\n      <td>25.78</td>\n      <td>NaN</td>\n      <td>2023-07-28 17:32:19</td>\n    </tr>\n  </tbody>\n</table>\n<p>682276 rows × 12 columns</p>\n</div>"
     },
     "execution_count": 39,
     "metadata": {},
     "output_type": "execute_result"
    }
   ],
   "source": [
    "data[\"a\"]"
   ],
   "metadata": {
    "collapsed": false,
    "ExecuteTime": {
     "start_time": "2023-08-04T11:22:36.186552Z",
     "end_time": "2023-08-04T11:22:38.999024Z"
    }
   }
  },
  {
   "cell_type": "code",
   "execution_count": 36,
   "outputs": [
    {
     "data": {
      "text/plain": "array([b'conTarPriceType', b'conScoreType'], dtype='|S15')"
     },
     "execution_count": 36,
     "metadata": {},
     "output_type": "execute_result"
    }
   ],
   "source": [
    "data[\"a\"][\"block1_items\"][:]"
   ],
   "metadata": {
    "collapsed": false,
    "ExecuteTime": {
     "start_time": "2023-08-04T11:21:15.662495Z",
     "end_time": "2023-08-04T11:21:15.668517Z"
    }
   }
  },
  {
   "cell_type": "code",
   "execution_count": 43,
   "outputs": [
    {
     "data": {
      "text/plain": "array([b'conTarPrice', b'conScore', b'closePrice', b'conTarReturn'],\n      dtype='|S12')"
     },
     "execution_count": 43,
     "metadata": {},
     "output_type": "execute_result"
    }
   ],
   "source": [
    "data[\"a\"][\"block0_items\"][:]"
   ],
   "metadata": {
    "collapsed": false,
    "ExecuteTime": {
     "start_time": "2023-08-04T11:24:32.371892Z",
     "end_time": "2023-08-04T11:24:32.377913Z"
    }
   }
  },
  {
   "cell_type": "code",
   "execution_count": 35,
   "outputs": [
    {
     "data": {
      "text/plain": "array([b'secCode', b'secName', b'repForeDate', b'tarPriceLastDate',\n       b'scoreLastDate', b'updateTime'], dtype='|S16')"
     },
     "execution_count": 35,
     "metadata": {},
     "output_type": "execute_result"
    }
   ],
   "source": [
    "data[\"a\"][\"block2_items\"][:]"
   ],
   "metadata": {
    "collapsed": false,
    "ExecuteTime": {
     "start_time": "2023-08-04T11:20:59.216665Z",
     "end_time": "2023-08-04T11:20:59.225696Z"
    }
   }
  }
 ],
 "metadata": {
  "kernelspec": {
   "display_name": "Python 3",
   "language": "python",
   "name": "python3"
  },
  "language_info": {
   "codemirror_mode": {
    "name": "ipython",
    "version": 2
   },
   "file_extension": ".py",
   "mimetype": "text/x-python",
   "name": "python",
   "nbconvert_exporter": "python",
   "pygments_lexer": "ipython2",
   "version": "2.7.6"
  }
 },
 "nbformat": 4,
 "nbformat_minor": 0
}
