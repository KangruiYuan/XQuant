{
 "cells": [
  {
   "cell_type": "code",
   "execution_count": 14,
   "outputs": [],
   "source": [
    "import pandas as pd\n",
    "\n",
    "from XQuant import Tools, DataAPI, Config\n",
    "from XQuant import Size\n",
    "import talib\n",
    "import numpy as np\n",
    "import mplfinance as mpf\n",
    "from cycler import cycler\n",
    "import matplotlib.pyplot as plt\n",
    "s = Size(begin='20230101', sql=True)"
   ],
   "metadata": {
    "collapsed": false,
    "ExecuteTime": {
     "start_time": "2023-08-17T16:00:26.388292Z",
     "end_time": "2023-08-17T16:00:26.393309Z"
    }
   }
  }
 ],
 "metadata": {
  "kernelspec": {
   "display_name": "Python 3",
   "language": "python",
   "name": "python3"
  },
  "language_info": {
   "codemirror_mode": {
    "name": "ipython",
    "version": 2
   },
   "file_extension": ".py",
   "mimetype": "text/x-python",
   "name": "python",
   "nbconvert_exporter": "python",
   "pygments_lexer": "ipython2",
   "version": "2.7.6"
  }
 },
 "nbformat": 4,
 "nbformat_minor": 0
}
