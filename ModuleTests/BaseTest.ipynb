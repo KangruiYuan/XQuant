{
 "cells": [
  {
   "cell_type": "code",
   "execution_count": 5,
   "outputs": [],
   "source": [
    "import numpy as np"
   ],
   "metadata": {
    "collapsed": false,
    "ExecuteTime": {
     "start_time": "2023-08-09T15:08:59.914364Z",
     "end_time": "2023-08-09T15:08:59.920385Z"
    }
   }
  },
  {
   "cell_type": "code",
   "execution_count": 9,
   "outputs": [
    {
     "data": {
      "text/plain": "array([[0, 0],\n       [1, 1],\n       [2, 2],\n       [3, 3],\n       [4, 4],\n       [5, 5],\n       [6, 6],\n       [7, 7],\n       [8, 8],\n       [9, 9]])"
     },
     "execution_count": 9,
     "metadata": {},
     "output_type": "execute_result"
    }
   ],
   "source": [
    "np.stack([np.arange(10), np.arange(10)], axis=1)"
   ],
   "metadata": {
    "collapsed": false,
    "ExecuteTime": {
     "start_time": "2023-08-09T15:09:50.959286Z",
     "end_time": "2023-08-09T15:09:50.969319Z"
    }
   }
  },
  {
   "cell_type": "code",
   "execution_count": 1,
   "outputs": [
    {
     "data": {
      "text/plain": "ticker      600000.SH  600001.SH  600002.SH  600003.SH  600004.SH  600005.SH  \\\n2022-01-04     0.0047        NaN        NaN        NaN     0.0332        NaN   \n2022-01-05     0.0082        NaN        NaN        NaN     0.0297        NaN   \n2022-01-06    -0.0081        NaN        NaN        NaN    -0.0398        NaN   \n2022-01-07     0.0163        NaN        NaN        NaN     0.0130        NaN   \n2022-01-10     0.0011        NaN        NaN        NaN     0.0080        NaN   \n...               ...        ...        ...        ...        ...        ...   \n2023-07-24     0.0014        NaN        NaN        NaN    -0.0094        NaN   \n2023-07-25     0.0196        NaN        NaN        NaN     0.0286        NaN   \n2023-07-26     0.0028        NaN        NaN        NaN    -0.0107        NaN   \n2023-07-27     0.0110        NaN        NaN        NaN     0.0022        NaN   \n2023-07-28     0.0176        NaN        NaN        NaN     0.0122        NaN   \n\nticker      600006.SH  600007.SH  600008.SH  600009.SH  ...  301387.SZ  \\\n2022-01-04     0.0088     0.0104     0.0235     0.0392  ...        NaN   \n2022-01-05    -0.0116    -0.0234    -0.0057     0.0066  ...        NaN   \n2022-01-06     0.0029     0.0042     0.0231     0.0033  ...        NaN   \n2022-01-07    -0.0044     0.0112    -0.0085     0.0202  ...        NaN   \n2022-01-10     0.0162     0.0395    -0.0057     0.0000  ...        NaN   \n...               ...        ...        ...        ...  ...        ...   \n2023-07-24    -0.0050     0.0021     0.0034    -0.0173  ...    -0.0042   \n2023-07-25     0.0455     0.0241     0.0069     0.0224  ...     0.0104   \n2023-07-26    -0.0371     0.0475     0.0068    -0.0165  ...    -0.0297   \n2023-07-27     0.0084    -0.0272    -0.0034     0.0089  ...     0.0046   \n2023-07-28     0.0382     0.0118     0.0102     0.0462  ...     0.0082   \n\nticker      301388.SZ  301389.SZ  301391.SZ  301396.SZ  301398.SZ  301408.SZ  \\\n2022-01-04        NaN        NaN        NaN        NaN        NaN        NaN   \n2022-01-05        NaN        NaN        NaN        NaN        NaN        NaN   \n2022-01-06        NaN        NaN        NaN        NaN        NaN        NaN   \n2022-01-07        NaN        NaN        NaN        NaN        NaN        NaN   \n2022-01-10        NaN        NaN        NaN        NaN        NaN        NaN   \n...               ...        ...        ...        ...        ...        ...   \n2023-07-24     0.0015     0.0039    -0.0126     0.0811     0.0342    -0.0033   \n2023-07-25     0.0118     0.0107     0.0216     0.0097     0.1212     0.0142   \n2023-07-26    -0.0233    -0.0117    -0.0105    -0.0278    -0.0479    -0.0161   \n2023-07-27     0.0370    -0.0236    -0.0019    -0.0323    -0.0465    -0.0224   \n2023-07-28    -0.0019     0.0109    -0.0022     0.0298     0.0789     0.0050   \n\nticker      301419.SZ  301429.SZ  301439.SZ  \n2022-01-04        NaN        NaN        NaN  \n2022-01-05        NaN        NaN        NaN  \n2022-01-06        NaN        NaN        NaN  \n2022-01-07        NaN        NaN        NaN  \n2022-01-10        NaN        NaN        NaN  \n...               ...        ...        ...  \n2023-07-24     0.0050     0.0017     0.0034  \n2023-07-25     0.0131     0.0746     0.0118  \n2023-07-26    -0.0595     0.2002    -0.0105  \n2023-07-27    -0.0150    -0.1060     0.0084  \n2023-07-28     0.0000    -0.0156     0.0039  \n\n[380 rows x 5291 columns]",
      "text/html": "<div>\n<style scoped>\n    .dataframe tbody tr th:only-of-type {\n        vertical-align: middle;\n    }\n\n    .dataframe tbody tr th {\n        vertical-align: top;\n    }\n\n    .dataframe thead th {\n        text-align: right;\n    }\n</style>\n<table border=\"1\" class=\"dataframe\">\n  <thead>\n    <tr style=\"text-align: right;\">\n      <th>ticker</th>\n      <th>600000.SH</th>\n      <th>600001.SH</th>\n      <th>600002.SH</th>\n      <th>600003.SH</th>\n      <th>600004.SH</th>\n      <th>600005.SH</th>\n      <th>600006.SH</th>\n      <th>600007.SH</th>\n      <th>600008.SH</th>\n      <th>600009.SH</th>\n      <th>...</th>\n      <th>301387.SZ</th>\n      <th>301388.SZ</th>\n      <th>301389.SZ</th>\n      <th>301391.SZ</th>\n      <th>301396.SZ</th>\n      <th>301398.SZ</th>\n      <th>301408.SZ</th>\n      <th>301419.SZ</th>\n      <th>301429.SZ</th>\n      <th>301439.SZ</th>\n    </tr>\n  </thead>\n  <tbody>\n    <tr>\n      <th>2022-01-04</th>\n      <td>0.0047</td>\n      <td>NaN</td>\n      <td>NaN</td>\n      <td>NaN</td>\n      <td>0.0332</td>\n      <td>NaN</td>\n      <td>0.0088</td>\n      <td>0.0104</td>\n      <td>0.0235</td>\n      <td>0.0392</td>\n      <td>...</td>\n      <td>NaN</td>\n      <td>NaN</td>\n      <td>NaN</td>\n      <td>NaN</td>\n      <td>NaN</td>\n      <td>NaN</td>\n      <td>NaN</td>\n      <td>NaN</td>\n      <td>NaN</td>\n      <td>NaN</td>\n    </tr>\n    <tr>\n      <th>2022-01-05</th>\n      <td>0.0082</td>\n      <td>NaN</td>\n      <td>NaN</td>\n      <td>NaN</td>\n      <td>0.0297</td>\n      <td>NaN</td>\n      <td>-0.0116</td>\n      <td>-0.0234</td>\n      <td>-0.0057</td>\n      <td>0.0066</td>\n      <td>...</td>\n      <td>NaN</td>\n      <td>NaN</td>\n      <td>NaN</td>\n      <td>NaN</td>\n      <td>NaN</td>\n      <td>NaN</td>\n      <td>NaN</td>\n      <td>NaN</td>\n      <td>NaN</td>\n      <td>NaN</td>\n    </tr>\n    <tr>\n      <th>2022-01-06</th>\n      <td>-0.0081</td>\n      <td>NaN</td>\n      <td>NaN</td>\n      <td>NaN</td>\n      <td>-0.0398</td>\n      <td>NaN</td>\n      <td>0.0029</td>\n      <td>0.0042</td>\n      <td>0.0231</td>\n      <td>0.0033</td>\n      <td>...</td>\n      <td>NaN</td>\n      <td>NaN</td>\n      <td>NaN</td>\n      <td>NaN</td>\n      <td>NaN</td>\n      <td>NaN</td>\n      <td>NaN</td>\n      <td>NaN</td>\n      <td>NaN</td>\n      <td>NaN</td>\n    </tr>\n    <tr>\n      <th>2022-01-07</th>\n      <td>0.0163</td>\n      <td>NaN</td>\n      <td>NaN</td>\n      <td>NaN</td>\n      <td>0.0130</td>\n      <td>NaN</td>\n      <td>-0.0044</td>\n      <td>0.0112</td>\n      <td>-0.0085</td>\n      <td>0.0202</td>\n      <td>...</td>\n      <td>NaN</td>\n      <td>NaN</td>\n      <td>NaN</td>\n      <td>NaN</td>\n      <td>NaN</td>\n      <td>NaN</td>\n      <td>NaN</td>\n      <td>NaN</td>\n      <td>NaN</td>\n      <td>NaN</td>\n    </tr>\n    <tr>\n      <th>2022-01-10</th>\n      <td>0.0011</td>\n      <td>NaN</td>\n      <td>NaN</td>\n      <td>NaN</td>\n      <td>0.0080</td>\n      <td>NaN</td>\n      <td>0.0162</td>\n      <td>0.0395</td>\n      <td>-0.0057</td>\n      <td>0.0000</td>\n      <td>...</td>\n      <td>NaN</td>\n      <td>NaN</td>\n      <td>NaN</td>\n      <td>NaN</td>\n      <td>NaN</td>\n      <td>NaN</td>\n      <td>NaN</td>\n      <td>NaN</td>\n      <td>NaN</td>\n      <td>NaN</td>\n    </tr>\n    <tr>\n      <th>...</th>\n      <td>...</td>\n      <td>...</td>\n      <td>...</td>\n      <td>...</td>\n      <td>...</td>\n      <td>...</td>\n      <td>...</td>\n      <td>...</td>\n      <td>...</td>\n      <td>...</td>\n      <td>...</td>\n      <td>...</td>\n      <td>...</td>\n      <td>...</td>\n      <td>...</td>\n      <td>...</td>\n      <td>...</td>\n      <td>...</td>\n      <td>...</td>\n      <td>...</td>\n      <td>...</td>\n    </tr>\n    <tr>\n      <th>2023-07-24</th>\n      <td>0.0014</td>\n      <td>NaN</td>\n      <td>NaN</td>\n      <td>NaN</td>\n      <td>-0.0094</td>\n      <td>NaN</td>\n      <td>-0.0050</td>\n      <td>0.0021</td>\n      <td>0.0034</td>\n      <td>-0.0173</td>\n      <td>...</td>\n      <td>-0.0042</td>\n      <td>0.0015</td>\n      <td>0.0039</td>\n      <td>-0.0126</td>\n      <td>0.0811</td>\n      <td>0.0342</td>\n      <td>-0.0033</td>\n      <td>0.0050</td>\n      <td>0.0017</td>\n      <td>0.0034</td>\n    </tr>\n    <tr>\n      <th>2023-07-25</th>\n      <td>0.0196</td>\n      <td>NaN</td>\n      <td>NaN</td>\n      <td>NaN</td>\n      <td>0.0286</td>\n      <td>NaN</td>\n      <td>0.0455</td>\n      <td>0.0241</td>\n      <td>0.0069</td>\n      <td>0.0224</td>\n      <td>...</td>\n      <td>0.0104</td>\n      <td>0.0118</td>\n      <td>0.0107</td>\n      <td>0.0216</td>\n      <td>0.0097</td>\n      <td>0.1212</td>\n      <td>0.0142</td>\n      <td>0.0131</td>\n      <td>0.0746</td>\n      <td>0.0118</td>\n    </tr>\n    <tr>\n      <th>2023-07-26</th>\n      <td>0.0028</td>\n      <td>NaN</td>\n      <td>NaN</td>\n      <td>NaN</td>\n      <td>-0.0107</td>\n      <td>NaN</td>\n      <td>-0.0371</td>\n      <td>0.0475</td>\n      <td>0.0068</td>\n      <td>-0.0165</td>\n      <td>...</td>\n      <td>-0.0297</td>\n      <td>-0.0233</td>\n      <td>-0.0117</td>\n      <td>-0.0105</td>\n      <td>-0.0278</td>\n      <td>-0.0479</td>\n      <td>-0.0161</td>\n      <td>-0.0595</td>\n      <td>0.2002</td>\n      <td>-0.0105</td>\n    </tr>\n    <tr>\n      <th>2023-07-27</th>\n      <td>0.0110</td>\n      <td>NaN</td>\n      <td>NaN</td>\n      <td>NaN</td>\n      <td>0.0022</td>\n      <td>NaN</td>\n      <td>0.0084</td>\n      <td>-0.0272</td>\n      <td>-0.0034</td>\n      <td>0.0089</td>\n      <td>...</td>\n      <td>0.0046</td>\n      <td>0.0370</td>\n      <td>-0.0236</td>\n      <td>-0.0019</td>\n      <td>-0.0323</td>\n      <td>-0.0465</td>\n      <td>-0.0224</td>\n      <td>-0.0150</td>\n      <td>-0.1060</td>\n      <td>0.0084</td>\n    </tr>\n    <tr>\n      <th>2023-07-28</th>\n      <td>0.0176</td>\n      <td>NaN</td>\n      <td>NaN</td>\n      <td>NaN</td>\n      <td>0.0122</td>\n      <td>NaN</td>\n      <td>0.0382</td>\n      <td>0.0118</td>\n      <td>0.0102</td>\n      <td>0.0462</td>\n      <td>...</td>\n      <td>0.0082</td>\n      <td>-0.0019</td>\n      <td>0.0109</td>\n      <td>-0.0022</td>\n      <td>0.0298</td>\n      <td>0.0789</td>\n      <td>0.0050</td>\n      <td>0.0000</td>\n      <td>-0.0156</td>\n      <td>0.0039</td>\n    </tr>\n  </tbody>\n</table>\n<p>380 rows × 5291 columns</p>\n</div>"
     },
     "execution_count": 1,
     "metadata": {},
     "output_type": "execute_result"
    }
   ],
   "source": [
    "from XQuant import DataReady\n",
    "dr = DataReady(begin='20220101')\n",
    "dr.returns"
   ],
   "metadata": {
    "collapsed": false,
    "ExecuteTime": {
     "start_time": "2023-08-09T14:39:51.740157Z",
     "end_time": "2023-08-09T14:39:57.268485Z"
    }
   }
  },
  {
   "cell_type": "code",
   "execution_count": 2,
   "outputs": [],
   "source": [
    "df = dr.returns"
   ],
   "metadata": {
    "collapsed": false,
    "ExecuteTime": {
     "start_time": "2023-08-09T14:55:34.943631Z",
     "end_time": "2023-08-09T14:55:34.954669Z"
    }
   }
  },
  {
   "cell_type": "code",
   "execution_count": 4,
   "outputs": [
    {
     "name": "stdout",
     "output_type": "stream",
     "text": [
      "(Timestamp('2022-01-04 00:00:00'), ticker\n",
      "600000.SH    0.0047\n",
      "600001.SH       NaN\n",
      "600002.SH       NaN\n",
      "600003.SH       NaN\n",
      "600004.SH    0.0332\n",
      "              ...  \n",
      "301398.SZ       NaN\n",
      "301408.SZ       NaN\n",
      "301419.SZ       NaN\n",
      "301429.SZ       NaN\n",
      "301439.SZ       NaN\n",
      "Name: 2022-01-04 00:00:00, Length: 5291, dtype: float64)\n",
      "(Timestamp('2022-01-04 00:00:00'), ticker\n",
      "600000.SH    0.0047\n",
      "600001.SH       NaN\n",
      "600002.SH       NaN\n",
      "600003.SH       NaN\n",
      "600004.SH    0.0332\n",
      "              ...  \n",
      "301398.SZ       NaN\n",
      "301408.SZ       NaN\n",
      "301419.SZ       NaN\n",
      "301429.SZ       NaN\n",
      "301439.SZ       NaN\n",
      "Name: 2022-01-04 00:00:00, Length: 5291, dtype: float64)\n"
     ]
    },
    {
     "ename": "ValueError",
     "evalue": "The truth value of a Series is ambiguous. Use a.empty, a.bool(), a.item(), a.any() or a.all().",
     "output_type": "error",
     "traceback": [
      "\u001B[1;31m---------------------------------------------------------------------------\u001B[0m",
      "\u001B[1;31mValueError\u001B[0m                                Traceback (most recent call last)",
      "Cell \u001B[1;32mIn[4], line 4\u001B[0m\n\u001B[0;32m      2\u001B[0m \u001B[38;5;28mprint\u001B[39m(i)\n\u001B[0;32m      3\u001B[0m \u001B[38;5;28mprint\u001B[39m(j)\n\u001B[1;32m----> 4\u001B[0m \u001B[38;5;28mprint\u001B[39m(\u001B[38;5;28mall\u001B[39m(\u001B[43mi\u001B[49m\u001B[43m \u001B[49m\u001B[38;5;241;43m==\u001B[39;49m\u001B[43m \u001B[49m\u001B[43mj\u001B[49m))\n\u001B[0;32m      5\u001B[0m \u001B[38;5;28;01mbreak\u001B[39;00m\n",
      "File \u001B[1;32mD:\\anaconda3\\lib\\site-packages\\pandas\\core\\generic.py:1527\u001B[0m, in \u001B[0;36mNDFrame.__nonzero__\u001B[1;34m(self)\u001B[0m\n\u001B[0;32m   1525\u001B[0m \u001B[38;5;129m@final\u001B[39m\n\u001B[0;32m   1526\u001B[0m \u001B[38;5;28;01mdef\u001B[39;00m \u001B[38;5;21m__nonzero__\u001B[39m(\u001B[38;5;28mself\u001B[39m) \u001B[38;5;241m-\u001B[39m\u001B[38;5;241m>\u001B[39m NoReturn:\n\u001B[1;32m-> 1527\u001B[0m     \u001B[38;5;28;01mraise\u001B[39;00m \u001B[38;5;167;01mValueError\u001B[39;00m(\n\u001B[0;32m   1528\u001B[0m         \u001B[38;5;124mf\u001B[39m\u001B[38;5;124m\"\u001B[39m\u001B[38;5;124mThe truth value of a \u001B[39m\u001B[38;5;132;01m{\u001B[39;00m\u001B[38;5;28mtype\u001B[39m(\u001B[38;5;28mself\u001B[39m)\u001B[38;5;241m.\u001B[39m\u001B[38;5;18m__name__\u001B[39m\u001B[38;5;132;01m}\u001B[39;00m\u001B[38;5;124m is ambiguous. \u001B[39m\u001B[38;5;124m\"\u001B[39m\n\u001B[0;32m   1529\u001B[0m         \u001B[38;5;124m\"\u001B[39m\u001B[38;5;124mUse a.empty, a.bool(), a.item(), a.any() or a.all().\u001B[39m\u001B[38;5;124m\"\u001B[39m\n\u001B[0;32m   1530\u001B[0m     )\n",
      "\u001B[1;31mValueError\u001B[0m: The truth value of a Series is ambiguous. Use a.empty, a.bool(), a.item(), a.any() or a.all()."
     ]
    }
   ],
   "source": [
    "for i, j in zip(df.iterrows(), df.iterrows()):\n",
    "    print(i)\n",
    "    print(j)\n",
    "    print(all(i == j))\n",
    "    break"
   ],
   "metadata": {
    "collapsed": false
   }
  }
 ],
 "metadata": {
  "kernelspec": {
   "display_name": "Python 3",
   "language": "python",
   "name": "python3"
  },
  "language_info": {
   "codemirror_mode": {
    "name": "ipython",
    "version": 2
   },
   "file_extension": ".py",
   "mimetype": "text/x-python",
   "name": "python",
   "nbconvert_exporter": "python",
   "pygments_lexer": "ipython2",
   "version": "2.7.6"
  }
 },
 "nbformat": 4,
 "nbformat_minor": 0
}
