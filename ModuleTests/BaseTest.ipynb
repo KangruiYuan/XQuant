{
 "cells": [
  {
   "cell_type": "code",
   "execution_count": 1,
   "outputs": [],
   "source": [
    "from XQuant import BackTestRunner, BackTestOptions, BARRA\n",
    "from XQuant import Strategy, DataAPI, Config, Tools, DataReady\n",
    "import pandas as pd"
   ],
   "metadata": {
    "collapsed": false,
    "ExecuteTime": {
     "start_time": "2023-08-28T22:24:54.637799Z",
     "end_time": "2023-08-28T22:24:55.981157Z"
    }
   }
  },
  {
   "cell_type": "code",
   "execution_count": 2,
   "outputs": [
    {
     "name": "stdout",
     "output_type": "stream",
     "text": [
      "Try with npartitions=41\n"
     ]
    },
    {
     "name": "stderr",
     "output_type": "stream",
     "text": [
      "\u001B[32m2023-08-28 22:25:23.896\u001B[0m | \u001B[1mINFO    \u001B[0m | \u001B[36mXQuant.Utils\u001B[0m:\u001B[36mtimer\u001B[0m:\u001B[36m463\u001B[0m - \u001B[1m“pandas_parallelcal” run time: 0:00:08.047596.\u001B[0m\n"
     ]
    },
    {
     "data": {
      "text/plain": "ticker         600000.SH  600001.SH  600002.SH  600003.SH     600004.SH  \\\n2020-01-02           NaN        NaN        NaN        NaN           NaN   \n2020-01-03           NaN        NaN        NaN        NaN           NaN   \n2020-01-06           NaN        NaN        NaN        NaN           NaN   \n2020-01-07           NaN        NaN        NaN        NaN           NaN   \n2020-01-08           NaN        NaN        NaN        NaN           NaN   \n...                  ...        ...        ...        ...           ...   \n2023-07-24 -1.000000e+10        NaN        NaN        NaN -1.000000e+10   \n2023-07-25 -1.000000e+10        NaN        NaN        NaN -1.000000e+10   \n2023-07-26 -1.000000e+10        NaN        NaN        NaN -1.000000e+10   \n2023-07-27 -1.000000e+10        NaN        NaN        NaN -1.000000e+10   \n2023-07-28 -1.000000e+10        NaN        NaN        NaN -1.000000e+10   \n\nticker      600005.SH     600006.SH     600007.SH     600008.SH     600009.SH  \\\n2020-01-02        NaN           NaN           NaN           NaN           NaN   \n2020-01-03        NaN           NaN           NaN           NaN           NaN   \n2020-01-06        NaN           NaN           NaN           NaN           NaN   \n2020-01-07        NaN           NaN           NaN           NaN           NaN   \n2020-01-08        NaN           NaN           NaN           NaN           NaN   \n...               ...           ...           ...           ...           ...   \n2023-07-24        NaN -1.000000e+10 -1.000000e+10 -1.000000e+10 -1.000000e+10   \n2023-07-25        NaN -1.000000e+10 -1.000000e+10 -1.000000e+10 -1.000000e+10   \n2023-07-26        NaN -1.000000e+10 -1.000000e+10 -1.000000e+10 -1.000000e+10   \n2023-07-27        NaN -1.000000e+10 -1.000000e+10 -1.000000e+10 -1.000000e+10   \n2023-07-28        NaN -1.000000e+10 -1.000000e+10 -1.000000e+10 -1.000000e+10   \n\nticker      ...     301387.SZ     301388.SZ     301389.SZ     301391.SZ  \\\n2020-01-02  ...           NaN           NaN           NaN           NaN   \n2020-01-03  ...           NaN           NaN           NaN           NaN   \n2020-01-06  ...           NaN           NaN           NaN           NaN   \n2020-01-07  ...           NaN           NaN           NaN           NaN   \n2020-01-08  ...           NaN           NaN           NaN           NaN   \n...         ...           ...           ...           ...           ...   \n2023-07-24  ... -1.000000e+10 -1.000000e+10 -1.000000e+10 -1.000000e+10   \n2023-07-25  ... -1.000000e+10 -1.000000e+10 -1.000000e+10 -1.000000e+10   \n2023-07-26  ... -1.000000e+10 -1.000000e+10 -1.000000e+10 -1.000000e+10   \n2023-07-27  ... -1.000000e+10 -1.000000e+10 -1.000000e+10 -1.000000e+10   \n2023-07-28  ... -1.000000e+10 -1.000000e+10 -1.000000e+10 -1.000000e+10   \n\nticker         301396.SZ     301398.SZ     301408.SZ     301419.SZ  \\\n2020-01-02           NaN           NaN           NaN           NaN   \n2020-01-03           NaN           NaN           NaN           NaN   \n2020-01-06           NaN           NaN           NaN           NaN   \n2020-01-07           NaN           NaN           NaN           NaN   \n2020-01-08           NaN           NaN           NaN           NaN   \n...                  ...           ...           ...           ...   \n2023-07-24 -1.000000e+10 -1.000000e+10 -1.000000e+10 -1.000000e+10   \n2023-07-25 -1.000000e+10 -1.000000e+10 -1.000000e+10 -1.000000e+10   \n2023-07-26 -1.000000e+10 -1.000000e+10 -1.000000e+10 -1.000000e+10   \n2023-07-27 -1.000000e+10 -1.000000e+10 -1.000000e+10 -1.000000e+10   \n2023-07-28 -1.000000e+10 -1.000000e+10 -1.000000e+10 -1.000000e+10   \n\nticker         301429.SZ     301439.SZ  \n2020-01-02           NaN           NaN  \n2020-01-03           NaN           NaN  \n2020-01-06           NaN           NaN  \n2020-01-07           NaN           NaN  \n2020-01-08           NaN           NaN  \n...                  ...           ...  \n2023-07-24 -1.000000e+10 -1.000000e+10  \n2023-07-25 -1.000000e+10 -1.000000e+10  \n2023-07-26 -1.000000e+10 -1.000000e+10  \n2023-07-27 -1.000000e+10 -1.000000e+10  \n2023-07-28 -1.000000e+10 -1.000000e+10  \n\n[866 rows x 5291 columns]",
      "text/html": "<div>\n<style scoped>\n    .dataframe tbody tr th:only-of-type {\n        vertical-align: middle;\n    }\n\n    .dataframe tbody tr th {\n        vertical-align: top;\n    }\n\n    .dataframe thead th {\n        text-align: right;\n    }\n</style>\n<table border=\"1\" class=\"dataframe\">\n  <thead>\n    <tr style=\"text-align: right;\">\n      <th>ticker</th>\n      <th>600000.SH</th>\n      <th>600001.SH</th>\n      <th>600002.SH</th>\n      <th>600003.SH</th>\n      <th>600004.SH</th>\n      <th>600005.SH</th>\n      <th>600006.SH</th>\n      <th>600007.SH</th>\n      <th>600008.SH</th>\n      <th>600009.SH</th>\n      <th>...</th>\n      <th>301387.SZ</th>\n      <th>301388.SZ</th>\n      <th>301389.SZ</th>\n      <th>301391.SZ</th>\n      <th>301396.SZ</th>\n      <th>301398.SZ</th>\n      <th>301408.SZ</th>\n      <th>301419.SZ</th>\n      <th>301429.SZ</th>\n      <th>301439.SZ</th>\n    </tr>\n  </thead>\n  <tbody>\n    <tr>\n      <th>2020-01-02</th>\n      <td>NaN</td>\n      <td>NaN</td>\n      <td>NaN</td>\n      <td>NaN</td>\n      <td>NaN</td>\n      <td>NaN</td>\n      <td>NaN</td>\n      <td>NaN</td>\n      <td>NaN</td>\n      <td>NaN</td>\n      <td>...</td>\n      <td>NaN</td>\n      <td>NaN</td>\n      <td>NaN</td>\n      <td>NaN</td>\n      <td>NaN</td>\n      <td>NaN</td>\n      <td>NaN</td>\n      <td>NaN</td>\n      <td>NaN</td>\n      <td>NaN</td>\n    </tr>\n    <tr>\n      <th>2020-01-03</th>\n      <td>NaN</td>\n      <td>NaN</td>\n      <td>NaN</td>\n      <td>NaN</td>\n      <td>NaN</td>\n      <td>NaN</td>\n      <td>NaN</td>\n      <td>NaN</td>\n      <td>NaN</td>\n      <td>NaN</td>\n      <td>...</td>\n      <td>NaN</td>\n      <td>NaN</td>\n      <td>NaN</td>\n      <td>NaN</td>\n      <td>NaN</td>\n      <td>NaN</td>\n      <td>NaN</td>\n      <td>NaN</td>\n      <td>NaN</td>\n      <td>NaN</td>\n    </tr>\n    <tr>\n      <th>2020-01-06</th>\n      <td>NaN</td>\n      <td>NaN</td>\n      <td>NaN</td>\n      <td>NaN</td>\n      <td>NaN</td>\n      <td>NaN</td>\n      <td>NaN</td>\n      <td>NaN</td>\n      <td>NaN</td>\n      <td>NaN</td>\n      <td>...</td>\n      <td>NaN</td>\n      <td>NaN</td>\n      <td>NaN</td>\n      <td>NaN</td>\n      <td>NaN</td>\n      <td>NaN</td>\n      <td>NaN</td>\n      <td>NaN</td>\n      <td>NaN</td>\n      <td>NaN</td>\n    </tr>\n    <tr>\n      <th>2020-01-07</th>\n      <td>NaN</td>\n      <td>NaN</td>\n      <td>NaN</td>\n      <td>NaN</td>\n      <td>NaN</td>\n      <td>NaN</td>\n      <td>NaN</td>\n      <td>NaN</td>\n      <td>NaN</td>\n      <td>NaN</td>\n      <td>...</td>\n      <td>NaN</td>\n      <td>NaN</td>\n      <td>NaN</td>\n      <td>NaN</td>\n      <td>NaN</td>\n      <td>NaN</td>\n      <td>NaN</td>\n      <td>NaN</td>\n      <td>NaN</td>\n      <td>NaN</td>\n    </tr>\n    <tr>\n      <th>2020-01-08</th>\n      <td>NaN</td>\n      <td>NaN</td>\n      <td>NaN</td>\n      <td>NaN</td>\n      <td>NaN</td>\n      <td>NaN</td>\n      <td>NaN</td>\n      <td>NaN</td>\n      <td>NaN</td>\n      <td>NaN</td>\n      <td>...</td>\n      <td>NaN</td>\n      <td>NaN</td>\n      <td>NaN</td>\n      <td>NaN</td>\n      <td>NaN</td>\n      <td>NaN</td>\n      <td>NaN</td>\n      <td>NaN</td>\n      <td>NaN</td>\n      <td>NaN</td>\n    </tr>\n    <tr>\n      <th>...</th>\n      <td>...</td>\n      <td>...</td>\n      <td>...</td>\n      <td>...</td>\n      <td>...</td>\n      <td>...</td>\n      <td>...</td>\n      <td>...</td>\n      <td>...</td>\n      <td>...</td>\n      <td>...</td>\n      <td>...</td>\n      <td>...</td>\n      <td>...</td>\n      <td>...</td>\n      <td>...</td>\n      <td>...</td>\n      <td>...</td>\n      <td>...</td>\n      <td>...</td>\n      <td>...</td>\n    </tr>\n    <tr>\n      <th>2023-07-24</th>\n      <td>-1.000000e+10</td>\n      <td>NaN</td>\n      <td>NaN</td>\n      <td>NaN</td>\n      <td>-1.000000e+10</td>\n      <td>NaN</td>\n      <td>-1.000000e+10</td>\n      <td>-1.000000e+10</td>\n      <td>-1.000000e+10</td>\n      <td>-1.000000e+10</td>\n      <td>...</td>\n      <td>-1.000000e+10</td>\n      <td>-1.000000e+10</td>\n      <td>-1.000000e+10</td>\n      <td>-1.000000e+10</td>\n      <td>-1.000000e+10</td>\n      <td>-1.000000e+10</td>\n      <td>-1.000000e+10</td>\n      <td>-1.000000e+10</td>\n      <td>-1.000000e+10</td>\n      <td>-1.000000e+10</td>\n    </tr>\n    <tr>\n      <th>2023-07-25</th>\n      <td>-1.000000e+10</td>\n      <td>NaN</td>\n      <td>NaN</td>\n      <td>NaN</td>\n      <td>-1.000000e+10</td>\n      <td>NaN</td>\n      <td>-1.000000e+10</td>\n      <td>-1.000000e+10</td>\n      <td>-1.000000e+10</td>\n      <td>-1.000000e+10</td>\n      <td>...</td>\n      <td>-1.000000e+10</td>\n      <td>-1.000000e+10</td>\n      <td>-1.000000e+10</td>\n      <td>-1.000000e+10</td>\n      <td>-1.000000e+10</td>\n      <td>-1.000000e+10</td>\n      <td>-1.000000e+10</td>\n      <td>-1.000000e+10</td>\n      <td>-1.000000e+10</td>\n      <td>-1.000000e+10</td>\n    </tr>\n    <tr>\n      <th>2023-07-26</th>\n      <td>-1.000000e+10</td>\n      <td>NaN</td>\n      <td>NaN</td>\n      <td>NaN</td>\n      <td>-1.000000e+10</td>\n      <td>NaN</td>\n      <td>-1.000000e+10</td>\n      <td>-1.000000e+10</td>\n      <td>-1.000000e+10</td>\n      <td>-1.000000e+10</td>\n      <td>...</td>\n      <td>-1.000000e+10</td>\n      <td>-1.000000e+10</td>\n      <td>-1.000000e+10</td>\n      <td>-1.000000e+10</td>\n      <td>-1.000000e+10</td>\n      <td>-1.000000e+10</td>\n      <td>-1.000000e+10</td>\n      <td>-1.000000e+10</td>\n      <td>-1.000000e+10</td>\n      <td>-1.000000e+10</td>\n    </tr>\n    <tr>\n      <th>2023-07-27</th>\n      <td>-1.000000e+10</td>\n      <td>NaN</td>\n      <td>NaN</td>\n      <td>NaN</td>\n      <td>-1.000000e+10</td>\n      <td>NaN</td>\n      <td>-1.000000e+10</td>\n      <td>-1.000000e+10</td>\n      <td>-1.000000e+10</td>\n      <td>-1.000000e+10</td>\n      <td>...</td>\n      <td>-1.000000e+10</td>\n      <td>-1.000000e+10</td>\n      <td>-1.000000e+10</td>\n      <td>-1.000000e+10</td>\n      <td>-1.000000e+10</td>\n      <td>-1.000000e+10</td>\n      <td>-1.000000e+10</td>\n      <td>-1.000000e+10</td>\n      <td>-1.000000e+10</td>\n      <td>-1.000000e+10</td>\n    </tr>\n    <tr>\n      <th>2023-07-28</th>\n      <td>-1.000000e+10</td>\n      <td>NaN</td>\n      <td>NaN</td>\n      <td>NaN</td>\n      <td>-1.000000e+10</td>\n      <td>NaN</td>\n      <td>-1.000000e+10</td>\n      <td>-1.000000e+10</td>\n      <td>-1.000000e+10</td>\n      <td>-1.000000e+10</td>\n      <td>...</td>\n      <td>-1.000000e+10</td>\n      <td>-1.000000e+10</td>\n      <td>-1.000000e+10</td>\n      <td>-1.000000e+10</td>\n      <td>-1.000000e+10</td>\n      <td>-1.000000e+10</td>\n      <td>-1.000000e+10</td>\n      <td>-1.000000e+10</td>\n      <td>-1.000000e+10</td>\n      <td>-1.000000e+10</td>\n    </tr>\n  </tbody>\n</table>\n<p>866 rows × 5291 columns</p>\n</div>"
     },
     "execution_count": 2,
     "metadata": {},
     "output_type": "execute_result"
    }
   ],
   "source": [
    "dr = BARRA(begin='20200101', sql=True)\n",
    "dr.STOM"
   ],
   "metadata": {
    "collapsed": false,
    "ExecuteTime": {
     "start_time": "2023-08-28T22:25:10.227537Z",
     "end_time": "2023-08-28T22:25:23.947202Z"
    }
   }
  },
  {
   "cell_type": "code",
   "execution_count": 3,
   "outputs": [],
   "source": [
    "dr = DataReady(begin='20200101', sql=True)\n",
    "df = dr.per_cash_div"
   ],
   "metadata": {
    "collapsed": false,
    "ExecuteTime": {
     "start_time": "2023-08-28T22:06:36.841471Z",
     "end_time": "2023-08-28T22:06:36.925266Z"
    }
   }
  },
  {
   "cell_type": "code",
   "execution_count": 6,
   "outputs": [
    {
     "name": "stderr",
     "output_type": "stream",
     "text": [
      "\u001B[32m2023-08-28 10:51:47.733\u001B[0m | \u001B[1mINFO    \u001B[0m | \u001B[36mXQuant.Utils\u001B[0m:\u001B[36msearch_keyword\u001B[0m:\u001B[36m608\u001B[0m - \u001B[1m缓存文件被保存至E:\\yuankangrui\\XQuant\\XQuant\\Temp\\attrs.json\u001B[0m\n"
     ]
    },
    {
     "data": {
      "text/plain": "{'perCashDiv': ['EquDiv_info'],\n 'frPerCashDiv': ['EquDiv_info'],\n 'PE': ['MktEqud', 'MktEqudEval', 'FdmtIndiPSPit'],\n 'perCashDivAfTax': ['EquDiv_info'],\n 'frPerCashDivAfTax': ['EquDiv_info']}"
     },
     "execution_count": 6,
     "metadata": {},
     "output_type": "execute_result"
    }
   ],
   "source": [
    "Tools.search_keyword('perCashDiv')"
   ],
   "metadata": {
    "collapsed": false,
    "ExecuteTime": {
     "start_time": "2023-08-28T10:51:47.734896Z",
     "end_time": "2023-08-28T10:51:47.773029Z"
    }
   }
  }
 ],
 "metadata": {
  "kernelspec": {
   "display_name": "Python 3",
   "language": "python",
   "name": "python3"
  },
  "language_info": {
   "codemirror_mode": {
    "name": "ipython",
    "version": 2
   },
   "file_extension": ".py",
   "mimetype": "text/x-python",
   "name": "python",
   "nbconvert_exporter": "python",
   "pygments_lexer": "ipython2",
   "version": "2.7.6"
  }
 },
 "nbformat": 4,
 "nbformat_minor": 0
}
