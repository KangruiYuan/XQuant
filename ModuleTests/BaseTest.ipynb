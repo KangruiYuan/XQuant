{
 "cells": [
  {
   "cell_type": "code",
   "execution_count": 1,
   "outputs": [
    {
     "data": {
      "text/plain": "ticker      600000.SH  600001.SH  600002.SH  600003.SH     600004.SH  \\\n2020-01-02        NaN        NaN        NaN        NaN           NaN   \n2020-01-03        NaN        NaN        NaN        NaN           NaN   \n2020-01-06        NaN        NaN        NaN        NaN           NaN   \n2020-01-07        NaN        NaN        NaN        NaN           NaN   \n2020-01-08        NaN        NaN        NaN        NaN           NaN   \n...               ...        ...        ...        ...           ...   \n2023-09-08        NaN        NaN        NaN        NaN  3.368307e+08   \n2023-09-11        NaN        NaN        NaN        NaN  3.368307e+08   \n2023-09-12        NaN        NaN        NaN        NaN  3.368307e+08   \n2023-09-13        NaN        NaN        NaN        NaN  3.368307e+08   \n2023-09-14        NaN        NaN        NaN        NaN  3.368307e+08   \n\nticker      600005.SH   600006.SH    600007.SH     600008.SH  600009.SH  ...  \\\n2020-01-02        NaN         NaN          NaN           NaN        NaN  ...   \n2020-01-03        NaN         NaN          NaN           NaN        NaN  ...   \n2020-01-06        NaN         NaN          NaN           NaN        NaN  ...   \n2020-01-07        NaN         NaN          NaN           NaN        NaN  ...   \n2020-01-08        NaN         NaN          NaN           NaN        NaN  ...   \n...               ...         ...          ...           ...        ...  ...   \n2023-09-08        NaN  7754013.88  346973858.0  4.318289e+09  161913.76  ...   \n2023-09-11        NaN  7754013.88  346973858.0  4.318289e+09  161913.76  ...   \n2023-09-12        NaN  7754013.88  346973858.0  4.318289e+09  161913.76  ...   \n2023-09-13        NaN  7754013.88  346973858.0  4.318289e+09  161913.76  ...   \n2023-09-14        NaN  7754013.88  346973858.0  4.318289e+09  161913.76  ...   \n\nticker       301387.SZ   301388.SZ    301389.SZ    301391.SZ    301396.SZ  \\\n2020-01-02         NaN         NaN          NaN          NaN          NaN   \n2020-01-03         NaN         NaN          NaN          NaN          NaN   \n2020-01-06         NaN         NaN          NaN          NaN          NaN   \n2020-01-07         NaN         NaN          NaN          NaN          NaN   \n2020-01-08         NaN         NaN          NaN          NaN          NaN   \n...                ...         ...          ...          ...          ...   \n2023-09-08  9905947.59  24540889.2 -16840962.84  5752784.885  10618303.76   \n2023-09-11  9905947.59  24540889.2 -16840962.84  5752784.885  10618303.76   \n2023-09-12  9905947.59  24540889.2 -16840962.84  5752784.885  10618303.76   \n2023-09-13  9905947.59  24540889.2 -16840962.84  5752784.885  10618303.76   \n2023-09-14  9905947.59  24540889.2 -16840962.84  5752784.885  10618303.76   \n\nticker      301398.SZ    301408.SZ    301419.SZ     301429.SZ    301439.SZ  \n2020-01-02        NaN          NaN          NaN           NaN          NaN  \n2020-01-03        NaN          NaN          NaN           NaN          NaN  \n2020-01-06        NaN          NaN          NaN           NaN          NaN  \n2020-01-07        NaN          NaN          NaN           NaN          NaN  \n2020-01-08        NaN          NaN          NaN           NaN          NaN  \n...               ...          ...          ...           ...          ...  \n2023-09-08  202629.43  53170063.62  5034954.585  1.324419e+07  94005869.12  \n2023-09-11  202629.43  53170063.62  5034954.585  1.324419e+07  94005869.12  \n2023-09-12  202629.43  53170063.62  5034954.585  1.324419e+07  94005869.12  \n2023-09-13  202629.43  53170063.62  5034954.585  1.324419e+07  94005869.12  \n2023-09-14  202629.43  53170063.62  5034954.585  1.324419e+07  94005869.12  \n\n[900 rows x 5291 columns]",
      "text/html": "<div>\n<style scoped>\n    .dataframe tbody tr th:only-of-type {\n        vertical-align: middle;\n    }\n\n    .dataframe tbody tr th {\n        vertical-align: top;\n    }\n\n    .dataframe thead th {\n        text-align: right;\n    }\n</style>\n<table border=\"1\" class=\"dataframe\">\n  <thead>\n    <tr style=\"text-align: right;\">\n      <th>ticker</th>\n      <th>600000.SH</th>\n      <th>600001.SH</th>\n      <th>600002.SH</th>\n      <th>600003.SH</th>\n      <th>600004.SH</th>\n      <th>600005.SH</th>\n      <th>600006.SH</th>\n      <th>600007.SH</th>\n      <th>600008.SH</th>\n      <th>600009.SH</th>\n      <th>...</th>\n      <th>301387.SZ</th>\n      <th>301388.SZ</th>\n      <th>301389.SZ</th>\n      <th>301391.SZ</th>\n      <th>301396.SZ</th>\n      <th>301398.SZ</th>\n      <th>301408.SZ</th>\n      <th>301419.SZ</th>\n      <th>301429.SZ</th>\n      <th>301439.SZ</th>\n    </tr>\n  </thead>\n  <tbody>\n    <tr>\n      <th>2020-01-02</th>\n      <td>NaN</td>\n      <td>NaN</td>\n      <td>NaN</td>\n      <td>NaN</td>\n      <td>NaN</td>\n      <td>NaN</td>\n      <td>NaN</td>\n      <td>NaN</td>\n      <td>NaN</td>\n      <td>NaN</td>\n      <td>...</td>\n      <td>NaN</td>\n      <td>NaN</td>\n      <td>NaN</td>\n      <td>NaN</td>\n      <td>NaN</td>\n      <td>NaN</td>\n      <td>NaN</td>\n      <td>NaN</td>\n      <td>NaN</td>\n      <td>NaN</td>\n    </tr>\n    <tr>\n      <th>2020-01-03</th>\n      <td>NaN</td>\n      <td>NaN</td>\n      <td>NaN</td>\n      <td>NaN</td>\n      <td>NaN</td>\n      <td>NaN</td>\n      <td>NaN</td>\n      <td>NaN</td>\n      <td>NaN</td>\n      <td>NaN</td>\n      <td>...</td>\n      <td>NaN</td>\n      <td>NaN</td>\n      <td>NaN</td>\n      <td>NaN</td>\n      <td>NaN</td>\n      <td>NaN</td>\n      <td>NaN</td>\n      <td>NaN</td>\n      <td>NaN</td>\n      <td>NaN</td>\n    </tr>\n    <tr>\n      <th>2020-01-06</th>\n      <td>NaN</td>\n      <td>NaN</td>\n      <td>NaN</td>\n      <td>NaN</td>\n      <td>NaN</td>\n      <td>NaN</td>\n      <td>NaN</td>\n      <td>NaN</td>\n      <td>NaN</td>\n      <td>NaN</td>\n      <td>...</td>\n      <td>NaN</td>\n      <td>NaN</td>\n      <td>NaN</td>\n      <td>NaN</td>\n      <td>NaN</td>\n      <td>NaN</td>\n      <td>NaN</td>\n      <td>NaN</td>\n      <td>NaN</td>\n      <td>NaN</td>\n    </tr>\n    <tr>\n      <th>2020-01-07</th>\n      <td>NaN</td>\n      <td>NaN</td>\n      <td>NaN</td>\n      <td>NaN</td>\n      <td>NaN</td>\n      <td>NaN</td>\n      <td>NaN</td>\n      <td>NaN</td>\n      <td>NaN</td>\n      <td>NaN</td>\n      <td>...</td>\n      <td>NaN</td>\n      <td>NaN</td>\n      <td>NaN</td>\n      <td>NaN</td>\n      <td>NaN</td>\n      <td>NaN</td>\n      <td>NaN</td>\n      <td>NaN</td>\n      <td>NaN</td>\n      <td>NaN</td>\n    </tr>\n    <tr>\n      <th>2020-01-08</th>\n      <td>NaN</td>\n      <td>NaN</td>\n      <td>NaN</td>\n      <td>NaN</td>\n      <td>NaN</td>\n      <td>NaN</td>\n      <td>NaN</td>\n      <td>NaN</td>\n      <td>NaN</td>\n      <td>NaN</td>\n      <td>...</td>\n      <td>NaN</td>\n      <td>NaN</td>\n      <td>NaN</td>\n      <td>NaN</td>\n      <td>NaN</td>\n      <td>NaN</td>\n      <td>NaN</td>\n      <td>NaN</td>\n      <td>NaN</td>\n      <td>NaN</td>\n    </tr>\n    <tr>\n      <th>...</th>\n      <td>...</td>\n      <td>...</td>\n      <td>...</td>\n      <td>...</td>\n      <td>...</td>\n      <td>...</td>\n      <td>...</td>\n      <td>...</td>\n      <td>...</td>\n      <td>...</td>\n      <td>...</td>\n      <td>...</td>\n      <td>...</td>\n      <td>...</td>\n      <td>...</td>\n      <td>...</td>\n      <td>...</td>\n      <td>...</td>\n      <td>...</td>\n      <td>...</td>\n      <td>...</td>\n    </tr>\n    <tr>\n      <th>2023-09-08</th>\n      <td>NaN</td>\n      <td>NaN</td>\n      <td>NaN</td>\n      <td>NaN</td>\n      <td>3.368307e+08</td>\n      <td>NaN</td>\n      <td>7754013.88</td>\n      <td>346973858.0</td>\n      <td>4.318289e+09</td>\n      <td>161913.76</td>\n      <td>...</td>\n      <td>9905947.59</td>\n      <td>24540889.2</td>\n      <td>-16840962.84</td>\n      <td>5752784.885</td>\n      <td>10618303.76</td>\n      <td>202629.43</td>\n      <td>53170063.62</td>\n      <td>5034954.585</td>\n      <td>1.324419e+07</td>\n      <td>94005869.12</td>\n    </tr>\n    <tr>\n      <th>2023-09-11</th>\n      <td>NaN</td>\n      <td>NaN</td>\n      <td>NaN</td>\n      <td>NaN</td>\n      <td>3.368307e+08</td>\n      <td>NaN</td>\n      <td>7754013.88</td>\n      <td>346973858.0</td>\n      <td>4.318289e+09</td>\n      <td>161913.76</td>\n      <td>...</td>\n      <td>9905947.59</td>\n      <td>24540889.2</td>\n      <td>-16840962.84</td>\n      <td>5752784.885</td>\n      <td>10618303.76</td>\n      <td>202629.43</td>\n      <td>53170063.62</td>\n      <td>5034954.585</td>\n      <td>1.324419e+07</td>\n      <td>94005869.12</td>\n    </tr>\n    <tr>\n      <th>2023-09-12</th>\n      <td>NaN</td>\n      <td>NaN</td>\n      <td>NaN</td>\n      <td>NaN</td>\n      <td>3.368307e+08</td>\n      <td>NaN</td>\n      <td>7754013.88</td>\n      <td>346973858.0</td>\n      <td>4.318289e+09</td>\n      <td>161913.76</td>\n      <td>...</td>\n      <td>9905947.59</td>\n      <td>24540889.2</td>\n      <td>-16840962.84</td>\n      <td>5752784.885</td>\n      <td>10618303.76</td>\n      <td>202629.43</td>\n      <td>53170063.62</td>\n      <td>5034954.585</td>\n      <td>1.324419e+07</td>\n      <td>94005869.12</td>\n    </tr>\n    <tr>\n      <th>2023-09-13</th>\n      <td>NaN</td>\n      <td>NaN</td>\n      <td>NaN</td>\n      <td>NaN</td>\n      <td>3.368307e+08</td>\n      <td>NaN</td>\n      <td>7754013.88</td>\n      <td>346973858.0</td>\n      <td>4.318289e+09</td>\n      <td>161913.76</td>\n      <td>...</td>\n      <td>9905947.59</td>\n      <td>24540889.2</td>\n      <td>-16840962.84</td>\n      <td>5752784.885</td>\n      <td>10618303.76</td>\n      <td>202629.43</td>\n      <td>53170063.62</td>\n      <td>5034954.585</td>\n      <td>1.324419e+07</td>\n      <td>94005869.12</td>\n    </tr>\n    <tr>\n      <th>2023-09-14</th>\n      <td>NaN</td>\n      <td>NaN</td>\n      <td>NaN</td>\n      <td>NaN</td>\n      <td>3.368307e+08</td>\n      <td>NaN</td>\n      <td>7754013.88</td>\n      <td>346973858.0</td>\n      <td>4.318289e+09</td>\n      <td>161913.76</td>\n      <td>...</td>\n      <td>9905947.59</td>\n      <td>24540889.2</td>\n      <td>-16840962.84</td>\n      <td>5752784.885</td>\n      <td>10618303.76</td>\n      <td>202629.43</td>\n      <td>53170063.62</td>\n      <td>5034954.585</td>\n      <td>1.324419e+07</td>\n      <td>94005869.12</td>\n    </tr>\n  </tbody>\n</table>\n<p>900 rows × 5291 columns</p>\n</div>"
     },
     "execution_count": 1,
     "metadata": {},
     "output_type": "execute_result"
    }
   ],
   "source": [
    "from XQuant import BackTestRunner, BackTestOptions, BARRA, Basic, BARRA\n",
    "from XQuant import Strategy, DataAPI, Config, Tools, DataReady, EnhancingDividend, Formatter, TradeDate\n",
    "import pandas as pd\n",
    "import numpy as np\n",
    "import statsmodels.api as sm\n",
    "\n",
    "ed = Basic(begin='20200101')\n",
    "df = ed.financial_expense_ttm\n",
    "df"
   ],
   "metadata": {
    "collapsed": false,
    "ExecuteTime": {
     "start_time": "2023-09-14T21:40:24.890044Z",
     "end_time": "2023-09-14T21:40:27.363648Z"
    }
   }
  },
  {
   "cell_type": "code",
   "execution_count": 3,
   "outputs": [
    {
     "name": "stderr",
     "output_type": "stream",
     "text": [
      "\u001B[32m2023-09-14 21:39:21.328\u001B[0m | \u001B[1mINFO    \u001B[0m | \u001B[36mXQuant.Utils\u001B[0m:\u001B[36msearch_keyword\u001B[0m:\u001B[36m647\u001B[0m - \u001B[1m缓存文件被保存至E:\\yuankangrui\\XQuant\\XQuant\\Temp\\attrs.json\u001B[0m\n"
     ]
    },
    {
     "data": {
      "text/plain": "{'fin_exp': ['fundamentals_cashflow',\n  'financial_sheet',\n  'market_financial_sheet']}"
     },
     "execution_count": 3,
     "metadata": {},
     "output_type": "execute_result"
    }
   ],
   "source": [
    "Tools.search_keyword('fin_exp', limit=100, fuzzy=False)"
   ],
   "metadata": {
    "collapsed": false,
    "ExecuteTime": {
     "start_time": "2023-09-14T21:39:21.329004Z",
     "end_time": "2023-09-14T21:39:21.341045Z"
    }
   }
  },
  {
   "cell_type": "code",
   "execution_count": null,
   "outputs": [],
   "source": [
    "Config.datatables['fundamentals_balance']"
   ],
   "metadata": {
    "collapsed": false,
    "ExecuteTime": {
     "start_time": "2023-09-07T23:46:52.835583Z",
     "end_time": "2023-09-07T23:46:52.852999Z"
    }
   }
  },
  {
   "cell_type": "code",
   "execution_count": null,
   "outputs": [],
   "source": [
    "df = DataAPI.get_data('fundamentals_balance', begin='20220101')\n",
    "df"
   ],
   "metadata": {
    "collapsed": false,
    "ExecuteTime": {
     "start_time": "2023-09-13T00:11:34.517959Z",
     "end_time": "2023-09-13T00:11:34.700258Z"
    }
   }
  },
  {
   "cell_type": "code",
   "execution_count": null,
   "outputs": [],
   "source": [
    "df = df.pivot(index='pub_date', values='sur_rsv', columns='symbol')\n",
    "df"
   ],
   "metadata": {
    "collapsed": false,
    "ExecuteTime": {
     "start_time": "2023-09-13T00:11:49.044911Z",
     "end_time": "2023-09-13T00:11:49.071719Z"
    }
   }
  },
  {
   "cell_type": "code",
   "execution_count": null,
   "outputs": [],
   "source": [
    "df.groupby(pd.Grouper(freq=\"Q\")).mean().rolling(window=4).sum()"
   ],
   "metadata": {
    "collapsed": false,
    "ExecuteTime": {
     "start_time": "2023-09-08T22:37:41.202870Z",
     "end_time": "2023-09-08T22:37:41.363403Z"
    }
   }
  },
  {
   "cell_type": "code",
   "execution_count": null,
   "outputs": [],
   "source": [
    "from typing import Sequence\n",
    "import statsmodels.api as sm\n",
    "def ACF(series:Sequence,  nlags: int = 10, **kwargs):\n",
    "    \"\"\"\n",
    "    根据弱平稳性质$σ_s=σ_t$，有$ρ_k=(∑_t^T((X_t-\\overline{X_t}))(X_s-\\overline{X_s }))/(∑_t^Tσ_t^2 )$，则$ρ_1,ρ_2,…$称为时间序列$X_t$的样本自相关系数ACF。\n",
    "    自相关系数呈指数的速度锐减，始终有非零取值，不会在k大于某个常数之后就恒等于零，这个性质就是平稳$AR(p) $模型的自相关系数$ρ_k$具有拖尾性。\n",
    "    当自相关函数中所有的值都为0时，我们认为该序列是完全不相关的；因此，我们经常需要检验多个自相关系数是否为0。<br>\n",
    "    混成检验：<br>\n",
    "    原假设$H_0：ρ_1=⋯=ρ_m=0$<br>\n",
    "    统计量：$Q(m)=T(T+2)∑_k^m{\\frac{(ρ_k)^2}{(T-k)}}$<br>\n",
    "    $Q(m)$渐进服从自由度为m的$χ^2$分布，如果$Q(m)>χ_α^2$，即Q(m)统计量的$pvalue≤显著性水平α，则拒绝H_0。$<br>\n",
    "    :param series:\n",
    "    :param nlags:\n",
    "    :param kwargs:\n",
    "    :return:\n",
    "    \"\"\"\n",
    "    if not isinstance(series, np.ndarray):\n",
    "        series = np.array(series)\n",
    "    acf,q,p= sm.tsa.acf(x=series, nlags=nlags, qstat=True)\n",
    "    out = np.c_[range(1,nlags+1), acf[1:], q, p]\n",
    "    output=pd.DataFrame(out, columns=['lag', \"AC\", \"Q\", \"P-value\"])\n",
    "    output = output.set_index('lag')\n",
    "    if all(p < 0.05):\n",
    "        print(\"所有的p-value都小于0.05，拒绝原假设H_0，认为该序列是序列相关的\")\n",
    "    return output\n",
    "\n",
    "ACF(series=ed.close.iloc[:,0])"
   ],
   "metadata": {
    "collapsed": false,
    "ExecuteTime": {
     "start_time": "2023-09-02T23:08:46.452377Z",
     "end_time": "2023-09-02T23:08:46.471444Z"
    }
   }
  },
  {
   "cell_type": "code",
   "execution_count": null,
   "outputs": [],
   "source": [
    "import statsmodels.tsa.api as smt\n",
    "import statsmodels.formula.api as smf\n",
    "from statsmodels.tsa.ar_model import AutoReg as AR\n",
    "import scipy.stats as scs\n",
    "from arch import arch_model\n",
    "import matplotlib.pyplot as plt"
   ],
   "metadata": {
    "collapsed": false,
    "ExecuteTime": {
     "start_time": "2023-09-02T23:48:44.456132Z",
     "end_time": "2023-09-02T23:48:44.468174Z"
    }
   }
  },
  {
   "cell_type": "code",
   "execution_count": null,
   "outputs": [],
   "source": [
    "def tsplot(\n",
    "        y:Sequence,\n",
    "        diff: bool = False,\n",
    "        nlags:int=30, figsize:tuple[int, int] =(8, 8), style='bmh', **kwargs):\n",
    "    if not isinstance(y, pd.Series):\n",
    "        y = pd.Series(y)\n",
    "    if diff:\n",
    "        y = y.diff(1).dropna()\n",
    "\n",
    "    with plt.style.context(style):\n",
    "        fig = plt.figure(figsize=figsize)\n",
    "        layout = (3, 2)\n",
    "        ts_ax = plt.subplot2grid(layout, (0, 0), colspan=2)\n",
    "        acf_ax = plt.subplot2grid(layout, (1, 0))\n",
    "        pacf_ax = plt.subplot2grid(layout, (1, 1))\n",
    "        qq_ax = plt.subplot2grid(layout, (2, 0))\n",
    "        pp_ax = plt.subplot2grid(layout, (2, 1))\n",
    "\n",
    "        y.plot(ax=ts_ax)\n",
    "        ts_ax.set_title('Time Series Analysis')\n",
    "        smt.graphics.plot_acf(y, lags=nlags, ax=acf_ax, alpha=0.05,title='ACF')\n",
    "        smt.graphics.plot_pacf(y, lags=nlags, ax=pacf_ax, alpha=0.05,title='PACF')\n",
    "        sm.qqplot(y, line='s', ax=qq_ax)\n",
    "        qq_ax.set_title('QQ Plot')\n",
    "        scs.probplot(y, sparams=(y.mean(), y.std()), plot=pp_ax)\n",
    "        plt.tight_layout()\n",
    "        plt.show()\n",
    "\n",
    "tsplot(ed.close.iloc[:,0], lags=30, diff=True)"
   ],
   "metadata": {
    "collapsed": false,
    "ExecuteTime": {
     "start_time": "2023-09-02T23:55:27.666751Z",
     "end_time": "2023-09-02T23:55:28.009934Z"
    }
   }
  },
  {
   "cell_type": "code",
   "execution_count": null,
   "outputs": [],
   "source": [
    "est_order = statsmodels.tsa.ar_model.ar_select_order(ed.close.iloc[:,0].values, maxlag=30, ic='aic')\n",
    "est_order.ar_lags"
   ],
   "metadata": {
    "collapsed": false,
    "ExecuteTime": {
     "start_time": "2023-09-03T00:05:08.269992Z",
     "end_time": "2023-09-03T00:05:08.308125Z"
    }
   }
  },
  {
   "cell_type": "code",
   "execution_count": null,
   "outputs": [],
   "source": [
    "import statsmodels\n",
    "max_lag = 30\n",
    "mdl = sm.tsa.ARIMA(ed.close.iloc[:,0].values, order=(16, 1, 1)).fit()\n",
    "print(mdl.summary())"
   ],
   "metadata": {
    "collapsed": false,
    "ExecuteTime": {
     "start_time": "2023-09-03T00:15:16.161348Z",
     "end_time": "2023-09-03T00:15:18.837131Z"
    }
   }
  }
 ],
 "metadata": {
  "kernelspec": {
   "display_name": "Python 3",
   "language": "python",
   "name": "python3"
  },
  "language_info": {
   "codemirror_mode": {
    "name": "ipython",
    "version": 2
   },
   "file_extension": ".py",
   "mimetype": "text/x-python",
   "name": "python",
   "nbconvert_exporter": "python",
   "pygments_lexer": "ipython2",
   "version": "2.7.6"
  }
 },
 "nbformat": 4,
 "nbformat_minor": 0
}
