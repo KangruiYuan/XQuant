{
 "cells": [
  {
   "cell_type": "code",
   "execution_count": 1,
   "outputs": [
    {
     "data": {
      "text/plain": "ticker      000001.SZ  000002.SZ  000003.SZ  000004.SZ  000005.SZ  000006.SZ  \\\n2019-01-02        NaN        NaN        NaN        NaN        NaN        NaN   \n2019-01-03        NaN        NaN        NaN        NaN        NaN        NaN   \n2019-01-04        NaN        NaN        NaN        NaN        NaN        NaN   \n2019-01-07        NaN        NaN        NaN        NaN        NaN        NaN   \n2019-01-08        NaN        NaN        NaN        NaN        NaN        NaN   \n...               ...        ...        ...        ...        ...        ...   \n2023-09-13        NaN        NaN        NaN        NaN        NaN        NaN   \n2023-09-14        NaN        NaN        NaN        NaN        NaN        NaN   \n2023-09-15        NaN        NaN        NaN        NaN        NaN        NaN   \n2023-09-18        NaN        NaN        NaN        NaN        NaN        NaN   \n2023-09-19        NaN        NaN        NaN        NaN        NaN        NaN   \n\nticker      000007.SZ  000008.SZ  000009.SZ  000010.SZ  ...  900947.SH  \\\n2019-01-02        NaN        NaN        NaN        NaN  ...        NaN   \n2019-01-03        NaN        NaN        NaN        NaN  ...        NaN   \n2019-01-04        NaN        NaN        NaN        NaN  ...        NaN   \n2019-01-07        NaN        NaN        NaN        NaN  ...        NaN   \n2019-01-08        NaN        NaN        NaN        NaN  ...        NaN   \n...               ...        ...        ...        ...  ...        ...   \n2023-09-13        NaN        NaN        NaN        NaN  ...        NaN   \n2023-09-14        NaN        NaN        NaN        NaN  ...        NaN   \n2023-09-15        NaN        NaN        NaN        NaN  ...        NaN   \n2023-09-18        NaN        NaN        NaN        NaN  ...        NaN   \n2023-09-19        NaN        NaN        NaN        NaN  ...        NaN   \n\nticker      900948.SH  900949.SH  900950.SH  900951.SH  900952.SH  900953.SH  \\\n2019-01-02        NaN        NaN        NaN        NaN        NaN        NaN   \n2019-01-03        NaN        NaN        NaN        NaN        NaN        NaN   \n2019-01-04        NaN        NaN        NaN        NaN        NaN        NaN   \n2019-01-07        NaN        NaN        NaN        NaN        NaN        NaN   \n2019-01-08        NaN        NaN        NaN        NaN        NaN        NaN   \n...               ...        ...        ...        ...        ...        ...   \n2023-09-13        NaN        NaN        NaN        NaN        NaN        NaN   \n2023-09-14        NaN        NaN        NaN        NaN        NaN        NaN   \n2023-09-15        NaN        NaN        NaN        NaN        NaN        NaN   \n2023-09-18        NaN        NaN        NaN        NaN        NaN        NaN   \n2023-09-19        NaN        NaN        NaN        NaN        NaN        NaN   \n\nticker      900955.SH  900956.SH  900957.SH  \n2019-01-02        NaN        NaN        NaN  \n2019-01-03        NaN        NaN        NaN  \n2019-01-04        NaN        NaN        NaN  \n2019-01-07        NaN        NaN        NaN  \n2019-01-08        NaN        NaN        NaN  \n...               ...        ...        ...  \n2023-09-13        NaN        NaN        NaN  \n2023-09-14        NaN        NaN        NaN  \n2023-09-15        NaN        NaN        NaN  \n2023-09-18        NaN        NaN        NaN  \n2023-09-19        NaN        NaN        NaN  \n\n[1147 rows x 5291 columns]",
      "text/html": "<div>\n<style scoped>\n    .dataframe tbody tr th:only-of-type {\n        vertical-align: middle;\n    }\n\n    .dataframe tbody tr th {\n        vertical-align: top;\n    }\n\n    .dataframe thead th {\n        text-align: right;\n    }\n</style>\n<table border=\"1\" class=\"dataframe\">\n  <thead>\n    <tr style=\"text-align: right;\">\n      <th>ticker</th>\n      <th>000001.SZ</th>\n      <th>000002.SZ</th>\n      <th>000003.SZ</th>\n      <th>000004.SZ</th>\n      <th>000005.SZ</th>\n      <th>000006.SZ</th>\n      <th>000007.SZ</th>\n      <th>000008.SZ</th>\n      <th>000009.SZ</th>\n      <th>000010.SZ</th>\n      <th>...</th>\n      <th>900947.SH</th>\n      <th>900948.SH</th>\n      <th>900949.SH</th>\n      <th>900950.SH</th>\n      <th>900951.SH</th>\n      <th>900952.SH</th>\n      <th>900953.SH</th>\n      <th>900955.SH</th>\n      <th>900956.SH</th>\n      <th>900957.SH</th>\n    </tr>\n  </thead>\n  <tbody>\n    <tr>\n      <th>2019-01-02</th>\n      <td>NaN</td>\n      <td>NaN</td>\n      <td>NaN</td>\n      <td>NaN</td>\n      <td>NaN</td>\n      <td>NaN</td>\n      <td>NaN</td>\n      <td>NaN</td>\n      <td>NaN</td>\n      <td>NaN</td>\n      <td>...</td>\n      <td>NaN</td>\n      <td>NaN</td>\n      <td>NaN</td>\n      <td>NaN</td>\n      <td>NaN</td>\n      <td>NaN</td>\n      <td>NaN</td>\n      <td>NaN</td>\n      <td>NaN</td>\n      <td>NaN</td>\n    </tr>\n    <tr>\n      <th>2019-01-03</th>\n      <td>NaN</td>\n      <td>NaN</td>\n      <td>NaN</td>\n      <td>NaN</td>\n      <td>NaN</td>\n      <td>NaN</td>\n      <td>NaN</td>\n      <td>NaN</td>\n      <td>NaN</td>\n      <td>NaN</td>\n      <td>...</td>\n      <td>NaN</td>\n      <td>NaN</td>\n      <td>NaN</td>\n      <td>NaN</td>\n      <td>NaN</td>\n      <td>NaN</td>\n      <td>NaN</td>\n      <td>NaN</td>\n      <td>NaN</td>\n      <td>NaN</td>\n    </tr>\n    <tr>\n      <th>2019-01-04</th>\n      <td>NaN</td>\n      <td>NaN</td>\n      <td>NaN</td>\n      <td>NaN</td>\n      <td>NaN</td>\n      <td>NaN</td>\n      <td>NaN</td>\n      <td>NaN</td>\n      <td>NaN</td>\n      <td>NaN</td>\n      <td>...</td>\n      <td>NaN</td>\n      <td>NaN</td>\n      <td>NaN</td>\n      <td>NaN</td>\n      <td>NaN</td>\n      <td>NaN</td>\n      <td>NaN</td>\n      <td>NaN</td>\n      <td>NaN</td>\n      <td>NaN</td>\n    </tr>\n    <tr>\n      <th>2019-01-07</th>\n      <td>NaN</td>\n      <td>NaN</td>\n      <td>NaN</td>\n      <td>NaN</td>\n      <td>NaN</td>\n      <td>NaN</td>\n      <td>NaN</td>\n      <td>NaN</td>\n      <td>NaN</td>\n      <td>NaN</td>\n      <td>...</td>\n      <td>NaN</td>\n      <td>NaN</td>\n      <td>NaN</td>\n      <td>NaN</td>\n      <td>NaN</td>\n      <td>NaN</td>\n      <td>NaN</td>\n      <td>NaN</td>\n      <td>NaN</td>\n      <td>NaN</td>\n    </tr>\n    <tr>\n      <th>2019-01-08</th>\n      <td>NaN</td>\n      <td>NaN</td>\n      <td>NaN</td>\n      <td>NaN</td>\n      <td>NaN</td>\n      <td>NaN</td>\n      <td>NaN</td>\n      <td>NaN</td>\n      <td>NaN</td>\n      <td>NaN</td>\n      <td>...</td>\n      <td>NaN</td>\n      <td>NaN</td>\n      <td>NaN</td>\n      <td>NaN</td>\n      <td>NaN</td>\n      <td>NaN</td>\n      <td>NaN</td>\n      <td>NaN</td>\n      <td>NaN</td>\n      <td>NaN</td>\n    </tr>\n    <tr>\n      <th>...</th>\n      <td>...</td>\n      <td>...</td>\n      <td>...</td>\n      <td>...</td>\n      <td>...</td>\n      <td>...</td>\n      <td>...</td>\n      <td>...</td>\n      <td>...</td>\n      <td>...</td>\n      <td>...</td>\n      <td>...</td>\n      <td>...</td>\n      <td>...</td>\n      <td>...</td>\n      <td>...</td>\n      <td>...</td>\n      <td>...</td>\n      <td>...</td>\n      <td>...</td>\n      <td>...</td>\n    </tr>\n    <tr>\n      <th>2023-09-13</th>\n      <td>NaN</td>\n      <td>NaN</td>\n      <td>NaN</td>\n      <td>NaN</td>\n      <td>NaN</td>\n      <td>NaN</td>\n      <td>NaN</td>\n      <td>NaN</td>\n      <td>NaN</td>\n      <td>NaN</td>\n      <td>...</td>\n      <td>NaN</td>\n      <td>NaN</td>\n      <td>NaN</td>\n      <td>NaN</td>\n      <td>NaN</td>\n      <td>NaN</td>\n      <td>NaN</td>\n      <td>NaN</td>\n      <td>NaN</td>\n      <td>NaN</td>\n    </tr>\n    <tr>\n      <th>2023-09-14</th>\n      <td>NaN</td>\n      <td>NaN</td>\n      <td>NaN</td>\n      <td>NaN</td>\n      <td>NaN</td>\n      <td>NaN</td>\n      <td>NaN</td>\n      <td>NaN</td>\n      <td>NaN</td>\n      <td>NaN</td>\n      <td>...</td>\n      <td>NaN</td>\n      <td>NaN</td>\n      <td>NaN</td>\n      <td>NaN</td>\n      <td>NaN</td>\n      <td>NaN</td>\n      <td>NaN</td>\n      <td>NaN</td>\n      <td>NaN</td>\n      <td>NaN</td>\n    </tr>\n    <tr>\n      <th>2023-09-15</th>\n      <td>NaN</td>\n      <td>NaN</td>\n      <td>NaN</td>\n      <td>NaN</td>\n      <td>NaN</td>\n      <td>NaN</td>\n      <td>NaN</td>\n      <td>NaN</td>\n      <td>NaN</td>\n      <td>NaN</td>\n      <td>...</td>\n      <td>NaN</td>\n      <td>NaN</td>\n      <td>NaN</td>\n      <td>NaN</td>\n      <td>NaN</td>\n      <td>NaN</td>\n      <td>NaN</td>\n      <td>NaN</td>\n      <td>NaN</td>\n      <td>NaN</td>\n    </tr>\n    <tr>\n      <th>2023-09-18</th>\n      <td>NaN</td>\n      <td>NaN</td>\n      <td>NaN</td>\n      <td>NaN</td>\n      <td>NaN</td>\n      <td>NaN</td>\n      <td>NaN</td>\n      <td>NaN</td>\n      <td>NaN</td>\n      <td>NaN</td>\n      <td>...</td>\n      <td>NaN</td>\n      <td>NaN</td>\n      <td>NaN</td>\n      <td>NaN</td>\n      <td>NaN</td>\n      <td>NaN</td>\n      <td>NaN</td>\n      <td>NaN</td>\n      <td>NaN</td>\n      <td>NaN</td>\n    </tr>\n    <tr>\n      <th>2023-09-19</th>\n      <td>NaN</td>\n      <td>NaN</td>\n      <td>NaN</td>\n      <td>NaN</td>\n      <td>NaN</td>\n      <td>NaN</td>\n      <td>NaN</td>\n      <td>NaN</td>\n      <td>NaN</td>\n      <td>NaN</td>\n      <td>...</td>\n      <td>NaN</td>\n      <td>NaN</td>\n      <td>NaN</td>\n      <td>NaN</td>\n      <td>NaN</td>\n      <td>NaN</td>\n      <td>NaN</td>\n      <td>NaN</td>\n      <td>NaN</td>\n      <td>NaN</td>\n    </tr>\n  </tbody>\n</table>\n<p>1147 rows × 5291 columns</p>\n</div>"
     },
     "execution_count": 1,
     "metadata": {},
     "output_type": "execute_result"
    }
   ],
   "source": [
    "from XQuant import BackTestRunner, BackTestOptions, BARRA, Basic, BARRA\n",
    "from XQuant import Strategy, DataAPI, Config, Tools, DataReady, EnhancingDividend, Formatter, TradeDate\n",
    "import pandas as pd\n",
    "import numpy as np\n",
    "import statsmodels.api as sm\n",
    "\n",
    "ed = Basic(begin='20190101')\n",
    "df = ed.EBITDA\n",
    "df"
   ],
   "metadata": {
    "collapsed": false,
    "ExecuteTime": {
     "start_time": "2023-09-17T11:43:31.370044Z",
     "end_time": "2023-09-17T11:43:38.143416Z"
    }
   }
  },
  {
   "cell_type": "code",
   "execution_count": 2,
   "outputs": [
    {
     "name": "stderr",
     "output_type": "stream",
     "text": [
      "\u001B[32m2023-09-17 11:43:03.185\u001B[0m | \u001B[1mINFO    \u001B[0m | \u001B[36mXQuant.Utils\u001B[0m:\u001B[36msearch_keyword\u001B[0m:\u001B[36m644\u001B[0m - \u001B[1m缓存文件被保存至E:\\yuankangrui\\XQuant\\XQuant\\Temp\\attrs.json\u001B[0m\n"
     ]
    },
    {
     "data": {
      "text/plain": "{'depr_oga_cba': ['fundamentals_cashflow',\n  'financial_sheet',\n  'market_financial_sheet']}"
     },
     "execution_count": 2,
     "metadata": {},
     "output_type": "execute_result"
    }
   ],
   "source": [
    "Tools.search_keyword('depr_oga_cba', limit=100, fuzzy=False)"
   ],
   "metadata": {
    "collapsed": false,
    "ExecuteTime": {
     "start_time": "2023-09-17T11:43:03.186125Z",
     "end_time": "2023-09-17T11:43:03.201178Z"
    }
   }
  },
  {
   "cell_type": "code",
   "execution_count": 2,
   "outputs": [
    {
     "data": {
      "text/plain": "{'assets': 'gm_stock',\n 'description': '',\n 'date_column': 'pub_date',\n 'ticker_column': 'symbol'}"
     },
     "execution_count": 2,
     "metadata": {},
     "output_type": "execute_result"
    }
   ],
   "source": [
    "Config.datatables['deriv_finance_indicator']"
   ],
   "metadata": {
    "collapsed": false
   }
  },
  {
   "cell_type": "code",
   "execution_count": 6,
   "outputs": [
    {
     "data": {
      "text/plain": "            symbol                  pub_date                  end_date  \\\n0      SHSE.600027 2022-03-26 00:00:00+08:00 2021-12-31 00:00:00+08:00   \n1      SHSE.600020 2022-04-16 00:00:00+08:00 2021-12-31 00:00:00+08:00   \n2      SHSE.600025 2022-04-23 00:00:00+08:00 2021-12-31 00:00:00+08:00   \n3      SHSE.600016 2022-03-30 00:00:00+08:00 2021-12-31 00:00:00+08:00   \n4      SHSE.600029 2022-03-31 00:00:00+08:00 2021-12-31 00:00:00+08:00   \n...            ...                       ...                       ...   \n25597  SZSE.301389 2023-04-27 00:00:00+08:00 2023-03-31 00:00:00+08:00   \n25598  SZSE.301408 2023-04-24 00:00:00+08:00 2023-03-31 00:00:00+08:00   \n25599  SZSE.301387 2023-04-28 00:00:00+08:00 2023-03-31 00:00:00+08:00   \n25600  SZSE.301386 2023-04-20 00:00:00+08:00 2023-03-31 00:00:00+08:00   \n25601  SZSE.301429 2023-04-27 00:00:00+08:00 2023-03-31 00:00:00+08:00   \n\n       CASHCONVCYCLE  NPTONOCONMS      REPS  COMPDEPRT  CAPEXTODEPANDAMOR  \\\n0           1.023362    73.495872  1.626116   4.526747           1.204799   \n1         356.699707   100.019814  3.144979   4.833482           0.225396   \n2          26.269999    92.944397  0.784875   3.081494           1.049978   \n3           0.000000    98.645737  6.737631  10.621029           1.277845   \n4         -26.239115   109.917358  0.154708   5.023830           1.809609   \n...              ...          ...       ...        ...                ...   \n25597     208.308182   100.000000  1.822629   0.000000           0.000000   \n25598      97.920464   101.115501  1.110476   0.000000           0.000000   \n25599     102.311928    98.784042  5.746607   0.000000           0.000000   \n25600     139.507782   100.000000  2.586305   0.000000           0.000000   \n25601      93.690964    99.921509  4.480202   0.000000           0.000000   \n\n       CAPIMORTCONMS  ASSLIABRT  ...  FINLEXPRT   TRIEXPRT  EQUTURNRT  \\\n0         257.127716  66.363045  ...   4.090321   5.817615   2.347045   \n1         328.032379  73.510208  ...  23.955301  27.929461   0.540942   \n2         237.045258  58.776878  ...  16.706619  18.774565   0.403878   \n3           0.000000  91.563972  ...   0.000000   0.000000   0.357638   \n4         338.396332  73.913757  ...   3.959899  12.490653   1.484265   \n...              ...        ...  ...        ...        ...        ...   \n25597       4.929801   2.254595  ... -27.707092 -15.660125   0.020378   \n25598      54.015827  48.580486  ...   0.559261  27.261366   0.602799   \n25599     104.909904  50.836819  ...   4.182614  14.804293   0.349223   \n25600      10.945191  10.185361  ...  -0.872476   7.549861   0.108673   \n25601      51.443161  18.655052  ...   1.179917   9.790075   0.303059   \n\n              TDEBT  CURRENTRT     TCEXPRT  SGPMARGIN  FAPROPORTION  \\\n0      1.187862e+11   0.450464  112.008926  -6.191312     62.783783   \n1      3.080167e+10   0.884139   86.723579  41.205879     26.348600   \n2      8.135342e+10   0.162074   64.145988  54.628574     90.376961   \n3      7.138800e+11   0.000000    0.000000  21.410629      0.798327   \n4      9.246000e+10   0.341165  115.033844  -2.543189     28.121244   \n...             ...        ...         ...        ...           ...   \n25597  5.342092e+06  46.641079   37.750450  46.589424      0.000000   \n25598  9.121777e+08   1.783679   94.747513  32.513851      0.000000   \n25599  3.751635e+08   1.059171   82.311615  32.492676      0.000000   \n25600  5.292088e+07   8.936991   79.420853  28.129011      0.000000   \n25601  4.585303e+07   3.372830   83.072411  26.717661      0.000000   \n\n       NDEBTTOEQU  EBITDAMARGIN  \n0        2.860219      6.497436  \n1        2.792991     68.808998  \n2        1.553422     80.376152  \n3        0.000000      0.000000  \n4        1.044412      2.430049  \n...           ...           ...  \n25597   -0.870085      0.000000  \n25598   -0.214480      0.000000  \n25599    0.455407      0.000000  \n25600   -0.723563      0.000000  \n25601   -0.205000      0.000000  \n\n[25602 rows x 172 columns]",
      "text/html": "<div>\n<style scoped>\n    .dataframe tbody tr th:only-of-type {\n        vertical-align: middle;\n    }\n\n    .dataframe tbody tr th {\n        vertical-align: top;\n    }\n\n    .dataframe thead th {\n        text-align: right;\n    }\n</style>\n<table border=\"1\" class=\"dataframe\">\n  <thead>\n    <tr style=\"text-align: right;\">\n      <th></th>\n      <th>symbol</th>\n      <th>pub_date</th>\n      <th>end_date</th>\n      <th>CASHCONVCYCLE</th>\n      <th>NPTONOCONMS</th>\n      <th>REPS</th>\n      <th>COMPDEPRT</th>\n      <th>CAPEXTODEPANDAMOR</th>\n      <th>CAPIMORTCONMS</th>\n      <th>ASSLIABRT</th>\n      <th>...</th>\n      <th>FINLEXPRT</th>\n      <th>TRIEXPRT</th>\n      <th>EQUTURNRT</th>\n      <th>TDEBT</th>\n      <th>CURRENTRT</th>\n      <th>TCEXPRT</th>\n      <th>SGPMARGIN</th>\n      <th>FAPROPORTION</th>\n      <th>NDEBTTOEQU</th>\n      <th>EBITDAMARGIN</th>\n    </tr>\n  </thead>\n  <tbody>\n    <tr>\n      <th>0</th>\n      <td>SHSE.600027</td>\n      <td>2022-03-26 00:00:00+08:00</td>\n      <td>2021-12-31 00:00:00+08:00</td>\n      <td>1.023362</td>\n      <td>73.495872</td>\n      <td>1.626116</td>\n      <td>4.526747</td>\n      <td>1.204799</td>\n      <td>257.127716</td>\n      <td>66.363045</td>\n      <td>...</td>\n      <td>4.090321</td>\n      <td>5.817615</td>\n      <td>2.347045</td>\n      <td>1.187862e+11</td>\n      <td>0.450464</td>\n      <td>112.008926</td>\n      <td>-6.191312</td>\n      <td>62.783783</td>\n      <td>2.860219</td>\n      <td>6.497436</td>\n    </tr>\n    <tr>\n      <th>1</th>\n      <td>SHSE.600020</td>\n      <td>2022-04-16 00:00:00+08:00</td>\n      <td>2021-12-31 00:00:00+08:00</td>\n      <td>356.699707</td>\n      <td>100.019814</td>\n      <td>3.144979</td>\n      <td>4.833482</td>\n      <td>0.225396</td>\n      <td>328.032379</td>\n      <td>73.510208</td>\n      <td>...</td>\n      <td>23.955301</td>\n      <td>27.929461</td>\n      <td>0.540942</td>\n      <td>3.080167e+10</td>\n      <td>0.884139</td>\n      <td>86.723579</td>\n      <td>41.205879</td>\n      <td>26.348600</td>\n      <td>2.792991</td>\n      <td>68.808998</td>\n    </tr>\n    <tr>\n      <th>2</th>\n      <td>SHSE.600025</td>\n      <td>2022-04-23 00:00:00+08:00</td>\n      <td>2021-12-31 00:00:00+08:00</td>\n      <td>26.269999</td>\n      <td>92.944397</td>\n      <td>0.784875</td>\n      <td>3.081494</td>\n      <td>1.049978</td>\n      <td>237.045258</td>\n      <td>58.776878</td>\n      <td>...</td>\n      <td>16.706619</td>\n      <td>18.774565</td>\n      <td>0.403878</td>\n      <td>8.135342e+10</td>\n      <td>0.162074</td>\n      <td>64.145988</td>\n      <td>54.628574</td>\n      <td>90.376961</td>\n      <td>1.553422</td>\n      <td>80.376152</td>\n    </tr>\n    <tr>\n      <th>3</th>\n      <td>SHSE.600016</td>\n      <td>2022-03-30 00:00:00+08:00</td>\n      <td>2021-12-31 00:00:00+08:00</td>\n      <td>0.000000</td>\n      <td>98.645737</td>\n      <td>6.737631</td>\n      <td>10.621029</td>\n      <td>1.277845</td>\n      <td>0.000000</td>\n      <td>91.563972</td>\n      <td>...</td>\n      <td>0.000000</td>\n      <td>0.000000</td>\n      <td>0.357638</td>\n      <td>7.138800e+11</td>\n      <td>0.000000</td>\n      <td>0.000000</td>\n      <td>21.410629</td>\n      <td>0.798327</td>\n      <td>0.000000</td>\n      <td>0.000000</td>\n    </tr>\n    <tr>\n      <th>4</th>\n      <td>SHSE.600029</td>\n      <td>2022-03-31 00:00:00+08:00</td>\n      <td>2021-12-31 00:00:00+08:00</td>\n      <td>-26.239115</td>\n      <td>109.917358</td>\n      <td>0.154708</td>\n      <td>5.023830</td>\n      <td>1.809609</td>\n      <td>338.396332</td>\n      <td>73.913757</td>\n      <td>...</td>\n      <td>3.959899</td>\n      <td>12.490653</td>\n      <td>1.484265</td>\n      <td>9.246000e+10</td>\n      <td>0.341165</td>\n      <td>115.033844</td>\n      <td>-2.543189</td>\n      <td>28.121244</td>\n      <td>1.044412</td>\n      <td>2.430049</td>\n    </tr>\n    <tr>\n      <th>...</th>\n      <td>...</td>\n      <td>...</td>\n      <td>...</td>\n      <td>...</td>\n      <td>...</td>\n      <td>...</td>\n      <td>...</td>\n      <td>...</td>\n      <td>...</td>\n      <td>...</td>\n      <td>...</td>\n      <td>...</td>\n      <td>...</td>\n      <td>...</td>\n      <td>...</td>\n      <td>...</td>\n      <td>...</td>\n      <td>...</td>\n      <td>...</td>\n      <td>...</td>\n      <td>...</td>\n    </tr>\n    <tr>\n      <th>25597</th>\n      <td>SZSE.301389</td>\n      <td>2023-04-27 00:00:00+08:00</td>\n      <td>2023-03-31 00:00:00+08:00</td>\n      <td>208.308182</td>\n      <td>100.000000</td>\n      <td>1.822629</td>\n      <td>0.000000</td>\n      <td>0.000000</td>\n      <td>4.929801</td>\n      <td>2.254595</td>\n      <td>...</td>\n      <td>-27.707092</td>\n      <td>-15.660125</td>\n      <td>0.020378</td>\n      <td>5.342092e+06</td>\n      <td>46.641079</td>\n      <td>37.750450</td>\n      <td>46.589424</td>\n      <td>0.000000</td>\n      <td>-0.870085</td>\n      <td>0.000000</td>\n    </tr>\n    <tr>\n      <th>25598</th>\n      <td>SZSE.301408</td>\n      <td>2023-04-24 00:00:00+08:00</td>\n      <td>2023-03-31 00:00:00+08:00</td>\n      <td>97.920464</td>\n      <td>101.115501</td>\n      <td>1.110476</td>\n      <td>0.000000</td>\n      <td>0.000000</td>\n      <td>54.015827</td>\n      <td>48.580486</td>\n      <td>...</td>\n      <td>0.559261</td>\n      <td>27.261366</td>\n      <td>0.602799</td>\n      <td>9.121777e+08</td>\n      <td>1.783679</td>\n      <td>94.747513</td>\n      <td>32.513851</td>\n      <td>0.000000</td>\n      <td>-0.214480</td>\n      <td>0.000000</td>\n    </tr>\n    <tr>\n      <th>25599</th>\n      <td>SZSE.301387</td>\n      <td>2023-04-28 00:00:00+08:00</td>\n      <td>2023-03-31 00:00:00+08:00</td>\n      <td>102.311928</td>\n      <td>98.784042</td>\n      <td>5.746607</td>\n      <td>0.000000</td>\n      <td>0.000000</td>\n      <td>104.909904</td>\n      <td>50.836819</td>\n      <td>...</td>\n      <td>4.182614</td>\n      <td>14.804293</td>\n      <td>0.349223</td>\n      <td>3.751635e+08</td>\n      <td>1.059171</td>\n      <td>82.311615</td>\n      <td>32.492676</td>\n      <td>0.000000</td>\n      <td>0.455407</td>\n      <td>0.000000</td>\n    </tr>\n    <tr>\n      <th>25600</th>\n      <td>SZSE.301386</td>\n      <td>2023-04-20 00:00:00+08:00</td>\n      <td>2023-03-31 00:00:00+08:00</td>\n      <td>139.507782</td>\n      <td>100.000000</td>\n      <td>2.586305</td>\n      <td>0.000000</td>\n      <td>0.000000</td>\n      <td>10.945191</td>\n      <td>10.185361</td>\n      <td>...</td>\n      <td>-0.872476</td>\n      <td>7.549861</td>\n      <td>0.108673</td>\n      <td>5.292088e+07</td>\n      <td>8.936991</td>\n      <td>79.420853</td>\n      <td>28.129011</td>\n      <td>0.000000</td>\n      <td>-0.723563</td>\n      <td>0.000000</td>\n    </tr>\n    <tr>\n      <th>25601</th>\n      <td>SZSE.301429</td>\n      <td>2023-04-27 00:00:00+08:00</td>\n      <td>2023-03-31 00:00:00+08:00</td>\n      <td>93.690964</td>\n      <td>99.921509</td>\n      <td>4.480202</td>\n      <td>0.000000</td>\n      <td>0.000000</td>\n      <td>51.443161</td>\n      <td>18.655052</td>\n      <td>...</td>\n      <td>1.179917</td>\n      <td>9.790075</td>\n      <td>0.303059</td>\n      <td>4.585303e+07</td>\n      <td>3.372830</td>\n      <td>83.072411</td>\n      <td>26.717661</td>\n      <td>0.000000</td>\n      <td>-0.205000</td>\n      <td>0.000000</td>\n    </tr>\n  </tbody>\n</table>\n<p>25602 rows × 172 columns</p>\n</div>"
     },
     "execution_count": 6,
     "metadata": {},
     "output_type": "execute_result"
    }
   ],
   "source": [
    "df = DataAPI.get_data('deriv_finance_indicator', begin='20220101')\n",
    "df"
   ],
   "metadata": {
    "collapsed": false,
    "ExecuteTime": {
     "start_time": "2023-09-16T10:02:50.985581Z",
     "end_time": "2023-09-16T10:02:51.110864Z"
    }
   }
  },
  {
   "cell_type": "code",
   "execution_count": 4,
   "outputs": [
    {
     "data": {
      "text/plain": "symbol                      SHSE.600000  SHSE.600004  SHSE.600006  \\\npub_date                                                            \n2022-01-05 00:00:00+08:00           NaN          NaN          NaN   \n2022-01-06 00:00:00+08:00           NaN          NaN          NaN   \n2022-01-07 00:00:00+08:00           NaN          NaN          NaN   \n2022-01-10 00:00:00+08:00           NaN          NaN          NaN   \n2022-01-12 00:00:00+08:00           NaN          NaN          NaN   \n...                                 ...          ...          ...   \n2023-04-27 00:00:00+08:00           NaN          NaN          NaN   \n2023-04-28 00:00:00+08:00           NaN          NaN          NaN   \n2023-04-29 00:00:00+08:00  9.214000e+09          NaN  126095072.0   \n2023-04-30 00:00:00+08:00           NaN          NaN          NaN   \n2023-05-10 00:00:00+08:00           NaN          NaN          NaN   \n\nsymbol                     SHSE.600007  SHSE.600008  SHSE.600009  SHSE.600010  \\\npub_date                                                                        \n2022-01-05 00:00:00+08:00          NaN          NaN          NaN          NaN   \n2022-01-06 00:00:00+08:00          NaN          NaN          NaN          NaN   \n2022-01-07 00:00:00+08:00          NaN          NaN          NaN          NaN   \n2022-01-10 00:00:00+08:00          NaN          NaN          NaN          NaN   \n2022-01-12 00:00:00+08:00          NaN          NaN          NaN          NaN   \n...                                ...          ...          ...          ...   \n2023-04-27 00:00:00+08:00          NaN          NaN          NaN          NaN   \n2023-04-28 00:00:00+08:00          NaN   -9579364.0          NaN  -68751776.0   \n2023-04-29 00:00:00+08:00     768509.0          NaN  176486512.0          NaN   \n2023-04-30 00:00:00+08:00          NaN          NaN          NaN          NaN   \n2023-05-10 00:00:00+08:00          NaN          NaN          NaN          NaN   \n\nsymbol                     SHSE.600011  SHSE.600012   SHSE.600015  ...  \\\npub_date                                                           ...   \n2022-01-05 00:00:00+08:00          NaN          NaN           NaN  ...   \n2022-01-06 00:00:00+08:00          NaN          NaN           NaN  ...   \n2022-01-07 00:00:00+08:00          NaN          NaN           NaN  ...   \n2022-01-10 00:00:00+08:00          NaN          NaN           NaN  ...   \n2022-01-12 00:00:00+08:00          NaN          NaN           NaN  ...   \n...                                ...          ...           ...  ...   \n2023-04-27 00:00:00+08:00          NaN          NaN           NaN  ...   \n2023-04-28 00:00:00+08:00          NaN  -12178203.0  8.552000e+09  ...   \n2023-04-29 00:00:00+08:00          NaN          NaN           NaN  ...   \n2023-04-30 00:00:00+08:00          NaN          NaN           NaN  ...   \n2023-05-10 00:00:00+08:00          NaN          NaN           NaN  ...   \n\nsymbol                     SZSE.301387  SZSE.301388  SZSE.301389  SZSE.301391  \\\npub_date                                                                        \n2022-01-05 00:00:00+08:00          NaN          NaN          NaN          NaN   \n2022-01-06 00:00:00+08:00          NaN          NaN          NaN          NaN   \n2022-01-07 00:00:00+08:00          NaN          NaN          NaN          NaN   \n2022-01-10 00:00:00+08:00          NaN          NaN          NaN          NaN   \n2022-01-12 00:00:00+08:00          NaN          NaN          NaN          NaN   \n...                                ...          ...          ...          ...   \n2023-04-27 00:00:00+08:00          NaN          NaN  1282670.125          NaN   \n2023-04-28 00:00:00+08:00  -668498.875          NaN          NaN          NaN   \n2023-04-29 00:00:00+08:00          NaN          NaN          NaN          NaN   \n2023-04-30 00:00:00+08:00          NaN          NaN          NaN          NaN   \n2023-05-10 00:00:00+08:00          NaN          NaN          NaN          NaN   \n\nsymbol                     SZSE.301396  SZSE.301398  SZSE.301408  SZSE.301419  \\\npub_date                                                                        \n2022-01-05 00:00:00+08:00          NaN          NaN          NaN          NaN   \n2022-01-06 00:00:00+08:00          NaN          NaN          NaN          NaN   \n2022-01-07 00:00:00+08:00          NaN          NaN          NaN          NaN   \n2022-01-10 00:00:00+08:00          NaN          NaN          NaN          NaN   \n2022-01-12 00:00:00+08:00          NaN          NaN          NaN          NaN   \n...                                ...          ...          ...          ...   \n2023-04-27 00:00:00+08:00          NaN  13016.69043          NaN          NaN   \n2023-04-28 00:00:00+08:00          0.0          NaN          NaN          NaN   \n2023-04-29 00:00:00+08:00          NaN          NaN          NaN          NaN   \n2023-04-30 00:00:00+08:00          NaN          NaN          NaN          NaN   \n2023-05-10 00:00:00+08:00          NaN          NaN          NaN          NaN   \n\nsymbol                     SZSE.301429  SZSE.301439  \npub_date                                             \n2022-01-05 00:00:00+08:00          NaN          NaN  \n2022-01-06 00:00:00+08:00          NaN          NaN  \n2022-01-07 00:00:00+08:00          NaN          NaN  \n2022-01-10 00:00:00+08:00          NaN          NaN  \n2022-01-12 00:00:00+08:00          NaN          NaN  \n...                                ...          ...  \n2023-04-27 00:00:00+08:00 -1107075.125          NaN  \n2023-04-28 00:00:00+08:00          NaN          NaN  \n2023-04-29 00:00:00+08:00          NaN          NaN  \n2023-04-30 00:00:00+08:00          NaN          NaN  \n2023-05-10 00:00:00+08:00          NaN          NaN  \n\n[341 rows x 5070 columns]",
      "text/html": "<div>\n<style scoped>\n    .dataframe tbody tr th:only-of-type {\n        vertical-align: middle;\n    }\n\n    .dataframe tbody tr th {\n        vertical-align: top;\n    }\n\n    .dataframe thead th {\n        text-align: right;\n    }\n</style>\n<table border=\"1\" class=\"dataframe\">\n  <thead>\n    <tr style=\"text-align: right;\">\n      <th>symbol</th>\n      <th>SHSE.600000</th>\n      <th>SHSE.600004</th>\n      <th>SHSE.600006</th>\n      <th>SHSE.600007</th>\n      <th>SHSE.600008</th>\n      <th>SHSE.600009</th>\n      <th>SHSE.600010</th>\n      <th>SHSE.600011</th>\n      <th>SHSE.600012</th>\n      <th>SHSE.600015</th>\n      <th>...</th>\n      <th>SZSE.301387</th>\n      <th>SZSE.301388</th>\n      <th>SZSE.301389</th>\n      <th>SZSE.301391</th>\n      <th>SZSE.301396</th>\n      <th>SZSE.301398</th>\n      <th>SZSE.301408</th>\n      <th>SZSE.301419</th>\n      <th>SZSE.301429</th>\n      <th>SZSE.301439</th>\n    </tr>\n    <tr>\n      <th>pub_date</th>\n      <th></th>\n      <th></th>\n      <th></th>\n      <th></th>\n      <th></th>\n      <th></th>\n      <th></th>\n      <th></th>\n      <th></th>\n      <th></th>\n      <th></th>\n      <th></th>\n      <th></th>\n      <th></th>\n      <th></th>\n      <th></th>\n      <th></th>\n      <th></th>\n      <th></th>\n      <th></th>\n      <th></th>\n    </tr>\n  </thead>\n  <tbody>\n    <tr>\n      <th>2022-01-05 00:00:00+08:00</th>\n      <td>NaN</td>\n      <td>NaN</td>\n      <td>NaN</td>\n      <td>NaN</td>\n      <td>NaN</td>\n      <td>NaN</td>\n      <td>NaN</td>\n      <td>NaN</td>\n      <td>NaN</td>\n      <td>NaN</td>\n      <td>...</td>\n      <td>NaN</td>\n      <td>NaN</td>\n      <td>NaN</td>\n      <td>NaN</td>\n      <td>NaN</td>\n      <td>NaN</td>\n      <td>NaN</td>\n      <td>NaN</td>\n      <td>NaN</td>\n      <td>NaN</td>\n    </tr>\n    <tr>\n      <th>2022-01-06 00:00:00+08:00</th>\n      <td>NaN</td>\n      <td>NaN</td>\n      <td>NaN</td>\n      <td>NaN</td>\n      <td>NaN</td>\n      <td>NaN</td>\n      <td>NaN</td>\n      <td>NaN</td>\n      <td>NaN</td>\n      <td>NaN</td>\n      <td>...</td>\n      <td>NaN</td>\n      <td>NaN</td>\n      <td>NaN</td>\n      <td>NaN</td>\n      <td>NaN</td>\n      <td>NaN</td>\n      <td>NaN</td>\n      <td>NaN</td>\n      <td>NaN</td>\n      <td>NaN</td>\n    </tr>\n    <tr>\n      <th>2022-01-07 00:00:00+08:00</th>\n      <td>NaN</td>\n      <td>NaN</td>\n      <td>NaN</td>\n      <td>NaN</td>\n      <td>NaN</td>\n      <td>NaN</td>\n      <td>NaN</td>\n      <td>NaN</td>\n      <td>NaN</td>\n      <td>NaN</td>\n      <td>...</td>\n      <td>NaN</td>\n      <td>NaN</td>\n      <td>NaN</td>\n      <td>NaN</td>\n      <td>NaN</td>\n      <td>NaN</td>\n      <td>NaN</td>\n      <td>NaN</td>\n      <td>NaN</td>\n      <td>NaN</td>\n    </tr>\n    <tr>\n      <th>2022-01-10 00:00:00+08:00</th>\n      <td>NaN</td>\n      <td>NaN</td>\n      <td>NaN</td>\n      <td>NaN</td>\n      <td>NaN</td>\n      <td>NaN</td>\n      <td>NaN</td>\n      <td>NaN</td>\n      <td>NaN</td>\n      <td>NaN</td>\n      <td>...</td>\n      <td>NaN</td>\n      <td>NaN</td>\n      <td>NaN</td>\n      <td>NaN</td>\n      <td>NaN</td>\n      <td>NaN</td>\n      <td>NaN</td>\n      <td>NaN</td>\n      <td>NaN</td>\n      <td>NaN</td>\n    </tr>\n    <tr>\n      <th>2022-01-12 00:00:00+08:00</th>\n      <td>NaN</td>\n      <td>NaN</td>\n      <td>NaN</td>\n      <td>NaN</td>\n      <td>NaN</td>\n      <td>NaN</td>\n      <td>NaN</td>\n      <td>NaN</td>\n      <td>NaN</td>\n      <td>NaN</td>\n      <td>...</td>\n      <td>NaN</td>\n      <td>NaN</td>\n      <td>NaN</td>\n      <td>NaN</td>\n      <td>NaN</td>\n      <td>NaN</td>\n      <td>NaN</td>\n      <td>NaN</td>\n      <td>NaN</td>\n      <td>NaN</td>\n    </tr>\n    <tr>\n      <th>...</th>\n      <td>...</td>\n      <td>...</td>\n      <td>...</td>\n      <td>...</td>\n      <td>...</td>\n      <td>...</td>\n      <td>...</td>\n      <td>...</td>\n      <td>...</td>\n      <td>...</td>\n      <td>...</td>\n      <td>...</td>\n      <td>...</td>\n      <td>...</td>\n      <td>...</td>\n      <td>...</td>\n      <td>...</td>\n      <td>...</td>\n      <td>...</td>\n      <td>...</td>\n      <td>...</td>\n    </tr>\n    <tr>\n      <th>2023-04-27 00:00:00+08:00</th>\n      <td>NaN</td>\n      <td>NaN</td>\n      <td>NaN</td>\n      <td>NaN</td>\n      <td>NaN</td>\n      <td>NaN</td>\n      <td>NaN</td>\n      <td>NaN</td>\n      <td>NaN</td>\n      <td>NaN</td>\n      <td>...</td>\n      <td>NaN</td>\n      <td>NaN</td>\n      <td>1282670.125</td>\n      <td>NaN</td>\n      <td>NaN</td>\n      <td>13016.69043</td>\n      <td>NaN</td>\n      <td>NaN</td>\n      <td>-1107075.125</td>\n      <td>NaN</td>\n    </tr>\n    <tr>\n      <th>2023-04-28 00:00:00+08:00</th>\n      <td>NaN</td>\n      <td>NaN</td>\n      <td>NaN</td>\n      <td>NaN</td>\n      <td>-9579364.0</td>\n      <td>NaN</td>\n      <td>-68751776.0</td>\n      <td>NaN</td>\n      <td>-12178203.0</td>\n      <td>8.552000e+09</td>\n      <td>...</td>\n      <td>-668498.875</td>\n      <td>NaN</td>\n      <td>NaN</td>\n      <td>NaN</td>\n      <td>0.0</td>\n      <td>NaN</td>\n      <td>NaN</td>\n      <td>NaN</td>\n      <td>NaN</td>\n      <td>NaN</td>\n    </tr>\n    <tr>\n      <th>2023-04-29 00:00:00+08:00</th>\n      <td>9.214000e+09</td>\n      <td>NaN</td>\n      <td>126095072.0</td>\n      <td>768509.0</td>\n      <td>NaN</td>\n      <td>176486512.0</td>\n      <td>NaN</td>\n      <td>NaN</td>\n      <td>NaN</td>\n      <td>NaN</td>\n      <td>...</td>\n      <td>NaN</td>\n      <td>NaN</td>\n      <td>NaN</td>\n      <td>NaN</td>\n      <td>NaN</td>\n      <td>NaN</td>\n      <td>NaN</td>\n      <td>NaN</td>\n      <td>NaN</td>\n      <td>NaN</td>\n    </tr>\n    <tr>\n      <th>2023-04-30 00:00:00+08:00</th>\n      <td>NaN</td>\n      <td>NaN</td>\n      <td>NaN</td>\n      <td>NaN</td>\n      <td>NaN</td>\n      <td>NaN</td>\n      <td>NaN</td>\n      <td>NaN</td>\n      <td>NaN</td>\n      <td>NaN</td>\n      <td>...</td>\n      <td>NaN</td>\n      <td>NaN</td>\n      <td>NaN</td>\n      <td>NaN</td>\n      <td>NaN</td>\n      <td>NaN</td>\n      <td>NaN</td>\n      <td>NaN</td>\n      <td>NaN</td>\n      <td>NaN</td>\n    </tr>\n    <tr>\n      <th>2023-05-10 00:00:00+08:00</th>\n      <td>NaN</td>\n      <td>NaN</td>\n      <td>NaN</td>\n      <td>NaN</td>\n      <td>NaN</td>\n      <td>NaN</td>\n      <td>NaN</td>\n      <td>NaN</td>\n      <td>NaN</td>\n      <td>NaN</td>\n      <td>...</td>\n      <td>NaN</td>\n      <td>NaN</td>\n      <td>NaN</td>\n      <td>NaN</td>\n      <td>NaN</td>\n      <td>NaN</td>\n      <td>NaN</td>\n      <td>NaN</td>\n      <td>NaN</td>\n      <td>NaN</td>\n    </tr>\n  </tbody>\n</table>\n<p>341 rows × 5070 columns</p>\n</div>"
     },
     "execution_count": 4,
     "metadata": {},
     "output_type": "execute_result"
    }
   ],
   "source": [
    "df = df.pivot(index='pub_date', values='NVALCHGIT', columns='symbol')\n",
    "df"
   ],
   "metadata": {
    "collapsed": false,
    "ExecuteTime": {
     "start_time": "2023-09-16T09:51:55.880357Z",
     "end_time": "2023-09-16T09:51:55.902776Z"
    }
   }
  },
  {
   "cell_type": "code",
   "execution_count": null,
   "outputs": [],
   "source": [
    "df.groupby(pd.Grouper(freq=\"Q\")).mean().rolling(window=4).sum()"
   ],
   "metadata": {
    "collapsed": false,
    "ExecuteTime": {
     "start_time": "2023-09-08T22:37:41.202870Z",
     "end_time": "2023-09-08T22:37:41.363403Z"
    }
   }
  },
  {
   "cell_type": "code",
   "execution_count": null,
   "outputs": [],
   "source": [
    "from typing import Sequence\n",
    "import statsmodels.api as sm\n",
    "def ACF(series:Sequence,  nlags: int = 10, **kwargs):\n",
    "    \"\"\"\n",
    "    根据弱平稳性质$σ_s=σ_t$，有$ρ_k=(∑_t^T((X_t-\\overline{X_t}))(X_s-\\overline{X_s }))/(∑_t^Tσ_t^2 )$，则$ρ_1,ρ_2,…$称为时间序列$X_t$的样本自相关系数ACF。\n",
    "    自相关系数呈指数的速度锐减，始终有非零取值，不会在k大于某个常数之后就恒等于零，这个性质就是平稳$AR(p) $模型的自相关系数$ρ_k$具有拖尾性。\n",
    "    当自相关函数中所有的值都为0时，我们认为该序列是完全不相关的；因此，我们经常需要检验多个自相关系数是否为0。<br>\n",
    "    混成检验：<br>\n",
    "    原假设$H_0：ρ_1=⋯=ρ_m=0$<br>\n",
    "    统计量：$Q(m)=T(T+2)∑_k^m{\\frac{(ρ_k)^2}{(T-k)}}$<br>\n",
    "    $Q(m)$渐进服从自由度为m的$χ^2$分布，如果$Q(m)>χ_α^2$，即Q(m)统计量的$pvalue≤显著性水平α，则拒绝H_0。$<br>\n",
    "    :param series:\n",
    "    :param nlags:\n",
    "    :param kwargs:\n",
    "    :return:\n",
    "    \"\"\"\n",
    "    if not isinstance(series, np.ndarray):\n",
    "        series = np.array(series)\n",
    "    acf,q,p= sm.tsa.acf(x=series, nlags=nlags, qstat=True)\n",
    "    out = np.c_[range(1,nlags+1), acf[1:], q, p]\n",
    "    output=pd.DataFrame(out, columns=['lag', \"AC\", \"Q\", \"P-value\"])\n",
    "    output = output.set_index('lag')\n",
    "    if all(p < 0.05):\n",
    "        print(\"所有的p-value都小于0.05，拒绝原假设H_0，认为该序列是序列相关的\")\n",
    "    return output\n",
    "\n",
    "ACF(series=ed.close.iloc[:,0])"
   ],
   "metadata": {
    "collapsed": false,
    "ExecuteTime": {
     "start_time": "2023-09-02T23:08:46.452377Z",
     "end_time": "2023-09-02T23:08:46.471444Z"
    }
   }
  },
  {
   "cell_type": "code",
   "execution_count": null,
   "outputs": [],
   "source": [
    "import statsmodels.tsa.api as smt\n",
    "import statsmodels.formula.api as smf\n",
    "from statsmodels.tsa.ar_model import AutoReg as AR\n",
    "import scipy.stats as scs\n",
    "from arch import arch_model\n",
    "import matplotlib.pyplot as plt"
   ],
   "metadata": {
    "collapsed": false,
    "ExecuteTime": {
     "start_time": "2023-09-02T23:48:44.456132Z",
     "end_time": "2023-09-02T23:48:44.468174Z"
    }
   }
  },
  {
   "cell_type": "code",
   "execution_count": null,
   "outputs": [],
   "source": [
    "def tsplot(\n",
    "        y:Sequence,\n",
    "        diff: bool = False,\n",
    "        nlags:int=30, figsize:tuple[int, int] =(8, 8), style='bmh', **kwargs):\n",
    "    if not isinstance(y, pd.Series):\n",
    "        y = pd.Series(y)\n",
    "    if diff:\n",
    "        y = y.diff(1).dropna()\n",
    "\n",
    "    with plt.style.context(style):\n",
    "        fig = plt.figure(figsize=figsize)\n",
    "        layout = (3, 2)\n",
    "        ts_ax = plt.subplot2grid(layout, (0, 0), colspan=2)\n",
    "        acf_ax = plt.subplot2grid(layout, (1, 0))\n",
    "        pacf_ax = plt.subplot2grid(layout, (1, 1))\n",
    "        qq_ax = plt.subplot2grid(layout, (2, 0))\n",
    "        pp_ax = plt.subplot2grid(layout, (2, 1))\n",
    "\n",
    "        y.plot(ax=ts_ax)\n",
    "        ts_ax.set_title('Time Series Analysis')\n",
    "        smt.graphics.plot_acf(y, lags=nlags, ax=acf_ax, alpha=0.05,title='ACF')\n",
    "        smt.graphics.plot_pacf(y, lags=nlags, ax=pacf_ax, alpha=0.05,title='PACF')\n",
    "        sm.qqplot(y, line='s', ax=qq_ax)\n",
    "        qq_ax.set_title('QQ Plot')\n",
    "        scs.probplot(y, sparams=(y.mean(), y.std()), plot=pp_ax)\n",
    "        plt.tight_layout()\n",
    "        plt.show()\n",
    "\n",
    "tsplot(ed.close.iloc[:,0], lags=30, diff=True)"
   ],
   "metadata": {
    "collapsed": false,
    "ExecuteTime": {
     "start_time": "2023-09-02T23:55:27.666751Z",
     "end_time": "2023-09-02T23:55:28.009934Z"
    }
   }
  },
  {
   "cell_type": "code",
   "execution_count": null,
   "outputs": [],
   "source": [
    "est_order = statsmodels.tsa.ar_model.ar_select_order(ed.close.iloc[:,0].values, maxlag=30, ic='aic')\n",
    "est_order.ar_lags"
   ],
   "metadata": {
    "collapsed": false,
    "ExecuteTime": {
     "start_time": "2023-09-03T00:05:08.269992Z",
     "end_time": "2023-09-03T00:05:08.308125Z"
    }
   }
  },
  {
   "cell_type": "code",
   "execution_count": null,
   "outputs": [],
   "source": [
    "import statsmodels\n",
    "max_lag = 30\n",
    "mdl = sm.tsa.ARIMA(ed.close.iloc[:,0].values, order=(16, 1, 1)).fit()\n",
    "print(mdl.summary())"
   ],
   "metadata": {
    "collapsed": false,
    "ExecuteTime": {
     "start_time": "2023-09-03T00:15:16.161348Z",
     "end_time": "2023-09-03T00:15:18.837131Z"
    }
   }
  }
 ],
 "metadata": {
  "kernelspec": {
   "display_name": "Python 3",
   "language": "python",
   "name": "python3"
  },
  "language_info": {
   "codemirror_mode": {
    "name": "ipython",
    "version": 2
   },
   "file_extension": ".py",
   "mimetype": "text/x-python",
   "name": "python",
   "nbconvert_exporter": "python",
   "pygments_lexer": "ipython2",
   "version": "2.7.6"
  }
 },
 "nbformat": 4,
 "nbformat_minor": 0
}
