{
 "cells": [
  {
   "cell_type": "code",
   "execution_count": 6,
   "metadata": {
    "collapsed": true,
    "ExecuteTime": {
     "start_time": "2023-08-12T23:47:29.970986Z",
     "end_time": "2023-08-12T23:47:29.986037Z"
    }
   },
   "outputs": [],
   "source": [
    "from XQuant import BufferManager\n",
    "from pathlib import Path"
   ]
  },
  {
   "cell_type": "code",
   "execution_count": 3,
   "outputs": [
    {
     "name": "stdout",
     "output_type": "stream",
     "text": [
      "Temp (157.25 KB)\n",
      "  attrs.json (157.25 KB)\n"
     ]
    }
   ],
   "source": [
    "# 显示文件树\n",
    "BufferManager.display_file_tree()"
   ],
   "metadata": {
    "collapsed": false,
    "ExecuteTime": {
     "start_time": "2023-08-12T23:46:34.358307Z",
     "end_time": "2023-08-12T23:46:34.367339Z"
    }
   }
  },
  {
   "cell_type": "code",
   "execution_count": 8,
   "outputs": [
    {
     "name": "stdout",
     "output_type": "stream",
     "text": [
      "XQuant (330.39 KB)\n",
      "  FactorManager (29.31 KB)\n",
      "    __pycache__ (14.51 KB)\n",
      "      Analyzer.cpython-310.pyc (3.62 KB)\n",
      "      DataReady.cpython-310.pyc (1.42 KB)\n",
      "      FactorReady.cpython-310.pyc (996.00 B)\n",
      "      Processer.cpython-310.pyc (8.26 KB)\n",
      "      __init__.cpython-310.pyc (237.00 B)\n",
      "    Analyzer.py (4.15 KB)\n",
      "    DataReady.py (1.36 KB)\n",
      "    FactorReady.py (545.00 B)\n",
      "    Processer.py (8.66 KB)\n",
      "    __init__.py (105.00 B)\n",
      "  Scripts (670.00 B)\n",
      "    QuantWeb.py (670.00 B)\n",
      "  StreamWeb (0.00 B)\n",
      "  TABLES (69.99 KB)\n",
      "    dataYes.json (4.82 KB)\n",
      "    em.json (3.48 KB)\n",
      "    gm_factor.json (17.24 KB)\n",
      "    gm_future.json (421.00 B)\n",
      "    gm_stock.json (1.73 KB)\n",
      "    info.json (668.00 B)\n",
      "    jq_factor.json (40.73 KB)\n",
      "    jq_prepare.json (679.00 B)\n",
      "    sql.json (277.00 B)\n",
      "  Temp (157.25 KB)\n",
      "    attrs.json (157.25 KB)\n",
      "  Tokens (98.00 B)\n",
      "    quant.const.ini (98.00 B)\n",
      "  __pycache__ (31.33 KB)\n",
      "    Collector.cpython-310.pyc (8.84 KB)\n",
      "    Consts.cpython-310.pyc (667.00 B)\n",
      "    FileManager.cpython-310.pyc (2.79 KB)\n",
      "    Schema.cpython-310.pyc (469.00 B)\n",
      "    SQLAgent.cpython-310.pyc (1.59 KB)\n",
      "    Utils.cpython-310.pyc (16.68 KB)\n",
      "    __init__.cpython-310.pyc (333.00 B)\n",
      "  Collector.py (14.00 KB)\n",
      "  Consts.py (691.00 B)\n",
      "  FileManager.py (2.87 KB)\n",
      "  Schema.py (180.00 B)\n",
      "  SQLAgent.py (1.85 KB)\n",
      "  Utils.py (21.98 KB)\n",
      "  __init__.py (225.00 B)\n"
     ]
    }
   ],
   "source": [
    "BufferManager.root_folder = Path('../XQuant')\n",
    "BufferManager.display_file_tree()"
   ],
   "metadata": {
    "collapsed": false,
    "ExecuteTime": {
     "start_time": "2023-08-12T23:47:39.695797Z",
     "end_time": "2023-08-12T23:47:39.701818Z"
    }
   }
  },
  {
   "cell_type": "code",
   "execution_count": 9,
   "outputs": [
    {
     "data": {
      "text/plain": "'330.39 KB'"
     },
     "execution_count": 9,
     "metadata": {},
     "output_type": "execute_result"
    }
   ],
   "source": [
    "BufferManager.calculate_total_size()"
   ],
   "metadata": {
    "collapsed": false,
    "ExecuteTime": {
     "start_time": "2023-08-12T23:48:01.990955Z",
     "end_time": "2023-08-12T23:48:02.003511Z"
    }
   }
  }
 ],
 "metadata": {
  "kernelspec": {
   "display_name": "Python 3",
   "language": "python",
   "name": "python3"
  },
  "language_info": {
   "codemirror_mode": {
    "name": "ipython",
    "version": 2
   },
   "file_extension": ".py",
   "mimetype": "text/x-python",
   "name": "python",
   "nbconvert_exporter": "python",
   "pygments_lexer": "ipython2",
   "version": "2.7.6"
  }
 },
 "nbformat": 4,
 "nbformat_minor": 0
}
