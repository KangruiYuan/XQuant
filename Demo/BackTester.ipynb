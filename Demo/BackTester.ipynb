{
 "cells": [
  {
   "cell_type": "code",
   "execution_count": 1,
   "outputs": [],
   "source": [
    "\n",
    "from XQuant import BackTestRunner, BackTestOptions, BARRA\n",
    "from XQuant import Strategy"
   ],
   "metadata": {
    "collapsed": false,
    "ExecuteTime": {
     "start_time": "2023-08-20T09:27:21.892534Z",
     "end_time": "2023-08-20T09:27:24.116628Z"
    }
   }
  },
  {
   "cell_type": "code",
   "execution_count": null,
   "outputs": [],
   "source": [
    "barra = BARRA(begin='20230105')\n",
    "opt = BackTestOptions(begin = '20230101', end = '20230801', method='group', clean_cache = True, show = False )\n",
    "bg = BackTestRunner(barra.LNCAP, options=opt)\n",
    "bg.prepare()\n",
    "bg.run()\n",
    "bg.plot()"
   ],
   "metadata": {
    "collapsed": false,
    "ExecuteTime": {
     "start_time": "2023-08-20T09:27:37.719660Z",
     "end_time": "2023-08-20T09:27:49.980798Z"
    }
   }
  }
 ],
 "metadata": {
  "kernelspec": {
   "display_name": "Python 3",
   "language": "python",
   "name": "python3"
  },
  "language_info": {
   "codemirror_mode": {
    "name": "ipython",
    "version": 2
   },
   "file_extension": ".py",
   "mimetype": "text/x-python",
   "name": "python",
   "nbconvert_exporter": "python",
   "pygments_lexer": "ipython2",
   "version": "2.7.6"
  }
 },
 "nbformat": 4,
 "nbformat_minor": 0
}
