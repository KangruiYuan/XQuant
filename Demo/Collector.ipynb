{
 "cells": [
  {
   "cell_type": "code",
   "execution_count": 1,
   "metadata": {
    "collapsed": true,
    "ExecuteTime": {
     "start_time": "2023-08-12T23:35:55.245653Z",
     "end_time": "2023-08-12T23:35:56.476074Z"
    }
   },
   "outputs": [],
   "source": [
    "from XQuant import DataAPI"
   ]
  },
  {
   "cell_type": "code",
   "execution_count": 8,
   "outputs": [
    {
     "name": "stdout",
     "output_type": "stream",
     "text": [
      "['get_data', 'get_data_from_sql', 'get_data_gm_future', 'get_data_gm_factor', 'get_data_general', 'select', 'select_date', 'select_ticker', 'select_fields']\n"
     ]
    }
   ],
   "source": [
    "print(list(filter(lambda x:'__' not in x, DataAPI.__dict__.keys())))"
   ],
   "metadata": {
    "collapsed": false,
    "ExecuteTime": {
     "start_time": "2023-08-12T23:41:48.508260Z",
     "end_time": "2023-08-12T23:41:48.522309Z"
    }
   }
  },
  {
   "cell_type": "markdown",
   "source": [
    "- get_data封装了get_data_from_sql， get_data_gm_future， get_data_gm_factor， get_data_general\n",
    "- select封装了select_date，select_ticker，select_fields\n",
    "get系列获取数据，select系列筛选数据"
   ],
   "metadata": {
    "collapsed": false
   }
  },
  {
   "cell_type": "code",
   "execution_count": 2,
   "outputs": [
    {
     "data": {
      "text/plain": "    secCode secName repForeDate  conTarPriceType  conTarPrice  \\\n0    000400    许继电气  2022-01-04                3          NaN   \n1    000400    许继电气  2022-01-05                3          NaN   \n2    000400    许继电气  2022-01-06                3          NaN   \n3    000400    许继电气  2022-01-07                3          NaN   \n4    000400    许继电气  2022-01-10                3          NaN   \n..      ...     ...         ...              ...          ...   \n539  000400    许继电气  2023-07-24                2        25.65   \n540  000400    许继电气  2023-07-25                2        25.65   \n541  000400    许继电气  2023-07-26                2        25.65   \n542  000400    许继电气  2023-07-27                2        25.65   \n543  000400    许继电气  2023-07-28                2        25.65   \n\n    tarPriceLastDate  conScoreType  conScore scoreLastDate  closePrice  \\\n0                NaN             2      0.75    2021-11-01       24.94   \n1                NaN             2      0.75    2021-11-01       23.94   \n2                NaN             2      0.75    2021-11-01       25.05   \n3                NaN             2      0.75    2021-11-01       24.86   \n4                NaN             2      0.75    2021-11-01       24.93   \n..               ...           ...       ...           ...         ...   \n539       2023-07-04             2      1.00    2023-07-04       22.66   \n540       2023-07-04             2      1.00    2023-07-04       22.72   \n541       2023-07-04             2      1.00    2023-07-04       22.25   \n542       2023-07-04             2      1.00    2023-07-04       22.31   \n543       2023-07-04             2      1.00    2023-07-04       22.25   \n\n     conTarReturn           updateTime  \n0             NaN  2022-01-05 00:12:12  \n1             NaN  2022-01-06 00:12:02  \n2             NaN  2022-01-07 00:12:03  \n3             NaN  2022-01-08 00:12:22  \n4             NaN  2022-01-11 00:12:01  \n..            ...                  ...  \n539        0.1320  2023-07-24 17:32:22  \n540        0.1290  2023-07-25 17:32:17  \n541        0.1528  2023-07-26 17:32:24  \n542        0.1497  2023-07-27 17:32:15  \n543        0.1528  2023-07-28 17:32:17  \n\n[544 rows x 12 columns]",
      "text/html": "<div>\n<style scoped>\n    .dataframe tbody tr th:only-of-type {\n        vertical-align: middle;\n    }\n\n    .dataframe tbody tr th {\n        vertical-align: top;\n    }\n\n    .dataframe thead th {\n        text-align: right;\n    }\n</style>\n<table border=\"1\" class=\"dataframe\">\n  <thead>\n    <tr style=\"text-align: right;\">\n      <th></th>\n      <th>secCode</th>\n      <th>secName</th>\n      <th>repForeDate</th>\n      <th>conTarPriceType</th>\n      <th>conTarPrice</th>\n      <th>tarPriceLastDate</th>\n      <th>conScoreType</th>\n      <th>conScore</th>\n      <th>scoreLastDate</th>\n      <th>closePrice</th>\n      <th>conTarReturn</th>\n      <th>updateTime</th>\n    </tr>\n  </thead>\n  <tbody>\n    <tr>\n      <th>0</th>\n      <td>000400</td>\n      <td>许继电气</td>\n      <td>2022-01-04</td>\n      <td>3</td>\n      <td>NaN</td>\n      <td>NaN</td>\n      <td>2</td>\n      <td>0.75</td>\n      <td>2021-11-01</td>\n      <td>24.94</td>\n      <td>NaN</td>\n      <td>2022-01-05 00:12:12</td>\n    </tr>\n    <tr>\n      <th>1</th>\n      <td>000400</td>\n      <td>许继电气</td>\n      <td>2022-01-05</td>\n      <td>3</td>\n      <td>NaN</td>\n      <td>NaN</td>\n      <td>2</td>\n      <td>0.75</td>\n      <td>2021-11-01</td>\n      <td>23.94</td>\n      <td>NaN</td>\n      <td>2022-01-06 00:12:02</td>\n    </tr>\n    <tr>\n      <th>2</th>\n      <td>000400</td>\n      <td>许继电气</td>\n      <td>2022-01-06</td>\n      <td>3</td>\n      <td>NaN</td>\n      <td>NaN</td>\n      <td>2</td>\n      <td>0.75</td>\n      <td>2021-11-01</td>\n      <td>25.05</td>\n      <td>NaN</td>\n      <td>2022-01-07 00:12:03</td>\n    </tr>\n    <tr>\n      <th>3</th>\n      <td>000400</td>\n      <td>许继电气</td>\n      <td>2022-01-07</td>\n      <td>3</td>\n      <td>NaN</td>\n      <td>NaN</td>\n      <td>2</td>\n      <td>0.75</td>\n      <td>2021-11-01</td>\n      <td>24.86</td>\n      <td>NaN</td>\n      <td>2022-01-08 00:12:22</td>\n    </tr>\n    <tr>\n      <th>4</th>\n      <td>000400</td>\n      <td>许继电气</td>\n      <td>2022-01-10</td>\n      <td>3</td>\n      <td>NaN</td>\n      <td>NaN</td>\n      <td>2</td>\n      <td>0.75</td>\n      <td>2021-11-01</td>\n      <td>24.93</td>\n      <td>NaN</td>\n      <td>2022-01-11 00:12:01</td>\n    </tr>\n    <tr>\n      <th>...</th>\n      <td>...</td>\n      <td>...</td>\n      <td>...</td>\n      <td>...</td>\n      <td>...</td>\n      <td>...</td>\n      <td>...</td>\n      <td>...</td>\n      <td>...</td>\n      <td>...</td>\n      <td>...</td>\n      <td>...</td>\n    </tr>\n    <tr>\n      <th>539</th>\n      <td>000400</td>\n      <td>许继电气</td>\n      <td>2023-07-24</td>\n      <td>2</td>\n      <td>25.65</td>\n      <td>2023-07-04</td>\n      <td>2</td>\n      <td>1.00</td>\n      <td>2023-07-04</td>\n      <td>22.66</td>\n      <td>0.1320</td>\n      <td>2023-07-24 17:32:22</td>\n    </tr>\n    <tr>\n      <th>540</th>\n      <td>000400</td>\n      <td>许继电气</td>\n      <td>2023-07-25</td>\n      <td>2</td>\n      <td>25.65</td>\n      <td>2023-07-04</td>\n      <td>2</td>\n      <td>1.00</td>\n      <td>2023-07-04</td>\n      <td>22.72</td>\n      <td>0.1290</td>\n      <td>2023-07-25 17:32:17</td>\n    </tr>\n    <tr>\n      <th>541</th>\n      <td>000400</td>\n      <td>许继电气</td>\n      <td>2023-07-26</td>\n      <td>2</td>\n      <td>25.65</td>\n      <td>2023-07-04</td>\n      <td>2</td>\n      <td>1.00</td>\n      <td>2023-07-04</td>\n      <td>22.25</td>\n      <td>0.1528</td>\n      <td>2023-07-26 17:32:24</td>\n    </tr>\n    <tr>\n      <th>542</th>\n      <td>000400</td>\n      <td>许继电气</td>\n      <td>2023-07-27</td>\n      <td>2</td>\n      <td>25.65</td>\n      <td>2023-07-04</td>\n      <td>2</td>\n      <td>1.00</td>\n      <td>2023-07-04</td>\n      <td>22.31</td>\n      <td>0.1497</td>\n      <td>2023-07-27 17:32:15</td>\n    </tr>\n    <tr>\n      <th>543</th>\n      <td>000400</td>\n      <td>许继电气</td>\n      <td>2023-07-28</td>\n      <td>2</td>\n      <td>25.65</td>\n      <td>2023-07-04</td>\n      <td>2</td>\n      <td>1.00</td>\n      <td>2023-07-04</td>\n      <td>22.25</td>\n      <td>0.1528</td>\n      <td>2023-07-28 17:32:17</td>\n    </tr>\n  </tbody>\n</table>\n<p>544 rows × 12 columns</p>\n</div>"
     },
     "execution_count": 2,
     "metadata": {},
     "output_type": "execute_result"
    }
   ],
   "source": [
    "# 从h5数据读取\n",
    "DataAPI.get_data(\"ResConSecTarpriScore\", begin=\"20210501\", ticker=\"000400\")"
   ],
   "metadata": {
    "collapsed": false,
    "ExecuteTime": {
     "start_time": "2023-08-12T23:38:27.123401Z",
     "end_time": "2023-08-12T23:38:31.658973Z"
    }
   }
  },
  {
   "cell_type": "code",
   "execution_count": 3,
   "outputs": [
    {
     "data": {
      "text/plain": "             symbol    open    high     low   close  volume      amount  \\\n0        CZCE.RS311  5982.0  5982.0  5982.0  5982.0       1     59820.0   \n1        CZCE.RS311  5967.0  6055.0  5967.0  6055.0       3    180750.0   \n2        CZCE.RS311  6067.0  6067.0  6067.0  6067.0       1     60690.0   \n3        CZCE.RS311  6079.0  6079.0  6079.0  6079.0       1     60760.0   \n4        CZCE.RS311  6053.0  6053.0  6053.0  6053.0       1     60560.0   \n...             ...     ...     ...     ...     ...     ...         ...   \n1728778   DCE.b2306  4142.0  4145.0  4141.0  4144.0     234   9694930.0   \n1728779   DCE.b2306  4145.0  4146.0  4144.0  4144.0     226   9368220.0   \n1728780   DCE.b2306  4145.0  4145.0  4143.0  4144.0     275  11395840.0   \n1728781   DCE.b2306  4143.0  4145.0  4138.0  4140.0     397  16441790.0   \n1728782   DCE.b2306  4140.0  4140.0  4130.0  4132.0     420  17372910.0   \n\n         position                       bob                       eob  \n0               5 2023-01-03 09:07:00+08:00 2023-01-03 09:08:00+08:00  \n1               6 2023-01-04 09:00:00+08:00 2023-01-04 09:01:00+08:00  \n2               7 2023-01-04 09:19:00+08:00 2023-01-04 09:20:00+08:00  \n3               8 2023-01-04 09:33:00+08:00 2023-01-04 09:34:00+08:00  \n4               7 2023-01-04 09:46:00+08:00 2023-01-04 09:47:00+08:00  \n...           ...                       ...                       ...  \n1728778     26489 2023-05-12 14:55:00+08:00 2023-05-12 14:56:00+08:00  \n1728779     26543 2023-05-12 14:56:00+08:00 2023-05-12 14:57:00+08:00  \n1728780     26532 2023-05-12 14:57:00+08:00 2023-05-12 14:58:00+08:00  \n1728781     26391 2023-05-12 14:58:00+08:00 2023-05-12 14:59:00+08:00  \n1728782     26204 2023-05-12 14:59:00+08:00 2023-05-12 15:00:00+08:00  \n\n[1728783 rows x 10 columns]",
      "text/html": "<div>\n<style scoped>\n    .dataframe tbody tr th:only-of-type {\n        vertical-align: middle;\n    }\n\n    .dataframe tbody tr th {\n        vertical-align: top;\n    }\n\n    .dataframe thead th {\n        text-align: right;\n    }\n</style>\n<table border=\"1\" class=\"dataframe\">\n  <thead>\n    <tr style=\"text-align: right;\">\n      <th></th>\n      <th>symbol</th>\n      <th>open</th>\n      <th>high</th>\n      <th>low</th>\n      <th>close</th>\n      <th>volume</th>\n      <th>amount</th>\n      <th>position</th>\n      <th>bob</th>\n      <th>eob</th>\n    </tr>\n  </thead>\n  <tbody>\n    <tr>\n      <th>0</th>\n      <td>CZCE.RS311</td>\n      <td>5982.0</td>\n      <td>5982.0</td>\n      <td>5982.0</td>\n      <td>5982.0</td>\n      <td>1</td>\n      <td>59820.0</td>\n      <td>5</td>\n      <td>2023-01-03 09:07:00+08:00</td>\n      <td>2023-01-03 09:08:00+08:00</td>\n    </tr>\n    <tr>\n      <th>1</th>\n      <td>CZCE.RS311</td>\n      <td>5967.0</td>\n      <td>6055.0</td>\n      <td>5967.0</td>\n      <td>6055.0</td>\n      <td>3</td>\n      <td>180750.0</td>\n      <td>6</td>\n      <td>2023-01-04 09:00:00+08:00</td>\n      <td>2023-01-04 09:01:00+08:00</td>\n    </tr>\n    <tr>\n      <th>2</th>\n      <td>CZCE.RS311</td>\n      <td>6067.0</td>\n      <td>6067.0</td>\n      <td>6067.0</td>\n      <td>6067.0</td>\n      <td>1</td>\n      <td>60690.0</td>\n      <td>7</td>\n      <td>2023-01-04 09:19:00+08:00</td>\n      <td>2023-01-04 09:20:00+08:00</td>\n    </tr>\n    <tr>\n      <th>3</th>\n      <td>CZCE.RS311</td>\n      <td>6079.0</td>\n      <td>6079.0</td>\n      <td>6079.0</td>\n      <td>6079.0</td>\n      <td>1</td>\n      <td>60760.0</td>\n      <td>8</td>\n      <td>2023-01-04 09:33:00+08:00</td>\n      <td>2023-01-04 09:34:00+08:00</td>\n    </tr>\n    <tr>\n      <th>4</th>\n      <td>CZCE.RS311</td>\n      <td>6053.0</td>\n      <td>6053.0</td>\n      <td>6053.0</td>\n      <td>6053.0</td>\n      <td>1</td>\n      <td>60560.0</td>\n      <td>7</td>\n      <td>2023-01-04 09:46:00+08:00</td>\n      <td>2023-01-04 09:47:00+08:00</td>\n    </tr>\n    <tr>\n      <th>...</th>\n      <td>...</td>\n      <td>...</td>\n      <td>...</td>\n      <td>...</td>\n      <td>...</td>\n      <td>...</td>\n      <td>...</td>\n      <td>...</td>\n      <td>...</td>\n      <td>...</td>\n    </tr>\n    <tr>\n      <th>1728778</th>\n      <td>DCE.b2306</td>\n      <td>4142.0</td>\n      <td>4145.0</td>\n      <td>4141.0</td>\n      <td>4144.0</td>\n      <td>234</td>\n      <td>9694930.0</td>\n      <td>26489</td>\n      <td>2023-05-12 14:55:00+08:00</td>\n      <td>2023-05-12 14:56:00+08:00</td>\n    </tr>\n    <tr>\n      <th>1728779</th>\n      <td>DCE.b2306</td>\n      <td>4145.0</td>\n      <td>4146.0</td>\n      <td>4144.0</td>\n      <td>4144.0</td>\n      <td>226</td>\n      <td>9368220.0</td>\n      <td>26543</td>\n      <td>2023-05-12 14:56:00+08:00</td>\n      <td>2023-05-12 14:57:00+08:00</td>\n    </tr>\n    <tr>\n      <th>1728780</th>\n      <td>DCE.b2306</td>\n      <td>4145.0</td>\n      <td>4145.0</td>\n      <td>4143.0</td>\n      <td>4144.0</td>\n      <td>275</td>\n      <td>11395840.0</td>\n      <td>26532</td>\n      <td>2023-05-12 14:57:00+08:00</td>\n      <td>2023-05-12 14:58:00+08:00</td>\n    </tr>\n    <tr>\n      <th>1728781</th>\n      <td>DCE.b2306</td>\n      <td>4143.0</td>\n      <td>4145.0</td>\n      <td>4138.0</td>\n      <td>4140.0</td>\n      <td>397</td>\n      <td>16441790.0</td>\n      <td>26391</td>\n      <td>2023-05-12 14:58:00+08:00</td>\n      <td>2023-05-12 14:59:00+08:00</td>\n    </tr>\n    <tr>\n      <th>1728782</th>\n      <td>DCE.b2306</td>\n      <td>4140.0</td>\n      <td>4140.0</td>\n      <td>4130.0</td>\n      <td>4132.0</td>\n      <td>420</td>\n      <td>17372910.0</td>\n      <td>26204</td>\n      <td>2023-05-12 14:59:00+08:00</td>\n      <td>2023-05-12 15:00:00+08:00</td>\n    </tr>\n  </tbody>\n</table>\n<p>1728783 rows × 10 columns</p>\n</div>"
     },
     "execution_count": 3,
     "metadata": {},
     "output_type": "execute_result"
    }
   ],
   "source": [
    "# 期货数据\n",
    "DataAPI.get_data(name=\"Price_Volume_Data/main\", begin='20230101')"
   ],
   "metadata": {
    "collapsed": false,
    "ExecuteTime": {
     "start_time": "2023-08-12T23:39:50.777895Z",
     "end_time": "2023-08-12T23:39:54.133734Z"
    }
   }
  },
  {
   "cell_type": "code",
   "execution_count": 4,
   "outputs": [
    {
     "data": {
      "text/plain": "           symbol   end_date      MANANETR     NETPROFIT      TOTASSET  \\\n0     SHSE.600000 2022-12-31  3.650990e+11  5.199700e+10  8.704651e+12   \n1     SHSE.600004 2022-12-31  8.685067e+08 -1.091790e+09  2.694079e+10   \n2     SHSE.600006 2022-12-31 -2.900338e+08  2.948464e+08  1.768608e+10   \n3     SHSE.600007 2022-12-31  1.824331e+09  1.116853e+09  1.282729e+10   \n4     SHSE.600008 2022-12-31  3.024188e+09  4.374556e+09  1.048832e+11   \n...           ...        ...           ...           ...           ...   \n2147  SZSE.301369 2022-12-31  1.438536e+08  1.264835e+08  1.705313e+09   \n2148  SZSE.301377 2022-12-31  1.561280e+08  2.226261e+08  2.935961e+09   \n2149  SZSE.301380 2022-12-31  2.478149e+07  5.870761e+07  1.026831e+09   \n2150  SZSE.301389 2022-12-31  1.850968e+08  1.688592e+08  2.403445e+09   \n2151  SZSE.301391 2022-12-31  6.872201e+07  1.313749e+08  2.534952e+09   \n\n       pub_date  \n0    2023-04-19  \n1    2023-04-19  \n2    2023-04-11  \n3    2023-03-29  \n4    2023-04-13  \n...         ...  \n2147 2023-03-20  \n2148 2023-04-15  \n2149 2023-03-20  \n2150 2023-03-24  \n2151 2023-03-15  \n\n[2152 rows x 6 columns]",
      "text/html": "<div>\n<style scoped>\n    .dataframe tbody tr th:only-of-type {\n        vertical-align: middle;\n    }\n\n    .dataframe tbody tr th {\n        vertical-align: top;\n    }\n\n    .dataframe thead th {\n        text-align: right;\n    }\n</style>\n<table border=\"1\" class=\"dataframe\">\n  <thead>\n    <tr style=\"text-align: right;\">\n      <th></th>\n      <th>symbol</th>\n      <th>end_date</th>\n      <th>MANANETR</th>\n      <th>NETPROFIT</th>\n      <th>TOTASSET</th>\n      <th>pub_date</th>\n    </tr>\n  </thead>\n  <tbody>\n    <tr>\n      <th>0</th>\n      <td>SHSE.600000</td>\n      <td>2022-12-31</td>\n      <td>3.650990e+11</td>\n      <td>5.199700e+10</td>\n      <td>8.704651e+12</td>\n      <td>2023-04-19</td>\n    </tr>\n    <tr>\n      <th>1</th>\n      <td>SHSE.600004</td>\n      <td>2022-12-31</td>\n      <td>8.685067e+08</td>\n      <td>-1.091790e+09</td>\n      <td>2.694079e+10</td>\n      <td>2023-04-19</td>\n    </tr>\n    <tr>\n      <th>2</th>\n      <td>SHSE.600006</td>\n      <td>2022-12-31</td>\n      <td>-2.900338e+08</td>\n      <td>2.948464e+08</td>\n      <td>1.768608e+10</td>\n      <td>2023-04-11</td>\n    </tr>\n    <tr>\n      <th>3</th>\n      <td>SHSE.600007</td>\n      <td>2022-12-31</td>\n      <td>1.824331e+09</td>\n      <td>1.116853e+09</td>\n      <td>1.282729e+10</td>\n      <td>2023-03-29</td>\n    </tr>\n    <tr>\n      <th>4</th>\n      <td>SHSE.600008</td>\n      <td>2022-12-31</td>\n      <td>3.024188e+09</td>\n      <td>4.374556e+09</td>\n      <td>1.048832e+11</td>\n      <td>2023-04-13</td>\n    </tr>\n    <tr>\n      <th>...</th>\n      <td>...</td>\n      <td>...</td>\n      <td>...</td>\n      <td>...</td>\n      <td>...</td>\n      <td>...</td>\n    </tr>\n    <tr>\n      <th>2147</th>\n      <td>SZSE.301369</td>\n      <td>2022-12-31</td>\n      <td>1.438536e+08</td>\n      <td>1.264835e+08</td>\n      <td>1.705313e+09</td>\n      <td>2023-03-20</td>\n    </tr>\n    <tr>\n      <th>2148</th>\n      <td>SZSE.301377</td>\n      <td>2022-12-31</td>\n      <td>1.561280e+08</td>\n      <td>2.226261e+08</td>\n      <td>2.935961e+09</td>\n      <td>2023-04-15</td>\n    </tr>\n    <tr>\n      <th>2149</th>\n      <td>SZSE.301380</td>\n      <td>2022-12-31</td>\n      <td>2.478149e+07</td>\n      <td>5.870761e+07</td>\n      <td>1.026831e+09</td>\n      <td>2023-03-20</td>\n    </tr>\n    <tr>\n      <th>2150</th>\n      <td>SZSE.301389</td>\n      <td>2022-12-31</td>\n      <td>1.850968e+08</td>\n      <td>1.688592e+08</td>\n      <td>2.403445e+09</td>\n      <td>2023-03-24</td>\n    </tr>\n    <tr>\n      <th>2151</th>\n      <td>SZSE.301391</td>\n      <td>2022-12-31</td>\n      <td>6.872201e+07</td>\n      <td>1.313749e+08</td>\n      <td>2.534952e+09</td>\n      <td>2023-03-15</td>\n    </tr>\n  </tbody>\n</table>\n<p>2152 rows × 6 columns</p>\n</div>"
     },
     "execution_count": 4,
     "metadata": {},
     "output_type": "execute_result"
    }
   ],
   "source": [
    "# 原生的掘金因子数据\n",
    "DataAPI.get_data(name=\"ACCA_gm\", begin='20230101')"
   ],
   "metadata": {
    "collapsed": false,
    "ExecuteTime": {
     "start_time": "2023-08-12T23:40:24.190413Z",
     "end_time": "2023-08-12T23:40:24.220517Z"
    }
   }
  },
  {
   "cell_type": "code",
   "execution_count": 7,
   "outputs": [
    {
     "data": {
      "text/plain": "            symbol frequency   open   high    low  close     volume  \\\n0      SHSE.600136        1d   2.72   2.81   2.70   2.75   11846985   \n1      SHSE.600008        1d   3.00   3.06   2.99   3.06   92736808   \n2      SHSE.600009        1d  47.35  47.97  46.81  46.85   17585158   \n3      SHSE.600010        1d   1.89   1.97   1.88   1.93  666319943   \n4      SHSE.600011        1d   8.60   8.98   8.51   8.95  108919674   \n...            ...       ...    ...    ...    ...    ...        ...   \n46014  SHSE.600202        1d   6.03   6.04   5.80   5.92    9522600   \n46015  SHSE.600203        1d   6.05   6.18   6.01   6.13   11008241   \n46016  SHSE.600206        1d  13.34  13.40  13.21  13.39    6596089   \n46017  SHSE.600207        1d   5.36   5.36   5.32   5.34   10836422   \n46018  SHSE.600208        1d   2.76   2.82   2.74   2.77  133009369   \n\n             amount  pre_close        bob        eob  position  \\\n0      3.258905e+07       2.73 2023-08-01 2023-08-01         0   \n1      2.815212e+08       3.00 2023-08-01 2023-08-01         0   \n2      8.312457e+08      47.40 2023-08-01 2023-08-01         0   \n3      1.288699e+09       1.89 2023-08-01 2023-08-01         0   \n4      9.615885e+08       8.60 2023-08-01 2023-08-01         0   \n...             ...        ...        ...        ...       ...   \n46014  5.626309e+07       6.00 2023-08-01 2023-08-01         0   \n46015  6.709001e+07       6.02 2023-08-01 2023-08-01         0   \n46016  8.774936e+07      13.34 2023-08-01 2023-08-01         0   \n46017  5.779177e+07       5.35 2023-08-01 2023-08-01         0   \n46018  3.702288e+08       2.77 2023-08-01 2023-08-01         0   \n\n                     record_time  \n0     2023-08-03 14:49:22.829799  \n1     2023-08-03 14:49:17.720225  \n2     2023-08-03 14:49:17.743947  \n3     2023-08-03 14:49:17.767190  \n4     2023-08-03 14:49:17.905393  \n...                          ...  \n46014 2023-08-03 14:49:25.529460  \n46015 2023-08-03 14:49:25.553138  \n46016 2023-08-03 14:49:25.578166  \n46017 2023-08-03 14:49:25.603678  \n46018 2023-08-03 14:49:25.738975  \n\n[46019 rows x 13 columns]",
      "text/html": "<div>\n<style scoped>\n    .dataframe tbody tr th:only-of-type {\n        vertical-align: middle;\n    }\n\n    .dataframe tbody tr th {\n        vertical-align: top;\n    }\n\n    .dataframe thead th {\n        text-align: right;\n    }\n</style>\n<table border=\"1\" class=\"dataframe\">\n  <thead>\n    <tr style=\"text-align: right;\">\n      <th></th>\n      <th>symbol</th>\n      <th>frequency</th>\n      <th>open</th>\n      <th>high</th>\n      <th>low</th>\n      <th>close</th>\n      <th>volume</th>\n      <th>amount</th>\n      <th>pre_close</th>\n      <th>bob</th>\n      <th>eob</th>\n      <th>position</th>\n      <th>record_time</th>\n    </tr>\n  </thead>\n  <tbody>\n    <tr>\n      <th>0</th>\n      <td>SHSE.600136</td>\n      <td>1d</td>\n      <td>2.72</td>\n      <td>2.81</td>\n      <td>2.70</td>\n      <td>2.75</td>\n      <td>11846985</td>\n      <td>3.258905e+07</td>\n      <td>2.73</td>\n      <td>2023-08-01</td>\n      <td>2023-08-01</td>\n      <td>0</td>\n      <td>2023-08-03 14:49:22.829799</td>\n    </tr>\n    <tr>\n      <th>1</th>\n      <td>SHSE.600008</td>\n      <td>1d</td>\n      <td>3.00</td>\n      <td>3.06</td>\n      <td>2.99</td>\n      <td>3.06</td>\n      <td>92736808</td>\n      <td>2.815212e+08</td>\n      <td>3.00</td>\n      <td>2023-08-01</td>\n      <td>2023-08-01</td>\n      <td>0</td>\n      <td>2023-08-03 14:49:17.720225</td>\n    </tr>\n    <tr>\n      <th>2</th>\n      <td>SHSE.600009</td>\n      <td>1d</td>\n      <td>47.35</td>\n      <td>47.97</td>\n      <td>46.81</td>\n      <td>46.85</td>\n      <td>17585158</td>\n      <td>8.312457e+08</td>\n      <td>47.40</td>\n      <td>2023-08-01</td>\n      <td>2023-08-01</td>\n      <td>0</td>\n      <td>2023-08-03 14:49:17.743947</td>\n    </tr>\n    <tr>\n      <th>3</th>\n      <td>SHSE.600010</td>\n      <td>1d</td>\n      <td>1.89</td>\n      <td>1.97</td>\n      <td>1.88</td>\n      <td>1.93</td>\n      <td>666319943</td>\n      <td>1.288699e+09</td>\n      <td>1.89</td>\n      <td>2023-08-01</td>\n      <td>2023-08-01</td>\n      <td>0</td>\n      <td>2023-08-03 14:49:17.767190</td>\n    </tr>\n    <tr>\n      <th>4</th>\n      <td>SHSE.600011</td>\n      <td>1d</td>\n      <td>8.60</td>\n      <td>8.98</td>\n      <td>8.51</td>\n      <td>8.95</td>\n      <td>108919674</td>\n      <td>9.615885e+08</td>\n      <td>8.60</td>\n      <td>2023-08-01</td>\n      <td>2023-08-01</td>\n      <td>0</td>\n      <td>2023-08-03 14:49:17.905393</td>\n    </tr>\n    <tr>\n      <th>...</th>\n      <td>...</td>\n      <td>...</td>\n      <td>...</td>\n      <td>...</td>\n      <td>...</td>\n      <td>...</td>\n      <td>...</td>\n      <td>...</td>\n      <td>...</td>\n      <td>...</td>\n      <td>...</td>\n      <td>...</td>\n      <td>...</td>\n    </tr>\n    <tr>\n      <th>46014</th>\n      <td>SHSE.600202</td>\n      <td>1d</td>\n      <td>6.03</td>\n      <td>6.04</td>\n      <td>5.80</td>\n      <td>5.92</td>\n      <td>9522600</td>\n      <td>5.626309e+07</td>\n      <td>6.00</td>\n      <td>2023-08-01</td>\n      <td>2023-08-01</td>\n      <td>0</td>\n      <td>2023-08-03 14:49:25.529460</td>\n    </tr>\n    <tr>\n      <th>46015</th>\n      <td>SHSE.600203</td>\n      <td>1d</td>\n      <td>6.05</td>\n      <td>6.18</td>\n      <td>6.01</td>\n      <td>6.13</td>\n      <td>11008241</td>\n      <td>6.709001e+07</td>\n      <td>6.02</td>\n      <td>2023-08-01</td>\n      <td>2023-08-01</td>\n      <td>0</td>\n      <td>2023-08-03 14:49:25.553138</td>\n    </tr>\n    <tr>\n      <th>46016</th>\n      <td>SHSE.600206</td>\n      <td>1d</td>\n      <td>13.34</td>\n      <td>13.40</td>\n      <td>13.21</td>\n      <td>13.39</td>\n      <td>6596089</td>\n      <td>8.774936e+07</td>\n      <td>13.34</td>\n      <td>2023-08-01</td>\n      <td>2023-08-01</td>\n      <td>0</td>\n      <td>2023-08-03 14:49:25.578166</td>\n    </tr>\n    <tr>\n      <th>46017</th>\n      <td>SHSE.600207</td>\n      <td>1d</td>\n      <td>5.36</td>\n      <td>5.36</td>\n      <td>5.32</td>\n      <td>5.34</td>\n      <td>10836422</td>\n      <td>5.779177e+07</td>\n      <td>5.35</td>\n      <td>2023-08-01</td>\n      <td>2023-08-01</td>\n      <td>0</td>\n      <td>2023-08-03 14:49:25.603678</td>\n    </tr>\n    <tr>\n      <th>46018</th>\n      <td>SHSE.600208</td>\n      <td>1d</td>\n      <td>2.76</td>\n      <td>2.82</td>\n      <td>2.74</td>\n      <td>2.77</td>\n      <td>133009369</td>\n      <td>3.702288e+08</td>\n      <td>2.77</td>\n      <td>2023-08-01</td>\n      <td>2023-08-01</td>\n      <td>0</td>\n      <td>2023-08-03 14:49:25.738975</td>\n    </tr>\n  </tbody>\n</table>\n<p>46019 rows × 13 columns</p>\n</div>"
     },
     "execution_count": 7,
     "metadata": {},
     "output_type": "execute_result"
    }
   ],
   "source": [
    "# 从sql源获取数据\n",
    "DataAPI.get_data('gmData_history', begin='20230801')"
   ],
   "metadata": {
    "collapsed": false,
    "ExecuteTime": {
     "start_time": "2023-08-12T23:41:08.765096Z",
     "end_time": "2023-08-12T23:41:09.213646Z"
    }
   }
  }
 ],
 "metadata": {
  "kernelspec": {
   "display_name": "Python 3",
   "language": "python",
   "name": "python3"
  },
  "language_info": {
   "codemirror_mode": {
    "name": "ipython",
    "version": 2
   },
   "file_extension": ".py",
   "mimetype": "text/x-python",
   "name": "python",
   "nbconvert_exporter": "python",
   "pygments_lexer": "ipython2",
   "version": "2.7.6"
  }
 },
 "nbformat": 4,
 "nbformat_minor": 0
}
