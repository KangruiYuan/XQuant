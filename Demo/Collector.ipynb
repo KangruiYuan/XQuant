{
 "cells": [
  {
   "cell_type": "code",
   "execution_count": 1,
   "metadata": {
    "collapsed": true,
    "ExecuteTime": {
     "start_time": "2023-08-16T16:16:17.790053Z",
     "end_time": "2023-08-16T16:16:19.083741Z"
    }
   },
   "outputs": [],
   "source": [
    "from XQuant import DataAPI"
   ]
  },
  {
   "cell_type": "code",
   "execution_count": 2,
   "outputs": [
    {
     "name": "stdout",
     "output_type": "stream",
     "text": [
      "['get_data', 'get_data_from_sql', 'get_data_gm_future', 'get_data_gm_factor', 'get_data_general', 'select', 'select_date', 'select_ticker', 'select_fields']\n"
     ]
    }
   ],
   "source": [
    "print(list(filter(lambda x:'__' not in x, DataAPI.__dict__.keys())))"
   ],
   "metadata": {
    "collapsed": false,
    "ExecuteTime": {
     "start_time": "2023-08-16T16:16:19.085748Z",
     "end_time": "2023-08-16T16:16:19.099794Z"
    }
   }
  },
  {
   "cell_type": "markdown",
   "source": [
    "- get_data封装了get_data_from_sql， get_data_gm_future， get_data_gm_factor， get_data_general\n",
    "- select封装了select_date，select_ticker，select_fields\n",
    "get系列获取数据，select系列筛选数据"
   ],
   "metadata": {
    "collapsed": false
   }
  },
  {
   "cell_type": "code",
   "execution_count": 3,
   "outputs": [
    {
     "data": {
      "text/plain": "  secCode secName repForeDate  conTarPriceType  conTarPrice tarPriceLastDate  \\\n0  000400    许继电气  2023-01-03                2        24.25       2022-10-31   \n1  000400    许继电气  2023-01-04                1        24.15       2023-01-03   \n2  000400    许继电气  2023-01-05                1        24.15       2023-01-03   \n3  000400    许继电气  2023-01-06                1        24.15       2023-01-03   \n4  000400    许继电气  2023-01-09                1        24.15       2023-01-03   \n\n   conScoreType  conScore scoreLastDate  closePrice  conTarReturn  \\\n0             1       1.0    2022-10-31       20.71        0.1709   \n1             1       1.0    2023-01-03       20.40        0.1838   \n2             1       1.0    2023-01-03       20.84        0.1588   \n3             1       1.0    2023-01-03       21.37        0.1301   \n4             1       1.0    2023-01-03       21.71        0.1124   \n\n            updateTime  \n0  2023-01-03 17:36:27  \n1  2023-01-04 17:36:13  \n2  2023-01-05 17:36:19  \n3  2023-01-06 17:36:24  \n4  2023-01-09 17:36:11  ",
      "text/html": "<div>\n<style scoped>\n    .dataframe tbody tr th:only-of-type {\n        vertical-align: middle;\n    }\n\n    .dataframe tbody tr th {\n        vertical-align: top;\n    }\n\n    .dataframe thead th {\n        text-align: right;\n    }\n</style>\n<table border=\"1\" class=\"dataframe\">\n  <thead>\n    <tr style=\"text-align: right;\">\n      <th></th>\n      <th>secCode</th>\n      <th>secName</th>\n      <th>repForeDate</th>\n      <th>conTarPriceType</th>\n      <th>conTarPrice</th>\n      <th>tarPriceLastDate</th>\n      <th>conScoreType</th>\n      <th>conScore</th>\n      <th>scoreLastDate</th>\n      <th>closePrice</th>\n      <th>conTarReturn</th>\n      <th>updateTime</th>\n    </tr>\n  </thead>\n  <tbody>\n    <tr>\n      <th>0</th>\n      <td>000400</td>\n      <td>许继电气</td>\n      <td>2023-01-03</td>\n      <td>2</td>\n      <td>24.25</td>\n      <td>2022-10-31</td>\n      <td>1</td>\n      <td>1.0</td>\n      <td>2022-10-31</td>\n      <td>20.71</td>\n      <td>0.1709</td>\n      <td>2023-01-03 17:36:27</td>\n    </tr>\n    <tr>\n      <th>1</th>\n      <td>000400</td>\n      <td>许继电气</td>\n      <td>2023-01-04</td>\n      <td>1</td>\n      <td>24.15</td>\n      <td>2023-01-03</td>\n      <td>1</td>\n      <td>1.0</td>\n      <td>2023-01-03</td>\n      <td>20.40</td>\n      <td>0.1838</td>\n      <td>2023-01-04 17:36:13</td>\n    </tr>\n    <tr>\n      <th>2</th>\n      <td>000400</td>\n      <td>许继电气</td>\n      <td>2023-01-05</td>\n      <td>1</td>\n      <td>24.15</td>\n      <td>2023-01-03</td>\n      <td>1</td>\n      <td>1.0</td>\n      <td>2023-01-03</td>\n      <td>20.84</td>\n      <td>0.1588</td>\n      <td>2023-01-05 17:36:19</td>\n    </tr>\n    <tr>\n      <th>3</th>\n      <td>000400</td>\n      <td>许继电气</td>\n      <td>2023-01-06</td>\n      <td>1</td>\n      <td>24.15</td>\n      <td>2023-01-03</td>\n      <td>1</td>\n      <td>1.0</td>\n      <td>2023-01-03</td>\n      <td>21.37</td>\n      <td>0.1301</td>\n      <td>2023-01-06 17:36:24</td>\n    </tr>\n    <tr>\n      <th>4</th>\n      <td>000400</td>\n      <td>许继电气</td>\n      <td>2023-01-09</td>\n      <td>1</td>\n      <td>24.15</td>\n      <td>2023-01-03</td>\n      <td>1</td>\n      <td>1.0</td>\n      <td>2023-01-03</td>\n      <td>21.71</td>\n      <td>0.1124</td>\n      <td>2023-01-09 17:36:11</td>\n    </tr>\n  </tbody>\n</table>\n</div>"
     },
     "execution_count": 3,
     "metadata": {},
     "output_type": "execute_result"
    }
   ],
   "source": [
    "# 从h5数据读取\n",
    "DataAPI.get_data(\"ResConSecTarpriScore\", begin=\"20210501\", ticker=\"000400\").head()"
   ],
   "metadata": {
    "collapsed": false,
    "ExecuteTime": {
     "start_time": "2023-08-16T16:16:19.102805Z",
     "end_time": "2023-08-16T16:16:23.602609Z"
    }
   }
  },
  {
   "cell_type": "code",
   "execution_count": 4,
   "outputs": [
    {
     "data": {
      "text/plain": "       symbol    open    high     low   close  volume    amount  position  \\\n0  DCE.fb2303  1244.0  1244.0  1243.5  1243.5       8   99485.0      1542   \n1  DCE.fb2303  1242.0  1242.5  1241.5  1242.0       9  111765.0      1548   \n2  DCE.fb2303  1242.0  1242.5  1242.0  1242.5       6   74545.0      1553   \n3  DCE.fb2303  1243.0  1243.0  1242.0  1243.0      14  173960.0      1549   \n4  DCE.fb2303  1242.5  1242.5  1242.5  1242.5       2   24850.0      1548   \n\n                        bob                       eob  \n0 2023-01-03 09:00:00+08:00 2023-01-03 09:01:00+08:00  \n1 2023-01-03 09:01:00+08:00 2023-01-03 09:02:00+08:00  \n2 2023-01-03 09:02:00+08:00 2023-01-03 09:03:00+08:00  \n3 2023-01-03 09:03:00+08:00 2023-01-03 09:04:00+08:00  \n4 2023-01-03 09:04:00+08:00 2023-01-03 09:05:00+08:00  ",
      "text/html": "<div>\n<style scoped>\n    .dataframe tbody tr th:only-of-type {\n        vertical-align: middle;\n    }\n\n    .dataframe tbody tr th {\n        vertical-align: top;\n    }\n\n    .dataframe thead th {\n        text-align: right;\n    }\n</style>\n<table border=\"1\" class=\"dataframe\">\n  <thead>\n    <tr style=\"text-align: right;\">\n      <th></th>\n      <th>symbol</th>\n      <th>open</th>\n      <th>high</th>\n      <th>low</th>\n      <th>close</th>\n      <th>volume</th>\n      <th>amount</th>\n      <th>position</th>\n      <th>bob</th>\n      <th>eob</th>\n    </tr>\n  </thead>\n  <tbody>\n    <tr>\n      <th>0</th>\n      <td>DCE.fb2303</td>\n      <td>1244.0</td>\n      <td>1244.0</td>\n      <td>1243.5</td>\n      <td>1243.5</td>\n      <td>8</td>\n      <td>99485.0</td>\n      <td>1542</td>\n      <td>2023-01-03 09:00:00+08:00</td>\n      <td>2023-01-03 09:01:00+08:00</td>\n    </tr>\n    <tr>\n      <th>1</th>\n      <td>DCE.fb2303</td>\n      <td>1242.0</td>\n      <td>1242.5</td>\n      <td>1241.5</td>\n      <td>1242.0</td>\n      <td>9</td>\n      <td>111765.0</td>\n      <td>1548</td>\n      <td>2023-01-03 09:01:00+08:00</td>\n      <td>2023-01-03 09:02:00+08:00</td>\n    </tr>\n    <tr>\n      <th>2</th>\n      <td>DCE.fb2303</td>\n      <td>1242.0</td>\n      <td>1242.5</td>\n      <td>1242.0</td>\n      <td>1242.5</td>\n      <td>6</td>\n      <td>74545.0</td>\n      <td>1553</td>\n      <td>2023-01-03 09:02:00+08:00</td>\n      <td>2023-01-03 09:03:00+08:00</td>\n    </tr>\n    <tr>\n      <th>3</th>\n      <td>DCE.fb2303</td>\n      <td>1243.0</td>\n      <td>1243.0</td>\n      <td>1242.0</td>\n      <td>1243.0</td>\n      <td>14</td>\n      <td>173960.0</td>\n      <td>1549</td>\n      <td>2023-01-03 09:03:00+08:00</td>\n      <td>2023-01-03 09:04:00+08:00</td>\n    </tr>\n    <tr>\n      <th>4</th>\n      <td>DCE.fb2303</td>\n      <td>1242.5</td>\n      <td>1242.5</td>\n      <td>1242.5</td>\n      <td>1242.5</td>\n      <td>2</td>\n      <td>24850.0</td>\n      <td>1548</td>\n      <td>2023-01-03 09:04:00+08:00</td>\n      <td>2023-01-03 09:05:00+08:00</td>\n    </tr>\n  </tbody>\n</table>\n</div>"
     },
     "execution_count": 4,
     "metadata": {},
     "output_type": "execute_result"
    }
   ],
   "source": [
    "# 期货数据\n",
    "DataAPI.get_data(name=\"Price_Volume_Data/main\", begin='20230101').head()"
   ],
   "metadata": {
    "collapsed": false,
    "ExecuteTime": {
     "start_time": "2023-08-16T16:16:23.602609Z",
     "end_time": "2023-08-16T16:16:28.927381Z"
    }
   }
  },
  {
   "cell_type": "code",
   "execution_count": 5,
   "outputs": [
    {
     "data": {
      "text/plain": "        symbol   end_date      MANANETR     NETPROFIT      TOTASSET   pub_date\n0  SHSE.600000 2022-12-31  3.650990e+11  5.199700e+10  8.704651e+12 2023-04-19\n1  SHSE.600004 2022-12-31  8.685067e+08 -1.091790e+09  2.694079e+10 2023-04-19\n2  SHSE.600006 2022-12-31 -2.900338e+08  2.948464e+08  1.768608e+10 2023-04-11\n3  SHSE.600007 2022-12-31  1.824331e+09  1.116853e+09  1.282729e+10 2023-03-29\n4  SHSE.600008 2022-12-31  3.024188e+09  4.374556e+09  1.048832e+11 2023-04-13",
      "text/html": "<div>\n<style scoped>\n    .dataframe tbody tr th:only-of-type {\n        vertical-align: middle;\n    }\n\n    .dataframe tbody tr th {\n        vertical-align: top;\n    }\n\n    .dataframe thead th {\n        text-align: right;\n    }\n</style>\n<table border=\"1\" class=\"dataframe\">\n  <thead>\n    <tr style=\"text-align: right;\">\n      <th></th>\n      <th>symbol</th>\n      <th>end_date</th>\n      <th>MANANETR</th>\n      <th>NETPROFIT</th>\n      <th>TOTASSET</th>\n      <th>pub_date</th>\n    </tr>\n  </thead>\n  <tbody>\n    <tr>\n      <th>0</th>\n      <td>SHSE.600000</td>\n      <td>2022-12-31</td>\n      <td>3.650990e+11</td>\n      <td>5.199700e+10</td>\n      <td>8.704651e+12</td>\n      <td>2023-04-19</td>\n    </tr>\n    <tr>\n      <th>1</th>\n      <td>SHSE.600004</td>\n      <td>2022-12-31</td>\n      <td>8.685067e+08</td>\n      <td>-1.091790e+09</td>\n      <td>2.694079e+10</td>\n      <td>2023-04-19</td>\n    </tr>\n    <tr>\n      <th>2</th>\n      <td>SHSE.600006</td>\n      <td>2022-12-31</td>\n      <td>-2.900338e+08</td>\n      <td>2.948464e+08</td>\n      <td>1.768608e+10</td>\n      <td>2023-04-11</td>\n    </tr>\n    <tr>\n      <th>3</th>\n      <td>SHSE.600007</td>\n      <td>2022-12-31</td>\n      <td>1.824331e+09</td>\n      <td>1.116853e+09</td>\n      <td>1.282729e+10</td>\n      <td>2023-03-29</td>\n    </tr>\n    <tr>\n      <th>4</th>\n      <td>SHSE.600008</td>\n      <td>2022-12-31</td>\n      <td>3.024188e+09</td>\n      <td>4.374556e+09</td>\n      <td>1.048832e+11</td>\n      <td>2023-04-13</td>\n    </tr>\n  </tbody>\n</table>\n</div>"
     },
     "execution_count": 5,
     "metadata": {},
     "output_type": "execute_result"
    }
   ],
   "source": [
    "# 原生的掘金因子数据\n",
    "DataAPI.get_data(name=\"ACCA_gm\", begin='20230101').head()"
   ],
   "metadata": {
    "collapsed": false,
    "ExecuteTime": {
     "start_time": "2023-08-16T16:16:28.928384Z",
     "end_time": "2023-08-16T16:16:28.959552Z"
    }
   }
  },
  {
   "cell_type": "code",
   "execution_count": 6,
   "outputs": [
    {
     "name": "stdout",
     "output_type": "stream",
     "text": [
      "SELECT * FROM \"gmData_history\" WHERE bob >= %(begin)s AND bob <= %(end)s;\n"
     ]
    },
    {
     "data": {
      "text/plain": "        symbol frequency   open   high    low  close     volume        amount  \\\n0  SHSE.600136        1d   2.72   2.81   2.70   2.75   11846985  3.258905e+07   \n1  SHSE.600008        1d   3.00   3.06   2.99   3.06   92736808  2.815212e+08   \n2  SHSE.600009        1d  47.35  47.97  46.81  46.85   17585158  8.312457e+08   \n3  SHSE.600010        1d   1.89   1.97   1.88   1.93  666319943  1.288699e+09   \n4  SHSE.600011        1d   8.60   8.98   8.51   8.95  108919674  9.615885e+08   \n\n   pre_close        bob        eob  position                record_time  \n0       2.73 2023-08-01 2023-08-01         0 2023-08-03 14:49:22.829799  \n1       3.00 2023-08-01 2023-08-01         0 2023-08-03 14:49:17.720225  \n2      47.40 2023-08-01 2023-08-01         0 2023-08-03 14:49:17.743947  \n3       1.89 2023-08-01 2023-08-01         0 2023-08-03 14:49:17.767190  \n4       8.60 2023-08-01 2023-08-01         0 2023-08-03 14:49:17.905393  ",
      "text/html": "<div>\n<style scoped>\n    .dataframe tbody tr th:only-of-type {\n        vertical-align: middle;\n    }\n\n    .dataframe tbody tr th {\n        vertical-align: top;\n    }\n\n    .dataframe thead th {\n        text-align: right;\n    }\n</style>\n<table border=\"1\" class=\"dataframe\">\n  <thead>\n    <tr style=\"text-align: right;\">\n      <th></th>\n      <th>symbol</th>\n      <th>frequency</th>\n      <th>open</th>\n      <th>high</th>\n      <th>low</th>\n      <th>close</th>\n      <th>volume</th>\n      <th>amount</th>\n      <th>pre_close</th>\n      <th>bob</th>\n      <th>eob</th>\n      <th>position</th>\n      <th>record_time</th>\n    </tr>\n  </thead>\n  <tbody>\n    <tr>\n      <th>0</th>\n      <td>SHSE.600136</td>\n      <td>1d</td>\n      <td>2.72</td>\n      <td>2.81</td>\n      <td>2.70</td>\n      <td>2.75</td>\n      <td>11846985</td>\n      <td>3.258905e+07</td>\n      <td>2.73</td>\n      <td>2023-08-01</td>\n      <td>2023-08-01</td>\n      <td>0</td>\n      <td>2023-08-03 14:49:22.829799</td>\n    </tr>\n    <tr>\n      <th>1</th>\n      <td>SHSE.600008</td>\n      <td>1d</td>\n      <td>3.00</td>\n      <td>3.06</td>\n      <td>2.99</td>\n      <td>3.06</td>\n      <td>92736808</td>\n      <td>2.815212e+08</td>\n      <td>3.00</td>\n      <td>2023-08-01</td>\n      <td>2023-08-01</td>\n      <td>0</td>\n      <td>2023-08-03 14:49:17.720225</td>\n    </tr>\n    <tr>\n      <th>2</th>\n      <td>SHSE.600009</td>\n      <td>1d</td>\n      <td>47.35</td>\n      <td>47.97</td>\n      <td>46.81</td>\n      <td>46.85</td>\n      <td>17585158</td>\n      <td>8.312457e+08</td>\n      <td>47.40</td>\n      <td>2023-08-01</td>\n      <td>2023-08-01</td>\n      <td>0</td>\n      <td>2023-08-03 14:49:17.743947</td>\n    </tr>\n    <tr>\n      <th>3</th>\n      <td>SHSE.600010</td>\n      <td>1d</td>\n      <td>1.89</td>\n      <td>1.97</td>\n      <td>1.88</td>\n      <td>1.93</td>\n      <td>666319943</td>\n      <td>1.288699e+09</td>\n      <td>1.89</td>\n      <td>2023-08-01</td>\n      <td>2023-08-01</td>\n      <td>0</td>\n      <td>2023-08-03 14:49:17.767190</td>\n    </tr>\n    <tr>\n      <th>4</th>\n      <td>SHSE.600011</td>\n      <td>1d</td>\n      <td>8.60</td>\n      <td>8.98</td>\n      <td>8.51</td>\n      <td>8.95</td>\n      <td>108919674</td>\n      <td>9.615885e+08</td>\n      <td>8.60</td>\n      <td>2023-08-01</td>\n      <td>2023-08-01</td>\n      <td>0</td>\n      <td>2023-08-03 14:49:17.905393</td>\n    </tr>\n  </tbody>\n</table>\n</div>"
     },
     "execution_count": 6,
     "metadata": {},
     "output_type": "execute_result"
    }
   ],
   "source": [
    "# 从sql源获取数据\n",
    "DataAPI.get_data('gmData_history', begin='20230801').head()"
   ],
   "metadata": {
    "collapsed": false,
    "ExecuteTime": {
     "start_time": "2023-08-16T16:16:28.961560Z",
     "end_time": "2023-08-16T16:16:29.548325Z"
    }
   }
  }
 ],
 "metadata": {
  "kernelspec": {
   "display_name": "Python 3",
   "language": "python",
   "name": "python3"
  },
  "language_info": {
   "codemirror_mode": {
    "name": "ipython",
    "version": 2
   },
   "file_extension": ".py",
   "mimetype": "text/x-python",
   "name": "python",
   "nbconvert_exporter": "python",
   "pygments_lexer": "ipython2",
   "version": "2.7.6"
  }
 },
 "nbformat": 4,
 "nbformat_minor": 0
}
