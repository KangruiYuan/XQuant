{
 "cells": [
  {
   "cell_type": "code",
   "execution_count": 1,
   "metadata": {
    "collapsed": true,
    "ExecuteTime": {
     "start_time": "2023-11-07T21:53:43.020296Z",
     "end_time": "2023-11-07T21:53:44.766892Z"
    }
   },
   "outputs": [],
   "source": [
    "from XQuant import DataAPI"
   ]
  },
  {
   "cell_type": "code",
   "execution_count": 2,
   "outputs": [
    {
     "name": "stdout",
     "output_type": "stream",
     "text": [
      "['get_data', 'get_data_from_sql', 'get_data_gm_future', 'get_data_gm_factor', 'get_data_general', 'select', 'select_date', 'select_ticker', 'select_fields']\n"
     ]
    }
   ],
   "source": [
    "print(list(filter(lambda x:'__' not in x, DataAPI.__dict__.keys())))"
   ],
   "metadata": {
    "collapsed": false,
    "ExecuteTime": {
     "start_time": "2023-11-07T21:51:10.512601Z",
     "end_time": "2023-11-07T21:51:10.514627Z"
    }
   }
  },
  {
   "cell_type": "markdown",
   "source": [
    "- get_data封装了get_data_from_sql， get_data_gm_future， get_data_gm_factor， get_data_general\n",
    "- select封装了select_date，select_ticker，select_fields\n",
    "get系列获取数据，select系列筛选数据"
   ],
   "metadata": {
    "collapsed": false
   }
  },
  {
   "cell_type": "code",
   "execution_count": 3,
   "outputs": [
    {
     "data": {
      "text/plain": "  secCode secName repForeDate  conTarPriceType  conTarPrice tarPriceLastDate  \\\n0  000400    许继电气  2022-01-04                3          NaN              NaN   \n1  000400    许继电气  2022-01-05                3          NaN              NaN   \n2  000400    许继电气  2022-01-06                3          NaN              NaN   \n3  000400    许继电气  2022-01-07                3          NaN              NaN   \n4  000400    许继电气  2022-01-10                3          NaN              NaN   \n\n   conScoreType  conScore scoreLastDate  closePrice  conTarReturn  \\\n0             2      0.75    2021-11-01       24.94           NaN   \n1             2      0.75    2021-11-01       23.94           NaN   \n2             2      0.75    2021-11-01       25.05           NaN   \n3             2      0.75    2021-11-01       24.86           NaN   \n4             2      0.75    2021-11-01       24.93           NaN   \n\n            updateTime  \n0  2022-01-05 00:12:12  \n1  2022-01-06 00:12:02  \n2  2022-01-07 00:12:03  \n3  2022-01-08 00:12:22  \n4  2022-01-11 00:12:01  ",
      "text/html": "<div>\n<style scoped>\n    .dataframe tbody tr th:only-of-type {\n        vertical-align: middle;\n    }\n\n    .dataframe tbody tr th {\n        vertical-align: top;\n    }\n\n    .dataframe thead th {\n        text-align: right;\n    }\n</style>\n<table border=\"1\" class=\"dataframe\">\n  <thead>\n    <tr style=\"text-align: right;\">\n      <th></th>\n      <th>secCode</th>\n      <th>secName</th>\n      <th>repForeDate</th>\n      <th>conTarPriceType</th>\n      <th>conTarPrice</th>\n      <th>tarPriceLastDate</th>\n      <th>conScoreType</th>\n      <th>conScore</th>\n      <th>scoreLastDate</th>\n      <th>closePrice</th>\n      <th>conTarReturn</th>\n      <th>updateTime</th>\n    </tr>\n  </thead>\n  <tbody>\n    <tr>\n      <th>0</th>\n      <td>000400</td>\n      <td>许继电气</td>\n      <td>2022-01-04</td>\n      <td>3</td>\n      <td>NaN</td>\n      <td>NaN</td>\n      <td>2</td>\n      <td>0.75</td>\n      <td>2021-11-01</td>\n      <td>24.94</td>\n      <td>NaN</td>\n      <td>2022-01-05 00:12:12</td>\n    </tr>\n    <tr>\n      <th>1</th>\n      <td>000400</td>\n      <td>许继电气</td>\n      <td>2022-01-05</td>\n      <td>3</td>\n      <td>NaN</td>\n      <td>NaN</td>\n      <td>2</td>\n      <td>0.75</td>\n      <td>2021-11-01</td>\n      <td>23.94</td>\n      <td>NaN</td>\n      <td>2022-01-06 00:12:02</td>\n    </tr>\n    <tr>\n      <th>2</th>\n      <td>000400</td>\n      <td>许继电气</td>\n      <td>2022-01-06</td>\n      <td>3</td>\n      <td>NaN</td>\n      <td>NaN</td>\n      <td>2</td>\n      <td>0.75</td>\n      <td>2021-11-01</td>\n      <td>25.05</td>\n      <td>NaN</td>\n      <td>2022-01-07 00:12:03</td>\n    </tr>\n    <tr>\n      <th>3</th>\n      <td>000400</td>\n      <td>许继电气</td>\n      <td>2022-01-07</td>\n      <td>3</td>\n      <td>NaN</td>\n      <td>NaN</td>\n      <td>2</td>\n      <td>0.75</td>\n      <td>2021-11-01</td>\n      <td>24.86</td>\n      <td>NaN</td>\n      <td>2022-01-08 00:12:22</td>\n    </tr>\n    <tr>\n      <th>4</th>\n      <td>000400</td>\n      <td>许继电气</td>\n      <td>2022-01-10</td>\n      <td>3</td>\n      <td>NaN</td>\n      <td>NaN</td>\n      <td>2</td>\n      <td>0.75</td>\n      <td>2021-11-01</td>\n      <td>24.93</td>\n      <td>NaN</td>\n      <td>2022-01-11 00:12:01</td>\n    </tr>\n  </tbody>\n</table>\n</div>"
     },
     "execution_count": 3,
     "metadata": {},
     "output_type": "execute_result"
    }
   ],
   "source": [
    "# 从h5数据读取\n",
    "DataAPI.get_data(\"ResConSecTarpriScore\", begin=\"20210501\", ticker=\"000400\").head()"
   ],
   "metadata": {
    "collapsed": false,
    "ExecuteTime": {
     "start_time": "2023-11-07T21:51:14.213206Z",
     "end_time": "2023-11-07T21:51:19.615189Z"
    }
   }
  },
  {
   "cell_type": "code",
   "execution_count": 4,
   "outputs": [
    {
     "data": {
      "text/plain": "        symbol     open     high      low    close  volume       amount  \\\n0  SHFE.ru2305  12700.0  12750.0  12700.0  12740.0    7032  894846700.0   \n1  SHFE.ru2305  12745.0  12760.0  12740.0  12750.0    3608  460083850.0   \n2  SHFE.ru2305  12750.0  12760.0  12720.0  12730.0    3037  386869500.0   \n3  SHFE.ru2305  12725.0  12735.0  12695.0  12705.0    3079  391397450.0   \n4  SHFE.ru2305  12705.0  12710.0  12685.0  12690.0    2485  315476950.0   \n\n   position                       bob                       eob  \n0    193504 2023-01-03 09:00:00+08:00 2023-01-03 09:01:00+08:00  \n1    193563 2023-01-03 09:01:00+08:00 2023-01-03 09:02:00+08:00  \n2    193657 2023-01-03 09:02:00+08:00 2023-01-03 09:03:00+08:00  \n3    194173 2023-01-03 09:03:00+08:00 2023-01-03 09:04:00+08:00  \n4    194426 2023-01-03 09:04:00+08:00 2023-01-03 09:05:00+08:00  ",
      "text/html": "<div>\n<style scoped>\n    .dataframe tbody tr th:only-of-type {\n        vertical-align: middle;\n    }\n\n    .dataframe tbody tr th {\n        vertical-align: top;\n    }\n\n    .dataframe thead th {\n        text-align: right;\n    }\n</style>\n<table border=\"1\" class=\"dataframe\">\n  <thead>\n    <tr style=\"text-align: right;\">\n      <th></th>\n      <th>symbol</th>\n      <th>open</th>\n      <th>high</th>\n      <th>low</th>\n      <th>close</th>\n      <th>volume</th>\n      <th>amount</th>\n      <th>position</th>\n      <th>bob</th>\n      <th>eob</th>\n    </tr>\n  </thead>\n  <tbody>\n    <tr>\n      <th>0</th>\n      <td>SHFE.ru2305</td>\n      <td>12700.0</td>\n      <td>12750.0</td>\n      <td>12700.0</td>\n      <td>12740.0</td>\n      <td>7032</td>\n      <td>894846700.0</td>\n      <td>193504</td>\n      <td>2023-01-03 09:00:00+08:00</td>\n      <td>2023-01-03 09:01:00+08:00</td>\n    </tr>\n    <tr>\n      <th>1</th>\n      <td>SHFE.ru2305</td>\n      <td>12745.0</td>\n      <td>12760.0</td>\n      <td>12740.0</td>\n      <td>12750.0</td>\n      <td>3608</td>\n      <td>460083850.0</td>\n      <td>193563</td>\n      <td>2023-01-03 09:01:00+08:00</td>\n      <td>2023-01-03 09:02:00+08:00</td>\n    </tr>\n    <tr>\n      <th>2</th>\n      <td>SHFE.ru2305</td>\n      <td>12750.0</td>\n      <td>12760.0</td>\n      <td>12720.0</td>\n      <td>12730.0</td>\n      <td>3037</td>\n      <td>386869500.0</td>\n      <td>193657</td>\n      <td>2023-01-03 09:02:00+08:00</td>\n      <td>2023-01-03 09:03:00+08:00</td>\n    </tr>\n    <tr>\n      <th>3</th>\n      <td>SHFE.ru2305</td>\n      <td>12725.0</td>\n      <td>12735.0</td>\n      <td>12695.0</td>\n      <td>12705.0</td>\n      <td>3079</td>\n      <td>391397450.0</td>\n      <td>194173</td>\n      <td>2023-01-03 09:03:00+08:00</td>\n      <td>2023-01-03 09:04:00+08:00</td>\n    </tr>\n    <tr>\n      <th>4</th>\n      <td>SHFE.ru2305</td>\n      <td>12705.0</td>\n      <td>12710.0</td>\n      <td>12685.0</td>\n      <td>12690.0</td>\n      <td>2485</td>\n      <td>315476950.0</td>\n      <td>194426</td>\n      <td>2023-01-03 09:04:00+08:00</td>\n      <td>2023-01-03 09:05:00+08:00</td>\n    </tr>\n  </tbody>\n</table>\n</div>"
     },
     "execution_count": 4,
     "metadata": {},
     "output_type": "execute_result"
    }
   ],
   "source": [
    "# 期货数据\n",
    "DataAPI.get_data(name=\"Price_Volume_Data/main\", begin='20230101').head()"
   ],
   "metadata": {
    "collapsed": false,
    "ExecuteTime": {
     "start_time": "2023-11-07T21:51:19.617196Z",
     "end_time": "2023-11-07T21:51:29.778689Z"
    }
   }
  },
  {
   "cell_type": "code",
   "execution_count": 5,
   "outputs": [
    {
     "data": {
      "text/plain": "        symbol   end_date      MANANETR     NETPROFIT      TOTASSET   pub_date\n0  SHSE.600000 2022-12-31  3.650990e+11  5.199700e+10  8.704651e+12 2023-04-19\n1  SHSE.600004 2022-12-31  8.685067e+08 -1.091790e+09  2.694079e+10 2023-04-19\n2  SHSE.600006 2022-12-31 -2.900338e+08  2.948464e+08  1.768608e+10 2023-04-11\n3  SHSE.600007 2022-12-31  1.824331e+09  1.116853e+09  1.282729e+10 2023-03-29\n4  SHSE.600008 2022-12-31  3.024188e+09  4.374556e+09  1.048832e+11 2023-04-13",
      "text/html": "<div>\n<style scoped>\n    .dataframe tbody tr th:only-of-type {\n        vertical-align: middle;\n    }\n\n    .dataframe tbody tr th {\n        vertical-align: top;\n    }\n\n    .dataframe thead th {\n        text-align: right;\n    }\n</style>\n<table border=\"1\" class=\"dataframe\">\n  <thead>\n    <tr style=\"text-align: right;\">\n      <th></th>\n      <th>symbol</th>\n      <th>end_date</th>\n      <th>MANANETR</th>\n      <th>NETPROFIT</th>\n      <th>TOTASSET</th>\n      <th>pub_date</th>\n    </tr>\n  </thead>\n  <tbody>\n    <tr>\n      <th>0</th>\n      <td>SHSE.600000</td>\n      <td>2022-12-31</td>\n      <td>3.650990e+11</td>\n      <td>5.199700e+10</td>\n      <td>8.704651e+12</td>\n      <td>2023-04-19</td>\n    </tr>\n    <tr>\n      <th>1</th>\n      <td>SHSE.600004</td>\n      <td>2022-12-31</td>\n      <td>8.685067e+08</td>\n      <td>-1.091790e+09</td>\n      <td>2.694079e+10</td>\n      <td>2023-04-19</td>\n    </tr>\n    <tr>\n      <th>2</th>\n      <td>SHSE.600006</td>\n      <td>2022-12-31</td>\n      <td>-2.900338e+08</td>\n      <td>2.948464e+08</td>\n      <td>1.768608e+10</td>\n      <td>2023-04-11</td>\n    </tr>\n    <tr>\n      <th>3</th>\n      <td>SHSE.600007</td>\n      <td>2022-12-31</td>\n      <td>1.824331e+09</td>\n      <td>1.116853e+09</td>\n      <td>1.282729e+10</td>\n      <td>2023-03-29</td>\n    </tr>\n    <tr>\n      <th>4</th>\n      <td>SHSE.600008</td>\n      <td>2022-12-31</td>\n      <td>3.024188e+09</td>\n      <td>4.374556e+09</td>\n      <td>1.048832e+11</td>\n      <td>2023-04-13</td>\n    </tr>\n  </tbody>\n</table>\n</div>"
     },
     "execution_count": 5,
     "metadata": {},
     "output_type": "execute_result"
    }
   ],
   "source": [
    "# 原生的掘金因子数据\n",
    "DataAPI.get_data(name=\"ACCA_gm\", begin='20230101').head()"
   ],
   "metadata": {
    "collapsed": false,
    "ExecuteTime": {
     "start_time": "2023-11-07T21:51:29.779692Z",
     "end_time": "2023-11-07T21:51:29.837895Z"
    }
   }
  },
  {
   "cell_type": "code",
   "execution_count": 2,
   "outputs": [
    {
     "ename": "KeyError",
     "evalue": "'Section postgresql not found'",
     "output_type": "error",
     "traceback": [
      "\u001B[1;31m---------------------------------------------------------------------------\u001B[0m",
      "\u001B[1;31mKeyError\u001B[0m                                  Traceback (most recent call last)",
      "Cell \u001B[1;32mIn[2], line 2\u001B[0m\n\u001B[0;32m      1\u001B[0m \u001B[38;5;66;03m# 从sql源获取数据\u001B[39;00m\n\u001B[1;32m----> 2\u001B[0m \u001B[43mDataAPI\u001B[49m\u001B[38;5;241;43m.\u001B[39;49m\u001B[43mget_data\u001B[49m\u001B[43m(\u001B[49m\u001B[38;5;124;43m'\u001B[39;49m\u001B[38;5;124;43mgmData_history\u001B[39;49m\u001B[38;5;124;43m'\u001B[39;49m\u001B[43m,\u001B[49m\u001B[43m \u001B[49m\u001B[43mbegin\u001B[49m\u001B[38;5;241;43m=\u001B[39;49m\u001B[38;5;124;43m'\u001B[39;49m\u001B[38;5;124;43m20230801\u001B[39;49m\u001B[38;5;124;43m'\u001B[39;49m\u001B[43m)\u001B[49m\u001B[38;5;241m.\u001B[39mhead()\n",
      "File \u001B[1;32mE:\\yuankangrui\\dev_XQuant\\XQuant\\Collector.py:132\u001B[0m, in \u001B[0;36mDataAPI.get_data\u001B[1;34m(cls, name, begin, end, fields, ticker, engine, **kwargs)\u001B[0m\n\u001B[0;32m    130\u001B[0m \u001B[38;5;28;01melif\u001B[39;00m engine \u001B[38;5;241m==\u001B[39m \u001B[38;5;124m\"\u001B[39m\u001B[38;5;124msql\u001B[39m\u001B[38;5;124m\"\u001B[39m:\n\u001B[0;32m    131\u001B[0m     \u001B[38;5;28;01massert\u001B[39;00m Config\u001B[38;5;241m.\u001B[39mdatatables[name][\u001B[38;5;124m\"\u001B[39m\u001B[38;5;124massets\u001B[39m\u001B[38;5;124m\"\u001B[39m] \u001B[38;5;241m==\u001B[39m \u001B[38;5;124m\"\u001B[39m\u001B[38;5;124msql\u001B[39m\u001B[38;5;124m\"\u001B[39m\n\u001B[1;32m--> 132\u001B[0m     \u001B[38;5;28;01mreturn\u001B[39;00m \u001B[38;5;28;43mcls\u001B[39;49m\u001B[38;5;241;43m.\u001B[39;49m\u001B[43mget_data_from_sql\u001B[49m\u001B[43m(\u001B[49m\n\u001B[0;32m    133\u001B[0m \u001B[43m        \u001B[49m\u001B[43mname\u001B[49m\u001B[38;5;241;43m=\u001B[39;49m\u001B[43mname\u001B[49m\u001B[43m,\u001B[49m\n\u001B[0;32m    134\u001B[0m \u001B[43m        \u001B[49m\u001B[43mbegin\u001B[49m\u001B[38;5;241;43m=\u001B[39;49m\u001B[43mbegin\u001B[49m\u001B[43m,\u001B[49m\n\u001B[0;32m    135\u001B[0m \u001B[43m        \u001B[49m\u001B[43mend\u001B[49m\u001B[38;5;241;43m=\u001B[39;49m\u001B[43mend\u001B[49m\u001B[43m,\u001B[49m\n\u001B[0;32m    136\u001B[0m \u001B[43m        \u001B[49m\u001B[43mticker\u001B[49m\u001B[38;5;241;43m=\u001B[39;49m\u001B[43mticker\u001B[49m\u001B[43m,\u001B[49m\n\u001B[0;32m    137\u001B[0m \u001B[43m        \u001B[49m\u001B[43mfields\u001B[49m\u001B[38;5;241;43m=\u001B[39;49m\u001B[43mfields\u001B[49m\u001B[43m,\u001B[49m\n\u001B[0;32m    138\u001B[0m \u001B[43m    \u001B[49m\u001B[43m)\u001B[49m\n",
      "File \u001B[1;32mE:\\yuankangrui\\dev_XQuant\\XQuant\\Collector.py:153\u001B[0m, in \u001B[0;36mDataAPI.get_data_from_sql\u001B[1;34m(cls, name, begin, end, ticker, fields, conn, **kwargs)\u001B[0m\n\u001B[0;32m    140\u001B[0m \u001B[38;5;129m@classmethod\u001B[39m\n\u001B[0;32m    141\u001B[0m \u001B[38;5;28;01mdef\u001B[39;00m \u001B[38;5;21mget_data_from_sql\u001B[39m(\n\u001B[0;32m    142\u001B[0m     \u001B[38;5;28mcls\u001B[39m,\n\u001B[1;32m   (...)\u001B[0m\n\u001B[0;32m    149\u001B[0m     \u001B[38;5;241m*\u001B[39m\u001B[38;5;241m*\u001B[39mkwargs,\n\u001B[0;32m    150\u001B[0m ):\n\u001B[0;32m    151\u001B[0m     \u001B[38;5;28;01mif\u001B[39;00m conn \u001B[38;5;129;01mis\u001B[39;00m \u001B[38;5;28;01mNone\u001B[39;00m:\n\u001B[0;32m    152\u001B[0m         \u001B[38;5;66;03m# conn = SQLAgent.postgres_connection(**kwargs)\u001B[39;00m\n\u001B[1;32m--> 153\u001B[0m         conn \u001B[38;5;241m=\u001B[39m \u001B[43mSQLAgent\u001B[49m\u001B[38;5;241;43m.\u001B[39;49m\u001B[43mpostgres_engine\u001B[49m\u001B[43m(\u001B[49m\u001B[43m)\u001B[49m\n\u001B[0;32m    154\u001B[0m     \u001B[38;5;28;01mif\u001B[39;00m fields \u001B[38;5;129;01mis\u001B[39;00m \u001B[38;5;28;01mNone\u001B[39;00m:\n\u001B[0;32m    155\u001B[0m         fields \u001B[38;5;241m=\u001B[39m \u001B[38;5;124m\"\u001B[39m\u001B[38;5;124m*\u001B[39m\u001B[38;5;124m\"\u001B[39m\n",
      "File \u001B[1;32mE:\\yuankangrui\\dev_XQuant\\XQuant\\SQLAgent.py:54\u001B[0m, in \u001B[0;36mSQLAgent.postgres_engine\u001B[1;34m(cls, config, **kwargs)\u001B[0m\n\u001B[0;32m     52\u001B[0m         config \u001B[38;5;241m=\u001B[39m get_config(section\u001B[38;5;241m=\u001B[39mkwargs\u001B[38;5;241m.\u001B[39mget(\u001B[38;5;124m\"\u001B[39m\u001B[38;5;124msection\u001B[39m\u001B[38;5;124m\"\u001B[39m, \u001B[38;5;124m\"\u001B[39m\u001B[38;5;124mpostgresql\u001B[39m\u001B[38;5;124m\"\u001B[39m))\n\u001B[0;32m     53\u001B[0m     \u001B[38;5;28;01mexcept\u001B[39;00m \u001B[38;5;167;01mKeyError\u001B[39;00m \u001B[38;5;28;01mas\u001B[39;00m ke:\n\u001B[1;32m---> 54\u001B[0m         \u001B[38;5;28;01mraise\u001B[39;00m ke\n\u001B[0;32m     55\u001B[0m engine \u001B[38;5;241m=\u001B[39m create_engine(\n\u001B[0;32m     56\u001B[0m     \u001B[38;5;124m\"\u001B[39m\u001B[38;5;124mpostgresql+psycopg2://\u001B[39m\u001B[38;5;132;01m{}\u001B[39;00m\u001B[38;5;124m:\u001B[39m\u001B[38;5;132;01m{}\u001B[39;00m\u001B[38;5;124m@\u001B[39m\u001B[38;5;132;01m{}\u001B[39;00m\u001B[38;5;124m:\u001B[39m\u001B[38;5;132;01m{}\u001B[39;00m\u001B[38;5;124m/\u001B[39m\u001B[38;5;132;01m{}\u001B[39;00m\u001B[38;5;124m\"\u001B[39m\u001B[38;5;241m.\u001B[39mformat(\n\u001B[0;32m     57\u001B[0m         config[\u001B[38;5;124m\"\u001B[39m\u001B[38;5;124muser\u001B[39m\u001B[38;5;124m\"\u001B[39m],\n\u001B[1;32m   (...)\u001B[0m\n\u001B[0;32m     62\u001B[0m     )\n\u001B[0;32m     63\u001B[0m )\n\u001B[0;32m     64\u001B[0m \u001B[38;5;28mcls\u001B[39m\u001B[38;5;241m.\u001B[39mengine \u001B[38;5;241m=\u001B[39m engine\n",
      "File \u001B[1;32mE:\\yuankangrui\\dev_XQuant\\XQuant\\SQLAgent.py:52\u001B[0m, in \u001B[0;36mSQLAgent.postgres_engine\u001B[1;34m(cls, config, **kwargs)\u001B[0m\n\u001B[0;32m     50\u001B[0m \u001B[38;5;28;01mif\u001B[39;00m config \u001B[38;5;129;01mis\u001B[39;00m \u001B[38;5;28;01mNone\u001B[39;00m:\n\u001B[0;32m     51\u001B[0m     \u001B[38;5;28;01mtry\u001B[39;00m:\n\u001B[1;32m---> 52\u001B[0m         config \u001B[38;5;241m=\u001B[39m \u001B[43mget_config\u001B[49m\u001B[43m(\u001B[49m\u001B[43msection\u001B[49m\u001B[38;5;241;43m=\u001B[39;49m\u001B[43mkwargs\u001B[49m\u001B[38;5;241;43m.\u001B[39;49m\u001B[43mget\u001B[49m\u001B[43m(\u001B[49m\u001B[38;5;124;43m\"\u001B[39;49m\u001B[38;5;124;43msection\u001B[39;49m\u001B[38;5;124;43m\"\u001B[39;49m\u001B[43m,\u001B[49m\u001B[43m \u001B[49m\u001B[38;5;124;43m\"\u001B[39;49m\u001B[38;5;124;43mpostgresql\u001B[39;49m\u001B[38;5;124;43m\"\u001B[39;49m\u001B[43m)\u001B[49m\u001B[43m)\u001B[49m\n\u001B[0;32m     53\u001B[0m     \u001B[38;5;28;01mexcept\u001B[39;00m \u001B[38;5;167;01mKeyError\u001B[39;00m \u001B[38;5;28;01mas\u001B[39;00m ke:\n\u001B[0;32m     54\u001B[0m         \u001B[38;5;28;01mraise\u001B[39;00m ke\n",
      "File \u001B[1;32mE:\\yuankangrui\\dev_XQuant\\XQuant\\Utils\\Toolkit.py:369\u001B[0m, in \u001B[0;36mget_config\u001B[1;34m(filename, section, **kwargs)\u001B[0m\n\u001B[0;32m    367\u001B[0m         res \u001B[38;5;241m=\u001B[39m \u001B[38;5;28mdict\u001B[39m(parser\u001B[38;5;241m.\u001B[39mitems(section))\n\u001B[0;32m    368\u001B[0m     \u001B[38;5;28;01melse\u001B[39;00m:\n\u001B[1;32m--> 369\u001B[0m         \u001B[38;5;28;01mraise\u001B[39;00m \u001B[38;5;167;01mKeyError\u001B[39;00m(\u001B[38;5;124mf\u001B[39m\u001B[38;5;124m\"\u001B[39m\u001B[38;5;124mSection \u001B[39m\u001B[38;5;132;01m{\u001B[39;00msection\u001B[38;5;132;01m}\u001B[39;00m\u001B[38;5;124m not found\u001B[39m\u001B[38;5;124m\"\u001B[39m)\n\u001B[0;32m    371\u001B[0m \u001B[38;5;28;01mreturn\u001B[39;00m res\n",
      "\u001B[1;31mKeyError\u001B[0m: 'Section postgresql not found'"
     ]
    }
   ],
   "source": [
    "# 从sql源获取数据\n",
    "DataAPI.get_data('gmData_history', begin='20230801').head()"
   ],
   "metadata": {
    "collapsed": false,
    "ExecuteTime": {
     "start_time": "2023-08-16T16:16:28.961560Z",
     "end_time": "2023-08-16T16:16:29.548325Z"
    }
   }
  }
 ],
 "metadata": {
  "kernelspec": {
   "display_name": "Python 3",
   "language": "python",
   "name": "python3"
  },
  "language_info": {
   "codemirror_mode": {
    "name": "ipython",
    "version": 2
   },
   "file_extension": ".py",
   "mimetype": "text/x-python",
   "name": "python",
   "nbconvert_exporter": "python",
   "pygments_lexer": "ipython2",
   "version": "2.7.6"
  }
 },
 "nbformat": 4,
 "nbformat_minor": 0
}
