{
 "cells": [
  {
   "cell_type": "code",
   "execution_count": null,
   "metadata": {
    "collapsed": true,
    "ExecuteTime": {
     "start_time": "2023-10-11T21:11:34.888339Z",
     "end_time": "2023-10-11T21:11:37.061426Z"
    }
   },
   "outputs": [],
   "source": [
    "from XQuant import EnhancingDividend\n",
    "from XQuant import BackTestOptions, BackTestRunner, Strategy, Formatter\n",
    "import pandas as pd\n",
    "import numpy as np\n",
    "\n",
    "begin = \"20200101\"\n",
    "bench_code = \"000300\"\n",
    "ed  = EnhancingDividend(begin=begin, sql=True)"
   ]
  },
  {
   "cell_type": "code",
   "execution_count": null,
   "outputs": [],
   "source": [
    "opts = BackTestOptions(\n",
    "    begin = '20200201',\n",
    "    surname = \"增强红利因子\",\n",
    "    bench_code = bench_code,\n",
    "    method = Strategy.TOP_BOTTOM,\n",
    "    direction = 1,\n",
    "    quantile = 0.3,\n",
    "    # clean_cache = True\n",
    ")"
   ],
   "metadata": {
    "collapsed": false,
    "ExecuteTime": {
     "start_time": "2023-10-11T21:11:37.063433Z",
     "end_time": "2023-10-11T21:11:37.076478Z"
    }
   }
  },
  {
   "cell_type": "code",
   "execution_count": null,
   "outputs": [],
   "source": [
    "bg = BackTestRunner(ed.EnhancingDividend, options=opts)\n",
    "bg.prepare()\n",
    "bg.adjust_signal()\n",
    "bg.run()\n",
    "bg.plot()"
   ],
   "metadata": {
    "collapsed": false,
    "ExecuteTime": {
     "start_time": "2023-10-11T21:02:45.587953Z",
     "end_time": "2023-10-11T21:04:31.044305Z"
    }
   }
  },
  {
   "cell_type": "code",
   "execution_count": null,
   "outputs": [],
   "source": [
    "bg.options.method = Strategy.GROUP\n",
    "bg.run()\n",
    "bg.plot()"
   ],
   "metadata": {
    "collapsed": false,
    "ExecuteTime": {
     "start_time": "2023-10-11T21:07:40.228074Z",
     "end_time": "2023-10-11T21:07:54.629754Z"
    }
   }
  }
 ],
 "metadata": {
  "kernelspec": {
   "display_name": "Python 3",
   "language": "python",
   "name": "python3"
  },
  "language_info": {
   "codemirror_mode": {
    "name": "ipython",
    "version": 2
   },
   "file_extension": ".py",
   "mimetype": "text/x-python",
   "name": "python",
   "nbconvert_exporter": "python",
   "pygments_lexer": "ipython2",
   "version": "2.7.6"
  }
 },
 "nbformat": 4,
 "nbformat_minor": 0
}
