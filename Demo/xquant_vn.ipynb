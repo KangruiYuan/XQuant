{
 "cells": [
  {
   "cell_type": "code",
   "execution_count": 2,
   "metadata": {
    "collapsed": true,
    "ExecuteTime": {
     "start_time": "2023-11-28T11:16:20.207762Z",
     "end_time": "2023-11-28T11:16:20.228834Z"
    }
   },
   "outputs": [],
   "source": [
    "from XQuant import DaGateway\n",
    "from vnpy_scripttrader import ScriptTraderApp, ScriptEngine, init_cli_trading"
   ]
  },
  {
   "cell_type": "code",
   "execution_count": 3,
   "outputs": [
    {
     "name": "stdout",
     "output_type": "stream",
     "text": [
      "找不到数据服务驱动vnpy_，使用默认的RQData数据服务\n",
      "2023-11-28 11:16:23.426920\t交易服务器连接成功\n"
     ]
    }
   ],
   "source": [
    "setting = {\n",
    "        \"用户名\": \"025696\",\n",
    "        \"密码\": \"6Ea6mK\",\n",
    "        \"经纪商代码\": \"DAHK\",\n",
    "        \"交易服务器\": \"222.73.119.230:7007\",\n",
    "        \"行情服务器\": \"101.95.12.110:9706\",\n",
    "        \"授权码\": \"porl99bbo/jrfib5xxgagza5giggzr/u\",\n",
    "    }\n",
    "engine = init_cli_trading([DaGateway])\n",
    "engine.connect_gateway(setting, gateway_name=\"DA\")"
   ],
   "metadata": {
    "collapsed": false,
    "ExecuteTime": {
     "start_time": "2023-11-28T11:16:22.171505Z",
     "end_time": "2023-11-28T11:16:23.442480Z"
    }
   }
  }
 ],
 "metadata": {
  "kernelspec": {
   "display_name": "Python 3",
   "language": "python",
   "name": "python3"
  },
  "language_info": {
   "codemirror_mode": {
    "name": "ipython",
    "version": 2
   },
   "file_extension": ".py",
   "mimetype": "text/x-python",
   "name": "python",
   "nbconvert_exporter": "python",
   "pygments_lexer": "ipython2",
   "version": "2.7.6"
  }
 },
 "nbformat": 4,
 "nbformat_minor": 0
}
