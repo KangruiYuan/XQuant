{
 "cells": [
  {
   "cell_type": "code",
   "execution_count": 24,
   "metadata": {
    "collapsed": true,
    "ExecuteTime": {
     "start_time": "2023-08-16T16:16:56.825765Z",
     "end_time": "2023-08-16T16:16:56.852859Z"
    }
   },
   "outputs": [],
   "source": [
    "from XQuant import Tools, Formatter, Config, TradeDate"
   ]
  },
  {
   "cell_type": "markdown",
   "source": [
    "## Config 常量"
   ],
   "metadata": {
    "collapsed": false
   }
  },
  {
   "cell_type": "code",
   "execution_count": 25,
   "outputs": [
    {
     "name": "stdout",
     "output_type": "stream",
     "text": [
      "['database_dir', 'datasets_name', 'datatables', 'stock_table', 'stock_list', 'stock_num_list', 'futures_list', 'trade_date_table', 'trade_date_list', 'quarter_begin', 'quarter_end']\n"
     ]
    }
   ],
   "source": [
    "print(list(filter(lambda x:'__' not in x, Config.__dict__.keys())))"
   ],
   "metadata": {
    "collapsed": false,
    "ExecuteTime": {
     "start_time": "2023-08-16T16:16:56.832789Z",
     "end_time": "2023-08-16T16:16:56.894651Z"
    }
   }
  },
  {
   "cell_type": "markdown",
   "source": [
    "- database_dir: dict, 所有数据的文件夹路径\n",
    "- datasets_name: list, database_dir的键\n",
    "- datatables: dict, 具体的表名及相关信息\n",
    "- stock_table: 股票信息表\n",
    "- stock_list: 股票编码列表\n",
    "- stock_num_list: 股票编码（仅数字部分）列表\n",
    "- futures_list: 期货代号\n",
    "- trade_date_table: 交易时间表\n",
    "- trade_date_list: 可交易日期\n",
    "- quarter_begin: 季度开始日期\n",
    "- quarter_end: 季度结束日期"
   ],
   "metadata": {
    "collapsed": false
   }
  },
  {
   "cell_type": "markdown",
   "source": [
    "## TradeDate 时间管理类"
   ],
   "metadata": {
    "collapsed": false
   }
  },
  {
   "cell_type": "code",
   "execution_count": 26,
   "outputs": [
    {
     "name": "stdout",
     "output_type": "stream",
     "text": [
      "True\n",
      "True\n",
      "True\n",
      "True\n"
     ]
    }
   ],
   "source": [
    "# 判单是否属于日期类字符串/整形\n",
    "print(TradeDate.is_date(\"2015-12-16\"))\n",
    "print(TradeDate.is_date(\"20151216\"))\n",
    "print(TradeDate.is_date(20151216))\n",
    "print(TradeDate.is_date(\"2015年12月16日\"))"
   ],
   "metadata": {
    "collapsed": false,
    "ExecuteTime": {
     "start_time": "2023-08-16T16:16:56.848845Z",
     "end_time": "2023-08-16T16:16:56.908699Z"
    }
   }
  },
  {
   "cell_type": "code",
   "execution_count": 27,
   "outputs": [
    {
     "data": {
      "text/plain": "Timestamp('2015-12-16 00:00:00')"
     },
     "execution_count": 27,
     "metadata": {},
     "output_type": "execute_result"
    }
   ],
   "source": [
    "# 日期标准化为pd.TimeStamp\n",
    "TradeDate.format_date(\"2015年12月16日\")"
   ],
   "metadata": {
    "collapsed": false,
    "ExecuteTime": {
     "start_time": "2023-08-16T16:16:56.863898Z",
     "end_time": "2023-08-16T16:16:56.913814Z"
    }
   }
  },
  {
   "cell_type": "code",
   "execution_count": 28,
   "outputs": [
    {
     "name": "stdout",
     "output_type": "stream",
     "text": [
      "Help on method extend_date_span in module XQuant.Utils:\n",
      "\n",
      "extend_date_span(begin: Union[str, int, datetime.datetime, datetime.date, pandas._libs.tslibs.timestamps.Timestamp], end: Union[str, int, datetime.datetime, datetime.date, pandas._libs.tslibs.timestamps.Timestamp], freq: Literal['Q', 'q', 'Y', 'y', 'M', 'm']) -> tuple[datetime.datetime, datetime.datetime] method of builtins.type instance\n",
      "    将区间[begin, end] 进行拓宽, 依据freq将拓展至指定位置, 详见下\n",
      "    freq = M :\n",
      "        [2018-01-04, 2018-04-20] -> [2018-01-01, 2018-04-30]\n",
      "        [2018-01-01, 2018-04-20] -> [2018-01-01, 2018-04-30]\n",
      "        [2018-01-04, 2018-04-30] -> [2018-01-01, 2018-04-30]\n",
      "    freq = Q :\n",
      "        [2018-01-04, 2018-04-20] -> [2018-01-01, 2018-06-30]\n",
      "        [2018-01-01, 2018-04-20] -> [2018-01-01, 2018-06-30]\n",
      "        [2018-01-04, 2018-06-30] -> [2018-01-01, 2018-06-30]\n",
      "    freq = Y :\n",
      "        [2018-01-04, 2018-04-20] -> [2018-01-01, 2018-12-31]\n",
      "        [2018-01-01, 2018-04-20] -> [2018-01-01, 2018-12-31]\n",
      "        [2018-01-04, 2018-12-31] -> [2018-01-01, 2018-12-31]\n",
      "\n"
     ]
    }
   ],
   "source": [
    "# 将区间[begin, end] 进行拓宽, 依据freq将拓展至指定位置\n",
    "help(TradeDate.extend_date_span)"
   ],
   "metadata": {
    "collapsed": false,
    "ExecuteTime": {
     "start_time": "2023-08-16T16:16:56.878951Z",
     "end_time": "2023-08-16T16:16:56.913814Z"
    }
   }
  },
  {
   "cell_type": "code",
   "execution_count": 29,
   "outputs": [
    {
     "data": {
      "text/plain": "True"
     },
     "execution_count": 29,
     "metadata": {},
     "output_type": "execute_result"
    }
   ],
   "source": [
    "# 判断是否属于交易日\n",
    "TradeDate.is_trade_date(\"20230811\")"
   ],
   "metadata": {
    "collapsed": false,
    "ExecuteTime": {
     "start_time": "2023-08-16T16:16:56.893647Z",
     "end_time": "2023-08-16T16:16:56.913814Z"
    }
   }
  },
  {
   "cell_type": "code",
   "execution_count": 30,
   "outputs": [
    {
     "name": "stdout",
     "output_type": "stream",
     "text": [
      "2023-08-14 00:00:00\n",
      "2023-08-10 00:00:00\n"
     ]
    }
   ],
   "source": [
    "# 根据lag对交易日进行偏移\n",
    "print(TradeDate.shift_trade_date(\"20230811\", lag=1))\n",
    "print(TradeDate.shift_trade_date(\"20230811\", lag=-1))"
   ],
   "metadata": {
    "collapsed": false,
    "ExecuteTime": {
     "start_time": "2023-08-16T16:16:56.909703Z",
     "end_time": "2023-08-16T16:16:56.943919Z"
    }
   }
  },
  {
   "cell_type": "code",
   "execution_count": 31,
   "outputs": [
    {
     "name": "stdout",
     "output_type": "stream",
     "text": [
      "[Timestamp('2023-07-03 00:00:00'), Timestamp('2023-07-04 00:00:00'), Timestamp('2023-07-05 00:00:00'), Timestamp('2023-07-06 00:00:00'), Timestamp('2023-07-07 00:00:00'), Timestamp('2023-07-10 00:00:00'), Timestamp('2023-07-11 00:00:00')]\n"
     ]
    }
   ],
   "source": [
    "# 返回两个日期之间的所有交易日的列表\n",
    "print(TradeDate.range_trade_date('20230702', '20230709'))"
   ],
   "metadata": {
    "collapsed": false,
    "ExecuteTime": {
     "start_time": "2023-08-16T16:16:56.925855Z",
     "end_time": "2023-08-16T16:16:56.943919Z"
    }
   }
  },
  {
   "cell_type": "code",
   "execution_count": 32,
   "outputs": [
    {
     "name": "stdout",
     "output_type": "stream",
     "text": [
      "[Timestamp('2023-07-03 00:00:00'), Timestamp('2023-07-04 00:00:00'), Timestamp('2023-07-05 00:00:00'), Timestamp('2023-07-06 00:00:00'), Timestamp('2023-07-07 00:00:00'), Timestamp('2023-07-10 00:00:00'), Timestamp('2023-07-11 00:00:00'), Timestamp('2023-07-12 00:00:00'), Timestamp('2023-07-13 00:00:00'), Timestamp('2023-07-14 00:00:00'), Timestamp('2023-07-17 00:00:00')]\n"
     ]
    }
   ],
   "source": [
    "# 根据偏移返回其间的交易日的列表\n",
    "print(TradeDate.range_trade_date('20230702', lag=10))"
   ],
   "metadata": {
    "collapsed": false,
    "ExecuteTime": {
     "start_time": "2023-08-16T16:16:56.940908Z",
     "end_time": "2023-08-16T16:16:56.955961Z"
    }
   }
  },
  {
   "cell_type": "markdown",
   "source": [
    "## Formatter 格式化\n",
    "\n",
    "is_date, date同TradeDate的is_date, format_date"
   ],
   "metadata": {
    "collapsed": false
   }
  },
  {
   "cell_type": "code",
   "execution_count": 33,
   "outputs": [
    {
     "name": "stdout",
     "output_type": "stream",
     "text": [
      "000001.SZ\n",
      "000001.SZ\n",
      "000001.SZ\n"
     ]
    }
   ],
   "source": [
    "# 股票期货代码格式化(仅支持单个)\n",
    "print(Formatter.stock('1'))\n",
    "print(Formatter.stock(1))\n",
    "print(Formatter.stock('0001'))\n",
    "# Formatter.future"
   ],
   "metadata": {
    "collapsed": false,
    "ExecuteTime": {
     "start_time": "2023-08-16T16:16:56.956965Z",
     "end_time": "2023-08-16T16:16:56.994093Z"
    }
   }
  },
  {
   "cell_type": "code",
   "execution_count": 34,
   "outputs": [
    {
     "data": {
      "text/plain": "['000001.SZ', '000002.SZ', '000003.SZ']"
     },
     "execution_count": 34,
     "metadata": {},
     "output_type": "execute_result"
    }
   ],
   "source": [
    "# 股票期货代码格式化(支持向量)\n",
    "Formatter.format_code([1,2,3], kind='stock')"
   ],
   "metadata": {
    "collapsed": false,
    "ExecuteTime": {
     "start_time": "2023-08-16T16:16:56.974023Z",
     "end_time": "2023-08-16T16:16:56.997103Z"
    }
   }
  },
  {
   "cell_type": "code",
   "execution_count": 35,
   "outputs": [],
   "source": [
    "# 对宽表类型的数据进行格式化\n",
    "from XQuant.Collector import DataAPI"
   ],
   "metadata": {
    "collapsed": false,
    "ExecuteTime": {
     "start_time": "2023-08-16T16:16:56.988072Z",
     "end_time": "2023-08-16T16:16:57.002121Z"
    }
   }
  },
  {
   "cell_type": "code",
   "execution_count": 36,
   "outputs": [
    {
     "data": {
      "text/plain": "ticker            000001        000002        000004        000005  \\\ntradeDate                                                            \n2023-01-03  2.672195e+11  2.120278e+11  1.320509e+09  1.979464e+09   \n2023-01-04  2.778927e+11  2.217976e+11  1.323166e+09  1.979464e+09   \n2023-01-05  2.809977e+11  2.248216e+11  1.308553e+09  2.021805e+09   \n2023-01-06  2.837145e+11  2.235422e+11  1.276669e+09  2.000635e+09   \n2023-01-09  2.872076e+11  2.184247e+11  1.287297e+09  1.990049e+09   \n\nticker            000006        000007        000008        000009  \\\ntradeDate                                                            \n2023-01-03  8.261969e+09  2.799300e+09  6.562677e+09  3.151799e+10   \n2023-01-04  8.315969e+09  2.726546e+09  6.785141e+09  3.133745e+10   \n2023-01-05  7.991970e+09  2.723081e+09  6.757333e+09  3.162116e+10   \n2023-01-06  7.748971e+09  2.709223e+09  6.701717e+09  3.167275e+10   \n2023-01-09  7.694972e+09  2.757726e+09  6.673909e+09  3.144062e+10   \n\nticker            000010        000011  ...       900941       900942  \\\ntradeDate                               ...                             \n2023-01-03  3.948922e+09  6.770323e+09  ...  514960041.0  597361728.6   \n2023-01-04  3.959509e+09  6.919317e+09  ...  517472041.2  598820487.4   \n2023-01-05  3.874814e+09  6.949116e+09  ...  519984041.4  601008625.6   \n2023-01-06  4.107726e+09  6.812041e+09  ...  518728041.3  585691658.2   \n2023-01-09  3.938335e+09  6.770323e+09  ...  517472041.2  590797314.0   \n\nticker           900943        900945       900946        900947  \\\ntradeDate                                                          \n2023-01-03  147987000.0  1.253253e+10  241621070.0  1.317088e+09   \n2023-01-04  145800000.0  1.257575e+10  240556660.0  1.317088e+09   \n2023-01-05  144585000.0  1.253253e+10  243749890.0  1.311820e+09   \n2023-01-06  143127000.0  1.231646e+10  241621070.0  1.306552e+09   \n2023-01-09  143613000.0  1.248932e+10  245878710.0  1.306552e+09   \n\nticker            900948       900952       900953       900957  \ntradeDate                                                        \n2023-01-03  4.337591e+09  554634745.5  264320000.0  195091000.0  \n2023-01-04  4.272511e+09  550630162.5  262400000.0  195091000.0  \n2023-01-05  4.321321e+09  554634745.5  288640000.0  203816000.0  \n2023-01-06  4.448228e+09  544623288.0  296960000.0  203118000.0  \n2023-01-09  4.532832e+09  550630162.5  295040000.0  203467000.0  \n\n[5 rows x 5061 columns]",
      "text/html": "<div>\n<style scoped>\n    .dataframe tbody tr th:only-of-type {\n        vertical-align: middle;\n    }\n\n    .dataframe tbody tr th {\n        vertical-align: top;\n    }\n\n    .dataframe thead th {\n        text-align: right;\n    }\n</style>\n<table border=\"1\" class=\"dataframe\">\n  <thead>\n    <tr style=\"text-align: right;\">\n      <th>ticker</th>\n      <th>000001</th>\n      <th>000002</th>\n      <th>000004</th>\n      <th>000005</th>\n      <th>000006</th>\n      <th>000007</th>\n      <th>000008</th>\n      <th>000009</th>\n      <th>000010</th>\n      <th>000011</th>\n      <th>...</th>\n      <th>900941</th>\n      <th>900942</th>\n      <th>900943</th>\n      <th>900945</th>\n      <th>900946</th>\n      <th>900947</th>\n      <th>900948</th>\n      <th>900952</th>\n      <th>900953</th>\n      <th>900957</th>\n    </tr>\n    <tr>\n      <th>tradeDate</th>\n      <th></th>\n      <th></th>\n      <th></th>\n      <th></th>\n      <th></th>\n      <th></th>\n      <th></th>\n      <th></th>\n      <th></th>\n      <th></th>\n      <th></th>\n      <th></th>\n      <th></th>\n      <th></th>\n      <th></th>\n      <th></th>\n      <th></th>\n      <th></th>\n      <th></th>\n      <th></th>\n      <th></th>\n    </tr>\n  </thead>\n  <tbody>\n    <tr>\n      <th>2023-01-03</th>\n      <td>2.672195e+11</td>\n      <td>2.120278e+11</td>\n      <td>1.320509e+09</td>\n      <td>1.979464e+09</td>\n      <td>8.261969e+09</td>\n      <td>2.799300e+09</td>\n      <td>6.562677e+09</td>\n      <td>3.151799e+10</td>\n      <td>3.948922e+09</td>\n      <td>6.770323e+09</td>\n      <td>...</td>\n      <td>514960041.0</td>\n      <td>597361728.6</td>\n      <td>147987000.0</td>\n      <td>1.253253e+10</td>\n      <td>241621070.0</td>\n      <td>1.317088e+09</td>\n      <td>4.337591e+09</td>\n      <td>554634745.5</td>\n      <td>264320000.0</td>\n      <td>195091000.0</td>\n    </tr>\n    <tr>\n      <th>2023-01-04</th>\n      <td>2.778927e+11</td>\n      <td>2.217976e+11</td>\n      <td>1.323166e+09</td>\n      <td>1.979464e+09</td>\n      <td>8.315969e+09</td>\n      <td>2.726546e+09</td>\n      <td>6.785141e+09</td>\n      <td>3.133745e+10</td>\n      <td>3.959509e+09</td>\n      <td>6.919317e+09</td>\n      <td>...</td>\n      <td>517472041.2</td>\n      <td>598820487.4</td>\n      <td>145800000.0</td>\n      <td>1.257575e+10</td>\n      <td>240556660.0</td>\n      <td>1.317088e+09</td>\n      <td>4.272511e+09</td>\n      <td>550630162.5</td>\n      <td>262400000.0</td>\n      <td>195091000.0</td>\n    </tr>\n    <tr>\n      <th>2023-01-05</th>\n      <td>2.809977e+11</td>\n      <td>2.248216e+11</td>\n      <td>1.308553e+09</td>\n      <td>2.021805e+09</td>\n      <td>7.991970e+09</td>\n      <td>2.723081e+09</td>\n      <td>6.757333e+09</td>\n      <td>3.162116e+10</td>\n      <td>3.874814e+09</td>\n      <td>6.949116e+09</td>\n      <td>...</td>\n      <td>519984041.4</td>\n      <td>601008625.6</td>\n      <td>144585000.0</td>\n      <td>1.253253e+10</td>\n      <td>243749890.0</td>\n      <td>1.311820e+09</td>\n      <td>4.321321e+09</td>\n      <td>554634745.5</td>\n      <td>288640000.0</td>\n      <td>203816000.0</td>\n    </tr>\n    <tr>\n      <th>2023-01-06</th>\n      <td>2.837145e+11</td>\n      <td>2.235422e+11</td>\n      <td>1.276669e+09</td>\n      <td>2.000635e+09</td>\n      <td>7.748971e+09</td>\n      <td>2.709223e+09</td>\n      <td>6.701717e+09</td>\n      <td>3.167275e+10</td>\n      <td>4.107726e+09</td>\n      <td>6.812041e+09</td>\n      <td>...</td>\n      <td>518728041.3</td>\n      <td>585691658.2</td>\n      <td>143127000.0</td>\n      <td>1.231646e+10</td>\n      <td>241621070.0</td>\n      <td>1.306552e+09</td>\n      <td>4.448228e+09</td>\n      <td>544623288.0</td>\n      <td>296960000.0</td>\n      <td>203118000.0</td>\n    </tr>\n    <tr>\n      <th>2023-01-09</th>\n      <td>2.872076e+11</td>\n      <td>2.184247e+11</td>\n      <td>1.287297e+09</td>\n      <td>1.990049e+09</td>\n      <td>7.694972e+09</td>\n      <td>2.757726e+09</td>\n      <td>6.673909e+09</td>\n      <td>3.144062e+10</td>\n      <td>3.938335e+09</td>\n      <td>6.770323e+09</td>\n      <td>...</td>\n      <td>517472041.2</td>\n      <td>590797314.0</td>\n      <td>143613000.0</td>\n      <td>1.248932e+10</td>\n      <td>245878710.0</td>\n      <td>1.306552e+09</td>\n      <td>4.532832e+09</td>\n      <td>550630162.5</td>\n      <td>295040000.0</td>\n      <td>203467000.0</td>\n    </tr>\n  </tbody>\n</table>\n<p>5 rows × 5061 columns</p>\n</div>"
     },
     "execution_count": 36,
     "metadata": {},
     "output_type": "execute_result"
    }
   ],
   "source": [
    "df = DataAPI.get_data(name='MktEqud', begin='20230101', fields=[\"ticker\", \"tradeDate\", \"marketValue\"]).pivot(index='tradeDate', columns='ticker', values='marketValue')\n",
    "df.head()"
   ],
   "metadata": {
    "collapsed": false,
    "ExecuteTime": {
     "start_time": "2023-08-16T16:16:57.003125Z",
     "end_time": "2023-08-16T16:16:57.922656Z"
    }
   }
  },
  {
   "cell_type": "code",
   "execution_count": 37,
   "outputs": [
    {
     "data": {
      "text/plain": "ticker         600000.SH  600001.SH  600002.SH  600003.SH     600004.SH  \\\n2023-01-03  2.122162e+11        NaN        NaN        NaN  3.445942e+10   \n2023-01-04  2.145644e+11        NaN        NaN        NaN  3.460142e+10   \n2023-01-05  2.157385e+11        NaN        NaN        NaN  3.552444e+10   \n2023-01-06  2.154450e+11        NaN        NaN        NaN  3.453042e+10   \n2023-01-09  2.154450e+11        NaN        NaN        NaN  3.609245e+10   \n\nticker      600005.SH     600006.SH     600007.SH     600008.SH     600009.SH  \\\n2023-01-03        NaN  1.132000e+10  1.624747e+10  2.114090e+10  1.399771e+11   \n2023-01-04        NaN  1.132000e+10  1.660002e+10  2.121431e+10  1.404250e+11   \n2023-01-05        NaN  1.132000e+10  1.656980e+10  2.121431e+10  1.451780e+11   \n2023-01-06        NaN  1.134000e+10  1.628776e+10  2.106750e+10  1.418434e+11   \n2023-01-09        NaN  1.144000e+10  1.617696e+10  2.114090e+10  1.456508e+11   \n\nticker      ...  301387.SZ     301388.SZ     301389.SZ     301391.SZ  \\\n2023-01-03  ...        NaN  2.476158e+09  5.406345e+09  6.194120e+09   \n2023-01-04  ...        NaN  2.456693e+09  5.315625e+09  6.232880e+09   \n2023-01-05  ...        NaN  2.482305e+09  5.491395e+09  6.177800e+09   \n2023-01-06  ...        NaN  2.540700e+09  5.446035e+09  6.387240e+09   \n2023-01-09  ...        NaN  2.564263e+09  5.451705e+09  6.738800e+09   \n\nticker         301396.SZ     301398.SZ  301408.SZ  301419.SZ  301429.SZ  \\\n2023-01-03  3.317076e+09  2.526403e+09        NaN        NaN        NaN   \n2023-01-04  3.276869e+09  2.452003e+09        NaN        NaN        NaN   \n2023-01-05  3.290576e+09  2.538403e+09        NaN        NaN        NaN   \n2023-01-06  3.262248e+09  2.550403e+09        NaN        NaN        NaN   \n2023-01-09  3.279610e+09  2.680003e+09        NaN        NaN        NaN   \n\nticker      301439.SZ  \n2023-01-03        NaN  \n2023-01-04        NaN  \n2023-01-05        NaN  \n2023-01-06        NaN  \n2023-01-09        NaN  \n\n[5 rows x 5291 columns]",
      "text/html": "<div>\n<style scoped>\n    .dataframe tbody tr th:only-of-type {\n        vertical-align: middle;\n    }\n\n    .dataframe tbody tr th {\n        vertical-align: top;\n    }\n\n    .dataframe thead th {\n        text-align: right;\n    }\n</style>\n<table border=\"1\" class=\"dataframe\">\n  <thead>\n    <tr style=\"text-align: right;\">\n      <th>ticker</th>\n      <th>600000.SH</th>\n      <th>600001.SH</th>\n      <th>600002.SH</th>\n      <th>600003.SH</th>\n      <th>600004.SH</th>\n      <th>600005.SH</th>\n      <th>600006.SH</th>\n      <th>600007.SH</th>\n      <th>600008.SH</th>\n      <th>600009.SH</th>\n      <th>...</th>\n      <th>301387.SZ</th>\n      <th>301388.SZ</th>\n      <th>301389.SZ</th>\n      <th>301391.SZ</th>\n      <th>301396.SZ</th>\n      <th>301398.SZ</th>\n      <th>301408.SZ</th>\n      <th>301419.SZ</th>\n      <th>301429.SZ</th>\n      <th>301439.SZ</th>\n    </tr>\n  </thead>\n  <tbody>\n    <tr>\n      <th>2023-01-03</th>\n      <td>2.122162e+11</td>\n      <td>NaN</td>\n      <td>NaN</td>\n      <td>NaN</td>\n      <td>3.445942e+10</td>\n      <td>NaN</td>\n      <td>1.132000e+10</td>\n      <td>1.624747e+10</td>\n      <td>2.114090e+10</td>\n      <td>1.399771e+11</td>\n      <td>...</td>\n      <td>NaN</td>\n      <td>2.476158e+09</td>\n      <td>5.406345e+09</td>\n      <td>6.194120e+09</td>\n      <td>3.317076e+09</td>\n      <td>2.526403e+09</td>\n      <td>NaN</td>\n      <td>NaN</td>\n      <td>NaN</td>\n      <td>NaN</td>\n    </tr>\n    <tr>\n      <th>2023-01-04</th>\n      <td>2.145644e+11</td>\n      <td>NaN</td>\n      <td>NaN</td>\n      <td>NaN</td>\n      <td>3.460142e+10</td>\n      <td>NaN</td>\n      <td>1.132000e+10</td>\n      <td>1.660002e+10</td>\n      <td>2.121431e+10</td>\n      <td>1.404250e+11</td>\n      <td>...</td>\n      <td>NaN</td>\n      <td>2.456693e+09</td>\n      <td>5.315625e+09</td>\n      <td>6.232880e+09</td>\n      <td>3.276869e+09</td>\n      <td>2.452003e+09</td>\n      <td>NaN</td>\n      <td>NaN</td>\n      <td>NaN</td>\n      <td>NaN</td>\n    </tr>\n    <tr>\n      <th>2023-01-05</th>\n      <td>2.157385e+11</td>\n      <td>NaN</td>\n      <td>NaN</td>\n      <td>NaN</td>\n      <td>3.552444e+10</td>\n      <td>NaN</td>\n      <td>1.132000e+10</td>\n      <td>1.656980e+10</td>\n      <td>2.121431e+10</td>\n      <td>1.451780e+11</td>\n      <td>...</td>\n      <td>NaN</td>\n      <td>2.482305e+09</td>\n      <td>5.491395e+09</td>\n      <td>6.177800e+09</td>\n      <td>3.290576e+09</td>\n      <td>2.538403e+09</td>\n      <td>NaN</td>\n      <td>NaN</td>\n      <td>NaN</td>\n      <td>NaN</td>\n    </tr>\n    <tr>\n      <th>2023-01-06</th>\n      <td>2.154450e+11</td>\n      <td>NaN</td>\n      <td>NaN</td>\n      <td>NaN</td>\n      <td>3.453042e+10</td>\n      <td>NaN</td>\n      <td>1.134000e+10</td>\n      <td>1.628776e+10</td>\n      <td>2.106750e+10</td>\n      <td>1.418434e+11</td>\n      <td>...</td>\n      <td>NaN</td>\n      <td>2.540700e+09</td>\n      <td>5.446035e+09</td>\n      <td>6.387240e+09</td>\n      <td>3.262248e+09</td>\n      <td>2.550403e+09</td>\n      <td>NaN</td>\n      <td>NaN</td>\n      <td>NaN</td>\n      <td>NaN</td>\n    </tr>\n    <tr>\n      <th>2023-01-09</th>\n      <td>2.154450e+11</td>\n      <td>NaN</td>\n      <td>NaN</td>\n      <td>NaN</td>\n      <td>3.609245e+10</td>\n      <td>NaN</td>\n      <td>1.144000e+10</td>\n      <td>1.617696e+10</td>\n      <td>2.114090e+10</td>\n      <td>1.456508e+11</td>\n      <td>...</td>\n      <td>NaN</td>\n      <td>2.564263e+09</td>\n      <td>5.451705e+09</td>\n      <td>6.738800e+09</td>\n      <td>3.279610e+09</td>\n      <td>2.680003e+09</td>\n      <td>NaN</td>\n      <td>NaN</td>\n      <td>NaN</td>\n      <td>NaN</td>\n    </tr>\n  </tbody>\n</table>\n<p>5 rows × 5291 columns</p>\n</div>"
     },
     "execution_count": 37,
     "metadata": {},
     "output_type": "execute_result"
    }
   ],
   "source": [
    "Formatter.dataframe(df).head()"
   ],
   "metadata": {
    "collapsed": false,
    "ExecuteTime": {
     "start_time": "2023-08-16T16:16:57.922656Z",
     "end_time": "2023-08-16T16:16:58.006472Z"
    }
   }
  },
  {
   "cell_type": "markdown",
   "source": [
    "## Tools 工具类"
   ],
   "metadata": {
    "collapsed": false
   }
  },
  {
   "cell_type": "code",
   "execution_count": 38,
   "outputs": [
    {
     "data": {
      "text/plain": "ticker         600000.SH  600001.SH  600002.SH  600003.SH     600004.SH  \\\n2023-01-04  2.122162e+11        NaN        NaN        NaN  3.445942e+10   \n2023-01-05  2.145644e+11        NaN        NaN        NaN  3.460142e+10   \n2023-01-06  2.157385e+11        NaN        NaN        NaN  3.552444e+10   \n2023-01-09  2.154450e+11        NaN        NaN        NaN  3.453042e+10   \n2023-01-10  2.154450e+11        NaN        NaN        NaN  3.609245e+10   \n\nticker      600005.SH     600006.SH     600007.SH     600008.SH     600009.SH  \\\n2023-01-04        NaN  1.132000e+10  1.624747e+10  2.114090e+10  1.399771e+11   \n2023-01-05        NaN  1.132000e+10  1.660002e+10  2.121431e+10  1.404250e+11   \n2023-01-06        NaN  1.132000e+10  1.656980e+10  2.121431e+10  1.451780e+11   \n2023-01-09        NaN  1.134000e+10  1.628776e+10  2.106750e+10  1.418434e+11   \n2023-01-10        NaN  1.144000e+10  1.617696e+10  2.114090e+10  1.456508e+11   \n\nticker      ...  301387.SZ     301388.SZ     301389.SZ     301391.SZ  \\\n2023-01-04  ...        NaN  2.476158e+09  5.406345e+09  6.194120e+09   \n2023-01-05  ...        NaN  2.456693e+09  5.315625e+09  6.232880e+09   \n2023-01-06  ...        NaN  2.482305e+09  5.491395e+09  6.177800e+09   \n2023-01-09  ...        NaN  2.540700e+09  5.446035e+09  6.387240e+09   \n2023-01-10  ...        NaN  2.564263e+09  5.451705e+09  6.738800e+09   \n\nticker         301396.SZ     301398.SZ  301408.SZ  301419.SZ  301429.SZ  \\\n2023-01-04  3.317076e+09  2.526403e+09        NaN        NaN        NaN   \n2023-01-05  3.276869e+09  2.452003e+09        NaN        NaN        NaN   \n2023-01-06  3.290576e+09  2.538403e+09        NaN        NaN        NaN   \n2023-01-09  3.262248e+09  2.550403e+09        NaN        NaN        NaN   \n2023-01-10  3.279610e+09  2.680003e+09        NaN        NaN        NaN   \n\nticker      301439.SZ  \n2023-01-04        NaN  \n2023-01-05        NaN  \n2023-01-06        NaN  \n2023-01-09        NaN  \n2023-01-10        NaN  \n\n[5 rows x 5291 columns]",
      "text/html": "<div>\n<style scoped>\n    .dataframe tbody tr th:only-of-type {\n        vertical-align: middle;\n    }\n\n    .dataframe tbody tr th {\n        vertical-align: top;\n    }\n\n    .dataframe thead th {\n        text-align: right;\n    }\n</style>\n<table border=\"1\" class=\"dataframe\">\n  <thead>\n    <tr style=\"text-align: right;\">\n      <th>ticker</th>\n      <th>600000.SH</th>\n      <th>600001.SH</th>\n      <th>600002.SH</th>\n      <th>600003.SH</th>\n      <th>600004.SH</th>\n      <th>600005.SH</th>\n      <th>600006.SH</th>\n      <th>600007.SH</th>\n      <th>600008.SH</th>\n      <th>600009.SH</th>\n      <th>...</th>\n      <th>301387.SZ</th>\n      <th>301388.SZ</th>\n      <th>301389.SZ</th>\n      <th>301391.SZ</th>\n      <th>301396.SZ</th>\n      <th>301398.SZ</th>\n      <th>301408.SZ</th>\n      <th>301419.SZ</th>\n      <th>301429.SZ</th>\n      <th>301439.SZ</th>\n    </tr>\n  </thead>\n  <tbody>\n    <tr>\n      <th>2023-01-04</th>\n      <td>2.122162e+11</td>\n      <td>NaN</td>\n      <td>NaN</td>\n      <td>NaN</td>\n      <td>3.445942e+10</td>\n      <td>NaN</td>\n      <td>1.132000e+10</td>\n      <td>1.624747e+10</td>\n      <td>2.114090e+10</td>\n      <td>1.399771e+11</td>\n      <td>...</td>\n      <td>NaN</td>\n      <td>2.476158e+09</td>\n      <td>5.406345e+09</td>\n      <td>6.194120e+09</td>\n      <td>3.317076e+09</td>\n      <td>2.526403e+09</td>\n      <td>NaN</td>\n      <td>NaN</td>\n      <td>NaN</td>\n      <td>NaN</td>\n    </tr>\n    <tr>\n      <th>2023-01-05</th>\n      <td>2.145644e+11</td>\n      <td>NaN</td>\n      <td>NaN</td>\n      <td>NaN</td>\n      <td>3.460142e+10</td>\n      <td>NaN</td>\n      <td>1.132000e+10</td>\n      <td>1.660002e+10</td>\n      <td>2.121431e+10</td>\n      <td>1.404250e+11</td>\n      <td>...</td>\n      <td>NaN</td>\n      <td>2.456693e+09</td>\n      <td>5.315625e+09</td>\n      <td>6.232880e+09</td>\n      <td>3.276869e+09</td>\n      <td>2.452003e+09</td>\n      <td>NaN</td>\n      <td>NaN</td>\n      <td>NaN</td>\n      <td>NaN</td>\n    </tr>\n    <tr>\n      <th>2023-01-06</th>\n      <td>2.157385e+11</td>\n      <td>NaN</td>\n      <td>NaN</td>\n      <td>NaN</td>\n      <td>3.552444e+10</td>\n      <td>NaN</td>\n      <td>1.132000e+10</td>\n      <td>1.656980e+10</td>\n      <td>2.121431e+10</td>\n      <td>1.451780e+11</td>\n      <td>...</td>\n      <td>NaN</td>\n      <td>2.482305e+09</td>\n      <td>5.491395e+09</td>\n      <td>6.177800e+09</td>\n      <td>3.290576e+09</td>\n      <td>2.538403e+09</td>\n      <td>NaN</td>\n      <td>NaN</td>\n      <td>NaN</td>\n      <td>NaN</td>\n    </tr>\n    <tr>\n      <th>2023-01-09</th>\n      <td>2.154450e+11</td>\n      <td>NaN</td>\n      <td>NaN</td>\n      <td>NaN</td>\n      <td>3.453042e+10</td>\n      <td>NaN</td>\n      <td>1.134000e+10</td>\n      <td>1.628776e+10</td>\n      <td>2.106750e+10</td>\n      <td>1.418434e+11</td>\n      <td>...</td>\n      <td>NaN</td>\n      <td>2.540700e+09</td>\n      <td>5.446035e+09</td>\n      <td>6.387240e+09</td>\n      <td>3.262248e+09</td>\n      <td>2.550403e+09</td>\n      <td>NaN</td>\n      <td>NaN</td>\n      <td>NaN</td>\n      <td>NaN</td>\n    </tr>\n    <tr>\n      <th>2023-01-10</th>\n      <td>2.154450e+11</td>\n      <td>NaN</td>\n      <td>NaN</td>\n      <td>NaN</td>\n      <td>3.609245e+10</td>\n      <td>NaN</td>\n      <td>1.144000e+10</td>\n      <td>1.617696e+10</td>\n      <td>2.114090e+10</td>\n      <td>1.456508e+11</td>\n      <td>...</td>\n      <td>NaN</td>\n      <td>2.564263e+09</td>\n      <td>5.451705e+09</td>\n      <td>6.738800e+09</td>\n      <td>3.279610e+09</td>\n      <td>2.680003e+09</td>\n      <td>NaN</td>\n      <td>NaN</td>\n      <td>NaN</td>\n      <td>NaN</td>\n    </tr>\n  </tbody>\n</table>\n<p>5 rows × 5291 columns</p>\n</div>"
     },
     "execution_count": 38,
     "metadata": {},
     "output_type": "execute_result"
    }
   ],
   "source": [
    "# 数据滞后及清洗\n",
    "Tools.info_lag(df, n_lag=1, clean=True).head()"
   ],
   "metadata": {
    "collapsed": false,
    "ExecuteTime": {
     "start_time": "2023-08-16T16:16:57.953763Z",
     "end_time": "2023-08-16T16:16:58.037571Z"
    }
   }
  },
  {
   "cell_type": "markdown",
   "source": [
    "Tools.watcher\n",
    "\n",
    "用作修饰器，监察函数运行时间"
   ],
   "metadata": {
    "collapsed": false
   }
  },
  {
   "cell_type": "code",
   "execution_count": 39,
   "outputs": [
    {
     "data": {
      "text/plain": "[[0, 1, 2], [3, 4, 5], [6, 7, 8], [9]]"
     },
     "execution_count": 39,
     "metadata": {},
     "output_type": "execute_result"
    }
   ],
   "source": [
    "from XQuant import Tools\n",
    "# 对长向量进行批次划分\n",
    "list(Tools.packaging(series=[0, 1, 2, 3, 4, 5, 6, 7, 8, 9], pat=3))"
   ],
   "metadata": {
    "collapsed": false,
    "ExecuteTime": {
     "start_time": "2023-08-16T16:16:58.003436Z",
     "end_time": "2023-08-16T16:16:58.078210Z"
    }
   }
  },
  {
   "cell_type": "code",
   "execution_count": 40,
   "outputs": [
    {
     "data": {
      "text/plain": "{'postgresql': {'host': 'localhost',\n  'database': 'QS',\n  'user': 'readonly',\n  'password': 'read123456',\n  'port': '5432'}}"
     },
     "execution_count": 40,
     "metadata": {},
     "output_type": "execute_result"
    }
   ],
   "source": [
    "# 默认读取Tokens文件夹中的tokens\n",
    "Tools.get_config()"
   ],
   "metadata": {
    "collapsed": false,
    "ExecuteTime": {
     "start_time": "2023-08-16T16:16:58.018505Z",
     "end_time": "2023-08-16T16:16:58.086236Z"
    }
   }
  },
  {
   "cell_type": "code",
   "execution_count": 41,
   "outputs": [
    {
     "data": {
      "text/plain": "'E:\\\\Share\\\\Stk_Data\\\\dataFile\\\\MktEqud\\\\MktEqud_Y2023_Q3.h5'"
     },
     "execution_count": 41,
     "metadata": {},
     "output_type": "execute_result"
    }
   ],
   "source": [
    "# 获取某个数据表的最新文件路径\n",
    "Tools.get_newest_file('MktEqud')"
   ],
   "metadata": {
    "collapsed": false,
    "ExecuteTime": {
     "start_time": "2023-08-16T16:16:58.032554Z",
     "end_time": "2023-08-16T16:16:58.096270Z"
    }
   }
  },
  {
   "cell_type": "code",
   "execution_count": 42,
   "outputs": [
    {
     "name": "stdout",
     "output_type": "stream",
     "text": [
      "Help on method search_keyword in module XQuant.Utils:\n",
      "\n",
      "search_keyword(keyword: str, fuzzy: bool = True, limit: int = 5, update: bool = False, initial_path: str = WindowsPath('E:/yuankangrui/XQuant/XQuant/Temp/attrs.json'), **kwargs) method of builtins.type instance\n",
      "    :param initial_path: The initialization path of the log file\n",
      "    :param keyword: the content you want to search for\n",
      "    :param fuzzy: fuzzy matching or not\n",
      "    :param limit: number of the results\n",
      "    :param update: forced updating\n",
      "    :return:\n",
      "\n"
     ]
    }
   ],
   "source": [
    "# 根据某个关键词搜索其对应数据表\n",
    "help(Tools.search_keyword)"
   ],
   "metadata": {
    "collapsed": false,
    "ExecuteTime": {
     "start_time": "2023-08-16T16:16:58.049111Z",
     "end_time": "2023-08-16T16:16:58.135406Z"
    }
   }
  },
  {
   "cell_type": "code",
   "execution_count": 43,
   "outputs": [
    {
     "name": "stderr",
     "output_type": "stream",
     "text": [
      "\u001B[32m2023-08-16 16:16:58.064\u001B[0m | \u001B[1mINFO    \u001B[0m | \u001B[36mXQuant.Utils\u001B[0m:\u001B[36msearch_keyword\u001B[0m:\u001B[36m607\u001B[0m - \u001B[1m缓存文件被保存至E:\\yuankangrui\\XQuant\\XQuant\\Temp\\attrs.json\u001B[0m\n",
      "正在初始化...: 100%|██████████| 441/441 [00:00<00:00, 1101.45it/s, 状态=ResConSecCorederi_sheet 写入成功]                            \n"
     ]
    },
    {
     "data": {
      "text/plain": "{'PE': ['MktEqud', 'MktEqudEval', 'FdmtIndiPSPit'],\n 'openPrice': ['MktEqud'],\n 'PE1': ['MktEqud', 'MktEqudEval', 'FdmtIndiPSPit']}"
     },
     "execution_count": 43,
     "metadata": {},
     "output_type": "execute_result"
    }
   ],
   "source": [
    "Tools.search_keyword(\"PE\", fuzzy=True, limit=3, update=True)"
   ],
   "metadata": {
    "collapsed": false,
    "ExecuteTime": {
     "start_time": "2023-08-16T16:16:58.065166Z",
     "end_time": "2023-08-16T16:16:58.512710Z"
    }
   }
  },
  {
   "cell_type": "code",
   "execution_count": 44,
   "outputs": [
    {
     "name": "stdout",
     "output_type": "stream",
     "text": [
      "Help on method varname in module XQuant.Utils:\n",
      "\n",
      "varname(p) method of builtins.type instance\n",
      "    将变量转化为变量名（字符串）\n",
      "    :param p: 想要搜寻的变量\n",
      "    :return: 变量的名字\n",
      "\n"
     ]
    }
   ],
   "source": [
    "help(Tools.varname)"
   ],
   "metadata": {
    "collapsed": false,
    "ExecuteTime": {
     "start_time": "2023-08-16T16:16:58.513714Z",
     "end_time": "2023-08-16T16:16:58.527763Z"
    }
   }
  },
  {
   "cell_type": "code",
   "execution_count": 45,
   "outputs": [
    {
     "data": {
      "text/plain": "'Tools'"
     },
     "execution_count": 45,
     "metadata": {},
     "output_type": "execute_result"
    }
   ],
   "source": [
    "Tools.varname(Tools)"
   ],
   "metadata": {
    "collapsed": false,
    "ExecuteTime": {
     "start_time": "2023-08-16T16:16:58.528766Z",
     "end_time": "2023-08-16T16:16:58.556750Z"
    }
   }
  },
  {
   "cell_type": "code",
   "execution_count": 46,
   "outputs": [
    {
     "name": "stdout",
     "output_type": "stream",
     "text": [
      "Memory Usage: 280.7M\n"
     ]
    }
   ],
   "source": [
    "# 检测主进程使用内存量\n",
    "Tools.memory_analysis()"
   ],
   "metadata": {
    "collapsed": false,
    "ExecuteTime": {
     "start_time": "2023-08-16T16:16:58.543705Z",
     "end_time": "2023-08-16T16:16:58.578682Z"
    }
   }
  }
 ],
 "metadata": {
  "kernelspec": {
   "display_name": "Python 3",
   "language": "python",
   "name": "python3"
  },
  "language_info": {
   "codemirror_mode": {
    "name": "ipython",
    "version": 2
   },
   "file_extension": ".py",
   "mimetype": "text/x-python",
   "name": "python",
   "nbconvert_exporter": "python",
   "pygments_lexer": "ipython2",
   "version": "2.7.6"
  }
 },
 "nbformat": 4,
 "nbformat_minor": 0
}
