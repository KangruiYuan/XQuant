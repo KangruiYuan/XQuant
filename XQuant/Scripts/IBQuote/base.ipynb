{
 "cells": [
  {
   "cell_type": "code",
   "execution_count": 13,
   "metadata": {
    "ExecuteTime": {
     "start_time": "2023-10-26T08:55:28.654338Z",
     "end_time": "2023-10-26T08:55:28.666380Z"
    },
    "collapsed": true
   },
   "outputs": [
    {
     "data": {
      "text/plain": "{'CL': WindowsPath('H:/global data/Ticks for CL&NG&SI/OneMinute/CME/CL'),\n 'GC': WindowsPath('H:/global data/Ticks for CL&NG&SI/OneMinute/CME/GC'),\n 'NG': WindowsPath('H:/global data/Ticks for CL&NG&SI/OneMinute/CME/NG'),\n 'SI': WindowsPath('H:/global data/Ticks for CL&NG&SI/OneMinute/CME/SI')}"
     },
     "execution_count": 13,
     "metadata": {},
     "output_type": "execute_result"
    }
   ],
   "source": [
    "import os\n",
    "from pathlib import Path\n",
    "import pandas as pd\n",
    "\n",
    "def local_path():\n",
    "    CME_PATH = os.getenv(\"CME\", r\"H:\\global data\\Ticks for CL&NG&SI\\OneMinute\\CME\")\n",
    "    CME = Path(CME_PATH)\n",
    "    return {i.stem: i for i in CME.iterdir()}\n",
    "SYMBOLS = local_path()\n",
    "SYMBOLS"
   ]
  },
  {
   "cell_type": "code",
   "execution_count": 51,
   "metadata": {
    "ExecuteTime": {
     "start_time": "2023-10-26T09:12:23.656359Z",
     "end_time": "2023-10-26T09:12:23.750185Z"
    }
   },
   "outputs": [
    {
     "data": {
      "text/plain": "                     date  local_high  local_open  local_low  local_close\n0     2022-02-12 02:39:00      1900.0      1900.0     1900.0       1900.0\n1     2022-02-16 01:44:00      1900.0      1900.0     1900.0       1900.0\n2     2022-03-03 00:19:00      1963.0      1963.0     1963.0       1963.0\n3     2022-03-07 08:23:00      2035.0      2035.0     2035.0       2035.0\n4     2022-03-07 10:45:00      2035.0      2035.0     2035.0       2035.0\n...                   ...         ...         ...        ...          ...\n11154 2023-05-25 16:37:00      2021.4      2021.4     2021.4       2021.4\n11155 2023-05-25 16:40:00      2021.4      2021.4     2021.4       2021.4\n11156 2023-05-25 16:42:00      2021.0      2021.0     2021.0       2021.0\n11157 2023-05-25 16:44:00      2020.4      2020.4     2020.4       2020.4\n11158 2023-05-25 16:52:00      2019.4      2019.4     2019.4       2019.4\n\n[11159 rows x 5 columns]",
      "text/html": "<div>\n<style scoped>\n    .dataframe tbody tr th:only-of-type {\n        vertical-align: middle;\n    }\n\n    .dataframe tbody tr th {\n        vertical-align: top;\n    }\n\n    .dataframe thead th {\n        text-align: right;\n    }\n</style>\n<table border=\"1\" class=\"dataframe\">\n  <thead>\n    <tr style=\"text-align: right;\">\n      <th></th>\n      <th>date</th>\n      <th>local_high</th>\n      <th>local_open</th>\n      <th>local_low</th>\n      <th>local_close</th>\n    </tr>\n  </thead>\n  <tbody>\n    <tr>\n      <th>0</th>\n      <td>2022-02-12 02:39:00</td>\n      <td>1900.0</td>\n      <td>1900.0</td>\n      <td>1900.0</td>\n      <td>1900.0</td>\n    </tr>\n    <tr>\n      <th>1</th>\n      <td>2022-02-16 01:44:00</td>\n      <td>1900.0</td>\n      <td>1900.0</td>\n      <td>1900.0</td>\n      <td>1900.0</td>\n    </tr>\n    <tr>\n      <th>2</th>\n      <td>2022-03-03 00:19:00</td>\n      <td>1963.0</td>\n      <td>1963.0</td>\n      <td>1963.0</td>\n      <td>1963.0</td>\n    </tr>\n    <tr>\n      <th>3</th>\n      <td>2022-03-07 08:23:00</td>\n      <td>2035.0</td>\n      <td>2035.0</td>\n      <td>2035.0</td>\n      <td>2035.0</td>\n    </tr>\n    <tr>\n      <th>4</th>\n      <td>2022-03-07 10:45:00</td>\n      <td>2035.0</td>\n      <td>2035.0</td>\n      <td>2035.0</td>\n      <td>2035.0</td>\n    </tr>\n    <tr>\n      <th>...</th>\n      <td>...</td>\n      <td>...</td>\n      <td>...</td>\n      <td>...</td>\n      <td>...</td>\n    </tr>\n    <tr>\n      <th>11154</th>\n      <td>2023-05-25 16:37:00</td>\n      <td>2021.4</td>\n      <td>2021.4</td>\n      <td>2021.4</td>\n      <td>2021.4</td>\n    </tr>\n    <tr>\n      <th>11155</th>\n      <td>2023-05-25 16:40:00</td>\n      <td>2021.4</td>\n      <td>2021.4</td>\n      <td>2021.4</td>\n      <td>2021.4</td>\n    </tr>\n    <tr>\n      <th>11156</th>\n      <td>2023-05-25 16:42:00</td>\n      <td>2021.0</td>\n      <td>2021.0</td>\n      <td>2021.0</td>\n      <td>2021.0</td>\n    </tr>\n    <tr>\n      <th>11157</th>\n      <td>2023-05-25 16:44:00</td>\n      <td>2020.4</td>\n      <td>2020.4</td>\n      <td>2020.4</td>\n      <td>2020.4</td>\n    </tr>\n    <tr>\n      <th>11158</th>\n      <td>2023-05-25 16:52:00</td>\n      <td>2019.4</td>\n      <td>2019.4</td>\n      <td>2019.4</td>\n      <td>2019.4</td>\n    </tr>\n  </tbody>\n</table>\n<p>11159 rows × 5 columns</p>\n</div>"
     },
     "execution_count": 51,
     "metadata": {},
     "output_type": "execute_result"
    }
   ],
   "source": [
    "def local_quote(symbol: str, paths: dict[str, Path], symbol_pre: str = \"GC\"):\n",
    "    path = paths[symbol_pre]\n",
    "    contracts = {i.stem[2:] : i for i in path.glob(\"*.txt\")}\n",
    "    GC_TXT = contracts[symbol]\n",
    "    df = pd.read_csv(GC_TXT, header=None, parse_dates=[\"date\"], usecols=range(5), names=[\"date\", \"local_high\", \"local_open\", \"local_low\", \"local_close\"])\n",
    "    df.date = pd.to_datetime(df.date)\n",
    "    return df\n",
    "GC2312 = local_quote(\"2312\", SYMBOLS)\n",
    "GC2312"
   ]
  },
  {
   "cell_type": "code",
   "execution_count": 17,
   "outputs": [
    {
     "data": {
      "text/plain": "<IB connected to 127.0.0.1:7496 clientId=12>"
     },
     "execution_count": 17,
     "metadata": {},
     "output_type": "execute_result"
    }
   ],
   "source": [
    "from ib_insync import *\n",
    "util.startLoop()\n",
    "ib = IB()\n",
    "ib.connect(host=\"127.0.0.1\", port=7496, clientId=12)"
   ],
   "metadata": {
    "collapsed": false,
    "ExecuteTime": {
     "start_time": "2023-10-26T08:57:40.778351Z",
     "end_time": "2023-10-26T08:57:41.204322Z"
    }
   }
  },
  {
   "cell_type": "code",
   "execution_count": 68,
   "outputs": [
    {
     "name": "stdout",
     "output_type": "stream",
     "text": [
      "20230523 16:52:00 US/Eastern\n"
     ]
    }
   ],
   "source": [
    "contract = Contract()\n",
    "contract.localSymbol = \"GCZ3\"\n",
    "contract.secType = \"FUT\"\n",
    "contract.exchange = \"COMEX\"\n",
    "\n",
    "# end_datetime = GC2312[\"date\"].max().strftime(\"%Y%m%d %H:%M:%S\") + \" US/Eastern\"\n",
    "end_datetime = \"20230523 16:52:00 US/Eastern\"\n",
    "print(end_datetime)\n",
    "duration = \"1 D\"\n",
    "bar_size = \"2 mins\"\n",
    "bars = ib.reqHistoricalData(\n",
    "    contract,\n",
    "    endDateTime=end_datetime,\n",
    "    durationStr=duration,\n",
    "    barSizeSetting=bar_size,\n",
    "    whatToShow=\"TRADES\",\n",
    "    useRTH=True,\n",
    ")\n",
    "online_GC2312 = util.df(bars)"
   ],
   "metadata": {
    "collapsed": false,
    "ExecuteTime": {
     "start_time": "2023-10-26T10:01:01.410185Z",
     "end_time": "2023-10-26T10:01:01.713556Z"
    }
   }
  },
  {
   "cell_type": "code",
   "execution_count": 64,
   "outputs": [
    {
     "data": {
      "text/plain": "                     date  local_high  local_open  local_low  local_close\n0     2022-02-12 02:39:00      1900.0      1900.0     1900.0       1900.0\n1     2022-02-16 01:44:00      1900.0      1900.0     1900.0       1900.0\n2     2022-03-03 00:19:00      1963.0      1963.0     1963.0       1963.0\n3     2022-03-07 08:23:00      2035.0      2035.0     2035.0       2035.0\n4     2022-03-07 10:45:00      2035.0      2035.0     2035.0       2035.0\n...                   ...         ...         ...        ...          ...\n11154 2023-05-25 16:37:00      2021.4      2021.4     2021.4       2021.4\n11155 2023-05-25 16:40:00      2021.4      2021.4     2021.4       2021.4\n11156 2023-05-25 16:42:00      2021.0      2021.0     2021.0       2021.0\n11157 2023-05-25 16:44:00      2020.4      2020.4     2020.4       2020.4\n11158 2023-05-25 16:52:00      2019.4      2019.4     2019.4       2019.4\n\n[11159 rows x 5 columns]",
      "text/html": "<div>\n<style scoped>\n    .dataframe tbody tr th:only-of-type {\n        vertical-align: middle;\n    }\n\n    .dataframe tbody tr th {\n        vertical-align: top;\n    }\n\n    .dataframe thead th {\n        text-align: right;\n    }\n</style>\n<table border=\"1\" class=\"dataframe\">\n  <thead>\n    <tr style=\"text-align: right;\">\n      <th></th>\n      <th>date</th>\n      <th>local_high</th>\n      <th>local_open</th>\n      <th>local_low</th>\n      <th>local_close</th>\n    </tr>\n  </thead>\n  <tbody>\n    <tr>\n      <th>0</th>\n      <td>2022-02-12 02:39:00</td>\n      <td>1900.0</td>\n      <td>1900.0</td>\n      <td>1900.0</td>\n      <td>1900.0</td>\n    </tr>\n    <tr>\n      <th>1</th>\n      <td>2022-02-16 01:44:00</td>\n      <td>1900.0</td>\n      <td>1900.0</td>\n      <td>1900.0</td>\n      <td>1900.0</td>\n    </tr>\n    <tr>\n      <th>2</th>\n      <td>2022-03-03 00:19:00</td>\n      <td>1963.0</td>\n      <td>1963.0</td>\n      <td>1963.0</td>\n      <td>1963.0</td>\n    </tr>\n    <tr>\n      <th>3</th>\n      <td>2022-03-07 08:23:00</td>\n      <td>2035.0</td>\n      <td>2035.0</td>\n      <td>2035.0</td>\n      <td>2035.0</td>\n    </tr>\n    <tr>\n      <th>4</th>\n      <td>2022-03-07 10:45:00</td>\n      <td>2035.0</td>\n      <td>2035.0</td>\n      <td>2035.0</td>\n      <td>2035.0</td>\n    </tr>\n    <tr>\n      <th>...</th>\n      <td>...</td>\n      <td>...</td>\n      <td>...</td>\n      <td>...</td>\n      <td>...</td>\n    </tr>\n    <tr>\n      <th>11154</th>\n      <td>2023-05-25 16:37:00</td>\n      <td>2021.4</td>\n      <td>2021.4</td>\n      <td>2021.4</td>\n      <td>2021.4</td>\n    </tr>\n    <tr>\n      <th>11155</th>\n      <td>2023-05-25 16:40:00</td>\n      <td>2021.4</td>\n      <td>2021.4</td>\n      <td>2021.4</td>\n      <td>2021.4</td>\n    </tr>\n    <tr>\n      <th>11156</th>\n      <td>2023-05-25 16:42:00</td>\n      <td>2021.0</td>\n      <td>2021.0</td>\n      <td>2021.0</td>\n      <td>2021.0</td>\n    </tr>\n    <tr>\n      <th>11157</th>\n      <td>2023-05-25 16:44:00</td>\n      <td>2020.4</td>\n      <td>2020.4</td>\n      <td>2020.4</td>\n      <td>2020.4</td>\n    </tr>\n    <tr>\n      <th>11158</th>\n      <td>2023-05-25 16:52:00</td>\n      <td>2019.4</td>\n      <td>2019.4</td>\n      <td>2019.4</td>\n      <td>2019.4</td>\n    </tr>\n  </tbody>\n</table>\n<p>11159 rows × 5 columns</p>\n</div>"
     },
     "execution_count": 64,
     "metadata": {},
     "output_type": "execute_result"
    }
   ],
   "source": [
    "GC2312"
   ],
   "metadata": {
    "collapsed": false,
    "ExecuteTime": {
     "start_time": "2023-10-26T09:20:48.770792Z",
     "end_time": "2023-10-26T09:20:48.792868Z"
    }
   }
  },
  {
   "cell_type": "code",
   "execution_count": 69,
   "outputs": [
    {
     "data": {
      "text/plain": "                   date    open    high     low   close  volume  average  \\\n0   2023-05-23 09:30:00  2027.1  2027.1  2027.1  2027.1     1.0  2027.10   \n1   2023-05-23 09:32:00  2027.1  2027.1  2027.1  2027.1     0.0  2027.10   \n2   2023-05-23 09:34:00  2024.5  2024.5  2024.5  2024.5     2.0  2024.50   \n3   2023-05-23 09:36:00  2024.5  2024.5  2024.5  2024.5     0.0  2024.50   \n4   2023-05-23 09:38:00  2027.3  2027.5  2027.3  2027.3    21.0  2027.34   \n..                  ...     ...     ...     ...     ...     ...      ...   \n216 2023-05-23 16:42:00  2032.7  2032.7  2032.7  2032.7     0.0  2032.70   \n217 2023-05-23 16:44:00  2032.7  2032.7  2032.7  2032.7     0.0  2032.70   \n218 2023-05-23 16:46:00  2032.7  2032.7  2032.7  2032.7     0.0  2032.70   \n219 2023-05-23 16:48:00  2032.7  2032.7  2032.7  2032.7     0.0  2032.70   \n220 2023-05-23 16:50:00  2032.7  2032.7  2032.7  2032.7     0.0  2032.70   \n\n     barCount  \n0           1  \n1           0  \n2           1  \n3           0  \n4          14  \n..        ...  \n216         0  \n217         0  \n218         0  \n219         0  \n220         0  \n\n[221 rows x 8 columns]",
      "text/html": "<div>\n<style scoped>\n    .dataframe tbody tr th:only-of-type {\n        vertical-align: middle;\n    }\n\n    .dataframe tbody tr th {\n        vertical-align: top;\n    }\n\n    .dataframe thead th {\n        text-align: right;\n    }\n</style>\n<table border=\"1\" class=\"dataframe\">\n  <thead>\n    <tr style=\"text-align: right;\">\n      <th></th>\n      <th>date</th>\n      <th>open</th>\n      <th>high</th>\n      <th>low</th>\n      <th>close</th>\n      <th>volume</th>\n      <th>average</th>\n      <th>barCount</th>\n    </tr>\n  </thead>\n  <tbody>\n    <tr>\n      <th>0</th>\n      <td>2023-05-23 09:30:00</td>\n      <td>2027.1</td>\n      <td>2027.1</td>\n      <td>2027.1</td>\n      <td>2027.1</td>\n      <td>1.0</td>\n      <td>2027.10</td>\n      <td>1</td>\n    </tr>\n    <tr>\n      <th>1</th>\n      <td>2023-05-23 09:32:00</td>\n      <td>2027.1</td>\n      <td>2027.1</td>\n      <td>2027.1</td>\n      <td>2027.1</td>\n      <td>0.0</td>\n      <td>2027.10</td>\n      <td>0</td>\n    </tr>\n    <tr>\n      <th>2</th>\n      <td>2023-05-23 09:34:00</td>\n      <td>2024.5</td>\n      <td>2024.5</td>\n      <td>2024.5</td>\n      <td>2024.5</td>\n      <td>2.0</td>\n      <td>2024.50</td>\n      <td>1</td>\n    </tr>\n    <tr>\n      <th>3</th>\n      <td>2023-05-23 09:36:00</td>\n      <td>2024.5</td>\n      <td>2024.5</td>\n      <td>2024.5</td>\n      <td>2024.5</td>\n      <td>0.0</td>\n      <td>2024.50</td>\n      <td>0</td>\n    </tr>\n    <tr>\n      <th>4</th>\n      <td>2023-05-23 09:38:00</td>\n      <td>2027.3</td>\n      <td>2027.5</td>\n      <td>2027.3</td>\n      <td>2027.3</td>\n      <td>21.0</td>\n      <td>2027.34</td>\n      <td>14</td>\n    </tr>\n    <tr>\n      <th>...</th>\n      <td>...</td>\n      <td>...</td>\n      <td>...</td>\n      <td>...</td>\n      <td>...</td>\n      <td>...</td>\n      <td>...</td>\n      <td>...</td>\n    </tr>\n    <tr>\n      <th>216</th>\n      <td>2023-05-23 16:42:00</td>\n      <td>2032.7</td>\n      <td>2032.7</td>\n      <td>2032.7</td>\n      <td>2032.7</td>\n      <td>0.0</td>\n      <td>2032.70</td>\n      <td>0</td>\n    </tr>\n    <tr>\n      <th>217</th>\n      <td>2023-05-23 16:44:00</td>\n      <td>2032.7</td>\n      <td>2032.7</td>\n      <td>2032.7</td>\n      <td>2032.7</td>\n      <td>0.0</td>\n      <td>2032.70</td>\n      <td>0</td>\n    </tr>\n    <tr>\n      <th>218</th>\n      <td>2023-05-23 16:46:00</td>\n      <td>2032.7</td>\n      <td>2032.7</td>\n      <td>2032.7</td>\n      <td>2032.7</td>\n      <td>0.0</td>\n      <td>2032.70</td>\n      <td>0</td>\n    </tr>\n    <tr>\n      <th>219</th>\n      <td>2023-05-23 16:48:00</td>\n      <td>2032.7</td>\n      <td>2032.7</td>\n      <td>2032.7</td>\n      <td>2032.7</td>\n      <td>0.0</td>\n      <td>2032.70</td>\n      <td>0</td>\n    </tr>\n    <tr>\n      <th>220</th>\n      <td>2023-05-23 16:50:00</td>\n      <td>2032.7</td>\n      <td>2032.7</td>\n      <td>2032.7</td>\n      <td>2032.7</td>\n      <td>0.0</td>\n      <td>2032.70</td>\n      <td>0</td>\n    </tr>\n  </tbody>\n</table>\n<p>221 rows × 8 columns</p>\n</div>"
     },
     "execution_count": 69,
     "metadata": {},
     "output_type": "execute_result"
    }
   ],
   "source": [
    "online_GC2312[\"date\"] = pd.to_datetime(online_GC2312[\"date\"].dt.strftime(\"%Y%m%d %H:%M:%S\"))\n",
    "online_GC2312"
   ],
   "metadata": {
    "collapsed": false,
    "ExecuteTime": {
     "start_time": "2023-10-26T10:01:08.977912Z",
     "end_time": "2023-10-26T10:01:08.985940Z"
    }
   }
  },
  {
   "cell_type": "code",
   "execution_count": 70,
   "outputs": [
    {
     "data": {
      "text/plain": "                  date  local_high  local_open  local_low  local_close  \\\n0  2023-05-23 10:06:00      2018.3      2018.3     2018.3       2018.3   \n1  2023-05-23 10:36:00      2019.6      2019.6     2019.6       2019.6   \n2  2023-05-23 10:38:00      2020.2      2020.2     2020.2       2020.2   \n3  2023-05-23 10:40:00      2020.0      2020.0     2020.0       2020.0   \n4  2023-05-23 10:52:00      2021.6      2021.6     2021.6       2021.6   \n5  2023-05-23 11:20:00      2018.6      2018.6     2018.6       2018.6   \n6  2023-05-23 12:32:00      2020.9      2020.9     2020.9       2020.9   \n7  2023-05-23 12:40:00      2022.2      2022.2     2022.2       2022.2   \n8  2023-05-23 13:26:00      2020.2      2020.3     2020.3       2020.2   \n9  2023-05-23 13:32:00      2018.9      2019.0     2019.1       2018.7   \n10 2023-05-23 13:34:00      2018.5      2017.8     2018.5       2017.8   \n11 2023-05-23 13:42:00      2018.0      2018.0     2018.0       2018.0   \n12 2023-05-23 13:44:00      2018.0      2018.0     2018.0       2018.0   \n13 2023-05-23 13:52:00      2019.2      2019.1     2019.2       2019.1   \n14 2023-05-23 13:54:00      2018.9      2018.9     2018.9       2018.9   \n15 2023-05-23 13:56:00      2018.3      2018.4     2018.4       2018.3   \n16 2023-05-23 13:58:00      2017.9      2017.9     2017.9       2017.9   \n17 2023-05-23 14:06:00      2017.6      2017.6     2017.6       2017.6   \n18 2023-05-23 14:10:00      2019.0      2019.0     2019.0       2019.0   \n19 2023-05-23 14:12:00      2019.1      2019.3     2019.3       2019.1   \n20 2023-05-23 14:14:00      2020.2      2020.0     2020.2       2020.0   \n21 2023-05-23 14:16:00      2021.4      2021.4     2021.4       2021.4   \n22 2023-05-23 14:20:00      2021.4      2021.2     2021.4       2021.1   \n23 2023-05-23 14:22:00      2020.5      2020.1     2020.7       2020.1   \n24 2023-05-23 14:24:00      2020.0      2019.8     2020.0       2019.7   \n25 2023-05-23 14:26:00      2019.7      2019.8     2019.8       2019.7   \n26 2023-05-23 14:28:00      2020.7      2020.7     2020.7       2020.7   \n27 2023-05-23 14:36:00      2019.8      2019.8     2019.8       2019.8   \n28 2023-05-23 14:40:00      2019.4      2019.1     2019.4       2019.1   \n29 2023-05-23 14:42:00      2019.8      2019.7     2019.8       2019.7   \n30 2023-05-23 14:44:00      2019.1      2019.1     2019.1       2019.1   \n31 2023-05-23 14:58:00      2019.8      2019.7     2019.8       2019.7   \n32 2023-05-23 15:04:00      2018.5      2018.5     2018.5       2018.5   \n33 2023-05-23 15:14:00      2015.4      2015.4     2015.4       2015.4   \n34 2023-05-23 15:46:00      2014.9      2014.9     2014.9       2014.9   \n35 2023-05-23 15:50:00      2015.6      2015.6     2015.6       2015.6   \n36 2023-05-23 15:58:00      2014.9      2014.9     2014.9       2014.9   \n37 2023-05-23 16:04:00      2012.7      2012.7     2012.7       2012.7   \n38 2023-05-23 16:08:00      2011.6      2011.6     2011.6       2011.6   \n39 2023-05-23 16:18:00      2014.7      2014.7     2014.7       2014.7   \n40 2023-05-23 16:48:00      2017.0      2017.0     2017.0       2017.0   \n\n      open    high     low   close  volume  average  barCount  \n0   2029.0  2029.0  2029.0  2029.0     0.0  2029.00         0  \n1   2025.5  2025.5  2025.5  2025.5     1.0  2025.50         1  \n2   2025.0  2025.0  2024.8  2024.8    21.0  2024.90         3  \n3   2024.8  2024.8  2024.8  2024.8     0.0  2024.80         0  \n4   2026.4  2026.4  2026.4  2026.4     1.0  2026.40         1  \n5   2024.5  2024.5  2024.4  2024.4    10.0  2024.47        10  \n6   2027.9  2027.9  2027.9  2027.9     1.0  2027.90         1  \n7   2031.4  2031.4  2031.4  2031.4     0.0  2031.40         0  \n8   2030.9  2030.9  2030.9  2030.9     2.0  2030.90         1  \n9   2031.6  2031.6  2031.6  2031.6     0.0  2031.60         0  \n10  2031.6  2031.6  2031.6  2031.6     0.0  2031.60         0  \n11  2032.2  2032.2  2032.2  2032.2     0.0  2032.20         0  \n12  2032.2  2032.2  2032.2  2032.2     0.0  2032.20         0  \n13  2032.2  2032.2  2032.2  2032.2     0.0  2032.20         0  \n14  2032.2  2032.2  2032.2  2032.2     0.0  2032.20         0  \n15  2032.2  2032.2  2032.2  2032.2     0.0  2032.20         0  \n16  2032.2  2032.2  2032.2  2032.2     0.0  2032.20         0  \n17  2032.2  2032.2  2032.2  2032.2     0.0  2032.20         0  \n18  2032.3  2032.3  2032.3  2032.3     2.0  2032.30         1  \n19  2032.3  2032.3  2032.3  2032.3     2.0  2032.30         2  \n20  2033.0  2033.4  2033.0  2033.4    11.0  2033.15         4  \n21  2032.6  2032.6  2032.6  2032.6     1.0  2032.60         1  \n22  2032.6  2032.6  2032.6  2032.6     0.0  2032.60         0  \n23  2032.6  2032.6  2032.6  2032.6     0.0  2032.60         0  \n24  2032.6  2032.6  2032.6  2032.6     0.0  2032.60         0  \n25  2032.6  2032.6  2032.6  2032.6     0.0  2032.60         0  \n26  2033.4  2033.4  2033.4  2033.4     3.0  2033.40         1  \n27  2033.4  2033.4  2033.4  2033.4     0.0  2033.40         0  \n28  2033.4  2033.4  2033.4  2033.4     0.0  2033.40         0  \n29  2033.4  2033.4  2033.4  2033.4     0.0  2033.40         0  \n30  2033.4  2033.4  2033.4  2033.4     0.0  2033.40         0  \n31  2033.4  2033.4  2033.4  2033.4     0.0  2033.40         0  \n32  2033.4  2033.4  2033.4  2033.4     0.0  2033.40         0  \n33  2033.4  2033.4  2033.4  2033.4     0.0  2033.40         0  \n34  2033.4  2033.4  2033.4  2033.4     0.0  2033.40         0  \n35  2033.4  2033.4  2033.4  2033.4     0.0  2033.40         0  \n36  2033.4  2033.4  2033.4  2033.4     0.0  2033.40         0  \n37  2033.4  2033.4  2033.4  2033.4     0.0  2033.40         0  \n38  2033.4  2033.4  2033.4  2033.4     0.0  2033.40         0  \n39  2032.6  2032.6  2032.6  2032.6     0.0  2032.60         0  \n40  2032.7  2032.7  2032.7  2032.7     0.0  2032.70         0  ",
      "text/html": "<div>\n<style scoped>\n    .dataframe tbody tr th:only-of-type {\n        vertical-align: middle;\n    }\n\n    .dataframe tbody tr th {\n        vertical-align: top;\n    }\n\n    .dataframe thead th {\n        text-align: right;\n    }\n</style>\n<table border=\"1\" class=\"dataframe\">\n  <thead>\n    <tr style=\"text-align: right;\">\n      <th></th>\n      <th>date</th>\n      <th>local_high</th>\n      <th>local_open</th>\n      <th>local_low</th>\n      <th>local_close</th>\n      <th>open</th>\n      <th>high</th>\n      <th>low</th>\n      <th>close</th>\n      <th>volume</th>\n      <th>average</th>\n      <th>barCount</th>\n    </tr>\n  </thead>\n  <tbody>\n    <tr>\n      <th>0</th>\n      <td>2023-05-23 10:06:00</td>\n      <td>2018.3</td>\n      <td>2018.3</td>\n      <td>2018.3</td>\n      <td>2018.3</td>\n      <td>2029.0</td>\n      <td>2029.0</td>\n      <td>2029.0</td>\n      <td>2029.0</td>\n      <td>0.0</td>\n      <td>2029.00</td>\n      <td>0</td>\n    </tr>\n    <tr>\n      <th>1</th>\n      <td>2023-05-23 10:36:00</td>\n      <td>2019.6</td>\n      <td>2019.6</td>\n      <td>2019.6</td>\n      <td>2019.6</td>\n      <td>2025.5</td>\n      <td>2025.5</td>\n      <td>2025.5</td>\n      <td>2025.5</td>\n      <td>1.0</td>\n      <td>2025.50</td>\n      <td>1</td>\n    </tr>\n    <tr>\n      <th>2</th>\n      <td>2023-05-23 10:38:00</td>\n      <td>2020.2</td>\n      <td>2020.2</td>\n      <td>2020.2</td>\n      <td>2020.2</td>\n      <td>2025.0</td>\n      <td>2025.0</td>\n      <td>2024.8</td>\n      <td>2024.8</td>\n      <td>21.0</td>\n      <td>2024.90</td>\n      <td>3</td>\n    </tr>\n    <tr>\n      <th>3</th>\n      <td>2023-05-23 10:40:00</td>\n      <td>2020.0</td>\n      <td>2020.0</td>\n      <td>2020.0</td>\n      <td>2020.0</td>\n      <td>2024.8</td>\n      <td>2024.8</td>\n      <td>2024.8</td>\n      <td>2024.8</td>\n      <td>0.0</td>\n      <td>2024.80</td>\n      <td>0</td>\n    </tr>\n    <tr>\n      <th>4</th>\n      <td>2023-05-23 10:52:00</td>\n      <td>2021.6</td>\n      <td>2021.6</td>\n      <td>2021.6</td>\n      <td>2021.6</td>\n      <td>2026.4</td>\n      <td>2026.4</td>\n      <td>2026.4</td>\n      <td>2026.4</td>\n      <td>1.0</td>\n      <td>2026.40</td>\n      <td>1</td>\n    </tr>\n    <tr>\n      <th>5</th>\n      <td>2023-05-23 11:20:00</td>\n      <td>2018.6</td>\n      <td>2018.6</td>\n      <td>2018.6</td>\n      <td>2018.6</td>\n      <td>2024.5</td>\n      <td>2024.5</td>\n      <td>2024.4</td>\n      <td>2024.4</td>\n      <td>10.0</td>\n      <td>2024.47</td>\n      <td>10</td>\n    </tr>\n    <tr>\n      <th>6</th>\n      <td>2023-05-23 12:32:00</td>\n      <td>2020.9</td>\n      <td>2020.9</td>\n      <td>2020.9</td>\n      <td>2020.9</td>\n      <td>2027.9</td>\n      <td>2027.9</td>\n      <td>2027.9</td>\n      <td>2027.9</td>\n      <td>1.0</td>\n      <td>2027.90</td>\n      <td>1</td>\n    </tr>\n    <tr>\n      <th>7</th>\n      <td>2023-05-23 12:40:00</td>\n      <td>2022.2</td>\n      <td>2022.2</td>\n      <td>2022.2</td>\n      <td>2022.2</td>\n      <td>2031.4</td>\n      <td>2031.4</td>\n      <td>2031.4</td>\n      <td>2031.4</td>\n      <td>0.0</td>\n      <td>2031.40</td>\n      <td>0</td>\n    </tr>\n    <tr>\n      <th>8</th>\n      <td>2023-05-23 13:26:00</td>\n      <td>2020.2</td>\n      <td>2020.3</td>\n      <td>2020.3</td>\n      <td>2020.2</td>\n      <td>2030.9</td>\n      <td>2030.9</td>\n      <td>2030.9</td>\n      <td>2030.9</td>\n      <td>2.0</td>\n      <td>2030.90</td>\n      <td>1</td>\n    </tr>\n    <tr>\n      <th>9</th>\n      <td>2023-05-23 13:32:00</td>\n      <td>2018.9</td>\n      <td>2019.0</td>\n      <td>2019.1</td>\n      <td>2018.7</td>\n      <td>2031.6</td>\n      <td>2031.6</td>\n      <td>2031.6</td>\n      <td>2031.6</td>\n      <td>0.0</td>\n      <td>2031.60</td>\n      <td>0</td>\n    </tr>\n    <tr>\n      <th>10</th>\n      <td>2023-05-23 13:34:00</td>\n      <td>2018.5</td>\n      <td>2017.8</td>\n      <td>2018.5</td>\n      <td>2017.8</td>\n      <td>2031.6</td>\n      <td>2031.6</td>\n      <td>2031.6</td>\n      <td>2031.6</td>\n      <td>0.0</td>\n      <td>2031.60</td>\n      <td>0</td>\n    </tr>\n    <tr>\n      <th>11</th>\n      <td>2023-05-23 13:42:00</td>\n      <td>2018.0</td>\n      <td>2018.0</td>\n      <td>2018.0</td>\n      <td>2018.0</td>\n      <td>2032.2</td>\n      <td>2032.2</td>\n      <td>2032.2</td>\n      <td>2032.2</td>\n      <td>0.0</td>\n      <td>2032.20</td>\n      <td>0</td>\n    </tr>\n    <tr>\n      <th>12</th>\n      <td>2023-05-23 13:44:00</td>\n      <td>2018.0</td>\n      <td>2018.0</td>\n      <td>2018.0</td>\n      <td>2018.0</td>\n      <td>2032.2</td>\n      <td>2032.2</td>\n      <td>2032.2</td>\n      <td>2032.2</td>\n      <td>0.0</td>\n      <td>2032.20</td>\n      <td>0</td>\n    </tr>\n    <tr>\n      <th>13</th>\n      <td>2023-05-23 13:52:00</td>\n      <td>2019.2</td>\n      <td>2019.1</td>\n      <td>2019.2</td>\n      <td>2019.1</td>\n      <td>2032.2</td>\n      <td>2032.2</td>\n      <td>2032.2</td>\n      <td>2032.2</td>\n      <td>0.0</td>\n      <td>2032.20</td>\n      <td>0</td>\n    </tr>\n    <tr>\n      <th>14</th>\n      <td>2023-05-23 13:54:00</td>\n      <td>2018.9</td>\n      <td>2018.9</td>\n      <td>2018.9</td>\n      <td>2018.9</td>\n      <td>2032.2</td>\n      <td>2032.2</td>\n      <td>2032.2</td>\n      <td>2032.2</td>\n      <td>0.0</td>\n      <td>2032.20</td>\n      <td>0</td>\n    </tr>\n    <tr>\n      <th>15</th>\n      <td>2023-05-23 13:56:00</td>\n      <td>2018.3</td>\n      <td>2018.4</td>\n      <td>2018.4</td>\n      <td>2018.3</td>\n      <td>2032.2</td>\n      <td>2032.2</td>\n      <td>2032.2</td>\n      <td>2032.2</td>\n      <td>0.0</td>\n      <td>2032.20</td>\n      <td>0</td>\n    </tr>\n    <tr>\n      <th>16</th>\n      <td>2023-05-23 13:58:00</td>\n      <td>2017.9</td>\n      <td>2017.9</td>\n      <td>2017.9</td>\n      <td>2017.9</td>\n      <td>2032.2</td>\n      <td>2032.2</td>\n      <td>2032.2</td>\n      <td>2032.2</td>\n      <td>0.0</td>\n      <td>2032.20</td>\n      <td>0</td>\n    </tr>\n    <tr>\n      <th>17</th>\n      <td>2023-05-23 14:06:00</td>\n      <td>2017.6</td>\n      <td>2017.6</td>\n      <td>2017.6</td>\n      <td>2017.6</td>\n      <td>2032.2</td>\n      <td>2032.2</td>\n      <td>2032.2</td>\n      <td>2032.2</td>\n      <td>0.0</td>\n      <td>2032.20</td>\n      <td>0</td>\n    </tr>\n    <tr>\n      <th>18</th>\n      <td>2023-05-23 14:10:00</td>\n      <td>2019.0</td>\n      <td>2019.0</td>\n      <td>2019.0</td>\n      <td>2019.0</td>\n      <td>2032.3</td>\n      <td>2032.3</td>\n      <td>2032.3</td>\n      <td>2032.3</td>\n      <td>2.0</td>\n      <td>2032.30</td>\n      <td>1</td>\n    </tr>\n    <tr>\n      <th>19</th>\n      <td>2023-05-23 14:12:00</td>\n      <td>2019.1</td>\n      <td>2019.3</td>\n      <td>2019.3</td>\n      <td>2019.1</td>\n      <td>2032.3</td>\n      <td>2032.3</td>\n      <td>2032.3</td>\n      <td>2032.3</td>\n      <td>2.0</td>\n      <td>2032.30</td>\n      <td>2</td>\n    </tr>\n    <tr>\n      <th>20</th>\n      <td>2023-05-23 14:14:00</td>\n      <td>2020.2</td>\n      <td>2020.0</td>\n      <td>2020.2</td>\n      <td>2020.0</td>\n      <td>2033.0</td>\n      <td>2033.4</td>\n      <td>2033.0</td>\n      <td>2033.4</td>\n      <td>11.0</td>\n      <td>2033.15</td>\n      <td>4</td>\n    </tr>\n    <tr>\n      <th>21</th>\n      <td>2023-05-23 14:16:00</td>\n      <td>2021.4</td>\n      <td>2021.4</td>\n      <td>2021.4</td>\n      <td>2021.4</td>\n      <td>2032.6</td>\n      <td>2032.6</td>\n      <td>2032.6</td>\n      <td>2032.6</td>\n      <td>1.0</td>\n      <td>2032.60</td>\n      <td>1</td>\n    </tr>\n    <tr>\n      <th>22</th>\n      <td>2023-05-23 14:20:00</td>\n      <td>2021.4</td>\n      <td>2021.2</td>\n      <td>2021.4</td>\n      <td>2021.1</td>\n      <td>2032.6</td>\n      <td>2032.6</td>\n      <td>2032.6</td>\n      <td>2032.6</td>\n      <td>0.0</td>\n      <td>2032.60</td>\n      <td>0</td>\n    </tr>\n    <tr>\n      <th>23</th>\n      <td>2023-05-23 14:22:00</td>\n      <td>2020.5</td>\n      <td>2020.1</td>\n      <td>2020.7</td>\n      <td>2020.1</td>\n      <td>2032.6</td>\n      <td>2032.6</td>\n      <td>2032.6</td>\n      <td>2032.6</td>\n      <td>0.0</td>\n      <td>2032.60</td>\n      <td>0</td>\n    </tr>\n    <tr>\n      <th>24</th>\n      <td>2023-05-23 14:24:00</td>\n      <td>2020.0</td>\n      <td>2019.8</td>\n      <td>2020.0</td>\n      <td>2019.7</td>\n      <td>2032.6</td>\n      <td>2032.6</td>\n      <td>2032.6</td>\n      <td>2032.6</td>\n      <td>0.0</td>\n      <td>2032.60</td>\n      <td>0</td>\n    </tr>\n    <tr>\n      <th>25</th>\n      <td>2023-05-23 14:26:00</td>\n      <td>2019.7</td>\n      <td>2019.8</td>\n      <td>2019.8</td>\n      <td>2019.7</td>\n      <td>2032.6</td>\n      <td>2032.6</td>\n      <td>2032.6</td>\n      <td>2032.6</td>\n      <td>0.0</td>\n      <td>2032.60</td>\n      <td>0</td>\n    </tr>\n    <tr>\n      <th>26</th>\n      <td>2023-05-23 14:28:00</td>\n      <td>2020.7</td>\n      <td>2020.7</td>\n      <td>2020.7</td>\n      <td>2020.7</td>\n      <td>2033.4</td>\n      <td>2033.4</td>\n      <td>2033.4</td>\n      <td>2033.4</td>\n      <td>3.0</td>\n      <td>2033.40</td>\n      <td>1</td>\n    </tr>\n    <tr>\n      <th>27</th>\n      <td>2023-05-23 14:36:00</td>\n      <td>2019.8</td>\n      <td>2019.8</td>\n      <td>2019.8</td>\n      <td>2019.8</td>\n      <td>2033.4</td>\n      <td>2033.4</td>\n      <td>2033.4</td>\n      <td>2033.4</td>\n      <td>0.0</td>\n      <td>2033.40</td>\n      <td>0</td>\n    </tr>\n    <tr>\n      <th>28</th>\n      <td>2023-05-23 14:40:00</td>\n      <td>2019.4</td>\n      <td>2019.1</td>\n      <td>2019.4</td>\n      <td>2019.1</td>\n      <td>2033.4</td>\n      <td>2033.4</td>\n      <td>2033.4</td>\n      <td>2033.4</td>\n      <td>0.0</td>\n      <td>2033.40</td>\n      <td>0</td>\n    </tr>\n    <tr>\n      <th>29</th>\n      <td>2023-05-23 14:42:00</td>\n      <td>2019.8</td>\n      <td>2019.7</td>\n      <td>2019.8</td>\n      <td>2019.7</td>\n      <td>2033.4</td>\n      <td>2033.4</td>\n      <td>2033.4</td>\n      <td>2033.4</td>\n      <td>0.0</td>\n      <td>2033.40</td>\n      <td>0</td>\n    </tr>\n    <tr>\n      <th>30</th>\n      <td>2023-05-23 14:44:00</td>\n      <td>2019.1</td>\n      <td>2019.1</td>\n      <td>2019.1</td>\n      <td>2019.1</td>\n      <td>2033.4</td>\n      <td>2033.4</td>\n      <td>2033.4</td>\n      <td>2033.4</td>\n      <td>0.0</td>\n      <td>2033.40</td>\n      <td>0</td>\n    </tr>\n    <tr>\n      <th>31</th>\n      <td>2023-05-23 14:58:00</td>\n      <td>2019.8</td>\n      <td>2019.7</td>\n      <td>2019.8</td>\n      <td>2019.7</td>\n      <td>2033.4</td>\n      <td>2033.4</td>\n      <td>2033.4</td>\n      <td>2033.4</td>\n      <td>0.0</td>\n      <td>2033.40</td>\n      <td>0</td>\n    </tr>\n    <tr>\n      <th>32</th>\n      <td>2023-05-23 15:04:00</td>\n      <td>2018.5</td>\n      <td>2018.5</td>\n      <td>2018.5</td>\n      <td>2018.5</td>\n      <td>2033.4</td>\n      <td>2033.4</td>\n      <td>2033.4</td>\n      <td>2033.4</td>\n      <td>0.0</td>\n      <td>2033.40</td>\n      <td>0</td>\n    </tr>\n    <tr>\n      <th>33</th>\n      <td>2023-05-23 15:14:00</td>\n      <td>2015.4</td>\n      <td>2015.4</td>\n      <td>2015.4</td>\n      <td>2015.4</td>\n      <td>2033.4</td>\n      <td>2033.4</td>\n      <td>2033.4</td>\n      <td>2033.4</td>\n      <td>0.0</td>\n      <td>2033.40</td>\n      <td>0</td>\n    </tr>\n    <tr>\n      <th>34</th>\n      <td>2023-05-23 15:46:00</td>\n      <td>2014.9</td>\n      <td>2014.9</td>\n      <td>2014.9</td>\n      <td>2014.9</td>\n      <td>2033.4</td>\n      <td>2033.4</td>\n      <td>2033.4</td>\n      <td>2033.4</td>\n      <td>0.0</td>\n      <td>2033.40</td>\n      <td>0</td>\n    </tr>\n    <tr>\n      <th>35</th>\n      <td>2023-05-23 15:50:00</td>\n      <td>2015.6</td>\n      <td>2015.6</td>\n      <td>2015.6</td>\n      <td>2015.6</td>\n      <td>2033.4</td>\n      <td>2033.4</td>\n      <td>2033.4</td>\n      <td>2033.4</td>\n      <td>0.0</td>\n      <td>2033.40</td>\n      <td>0</td>\n    </tr>\n    <tr>\n      <th>36</th>\n      <td>2023-05-23 15:58:00</td>\n      <td>2014.9</td>\n      <td>2014.9</td>\n      <td>2014.9</td>\n      <td>2014.9</td>\n      <td>2033.4</td>\n      <td>2033.4</td>\n      <td>2033.4</td>\n      <td>2033.4</td>\n      <td>0.0</td>\n      <td>2033.40</td>\n      <td>0</td>\n    </tr>\n    <tr>\n      <th>37</th>\n      <td>2023-05-23 16:04:00</td>\n      <td>2012.7</td>\n      <td>2012.7</td>\n      <td>2012.7</td>\n      <td>2012.7</td>\n      <td>2033.4</td>\n      <td>2033.4</td>\n      <td>2033.4</td>\n      <td>2033.4</td>\n      <td>0.0</td>\n      <td>2033.40</td>\n      <td>0</td>\n    </tr>\n    <tr>\n      <th>38</th>\n      <td>2023-05-23 16:08:00</td>\n      <td>2011.6</td>\n      <td>2011.6</td>\n      <td>2011.6</td>\n      <td>2011.6</td>\n      <td>2033.4</td>\n      <td>2033.4</td>\n      <td>2033.4</td>\n      <td>2033.4</td>\n      <td>0.0</td>\n      <td>2033.40</td>\n      <td>0</td>\n    </tr>\n    <tr>\n      <th>39</th>\n      <td>2023-05-23 16:18:00</td>\n      <td>2014.7</td>\n      <td>2014.7</td>\n      <td>2014.7</td>\n      <td>2014.7</td>\n      <td>2032.6</td>\n      <td>2032.6</td>\n      <td>2032.6</td>\n      <td>2032.6</td>\n      <td>0.0</td>\n      <td>2032.60</td>\n      <td>0</td>\n    </tr>\n    <tr>\n      <th>40</th>\n      <td>2023-05-23 16:48:00</td>\n      <td>2017.0</td>\n      <td>2017.0</td>\n      <td>2017.0</td>\n      <td>2017.0</td>\n      <td>2032.7</td>\n      <td>2032.7</td>\n      <td>2032.7</td>\n      <td>2032.7</td>\n      <td>0.0</td>\n      <td>2032.70</td>\n      <td>0</td>\n    </tr>\n  </tbody>\n</table>\n</div>"
     },
     "execution_count": 70,
     "metadata": {},
     "output_type": "execute_result"
    }
   ],
   "source": [
    "compare = pd.merge(GC2312, online_GC2312, on=\"date\", how=\"inner\")\n",
    "compare.to_csv(\"GC2312对比_0523.csv\")\n",
    "compare"
   ],
   "metadata": {
    "collapsed": false,
    "ExecuteTime": {
     "start_time": "2023-10-26T10:01:12.956203Z",
     "end_time": "2023-10-26T10:01:12.987312Z"
    }
   }
  },
  {
   "cell_type": "code",
   "execution_count": 56,
   "outputs": [
    {
     "data": {
      "text/plain": "True"
     },
     "execution_count": 56,
     "metadata": {},
     "output_type": "execute_result"
    }
   ],
   "source": [
    "online_GC2312.date.dtype == GC2312.date.dtype"
   ],
   "metadata": {
    "collapsed": false,
    "ExecuteTime": {
     "start_time": "2023-10-26T09:14:27.435953Z",
     "end_time": "2023-10-26T09:14:27.439966Z"
    }
   }
  }
 ],
 "metadata": {
  "kernelspec": {
   "display_name": "Python 3 (ipykernel)",
   "language": "python",
   "name": "python3"
  },
  "language_info": {
   "codemirror_mode": {
    "name": "ipython",
    "version": 3
   },
   "file_extension": ".py",
   "mimetype": "text/x-python",
   "name": "python",
   "nbconvert_exporter": "python",
   "pygments_lexer": "ipython3",
   "version": "3.10.13"
  },
  "toc": {
   "base_numbering": 1,
   "nav_menu": {},
   "number_sections": true,
   "sideBar": true,
   "skip_h1_title": false,
   "title_cell": "Table of Contents",
   "title_sidebar": "Contents",
   "toc_cell": false,
   "toc_position": {},
   "toc_section_display": true,
   "toc_window_display": false
  }
 },
 "nbformat": 4,
 "nbformat_minor": 1
}
