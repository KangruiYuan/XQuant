{
 "cells": [
  {
   "cell_type": "code",
   "execution_count": 22,
   "metadata": {
    "ExecuteTime": {
     "start_time": "2023-10-25T18:22:30.129430Z",
     "end_time": "2023-10-25T18:22:30.134447Z"
    }
   },
   "outputs": [],
   "source": [
    "from time import sleep\n",
    "from loguru import logger\n",
    "import pandas as pd\n",
    "from vnpy.event import EventEngine, Event\n",
    "from vnpy.trader.event import EVENT_LOG\n",
    "from vnpy_da import DaGateway\n",
    "from vnpy_scripttrader import ScriptTraderApp, ScriptEngine, init_cli_trading\n",
    "from vnpy.trader.constant import Direction, Exchange, Offset, OrderType\n"
   ]
  },
  {
   "cell_type": "code",
   "execution_count": 2,
   "metadata": {
    "ExecuteTime": {
     "start_time": "2023-10-25T18:02:23.103336Z",
     "end_time": "2023-10-25T18:02:23.111970Z"
    }
   },
   "outputs": [],
   "source": [
    "setting = {\n",
    "        \"用户名\": \"AF20230451\",\n",
    "        \"密码\": \"888888\",\n",
    "        \"经纪商代码\": \"DAHK\",\n",
    "        \"交易服务器\": \"222.73.119.230:7003\",\n",
    "        \"行情服务器\": \"222.73.105.170:9430\",\n",
    "        \"授权码\": \"porl99bbo/jrfib5xxgagza5giggzr/u\",\n",
    "    }"
   ]
  },
  {
   "cell_type": "code",
   "execution_count": 3,
   "metadata": {
    "ExecuteTime": {
     "start_time": "2023-10-25T18:02:25.314847Z",
     "end_time": "2023-10-25T18:02:26.678354Z"
    }
   },
   "outputs": [
    {
     "name": "stdout",
     "output_type": "stream",
     "text": [
      "找不到数据服务驱动vnpy_，使用默认的RQData数据服务\n",
      "2023-10-25 18:02:26.663305\t交易服务器连接成功\n",
      "2023-10-25 18:02:26.669323\t行情服务器连接成功\n"
     ]
    }
   ],
   "source": [
    "engine = init_cli_trading([DaGateway])\n",
    "engine.connect_gateway(setting, gateway_name=\"DA\")\n",
    "engine.strategy_active = True"
   ]
  },
  {
   "cell_type": "code",
   "execution_count": 13,
   "outputs": [
    {
     "name": "stdout",
     "output_type": "stream",
     "text": [
      "2023-10-25 18:06:36.161823\t成功登录\n"
     ]
    }
   ],
   "source": [
    "engine.write_log(\"成功登录\")"
   ],
   "metadata": {
    "collapsed": false,
    "ExecuteTime": {
     "start_time": "2023-10-25T18:06:36.162826Z",
     "end_time": "2023-10-25T18:06:36.177878Z"
    }
   }
  },
  {
   "cell_type": "code",
   "execution_count": 4,
   "metadata": {
    "ExecuteTime": {
     "start_time": "2023-10-25T18:02:34.719755Z",
     "end_time": "2023-10-25T18:02:34.792006Z"
    }
   },
   "outputs": [
    {
     "name": "stdout",
     "output_type": "stream",
     "text": [
      "2023-10-25 18:02:34.388421\tHKFE第7页合约信息查询成功\n"
     ]
    },
    {
     "data": {
      "text/plain": "ContractData(gateway_name='DA', extra=None, symbol='6A2312', exchange=<Exchange.CME: 'CME'>, name='澳元2312', product=<Product.FUTURES: '期货'>, size=100000.0, pricetick=0.0001, min_volume=1, stop_supported=False, net_position=False, history_data=True, option_strike=0, option_underlying='', option_type=None, option_listed=None, option_expiry=None, option_portfolio='', option_index='')"
     },
     "execution_count": 4,
     "metadata": {},
     "output_type": "execute_result"
    },
    {
     "name": "stdout",
     "output_type": "stream",
     "text": [
      "2023-10-25 18:02:34.725776\tCME第8页合约信息查询成功\n"
     ]
    }
   ],
   "source": [
    "engine.get_contract(\"6A2312.CME\")"
   ]
  },
  {
   "cell_type": "code",
   "execution_count": 5,
   "metadata": {
    "ExecuteTime": {
     "start_time": "2023-10-25T18:03:44.370608Z",
     "end_time": "2023-10-25T18:03:44.392683Z"
    }
   },
   "outputs": [
    {
     "data": {
      "text/plain": "   gateway_name accountid    balance  frozen  available vt_accountid\n0            DA       AUD       0.00     0.0       0.00       DA.AUD\n1            DA       CHF       0.00     0.0       0.00       DA.CHF\n2            DA       EUR       0.00     0.0       0.00       DA.EUR\n3            DA       GBP       0.00     0.0       0.00       DA.GBP\n4            DA       HKD       0.00     0.0       0.00       DA.HKD\n5            DA  HKD-HKFE       0.00     0.0       0.00  DA.HKD-HKFE\n6            DA       JPY       0.00     0.0       0.00       DA.JPY\n7            DA       KRW       0.00     0.0       0.00       DA.KRW\n8            DA       MYR       0.00     0.0       0.00       DA.MYR\n9            DA    NY-RMB       0.00     0.0       0.00    DA.NY-RMB\n10           DA    NY-USD       0.00     0.0       0.00    DA.NY-USD\n11           DA       RMB       0.00     0.0       0.00       DA.RMB\n12           DA  RMB-HKFE       0.00     0.0       0.00  DA.RMB-HKFE\n13           DA       SGD       0.00     0.0       0.00       DA.SGD\n14           DA       THB       0.00     0.0       0.00       DA.THB\n15           DA       TWD       0.00     0.0       0.00       DA.TWD\n16           DA       USD  996949.49     0.0  996949.49       DA.USD\n17           DA  USD-HKFE       0.00     0.0       0.00  DA.USD-HKFE",
      "text/html": "<div>\n<style scoped>\n    .dataframe tbody tr th:only-of-type {\n        vertical-align: middle;\n    }\n\n    .dataframe tbody tr th {\n        vertical-align: top;\n    }\n\n    .dataframe thead th {\n        text-align: right;\n    }\n</style>\n<table border=\"1\" class=\"dataframe\">\n  <thead>\n    <tr style=\"text-align: right;\">\n      <th></th>\n      <th>gateway_name</th>\n      <th>accountid</th>\n      <th>balance</th>\n      <th>frozen</th>\n      <th>available</th>\n      <th>vt_accountid</th>\n    </tr>\n  </thead>\n  <tbody>\n    <tr>\n      <th>0</th>\n      <td>DA</td>\n      <td>AUD</td>\n      <td>0.00</td>\n      <td>0.0</td>\n      <td>0.00</td>\n      <td>DA.AUD</td>\n    </tr>\n    <tr>\n      <th>1</th>\n      <td>DA</td>\n      <td>CHF</td>\n      <td>0.00</td>\n      <td>0.0</td>\n      <td>0.00</td>\n      <td>DA.CHF</td>\n    </tr>\n    <tr>\n      <th>2</th>\n      <td>DA</td>\n      <td>EUR</td>\n      <td>0.00</td>\n      <td>0.0</td>\n      <td>0.00</td>\n      <td>DA.EUR</td>\n    </tr>\n    <tr>\n      <th>3</th>\n      <td>DA</td>\n      <td>GBP</td>\n      <td>0.00</td>\n      <td>0.0</td>\n      <td>0.00</td>\n      <td>DA.GBP</td>\n    </tr>\n    <tr>\n      <th>4</th>\n      <td>DA</td>\n      <td>HKD</td>\n      <td>0.00</td>\n      <td>0.0</td>\n      <td>0.00</td>\n      <td>DA.HKD</td>\n    </tr>\n    <tr>\n      <th>5</th>\n      <td>DA</td>\n      <td>HKD-HKFE</td>\n      <td>0.00</td>\n      <td>0.0</td>\n      <td>0.00</td>\n      <td>DA.HKD-HKFE</td>\n    </tr>\n    <tr>\n      <th>6</th>\n      <td>DA</td>\n      <td>JPY</td>\n      <td>0.00</td>\n      <td>0.0</td>\n      <td>0.00</td>\n      <td>DA.JPY</td>\n    </tr>\n    <tr>\n      <th>7</th>\n      <td>DA</td>\n      <td>KRW</td>\n      <td>0.00</td>\n      <td>0.0</td>\n      <td>0.00</td>\n      <td>DA.KRW</td>\n    </tr>\n    <tr>\n      <th>8</th>\n      <td>DA</td>\n      <td>MYR</td>\n      <td>0.00</td>\n      <td>0.0</td>\n      <td>0.00</td>\n      <td>DA.MYR</td>\n    </tr>\n    <tr>\n      <th>9</th>\n      <td>DA</td>\n      <td>NY-RMB</td>\n      <td>0.00</td>\n      <td>0.0</td>\n      <td>0.00</td>\n      <td>DA.NY-RMB</td>\n    </tr>\n    <tr>\n      <th>10</th>\n      <td>DA</td>\n      <td>NY-USD</td>\n      <td>0.00</td>\n      <td>0.0</td>\n      <td>0.00</td>\n      <td>DA.NY-USD</td>\n    </tr>\n    <tr>\n      <th>11</th>\n      <td>DA</td>\n      <td>RMB</td>\n      <td>0.00</td>\n      <td>0.0</td>\n      <td>0.00</td>\n      <td>DA.RMB</td>\n    </tr>\n    <tr>\n      <th>12</th>\n      <td>DA</td>\n      <td>RMB-HKFE</td>\n      <td>0.00</td>\n      <td>0.0</td>\n      <td>0.00</td>\n      <td>DA.RMB-HKFE</td>\n    </tr>\n    <tr>\n      <th>13</th>\n      <td>DA</td>\n      <td>SGD</td>\n      <td>0.00</td>\n      <td>0.0</td>\n      <td>0.00</td>\n      <td>DA.SGD</td>\n    </tr>\n    <tr>\n      <th>14</th>\n      <td>DA</td>\n      <td>THB</td>\n      <td>0.00</td>\n      <td>0.0</td>\n      <td>0.00</td>\n      <td>DA.THB</td>\n    </tr>\n    <tr>\n      <th>15</th>\n      <td>DA</td>\n      <td>TWD</td>\n      <td>0.00</td>\n      <td>0.0</td>\n      <td>0.00</td>\n      <td>DA.TWD</td>\n    </tr>\n    <tr>\n      <th>16</th>\n      <td>DA</td>\n      <td>USD</td>\n      <td>996949.49</td>\n      <td>0.0</td>\n      <td>996949.49</td>\n      <td>DA.USD</td>\n    </tr>\n    <tr>\n      <th>17</th>\n      <td>DA</td>\n      <td>USD-HKFE</td>\n      <td>0.00</td>\n      <td>0.0</td>\n      <td>0.00</td>\n      <td>DA.USD-HKFE</td>\n    </tr>\n  </tbody>\n</table>\n</div>"
     },
     "execution_count": 5,
     "metadata": {},
     "output_type": "execute_result"
    }
   ],
   "source": [
    "# 查询资金\n",
    "engine.get_all_accounts(use_df=True)"
   ]
  },
  {
   "cell_type": "code",
   "execution_count": 27,
   "metadata": {
    "ExecuteTime": {
     "start_time": "2023-10-25T18:31:14.174977Z",
     "end_time": "2023-10-25T18:31:14.190029Z"
    }
   },
   "outputs": [
    {
     "data": {
      "text/plain": "[]"
     },
     "execution_count": 27,
     "metadata": {},
     "output_type": "execute_result"
    }
   ],
   "source": [
    "engine.get_trades(\"DA.20231025000001\")"
   ]
  },
  {
   "cell_type": "code",
   "execution_count": 28,
   "metadata": {
    "ExecuteTime": {
     "start_time": "2023-10-25T18:41:38.090319Z",
     "end_time": "2023-10-25T18:41:38.093328Z"
    }
   },
   "outputs": [
    {
     "data": {
      "text/plain": "  gateway_name  symbol      exchange        direction  volume  frozen  \\\n0           DA  6A2312  Exchange.CME   Direction.LONG       3       0   \n1           DA  6A2312  Exchange.CME  Direction.SHORT       0       0   \n\n      price  pnl  yd_volume   vt_symbol    vt_positionid  \n0  0.643233    0          0  6A2312.CME  DA.6A2312.CME.多  \n1  0.000000    0          0  6A2312.CME  DA.6A2312.CME.空  ",
      "text/html": "<div>\n<style scoped>\n    .dataframe tbody tr th:only-of-type {\n        vertical-align: middle;\n    }\n\n    .dataframe tbody tr th {\n        vertical-align: top;\n    }\n\n    .dataframe thead th {\n        text-align: right;\n    }\n</style>\n<table border=\"1\" class=\"dataframe\">\n  <thead>\n    <tr style=\"text-align: right;\">\n      <th></th>\n      <th>gateway_name</th>\n      <th>symbol</th>\n      <th>exchange</th>\n      <th>direction</th>\n      <th>volume</th>\n      <th>frozen</th>\n      <th>price</th>\n      <th>pnl</th>\n      <th>yd_volume</th>\n      <th>vt_symbol</th>\n      <th>vt_positionid</th>\n    </tr>\n  </thead>\n  <tbody>\n    <tr>\n      <th>0</th>\n      <td>DA</td>\n      <td>6A2312</td>\n      <td>Exchange.CME</td>\n      <td>Direction.LONG</td>\n      <td>3</td>\n      <td>0</td>\n      <td>0.643233</td>\n      <td>0</td>\n      <td>0</td>\n      <td>6A2312.CME</td>\n      <td>DA.6A2312.CME.多</td>\n    </tr>\n    <tr>\n      <th>1</th>\n      <td>DA</td>\n      <td>6A2312</td>\n      <td>Exchange.CME</td>\n      <td>Direction.SHORT</td>\n      <td>0</td>\n      <td>0</td>\n      <td>0.000000</td>\n      <td>0</td>\n      <td>0</td>\n      <td>6A2312.CME</td>\n      <td>DA.6A2312.CME.空</td>\n    </tr>\n  </tbody>\n</table>\n</div>"
     },
     "execution_count": 28,
     "metadata": {},
     "output_type": "execute_result"
    }
   ],
   "source": [
    "# 查询持仓\n",
    "engine.get_all_positions(use_df=True)"
   ]
  },
  {
   "cell_type": "code",
   "execution_count": 26,
   "metadata": {
    "ExecuteTime": {
     "start_time": "2023-10-25T18:29:00.828909Z",
     "end_time": "2023-10-25T18:29:00.865034Z"
    }
   },
   "outputs": [
    {
     "data": {
      "text/plain": "  gateway_name  symbol      exchange         orderid             type  \\\n0           DA  6A2312  Exchange.CME  20231025000001  OrderType.LIMIT   \n\n         direction             offset  price  volume  traded  \\\n0  Direction.SHORT  Offset.CLOSETODAY    5.5       1       0   \n\n             status                  datetime     reference   vt_symbol  \\\n0  Status.NOTTRADED 2023-10-25 18:28:06+08:00  ScriptTrader  6A2312.CME   \n\n          vt_orderid  \n0  DA.20231025000001  ",
      "text/html": "<div>\n<style scoped>\n    .dataframe tbody tr th:only-of-type {\n        vertical-align: middle;\n    }\n\n    .dataframe tbody tr th {\n        vertical-align: top;\n    }\n\n    .dataframe thead th {\n        text-align: right;\n    }\n</style>\n<table border=\"1\" class=\"dataframe\">\n  <thead>\n    <tr style=\"text-align: right;\">\n      <th></th>\n      <th>gateway_name</th>\n      <th>symbol</th>\n      <th>exchange</th>\n      <th>orderid</th>\n      <th>type</th>\n      <th>direction</th>\n      <th>offset</th>\n      <th>price</th>\n      <th>volume</th>\n      <th>traded</th>\n      <th>status</th>\n      <th>datetime</th>\n      <th>reference</th>\n      <th>vt_symbol</th>\n      <th>vt_orderid</th>\n    </tr>\n  </thead>\n  <tbody>\n    <tr>\n      <th>0</th>\n      <td>DA</td>\n      <td>6A2312</td>\n      <td>Exchange.CME</td>\n      <td>20231025000001</td>\n      <td>OrderType.LIMIT</td>\n      <td>Direction.SHORT</td>\n      <td>Offset.CLOSETODAY</td>\n      <td>5.5</td>\n      <td>1</td>\n      <td>0</td>\n      <td>Status.NOTTRADED</td>\n      <td>2023-10-25 18:28:06+08:00</td>\n      <td>ScriptTrader</td>\n      <td>6A2312.CME</td>\n      <td>DA.20231025000001</td>\n    </tr>\n  </tbody>\n</table>\n</div>"
     },
     "execution_count": 26,
     "metadata": {},
     "output_type": "execute_result"
    }
   ],
   "source": [
    "engine.get_all_active_orders(use_df=True)"
   ]
  },
  {
   "cell_type": "code",
   "execution_count": 10,
   "metadata": {
    "ExecuteTime": {
     "start_time": "2023-10-25T18:04:56.966920Z",
     "end_time": "2023-10-25T18:04:57.088867Z"
    }
   },
   "outputs": [
    {
     "data": {
      "text/plain": "      gateway_name              symbol      exchange                name  \\\n0               DA              6A2311  Exchange.CME              澳元2311   \n1               DA              6A2312  Exchange.CME              澳元2312   \n2               DA              6A2401  Exchange.CME              澳元2401   \n3               DA              6A2402  Exchange.CME              澳元2402   \n4               DA              6A2403  Exchange.CME              澳元2403   \n...            ...                 ...           ...                 ...   \n85849           DA  QN_P_W4_2308 15020  Exchange.CME  小纳指周看跌4_2308 15020   \n85850           DA  QN_P_W4_2308 15070  Exchange.CME  小纳指周看跌4_2308 15070   \n85851           DA  QN_P_W4_2308 15160  Exchange.CME  小纳指周看跌4_2308 15160   \n85852           DA  QN_P_W4_2308 15230  Exchange.CME  小纳指周看跌4_2308 15230   \n85853           DA  QN_P_W4_2308 15360  Exchange.CME  小纳指周看跌4_2308 15360   \n\n               product      size  pricetick  min_volume  stop_supported  \\\n0      Product.FUTURES  100000.0     0.0001           1           False   \n1      Product.FUTURES  100000.0     0.0001           1           False   \n2      Product.FUTURES  100000.0     0.0001           1           False   \n3      Product.FUTURES  100000.0     0.0001           1           False   \n4      Product.FUTURES  100000.0     0.0001           1           False   \n...                ...       ...        ...         ...             ...   \n85849   Product.OPTION      20.0     0.2500           1           False   \n85850   Product.OPTION      20.0     0.2500           1           False   \n85851   Product.OPTION      20.0     0.2500           1           False   \n85852   Product.OPTION      20.0     0.2500           1           False   \n85853   Product.OPTION      20.0     0.2500           1           False   \n\n       net_position  history_data  option_strike option_underlying  \\\n0             False          True            0.0                     \n1             False          True            0.0                     \n2             False          True            0.0                     \n3             False          True            0.0                     \n4             False          True            0.0                     \n...             ...           ...            ...               ...   \n85849         False          True            0.0                     \n85850         False          True            0.0                     \n85851         False          True            0.0                     \n85852         False          True            0.0                     \n85853         False          True            0.0                     \n\n          option_type option_listed option_expiry option_portfolio  \\\n0                None          None           NaT                    \n1                None          None           NaT                    \n2                None          None           NaT                    \n3                None          None           NaT                    \n4                None          None           NaT                    \n...               ...           ...           ...              ...   \n85849  OptionType.PUT          None    2023-08-25                    \n85850  OptionType.PUT          None    2023-08-25                    \n85851  OptionType.PUT          None    2023-08-25                    \n85852  OptionType.PUT          None    2023-08-25                    \n85853  OptionType.PUT          None    2023-08-25                    \n\n      option_index               vt_symbol  \n0                               6A2311.CME  \n1                               6A2312.CME  \n2                               6A2401.CME  \n3                               6A2402.CME  \n4                               6A2403.CME  \n...            ...                     ...  \n85849               QN_P_W4_2308 15020.CME  \n85850               QN_P_W4_2308 15070.CME  \n85851               QN_P_W4_2308 15160.CME  \n85852               QN_P_W4_2308 15230.CME  \n85853               QN_P_W4_2308 15360.CME  \n\n[85854 rows x 19 columns]",
      "text/html": "<div>\n<style scoped>\n    .dataframe tbody tr th:only-of-type {\n        vertical-align: middle;\n    }\n\n    .dataframe tbody tr th {\n        vertical-align: top;\n    }\n\n    .dataframe thead th {\n        text-align: right;\n    }\n</style>\n<table border=\"1\" class=\"dataframe\">\n  <thead>\n    <tr style=\"text-align: right;\">\n      <th></th>\n      <th>gateway_name</th>\n      <th>symbol</th>\n      <th>exchange</th>\n      <th>name</th>\n      <th>product</th>\n      <th>size</th>\n      <th>pricetick</th>\n      <th>min_volume</th>\n      <th>stop_supported</th>\n      <th>net_position</th>\n      <th>history_data</th>\n      <th>option_strike</th>\n      <th>option_underlying</th>\n      <th>option_type</th>\n      <th>option_listed</th>\n      <th>option_expiry</th>\n      <th>option_portfolio</th>\n      <th>option_index</th>\n      <th>vt_symbol</th>\n    </tr>\n  </thead>\n  <tbody>\n    <tr>\n      <th>0</th>\n      <td>DA</td>\n      <td>6A2311</td>\n      <td>Exchange.CME</td>\n      <td>澳元2311</td>\n      <td>Product.FUTURES</td>\n      <td>100000.0</td>\n      <td>0.0001</td>\n      <td>1</td>\n      <td>False</td>\n      <td>False</td>\n      <td>True</td>\n      <td>0.0</td>\n      <td></td>\n      <td>None</td>\n      <td>None</td>\n      <td>NaT</td>\n      <td></td>\n      <td></td>\n      <td>6A2311.CME</td>\n    </tr>\n    <tr>\n      <th>1</th>\n      <td>DA</td>\n      <td>6A2312</td>\n      <td>Exchange.CME</td>\n      <td>澳元2312</td>\n      <td>Product.FUTURES</td>\n      <td>100000.0</td>\n      <td>0.0001</td>\n      <td>1</td>\n      <td>False</td>\n      <td>False</td>\n      <td>True</td>\n      <td>0.0</td>\n      <td></td>\n      <td>None</td>\n      <td>None</td>\n      <td>NaT</td>\n      <td></td>\n      <td></td>\n      <td>6A2312.CME</td>\n    </tr>\n    <tr>\n      <th>2</th>\n      <td>DA</td>\n      <td>6A2401</td>\n      <td>Exchange.CME</td>\n      <td>澳元2401</td>\n      <td>Product.FUTURES</td>\n      <td>100000.0</td>\n      <td>0.0001</td>\n      <td>1</td>\n      <td>False</td>\n      <td>False</td>\n      <td>True</td>\n      <td>0.0</td>\n      <td></td>\n      <td>None</td>\n      <td>None</td>\n      <td>NaT</td>\n      <td></td>\n      <td></td>\n      <td>6A2401.CME</td>\n    </tr>\n    <tr>\n      <th>3</th>\n      <td>DA</td>\n      <td>6A2402</td>\n      <td>Exchange.CME</td>\n      <td>澳元2402</td>\n      <td>Product.FUTURES</td>\n      <td>100000.0</td>\n      <td>0.0001</td>\n      <td>1</td>\n      <td>False</td>\n      <td>False</td>\n      <td>True</td>\n      <td>0.0</td>\n      <td></td>\n      <td>None</td>\n      <td>None</td>\n      <td>NaT</td>\n      <td></td>\n      <td></td>\n      <td>6A2402.CME</td>\n    </tr>\n    <tr>\n      <th>4</th>\n      <td>DA</td>\n      <td>6A2403</td>\n      <td>Exchange.CME</td>\n      <td>澳元2403</td>\n      <td>Product.FUTURES</td>\n      <td>100000.0</td>\n      <td>0.0001</td>\n      <td>1</td>\n      <td>False</td>\n      <td>False</td>\n      <td>True</td>\n      <td>0.0</td>\n      <td></td>\n      <td>None</td>\n      <td>None</td>\n      <td>NaT</td>\n      <td></td>\n      <td></td>\n      <td>6A2403.CME</td>\n    </tr>\n    <tr>\n      <th>...</th>\n      <td>...</td>\n      <td>...</td>\n      <td>...</td>\n      <td>...</td>\n      <td>...</td>\n      <td>...</td>\n      <td>...</td>\n      <td>...</td>\n      <td>...</td>\n      <td>...</td>\n      <td>...</td>\n      <td>...</td>\n      <td>...</td>\n      <td>...</td>\n      <td>...</td>\n      <td>...</td>\n      <td>...</td>\n      <td>...</td>\n      <td>...</td>\n    </tr>\n    <tr>\n      <th>85849</th>\n      <td>DA</td>\n      <td>QN_P_W4_2308 15020</td>\n      <td>Exchange.CME</td>\n      <td>小纳指周看跌4_2308 15020</td>\n      <td>Product.OPTION</td>\n      <td>20.0</td>\n      <td>0.2500</td>\n      <td>1</td>\n      <td>False</td>\n      <td>False</td>\n      <td>True</td>\n      <td>0.0</td>\n      <td></td>\n      <td>OptionType.PUT</td>\n      <td>None</td>\n      <td>2023-08-25</td>\n      <td></td>\n      <td></td>\n      <td>QN_P_W4_2308 15020.CME</td>\n    </tr>\n    <tr>\n      <th>85850</th>\n      <td>DA</td>\n      <td>QN_P_W4_2308 15070</td>\n      <td>Exchange.CME</td>\n      <td>小纳指周看跌4_2308 15070</td>\n      <td>Product.OPTION</td>\n      <td>20.0</td>\n      <td>0.2500</td>\n      <td>1</td>\n      <td>False</td>\n      <td>False</td>\n      <td>True</td>\n      <td>0.0</td>\n      <td></td>\n      <td>OptionType.PUT</td>\n      <td>None</td>\n      <td>2023-08-25</td>\n      <td></td>\n      <td></td>\n      <td>QN_P_W4_2308 15070.CME</td>\n    </tr>\n    <tr>\n      <th>85851</th>\n      <td>DA</td>\n      <td>QN_P_W4_2308 15160</td>\n      <td>Exchange.CME</td>\n      <td>小纳指周看跌4_2308 15160</td>\n      <td>Product.OPTION</td>\n      <td>20.0</td>\n      <td>0.2500</td>\n      <td>1</td>\n      <td>False</td>\n      <td>False</td>\n      <td>True</td>\n      <td>0.0</td>\n      <td></td>\n      <td>OptionType.PUT</td>\n      <td>None</td>\n      <td>2023-08-25</td>\n      <td></td>\n      <td></td>\n      <td>QN_P_W4_2308 15160.CME</td>\n    </tr>\n    <tr>\n      <th>85852</th>\n      <td>DA</td>\n      <td>QN_P_W4_2308 15230</td>\n      <td>Exchange.CME</td>\n      <td>小纳指周看跌4_2308 15230</td>\n      <td>Product.OPTION</td>\n      <td>20.0</td>\n      <td>0.2500</td>\n      <td>1</td>\n      <td>False</td>\n      <td>False</td>\n      <td>True</td>\n      <td>0.0</td>\n      <td></td>\n      <td>OptionType.PUT</td>\n      <td>None</td>\n      <td>2023-08-25</td>\n      <td></td>\n      <td></td>\n      <td>QN_P_W4_2308 15230.CME</td>\n    </tr>\n    <tr>\n      <th>85853</th>\n      <td>DA</td>\n      <td>QN_P_W4_2308 15360</td>\n      <td>Exchange.CME</td>\n      <td>小纳指周看跌4_2308 15360</td>\n      <td>Product.OPTION</td>\n      <td>20.0</td>\n      <td>0.2500</td>\n      <td>1</td>\n      <td>False</td>\n      <td>False</td>\n      <td>True</td>\n      <td>0.0</td>\n      <td></td>\n      <td>OptionType.PUT</td>\n      <td>None</td>\n      <td>2023-08-25</td>\n      <td></td>\n      <td></td>\n      <td>QN_P_W4_2308 15360.CME</td>\n    </tr>\n  </tbody>\n</table>\n<p>85854 rows × 19 columns</p>\n</div>"
     },
     "execution_count": 10,
     "metadata": {},
     "output_type": "execute_result"
    }
   ],
   "source": [
    "all_contracts = engine.get_all_contracts(use_df=True)\n",
    "all_contracts"
   ]
  },
  {
   "cell_type": "code",
   "execution_count": 17,
   "outputs": [],
   "source": [
    "engine.subscribe([\"6A2312.CME\"])"
   ],
   "metadata": {
    "collapsed": false,
    "ExecuteTime": {
     "start_time": "2023-10-25T18:18:17.211918Z",
     "end_time": "2023-10-25T18:18:17.214929Z"
    }
   }
  },
  {
   "cell_type": "code",
   "execution_count": 20,
   "outputs": [],
   "source": [
    "engine.get_tick(vt_symbol=\"6A2312.CME\",use_df=False)"
   ],
   "metadata": {
    "collapsed": false,
    "ExecuteTime": {
     "start_time": "2023-10-25T18:18:36.121905Z",
     "end_time": "2023-10-25T18:18:36.137953Z"
    }
   }
  },
  {
   "cell_type": "code",
   "execution_count": 21,
   "outputs": [],
   "source": [
    "from copy import deepcopy\n",
    "def to_standard_order(order: dict):\n",
    "    res = deepcopy(order)\n",
    "    res[\"vt_symbol\"] = f\"{order['symbol']}.{order['exchange'].value}\"\n",
    "    del res[\"symbol\"]\n",
    "    del res[\"exchange\"]\n",
    "    return res"
   ],
   "metadata": {
    "collapsed": false,
    "ExecuteTime": {
     "start_time": "2023-10-25T18:20:09.376455Z",
     "end_time": "2023-10-25T18:20:09.393504Z"
    }
   }
  },
  {
   "cell_type": "code",
   "execution_count": 23,
   "outputs": [],
   "source": [
    "short_limit_orders = [\n",
    "    {\n",
    "        \"symbol\": \"6A2312\",\n",
    "        \"exchange\": Exchange.CME,\n",
    "        \"price\": 5.5,\n",
    "        \"volume\": 1,\n",
    "        \"direction\": Direction.SHORT,\n",
    "        \"offset\": Offset.CLOSETODAY,\n",
    "        \"order_type\": OrderType.LIMIT,\n",
    "    },\n",
    "]"
   ],
   "metadata": {
    "collapsed": false,
    "ExecuteTime": {
     "start_time": "2023-10-25T18:27:31.436333Z",
     "end_time": "2023-10-25T18:27:31.446365Z"
    }
   }
  },
  {
   "cell_type": "code",
   "execution_count": 25,
   "outputs": [
    {
     "name": "stderr",
     "output_type": "stream",
     "text": [
      "\u001B[32m2023-10-25 18:28:07.330\u001B[0m | \u001B[1mINFO    \u001B[0m | \u001B[36m__main__\u001B[0m:\u001B[36m<module>\u001B[0m:\u001B[36m3\u001B[0m - \u001B[1morder: {'price': 5.5, 'volume': 1, 'direction': <Direction.SHORT: '空'>, 'offset': <Offset.CLOSETODAY: '平今'>, 'order_type': <OrderType.LIMIT: '限价'>, 'vt_symbol': '6A2312.CME'}\u001B[0m\n",
      "\u001B[32m2023-10-25 18:28:07.330\u001B[0m | \u001B[1mINFO    \u001B[0m | \u001B[36m__main__\u001B[0m:\u001B[36m<module>\u001B[0m:\u001B[36m5\u001B[0m - \u001B[1morder id: DA.20231025000001\u001B[0m\n"
     ]
    },
    {
     "name": "stdout",
     "output_type": "stream",
     "text": [
      "req OrderRequest(symbol='6A2312', exchange=<Exchange.CME: 'CME'>, direction=<Direction.SHORT: '空'>, type=<OrderType.LIMIT: '限价'>, volume=1, price=5.5, offset=<Offset.CLOSETODAY: '平今'>, reference='ScriptTrader')\n"
     ]
    },
    {
     "name": "stderr",
     "output_type": "stream",
     "text": [
      "\u001B[32m2023-10-25 18:28:10.343\u001B[0m | \u001B[1mINFO    \u001B[0m | \u001B[36m__main__\u001B[0m:\u001B[36m<module>\u001B[0m:\u001B[36m8\u001B[0m - \u001B[1mposition: [PositionData(gateway_name='DA', extra=None, symbol='6A2312', exchange=<Exchange.CME: 'CME'>, direction=<Direction.LONG: '多'>, volume=3, frozen=0, price=0.64323333, pnl=0, yd_volume=0), PositionData(gateway_name='DA', extra=None, symbol='6A2312', exchange=<Exchange.CME: 'CME'>, direction=<Direction.SHORT: '空'>, volume=0, frozen=0, price=0.0, pnl=0, yd_volume=0)]\u001B[0m\n"
     ]
    }
   ],
   "source": [
    "for order in short_limit_orders:\n",
    "    standard_order = to_standard_order(order)\n",
    "    logger.info(f\"order: {standard_order}\")\n",
    "    order_id = engine.send_order(**standard_order)\n",
    "    logger.info(f\"order id: {order_id}\")\n",
    "    sleep(3)\n",
    "    position = engine.get_all_positions()\n",
    "    logger.info(f\"position: {position}\")"
   ],
   "metadata": {
    "collapsed": false,
    "ExecuteTime": {
     "start_time": "2023-10-25T18:28:07.331918Z",
     "end_time": "2023-10-25T18:28:10.360579Z"
    }
   }
  },
  {
   "cell_type": "code",
   "execution_count": 29,
   "outputs": [
    {
     "data": {
      "text/plain": "  gateway_name  symbol      exchange         orderid             type  \\\n0           DA  6A2312  Exchange.CME  20231025000001  OrderType.LIMIT   \n\n         direction             offset  price  volume  traded  \\\n0  Direction.SHORT  Offset.CLOSETODAY    5.5       1       0   \n\n             status                  datetime     reference   vt_symbol  \\\n0  Status.NOTTRADED 2023-10-25 18:28:06+08:00  ScriptTrader  6A2312.CME   \n\n          vt_orderid  \n0  DA.20231025000001  ",
      "text/html": "<div>\n<style scoped>\n    .dataframe tbody tr th:only-of-type {\n        vertical-align: middle;\n    }\n\n    .dataframe tbody tr th {\n        vertical-align: top;\n    }\n\n    .dataframe thead th {\n        text-align: right;\n    }\n</style>\n<table border=\"1\" class=\"dataframe\">\n  <thead>\n    <tr style=\"text-align: right;\">\n      <th></th>\n      <th>gateway_name</th>\n      <th>symbol</th>\n      <th>exchange</th>\n      <th>orderid</th>\n      <th>type</th>\n      <th>direction</th>\n      <th>offset</th>\n      <th>price</th>\n      <th>volume</th>\n      <th>traded</th>\n      <th>status</th>\n      <th>datetime</th>\n      <th>reference</th>\n      <th>vt_symbol</th>\n      <th>vt_orderid</th>\n    </tr>\n  </thead>\n  <tbody>\n    <tr>\n      <th>0</th>\n      <td>DA</td>\n      <td>6A2312</td>\n      <td>Exchange.CME</td>\n      <td>20231025000001</td>\n      <td>OrderType.LIMIT</td>\n      <td>Direction.SHORT</td>\n      <td>Offset.CLOSETODAY</td>\n      <td>5.5</td>\n      <td>1</td>\n      <td>0</td>\n      <td>Status.NOTTRADED</td>\n      <td>2023-10-25 18:28:06+08:00</td>\n      <td>ScriptTrader</td>\n      <td>6A2312.CME</td>\n      <td>DA.20231025000001</td>\n    </tr>\n  </tbody>\n</table>\n</div>"
     },
     "execution_count": 29,
     "metadata": {},
     "output_type": "execute_result"
    }
   ],
   "source": [
    "engine.get_all_active_orders(use_df=True)"
   ],
   "metadata": {
    "collapsed": false,
    "ExecuteTime": {
     "start_time": "2023-10-25T18:43:36.178838Z",
     "end_time": "2023-10-25T18:43:36.199911Z"
    }
   }
  },
  {
   "cell_type": "code",
   "execution_count": 30,
   "outputs": [],
   "source": [
    "engine.cancel_order(vt_orderid=\"DA.20231025000001\")"
   ],
   "metadata": {
    "collapsed": false,
    "ExecuteTime": {
     "start_time": "2023-10-25T18:43:38.624327Z",
     "end_time": "2023-10-25T18:43:38.630348Z"
    }
   }
  },
  {
   "cell_type": "code",
   "execution_count": 31,
   "outputs": [],
   "source": [
    "engine.get_all_active_orders(use_df=True)"
   ],
   "metadata": {
    "collapsed": false,
    "ExecuteTime": {
     "start_time": "2023-10-25T18:43:42.113172Z",
     "end_time": "2023-10-25T18:43:42.127117Z"
    }
   }
  }
 ],
 "metadata": {
  "kernelspec": {
   "display_name": "Python 3 (ipykernel)",
   "language": "python",
   "name": "python3"
  },
  "language_info": {
   "codemirror_mode": {
    "name": "ipython",
    "version": 3
   },
   "file_extension": ".py",
   "mimetype": "text/x-python",
   "name": "python",
   "nbconvert_exporter": "python",
   "pygments_lexer": "ipython3",
   "version": "3.10.13"
  },
  "toc": {
   "base_numbering": 1,
   "nav_menu": {},
   "number_sections": true,
   "sideBar": true,
   "skip_h1_title": false,
   "title_cell": "Table of Contents",
   "title_sidebar": "Contents",
   "toc_cell": false,
   "toc_position": {},
   "toc_section_display": true,
   "toc_window_display": false
  }
 },
 "nbformat": 4,
 "nbformat_minor": 1
}
