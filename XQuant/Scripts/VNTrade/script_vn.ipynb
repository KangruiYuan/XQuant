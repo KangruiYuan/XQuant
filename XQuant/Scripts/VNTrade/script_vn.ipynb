{
 "cells": [
  {
   "cell_type": "code",
   "execution_count": 5,
   "metadata": {
    "collapsed": true,
    "ExecuteTime": {
     "start_time": "2023-09-27T19:03:43.958504Z",
     "end_time": "2023-09-27T19:03:43.960511Z"
    }
   },
   "outputs": [],
   "source": [
    "from time import sleep\n",
    "from loguru import logger\n",
    "import pandas as pd\n",
    "from vnpy.event import EventEngine, Event\n",
    "from vnpy.trader.event import EVENT_LOG\n",
    "from vnpy_da import DaGateway\n",
    "from vnpy_scripttrader import ScriptTraderApp, ScriptEngine, init_cli_trading"
   ]
  },
  {
   "cell_type": "code",
   "execution_count": 2,
   "outputs": [],
   "source": [
    "setting = {\n",
    "        \"用户名\": \"AF20230451\",\n",
    "        \"密码\": \"888888\",\n",
    "        \"经纪商代码\": \"DAHK\",\n",
    "        \"交易服务器\": \"222.73.119.230:7003\",\n",
    "        \"行情服务器\": \"222.73.105.170:9430\",\n",
    "        \"授权码\": \"porl99bbo/jrfib5xxgagza5giggzr/u\",\n",
    "    }"
   ],
   "metadata": {
    "collapsed": false,
    "ExecuteTime": {
     "start_time": "2023-09-27T19:00:56.955048Z",
     "end_time": "2023-09-27T19:00:56.967142Z"
    }
   }
  },
  {
   "cell_type": "code",
   "execution_count": 16,
   "outputs": [
    {
     "name": "stdout",
     "output_type": "stream",
     "text": [
      "找不到数据服务驱动vnpy_，使用默认的RQData数据服务\n",
      "2023-09-27 19:15:32.532494\t交易服务器连接成功\n",
      "2023-09-27 19:15:32.536508\t行情服务器连接成功\n"
     ]
    }
   ],
   "source": [
    "engine = init_cli_trading([DaGateway])\n",
    "engine.connect_gateway(setting, gateway_name=\"DA\")\n",
    "# req = SubscribeRequest(symbol=\"6A2309\", exchange=Exchange.CME)\n",
    "engine.strategy_active = True"
   ],
   "metadata": {
    "collapsed": false,
    "ExecuteTime": {
     "start_time": "2023-09-27T19:15:31.122580Z",
     "end_time": "2023-09-27T19:15:32.548550Z"
    }
   }
  },
  {
   "cell_type": "code",
   "execution_count": 4,
   "outputs": [
    {
     "data": {
      "text/plain": "ContractData(gateway_name='DA', extra=None, symbol='6A2312', exchange=<Exchange.CME: 'CME'>, name='澳元2312', product=<Product.FUTURES: '期货'>, size=100000.0, pricetick=0.0001, min_volume=1, stop_supported=False, net_position=False, history_data=True, option_strike=0, option_underlying='', option_type=None, option_listed=None, option_expiry=None, option_portfolio='', option_index='')"
     },
     "execution_count": 4,
     "metadata": {},
     "output_type": "execute_result"
    }
   ],
   "source": [
    "engine.get_contract(\"6A2312.CME\")"
   ],
   "metadata": {
    "collapsed": false,
    "ExecuteTime": {
     "start_time": "2023-09-27T18:24:56.285057Z",
     "end_time": "2023-09-27T18:24:56.298101Z"
    }
   }
  },
  {
   "cell_type": "code",
   "execution_count": 30,
   "outputs": [
    {
     "data": {
      "text/plain": "   gateway_name accountid    balance  frozen  available vt_accountid\n0            DA       AUD       0.00     0.0       0.00       DA.AUD\n1            DA       CHF       0.00     0.0       0.00       DA.CHF\n2            DA       EUR       0.00     0.0       0.00       DA.EUR\n3            DA       GBP       0.00     0.0       0.00       DA.GBP\n4            DA       HKD       0.00     0.0       0.00       DA.HKD\n5            DA  HKD-HKFE       0.00     0.0       0.00  DA.HKD-HKFE\n6            DA       JPY       0.00     0.0       0.00       DA.JPY\n7            DA       KRW       0.00     0.0       0.00       DA.KRW\n8            DA       MYR       0.00     0.0       0.00       DA.MYR\n9            DA    NY-RMB       0.00     0.0       0.00    DA.NY-RMB\n10           DA    NY-USD       0.00     0.0       0.00    DA.NY-USD\n11           DA       RMB       0.00     0.0       0.00       DA.RMB\n12           DA  RMB-HKFE       0.00     0.0       0.00  DA.RMB-HKFE\n13           DA       SGD       0.00     0.0       0.00       DA.SGD\n14           DA       THB       0.00     0.0       0.00       DA.THB\n15           DA       TWD       0.00     0.0       0.00       DA.TWD\n16           DA       USD  999522.22     0.0  999522.22       DA.USD\n17           DA  USD-HKFE       0.00     0.0       0.00  DA.USD-HKFE",
      "text/html": "<div>\n<style scoped>\n    .dataframe tbody tr th:only-of-type {\n        vertical-align: middle;\n    }\n\n    .dataframe tbody tr th {\n        vertical-align: top;\n    }\n\n    .dataframe thead th {\n        text-align: right;\n    }\n</style>\n<table border=\"1\" class=\"dataframe\">\n  <thead>\n    <tr style=\"text-align: right;\">\n      <th></th>\n      <th>gateway_name</th>\n      <th>accountid</th>\n      <th>balance</th>\n      <th>frozen</th>\n      <th>available</th>\n      <th>vt_accountid</th>\n    </tr>\n  </thead>\n  <tbody>\n    <tr>\n      <th>0</th>\n      <td>DA</td>\n      <td>AUD</td>\n      <td>0.00</td>\n      <td>0.0</td>\n      <td>0.00</td>\n      <td>DA.AUD</td>\n    </tr>\n    <tr>\n      <th>1</th>\n      <td>DA</td>\n      <td>CHF</td>\n      <td>0.00</td>\n      <td>0.0</td>\n      <td>0.00</td>\n      <td>DA.CHF</td>\n    </tr>\n    <tr>\n      <th>2</th>\n      <td>DA</td>\n      <td>EUR</td>\n      <td>0.00</td>\n      <td>0.0</td>\n      <td>0.00</td>\n      <td>DA.EUR</td>\n    </tr>\n    <tr>\n      <th>3</th>\n      <td>DA</td>\n      <td>GBP</td>\n      <td>0.00</td>\n      <td>0.0</td>\n      <td>0.00</td>\n      <td>DA.GBP</td>\n    </tr>\n    <tr>\n      <th>4</th>\n      <td>DA</td>\n      <td>HKD</td>\n      <td>0.00</td>\n      <td>0.0</td>\n      <td>0.00</td>\n      <td>DA.HKD</td>\n    </tr>\n    <tr>\n      <th>5</th>\n      <td>DA</td>\n      <td>HKD-HKFE</td>\n      <td>0.00</td>\n      <td>0.0</td>\n      <td>0.00</td>\n      <td>DA.HKD-HKFE</td>\n    </tr>\n    <tr>\n      <th>6</th>\n      <td>DA</td>\n      <td>JPY</td>\n      <td>0.00</td>\n      <td>0.0</td>\n      <td>0.00</td>\n      <td>DA.JPY</td>\n    </tr>\n    <tr>\n      <th>7</th>\n      <td>DA</td>\n      <td>KRW</td>\n      <td>0.00</td>\n      <td>0.0</td>\n      <td>0.00</td>\n      <td>DA.KRW</td>\n    </tr>\n    <tr>\n      <th>8</th>\n      <td>DA</td>\n      <td>MYR</td>\n      <td>0.00</td>\n      <td>0.0</td>\n      <td>0.00</td>\n      <td>DA.MYR</td>\n    </tr>\n    <tr>\n      <th>9</th>\n      <td>DA</td>\n      <td>NY-RMB</td>\n      <td>0.00</td>\n      <td>0.0</td>\n      <td>0.00</td>\n      <td>DA.NY-RMB</td>\n    </tr>\n    <tr>\n      <th>10</th>\n      <td>DA</td>\n      <td>NY-USD</td>\n      <td>0.00</td>\n      <td>0.0</td>\n      <td>0.00</td>\n      <td>DA.NY-USD</td>\n    </tr>\n    <tr>\n      <th>11</th>\n      <td>DA</td>\n      <td>RMB</td>\n      <td>0.00</td>\n      <td>0.0</td>\n      <td>0.00</td>\n      <td>DA.RMB</td>\n    </tr>\n    <tr>\n      <th>12</th>\n      <td>DA</td>\n      <td>RMB-HKFE</td>\n      <td>0.00</td>\n      <td>0.0</td>\n      <td>0.00</td>\n      <td>DA.RMB-HKFE</td>\n    </tr>\n    <tr>\n      <th>13</th>\n      <td>DA</td>\n      <td>SGD</td>\n      <td>0.00</td>\n      <td>0.0</td>\n      <td>0.00</td>\n      <td>DA.SGD</td>\n    </tr>\n    <tr>\n      <th>14</th>\n      <td>DA</td>\n      <td>THB</td>\n      <td>0.00</td>\n      <td>0.0</td>\n      <td>0.00</td>\n      <td>DA.THB</td>\n    </tr>\n    <tr>\n      <th>15</th>\n      <td>DA</td>\n      <td>TWD</td>\n      <td>0.00</td>\n      <td>0.0</td>\n      <td>0.00</td>\n      <td>DA.TWD</td>\n    </tr>\n    <tr>\n      <th>16</th>\n      <td>DA</td>\n      <td>USD</td>\n      <td>999522.22</td>\n      <td>0.0</td>\n      <td>999522.22</td>\n      <td>DA.USD</td>\n    </tr>\n    <tr>\n      <th>17</th>\n      <td>DA</td>\n      <td>USD-HKFE</td>\n      <td>0.00</td>\n      <td>0.0</td>\n      <td>0.00</td>\n      <td>DA.USD-HKFE</td>\n    </tr>\n  </tbody>\n</table>\n</div>"
     },
     "execution_count": 30,
     "metadata": {},
     "output_type": "execute_result"
    }
   ],
   "source": [
    "# 查询资金\n",
    "engine.get_all_accounts(use_df=True)"
   ],
   "metadata": {
    "collapsed": false,
    "ExecuteTime": {
     "start_time": "2023-09-28T21:22:32.255311Z",
     "end_time": "2023-09-28T21:22:32.264343Z"
    }
   }
  },
  {
   "cell_type": "code",
   "execution_count": 32,
   "outputs": [
    {
     "data": {
      "text/plain": "[]"
     },
     "execution_count": 32,
     "metadata": {},
     "output_type": "execute_result"
    }
   ],
   "source": [
    "engine.get_trades([\"DA.20230928000011\"])"
   ],
   "metadata": {
    "collapsed": false,
    "ExecuteTime": {
     "start_time": "2023-09-28T21:25:13.402095Z",
     "end_time": "2023-09-28T21:25:13.419155Z"
    }
   }
  },
  {
   "cell_type": "code",
   "execution_count": 37,
   "outputs": [
    {
     "data": {
      "text/plain": "  gateway_name  symbol      exchange        direction  volume  frozen  \\\n0           DA  6A2312  Exchange.CME   Direction.LONG       4       0   \n1           DA  6A2312  Exchange.CME  Direction.SHORT       0       0   \n\n      price  pnl  yd_volume   vt_symbol    vt_positionid  \n0  0.643112    0          0  6A2312.CME  DA.6A2312.CME.多  \n1  0.000000    0          0  6A2312.CME  DA.6A2312.CME.空  ",
      "text/html": "<div>\n<style scoped>\n    .dataframe tbody tr th:only-of-type {\n        vertical-align: middle;\n    }\n\n    .dataframe tbody tr th {\n        vertical-align: top;\n    }\n\n    .dataframe thead th {\n        text-align: right;\n    }\n</style>\n<table border=\"1\" class=\"dataframe\">\n  <thead>\n    <tr style=\"text-align: right;\">\n      <th></th>\n      <th>gateway_name</th>\n      <th>symbol</th>\n      <th>exchange</th>\n      <th>direction</th>\n      <th>volume</th>\n      <th>frozen</th>\n      <th>price</th>\n      <th>pnl</th>\n      <th>yd_volume</th>\n      <th>vt_symbol</th>\n      <th>vt_positionid</th>\n    </tr>\n  </thead>\n  <tbody>\n    <tr>\n      <th>0</th>\n      <td>DA</td>\n      <td>6A2312</td>\n      <td>Exchange.CME</td>\n      <td>Direction.LONG</td>\n      <td>4</td>\n      <td>0</td>\n      <td>0.643112</td>\n      <td>0</td>\n      <td>0</td>\n      <td>6A2312.CME</td>\n      <td>DA.6A2312.CME.多</td>\n    </tr>\n    <tr>\n      <th>1</th>\n      <td>DA</td>\n      <td>6A2312</td>\n      <td>Exchange.CME</td>\n      <td>Direction.SHORT</td>\n      <td>0</td>\n      <td>0</td>\n      <td>0.000000</td>\n      <td>0</td>\n      <td>0</td>\n      <td>6A2312.CME</td>\n      <td>DA.6A2312.CME.空</td>\n    </tr>\n  </tbody>\n</table>\n</div>"
     },
     "execution_count": 37,
     "metadata": {},
     "output_type": "execute_result"
    }
   ],
   "source": [
    "# 查询持仓\n",
    "engine.get_all_positions(use_df=True)"
   ],
   "metadata": {
    "collapsed": false,
    "ExecuteTime": {
     "start_time": "2023-09-29T09:36:37.037553Z",
     "end_time": "2023-09-29T09:36:37.064644Z"
    }
   }
  },
  {
   "cell_type": "code",
   "execution_count": 38,
   "outputs": [
    {
     "data": {
      "text/plain": "  gateway_name  symbol      exchange        direction  volume  frozen  \\\n0           DA  6A2312  Exchange.CME   Direction.LONG       3       0   \n1           DA  6A2312  Exchange.CME  Direction.SHORT       0       0   \n\n      price  pnl  yd_volume   vt_symbol    vt_positionid  \n0  0.643233    0          0  6A2312.CME  DA.6A2312.CME.多  \n1  0.000000    0          0  6A2312.CME  DA.6A2312.CME.空  ",
      "text/html": "<div>\n<style scoped>\n    .dataframe tbody tr th:only-of-type {\n        vertical-align: middle;\n    }\n\n    .dataframe tbody tr th {\n        vertical-align: top;\n    }\n\n    .dataframe thead th {\n        text-align: right;\n    }\n</style>\n<table border=\"1\" class=\"dataframe\">\n  <thead>\n    <tr style=\"text-align: right;\">\n      <th></th>\n      <th>gateway_name</th>\n      <th>symbol</th>\n      <th>exchange</th>\n      <th>direction</th>\n      <th>volume</th>\n      <th>frozen</th>\n      <th>price</th>\n      <th>pnl</th>\n      <th>yd_volume</th>\n      <th>vt_symbol</th>\n      <th>vt_positionid</th>\n    </tr>\n  </thead>\n  <tbody>\n    <tr>\n      <th>0</th>\n      <td>DA</td>\n      <td>6A2312</td>\n      <td>Exchange.CME</td>\n      <td>Direction.LONG</td>\n      <td>3</td>\n      <td>0</td>\n      <td>0.643233</td>\n      <td>0</td>\n      <td>0</td>\n      <td>6A2312.CME</td>\n      <td>DA.6A2312.CME.多</td>\n    </tr>\n    <tr>\n      <th>1</th>\n      <td>DA</td>\n      <td>6A2312</td>\n      <td>Exchange.CME</td>\n      <td>Direction.SHORT</td>\n      <td>0</td>\n      <td>0</td>\n      <td>0.000000</td>\n      <td>0</td>\n      <td>0</td>\n      <td>6A2312.CME</td>\n      <td>DA.6A2312.CME.空</td>\n    </tr>\n  </tbody>\n</table>\n</div>"
     },
     "execution_count": 38,
     "metadata": {},
     "output_type": "execute_result"
    }
   ],
   "source": [
    "# 查询持仓\n",
    "engine.get_all_positions(use_df=True)"
   ],
   "metadata": {
    "collapsed": false,
    "ExecuteTime": {
     "start_time": "2023-09-29T09:37:42.533127Z",
     "end_time": "2023-09-29T09:37:42.548180Z"
    }
   }
  },
  {
   "cell_type": "code",
   "execution_count": 22,
   "outputs": [],
   "source": [
    "engine.get_all_active_orders(use_df=True)"
   ],
   "metadata": {
    "collapsed": false,
    "ExecuteTime": {
     "start_time": "2023-09-28T20:43:43.331341Z",
     "end_time": "2023-09-28T20:43:43.347395Z"
    }
   }
  },
  {
   "cell_type": "code",
   "execution_count": 8,
   "outputs": [
    {
     "data": {
      "text/plain": "  gateway_name  symbol      exchange    name          product      size  \\\n0           DA  6A2309  Exchange.CME  澳元2309  Product.FUTURES  100000.0   \n1           DA  6A2310  Exchange.CME  澳元2310  Product.FUTURES  100000.0   \n2           DA  6A2311  Exchange.CME  澳元2311  Product.FUTURES  100000.0   \n3           DA  6A2312  Exchange.CME  澳元2312  Product.FUTURES  100000.0   \n4           DA  6A2401  Exchange.CME  澳元2401  Product.FUTURES  100000.0   \n\n   pricetick  min_volume  stop_supported  net_position  history_data  \\\n0     0.0001           1           False         False          True   \n1     0.0001           1           False         False          True   \n2     0.0001           1           False         False          True   \n3     0.0001           1           False         False          True   \n4     0.0001           1           False         False          True   \n\n   option_strike option_underlying option_type option_listed option_expiry  \\\n0            0.0                          None          None           NaT   \n1            0.0                          None          None           NaT   \n2            0.0                          None          None           NaT   \n3            0.0                          None          None           NaT   \n4            0.0                          None          None           NaT   \n\n  option_portfolio option_index   vt_symbol  \n0                                6A2309.CME  \n1                                6A2310.CME  \n2                                6A2311.CME  \n3                                6A2312.CME  \n4                                6A2401.CME  ",
      "text/html": "<div>\n<style scoped>\n    .dataframe tbody tr th:only-of-type {\n        vertical-align: middle;\n    }\n\n    .dataframe tbody tr th {\n        vertical-align: top;\n    }\n\n    .dataframe thead th {\n        text-align: right;\n    }\n</style>\n<table border=\"1\" class=\"dataframe\">\n  <thead>\n    <tr style=\"text-align: right;\">\n      <th></th>\n      <th>gateway_name</th>\n      <th>symbol</th>\n      <th>exchange</th>\n      <th>name</th>\n      <th>product</th>\n      <th>size</th>\n      <th>pricetick</th>\n      <th>min_volume</th>\n      <th>stop_supported</th>\n      <th>net_position</th>\n      <th>history_data</th>\n      <th>option_strike</th>\n      <th>option_underlying</th>\n      <th>option_type</th>\n      <th>option_listed</th>\n      <th>option_expiry</th>\n      <th>option_portfolio</th>\n      <th>option_index</th>\n      <th>vt_symbol</th>\n    </tr>\n  </thead>\n  <tbody>\n    <tr>\n      <th>0</th>\n      <td>DA</td>\n      <td>6A2309</td>\n      <td>Exchange.CME</td>\n      <td>澳元2309</td>\n      <td>Product.FUTURES</td>\n      <td>100000.0</td>\n      <td>0.0001</td>\n      <td>1</td>\n      <td>False</td>\n      <td>False</td>\n      <td>True</td>\n      <td>0.0</td>\n      <td></td>\n      <td>None</td>\n      <td>None</td>\n      <td>NaT</td>\n      <td></td>\n      <td></td>\n      <td>6A2309.CME</td>\n    </tr>\n    <tr>\n      <th>1</th>\n      <td>DA</td>\n      <td>6A2310</td>\n      <td>Exchange.CME</td>\n      <td>澳元2310</td>\n      <td>Product.FUTURES</td>\n      <td>100000.0</td>\n      <td>0.0001</td>\n      <td>1</td>\n      <td>False</td>\n      <td>False</td>\n      <td>True</td>\n      <td>0.0</td>\n      <td></td>\n      <td>None</td>\n      <td>None</td>\n      <td>NaT</td>\n      <td></td>\n      <td></td>\n      <td>6A2310.CME</td>\n    </tr>\n    <tr>\n      <th>2</th>\n      <td>DA</td>\n      <td>6A2311</td>\n      <td>Exchange.CME</td>\n      <td>澳元2311</td>\n      <td>Product.FUTURES</td>\n      <td>100000.0</td>\n      <td>0.0001</td>\n      <td>1</td>\n      <td>False</td>\n      <td>False</td>\n      <td>True</td>\n      <td>0.0</td>\n      <td></td>\n      <td>None</td>\n      <td>None</td>\n      <td>NaT</td>\n      <td></td>\n      <td></td>\n      <td>6A2311.CME</td>\n    </tr>\n    <tr>\n      <th>3</th>\n      <td>DA</td>\n      <td>6A2312</td>\n      <td>Exchange.CME</td>\n      <td>澳元2312</td>\n      <td>Product.FUTURES</td>\n      <td>100000.0</td>\n      <td>0.0001</td>\n      <td>1</td>\n      <td>False</td>\n      <td>False</td>\n      <td>True</td>\n      <td>0.0</td>\n      <td></td>\n      <td>None</td>\n      <td>None</td>\n      <td>NaT</td>\n      <td></td>\n      <td></td>\n      <td>6A2312.CME</td>\n    </tr>\n    <tr>\n      <th>4</th>\n      <td>DA</td>\n      <td>6A2401</td>\n      <td>Exchange.CME</td>\n      <td>澳元2401</td>\n      <td>Product.FUTURES</td>\n      <td>100000.0</td>\n      <td>0.0001</td>\n      <td>1</td>\n      <td>False</td>\n      <td>False</td>\n      <td>True</td>\n      <td>0.0</td>\n      <td></td>\n      <td>None</td>\n      <td>None</td>\n      <td>NaT</td>\n      <td></td>\n      <td></td>\n      <td>6A2401.CME</td>\n    </tr>\n  </tbody>\n</table>\n</div>"
     },
     "execution_count": 8,
     "metadata": {},
     "output_type": "execute_result"
    }
   ],
   "source": [
    "all_contracts = engine.get_all_contracts(use_df=True)\n",
    "all_contracts.head()"
   ],
   "metadata": {
    "collapsed": false,
    "ExecuteTime": {
     "start_time": "2023-08-29T17:12:55.660768Z",
     "end_time": "2023-08-29T17:12:55.756202Z"
    }
   }
  }
 ],
 "metadata": {
  "kernelspec": {
   "display_name": "Python 3",
   "language": "python",
   "name": "python3"
  },
  "language_info": {
   "codemirror_mode": {
    "name": "ipython",
    "version": 2
   },
   "file_extension": ".py",
   "mimetype": "text/x-python",
   "name": "python",
   "nbconvert_exporter": "python",
   "pygments_lexer": "ipython2",
   "version": "2.7.6"
  }
 },
 "nbformat": 4,
 "nbformat_minor": 0
}
