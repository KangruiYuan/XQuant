{
 "cells": [
  {
   "cell_type": "code",
   "execution_count": 3,
   "metadata": {
    "collapsed": true,
    "ExecuteTime": {
     "end_time": "2023-09-19T08:22:15.303085700Z",
     "start_time": "2023-09-19T08:22:15.287979600Z"
    }
   },
   "outputs": [],
   "source": [
    "from ibapi.client import EClient\n",
    "from ibapi.wrapper import EWrapper\n",
    "from ibapi.contract import Contract"
   ]
  },
  {
   "cell_type": "code",
   "execution_count": null,
   "outputs": [
    {
     "name": "stderr",
     "output_type": "stream",
     "text": [
      "ERROR -1 2104 市场数据农场连接正常:hfarm\n",
      "ERROR -1 2107 历史市场数据农场连接不活跃，但在要求之下可用。:hkhmds\n",
      "ERROR -1 2158 Sec-def数据农场连接正常:secdefhk\n"
     ]
    },
    {
     "name": "stdout",
     "output_type": "stream",
     "text": [
      "Launching IB API application...\n",
      "Successfully launched IB API application...\n"
     ]
    }
   ],
   "source": [
    "client = EClient(EWrapper())\n",
    "con = Contract()\n",
    "client.reqHistoricalData(reqId=923, endDateTime=\"\", contract=con, durationStr=\"1 M\", barSizeSetting='1 min', whatToShow=\"TRADES\", useRTH=1,formatDate=\"yyyy-MM-dd HH:mm\", keepUpToDate=False, chartOptions=\"XYZ\")"
   ],
   "metadata": {
    "collapsed": false,
    "is_executing": true,
    "ExecuteTime": {
     "start_time": "2023-09-19T08:24:11.926785Z"
    }
   }
  }
 ],
 "metadata": {
  "kernelspec": {
   "display_name": "Python 3",
   "language": "python",
   "name": "python3"
  },
  "language_info": {
   "codemirror_mode": {
    "name": "ipython",
    "version": 2
   },
   "file_extension": ".py",
   "mimetype": "text/x-python",
   "name": "python",
   "nbconvert_exporter": "python",
   "pygments_lexer": "ipython2",
   "version": "2.7.6"
  }
 },
 "nbformat": 4,
 "nbformat_minor": 0
}
