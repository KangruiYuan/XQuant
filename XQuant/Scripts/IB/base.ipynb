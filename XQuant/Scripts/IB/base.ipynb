{
 "cells": [
  {
   "cell_type": "code",
   "execution_count": 2,
   "metadata": {
    "collapsed": true,
    "ExecuteTime": {
     "start_time": "2023-09-24T00:59:59.398082Z",
     "end_time": "2023-09-24T00:59:59.414135Z"
    }
   },
   "outputs": [],
   "source": [
    "import os\n",
    "_CME = r\"H:\\global data\\Ticks for CL&NG&SI\\OneMinute\\CME\"\n",
    "CME_PATH = os.getenv(\"CME\", _CME)"
   ]
  },
  {
   "cell_type": "code",
   "execution_count": 3,
   "outputs": [],
   "source": [
    "from pathlib import Path\n",
    "CME = Path(CME_PATH)"
   ],
   "metadata": {
    "collapsed": false,
    "ExecuteTime": {
     "start_time": "2023-09-24T00:59:59.415143Z",
     "end_time": "2023-09-24T00:59:59.429184Z"
    }
   }
  },
  {
   "cell_type": "code",
   "execution_count": 4,
   "outputs": [
    {
     "data": {
      "text/plain": "{'CL': WindowsPath('H:/global data/Ticks for CL&NG&SI/OneMinute/CME/CL'),\n 'GC': WindowsPath('H:/global data/Ticks for CL&NG&SI/OneMinute/CME/GC'),\n 'NG': WindowsPath('H:/global data/Ticks for CL&NG&SI/OneMinute/CME/NG'),\n 'SI': WindowsPath('H:/global data/Ticks for CL&NG&SI/OneMinute/CME/SI')}"
     },
     "execution_count": 4,
     "metadata": {},
     "output_type": "execute_result"
    }
   ],
   "source": [
    "SYMBOLS = {i.stem: i for i in CME.iterdir()}\n",
    "SYMBOLS"
   ],
   "metadata": {
    "collapsed": false,
    "ExecuteTime": {
     "start_time": "2023-09-24T00:59:59.431190Z",
     "end_time": "2023-09-24T00:59:59.445236Z"
    }
   }
  },
  {
   "cell_type": "code",
   "execution_count": 5,
   "outputs": [
    {
     "data": {
      "text/plain": "WindowsPath('H:/global data/Ticks for CL&NG&SI/OneMinute/CME/GC')"
     },
     "execution_count": 5,
     "metadata": {},
     "output_type": "execute_result"
    }
   ],
   "source": [
    "GC = SYMBOLS[\"GC\"]\n",
    "GC"
   ],
   "metadata": {
    "collapsed": false,
    "ExecuteTime": {
     "start_time": "2023-09-24T00:59:59.446240Z",
     "end_time": "2023-09-24T00:59:59.476345Z"
    }
   }
  },
  {
   "cell_type": "code",
   "execution_count": 6,
   "outputs": [
    {
     "data": {
      "text/plain": "{'GC0000': WindowsPath('H:/global data/Ticks for CL&NG&SI/OneMinute/CME/GC/GC0000.txt'),\n 'GC1801': WindowsPath('H:/global data/Ticks for CL&NG&SI/OneMinute/CME/GC/GC1801.txt'),\n 'GC1802': WindowsPath('H:/global data/Ticks for CL&NG&SI/OneMinute/CME/GC/GC1802.txt'),\n 'GC1803': WindowsPath('H:/global data/Ticks for CL&NG&SI/OneMinute/CME/GC/GC1803.txt'),\n 'GC1804': WindowsPath('H:/global data/Ticks for CL&NG&SI/OneMinute/CME/GC/GC1804.txt'),\n 'GC1805': WindowsPath('H:/global data/Ticks for CL&NG&SI/OneMinute/CME/GC/GC1805.txt'),\n 'GC1806': WindowsPath('H:/global data/Ticks for CL&NG&SI/OneMinute/CME/GC/GC1806.txt'),\n 'GC1807': WindowsPath('H:/global data/Ticks for CL&NG&SI/OneMinute/CME/GC/GC1807.txt'),\n 'GC1808': WindowsPath('H:/global data/Ticks for CL&NG&SI/OneMinute/CME/GC/GC1808.txt'),\n 'GC1809': WindowsPath('H:/global data/Ticks for CL&NG&SI/OneMinute/CME/GC/GC1809.txt'),\n 'GC1810': WindowsPath('H:/global data/Ticks for CL&NG&SI/OneMinute/CME/GC/GC1810.txt'),\n 'GC1811': WindowsPath('H:/global data/Ticks for CL&NG&SI/OneMinute/CME/GC/GC1811.txt'),\n 'GC1812': WindowsPath('H:/global data/Ticks for CL&NG&SI/OneMinute/CME/GC/GC1812.txt'),\n 'GC1901': WindowsPath('H:/global data/Ticks for CL&NG&SI/OneMinute/CME/GC/GC1901.txt'),\n 'GC1902': WindowsPath('H:/global data/Ticks for CL&NG&SI/OneMinute/CME/GC/GC1902.txt'),\n 'GC1903': WindowsPath('H:/global data/Ticks for CL&NG&SI/OneMinute/CME/GC/GC1903.txt'),\n 'GC1904': WindowsPath('H:/global data/Ticks for CL&NG&SI/OneMinute/CME/GC/GC1904.txt'),\n 'GC1905': WindowsPath('H:/global data/Ticks for CL&NG&SI/OneMinute/CME/GC/GC1905.txt'),\n 'GC1906': WindowsPath('H:/global data/Ticks for CL&NG&SI/OneMinute/CME/GC/GC1906.txt'),\n 'GC1907': WindowsPath('H:/global data/Ticks for CL&NG&SI/OneMinute/CME/GC/GC1907.txt'),\n 'GC1908': WindowsPath('H:/global data/Ticks for CL&NG&SI/OneMinute/CME/GC/GC1908.txt'),\n 'GC1909': WindowsPath('H:/global data/Ticks for CL&NG&SI/OneMinute/CME/GC/GC1909.txt'),\n 'GC1910': WindowsPath('H:/global data/Ticks for CL&NG&SI/OneMinute/CME/GC/GC1910.txt'),\n 'GC1911': WindowsPath('H:/global data/Ticks for CL&NG&SI/OneMinute/CME/GC/GC1911.txt'),\n 'GC1912': WindowsPath('H:/global data/Ticks for CL&NG&SI/OneMinute/CME/GC/GC1912.txt'),\n 'GC2001': WindowsPath('H:/global data/Ticks for CL&NG&SI/OneMinute/CME/GC/GC2001.txt'),\n 'GC2002': WindowsPath('H:/global data/Ticks for CL&NG&SI/OneMinute/CME/GC/GC2002.txt'),\n 'GC2003': WindowsPath('H:/global data/Ticks for CL&NG&SI/OneMinute/CME/GC/GC2003.txt'),\n 'GC2004': WindowsPath('H:/global data/Ticks for CL&NG&SI/OneMinute/CME/GC/GC2004.txt'),\n 'GC2005': WindowsPath('H:/global data/Ticks for CL&NG&SI/OneMinute/CME/GC/GC2005.txt'),\n 'GC2006': WindowsPath('H:/global data/Ticks for CL&NG&SI/OneMinute/CME/GC/GC2006.txt'),\n 'GC2007': WindowsPath('H:/global data/Ticks for CL&NG&SI/OneMinute/CME/GC/GC2007.txt'),\n 'GC2008': WindowsPath('H:/global data/Ticks for CL&NG&SI/OneMinute/CME/GC/GC2008.txt'),\n 'GC2009': WindowsPath('H:/global data/Ticks for CL&NG&SI/OneMinute/CME/GC/GC2009.txt'),\n 'GC2010': WindowsPath('H:/global data/Ticks for CL&NG&SI/OneMinute/CME/GC/GC2010.txt'),\n 'GC2011': WindowsPath('H:/global data/Ticks for CL&NG&SI/OneMinute/CME/GC/GC2011.txt'),\n 'GC2012': WindowsPath('H:/global data/Ticks for CL&NG&SI/OneMinute/CME/GC/GC2012.txt'),\n 'GC2101': WindowsPath('H:/global data/Ticks for CL&NG&SI/OneMinute/CME/GC/GC2101.txt'),\n 'GC2102': WindowsPath('H:/global data/Ticks for CL&NG&SI/OneMinute/CME/GC/GC2102.txt'),\n 'GC2103': WindowsPath('H:/global data/Ticks for CL&NG&SI/OneMinute/CME/GC/GC2103.txt'),\n 'GC2104': WindowsPath('H:/global data/Ticks for CL&NG&SI/OneMinute/CME/GC/GC2104.txt'),\n 'GC2105': WindowsPath('H:/global data/Ticks for CL&NG&SI/OneMinute/CME/GC/GC2105.txt'),\n 'GC2106': WindowsPath('H:/global data/Ticks for CL&NG&SI/OneMinute/CME/GC/GC2106.txt'),\n 'GC2107': WindowsPath('H:/global data/Ticks for CL&NG&SI/OneMinute/CME/GC/GC2107.txt'),\n 'GC2108': WindowsPath('H:/global data/Ticks for CL&NG&SI/OneMinute/CME/GC/GC2108.txt'),\n 'GC2109': WindowsPath('H:/global data/Ticks for CL&NG&SI/OneMinute/CME/GC/GC2109.txt'),\n 'GC2110': WindowsPath('H:/global data/Ticks for CL&NG&SI/OneMinute/CME/GC/GC2110.txt'),\n 'GC2111': WindowsPath('H:/global data/Ticks for CL&NG&SI/OneMinute/CME/GC/GC2111.txt'),\n 'GC2112': WindowsPath('H:/global data/Ticks for CL&NG&SI/OneMinute/CME/GC/GC2112.txt'),\n 'GC2201': WindowsPath('H:/global data/Ticks for CL&NG&SI/OneMinute/CME/GC/GC2201.txt'),\n 'GC2202': WindowsPath('H:/global data/Ticks for CL&NG&SI/OneMinute/CME/GC/GC2202.txt'),\n 'GC2203': WindowsPath('H:/global data/Ticks for CL&NG&SI/OneMinute/CME/GC/GC2203.txt'),\n 'GC2204': WindowsPath('H:/global data/Ticks for CL&NG&SI/OneMinute/CME/GC/GC2204.txt'),\n 'GC2205': WindowsPath('H:/global data/Ticks for CL&NG&SI/OneMinute/CME/GC/GC2205.txt'),\n 'GC2206': WindowsPath('H:/global data/Ticks for CL&NG&SI/OneMinute/CME/GC/GC2206.txt'),\n 'GC2207': WindowsPath('H:/global data/Ticks for CL&NG&SI/OneMinute/CME/GC/GC2207.txt'),\n 'GC2208': WindowsPath('H:/global data/Ticks for CL&NG&SI/OneMinute/CME/GC/GC2208.txt'),\n 'GC2209': WindowsPath('H:/global data/Ticks for CL&NG&SI/OneMinute/CME/GC/GC2209.txt'),\n 'GC2210': WindowsPath('H:/global data/Ticks for CL&NG&SI/OneMinute/CME/GC/GC2210.txt'),\n 'GC2211': WindowsPath('H:/global data/Ticks for CL&NG&SI/OneMinute/CME/GC/GC2211.txt'),\n 'GC2212': WindowsPath('H:/global data/Ticks for CL&NG&SI/OneMinute/CME/GC/GC2212.txt'),\n 'GC2301': WindowsPath('H:/global data/Ticks for CL&NG&SI/OneMinute/CME/GC/GC2301.txt'),\n 'GC2302': WindowsPath('H:/global data/Ticks for CL&NG&SI/OneMinute/CME/GC/GC2302.txt'),\n 'GC2303': WindowsPath('H:/global data/Ticks for CL&NG&SI/OneMinute/CME/GC/GC2303.txt'),\n 'GC2304': WindowsPath('H:/global data/Ticks for CL&NG&SI/OneMinute/CME/GC/GC2304.txt'),\n 'GC2305': WindowsPath('H:/global data/Ticks for CL&NG&SI/OneMinute/CME/GC/GC2305.txt'),\n 'GC2306': WindowsPath('H:/global data/Ticks for CL&NG&SI/OneMinute/CME/GC/GC2306.txt'),\n 'GC2307': WindowsPath('H:/global data/Ticks for CL&NG&SI/OneMinute/CME/GC/GC2307.txt'),\n 'GC2308': WindowsPath('H:/global data/Ticks for CL&NG&SI/OneMinute/CME/GC/GC2308.txt'),\n 'GC2310': WindowsPath('H:/global data/Ticks for CL&NG&SI/OneMinute/CME/GC/GC2310.txt'),\n 'GC2312': WindowsPath('H:/global data/Ticks for CL&NG&SI/OneMinute/CME/GC/GC2312.txt'),\n 'GC2402': WindowsPath('H:/global data/Ticks for CL&NG&SI/OneMinute/CME/GC/GC2402.txt'),\n 'GC2404': WindowsPath('H:/global data/Ticks for CL&NG&SI/OneMinute/CME/GC/GC2404.txt'),\n 'GC2406': WindowsPath('H:/global data/Ticks for CL&NG&SI/OneMinute/CME/GC/GC2406.txt'),\n 'GC2408': WindowsPath('H:/global data/Ticks for CL&NG&SI/OneMinute/CME/GC/GC2408.txt'),\n 'GC2410': WindowsPath('H:/global data/Ticks for CL&NG&SI/OneMinute/CME/GC/GC2410.txt'),\n 'GC2412': WindowsPath('H:/global data/Ticks for CL&NG&SI/OneMinute/CME/GC/GC2412.txt'),\n 'GC2506': WindowsPath('H:/global data/Ticks for CL&NG&SI/OneMinute/CME/GC/GC2506.txt'),\n 'GC2512': WindowsPath('H:/global data/Ticks for CL&NG&SI/OneMinute/CME/GC/GC2512.txt'),\n 'GC2612': WindowsPath('H:/global data/Ticks for CL&NG&SI/OneMinute/CME/GC/GC2612.txt')}"
     },
     "execution_count": 6,
     "metadata": {},
     "output_type": "execute_result"
    }
   ],
   "source": [
    "GC_contracts = {i.stem: i for i in GC.glob(\"*.txt\")}\n",
    "GC_contracts"
   ],
   "metadata": {
    "collapsed": false,
    "ExecuteTime": {
     "start_time": "2023-09-24T00:59:59.462295Z",
     "end_time": "2023-09-24T00:59:59.482365Z"
    }
   }
  },
  {
   "cell_type": "code",
   "execution_count": 10,
   "outputs": [
    {
     "data": {
      "text/plain": "WindowsPath('H:/global data/Ticks for CL&NG&SI/OneMinute/CME/GC/GC2312.txt')"
     },
     "execution_count": 10,
     "metadata": {},
     "output_type": "execute_result"
    }
   ],
   "source": [
    "GC2312 = GC_contracts[\"GC2312\"]\n",
    "GC2312"
   ],
   "metadata": {
    "collapsed": false,
    "ExecuteTime": {
     "start_time": "2023-09-24T01:00:31.040790Z",
     "end_time": "2023-09-24T01:00:31.044802Z"
    }
   }
  },
  {
   "cell_type": "code",
   "execution_count": 23,
   "outputs": [
    {
     "data": {
      "text/plain": "                          1       2       3       4  5  6\n0                                                        \n2022-02-12 02:39:00  1900.0  1900.0  1900.0  1900.0  1  0\n2022-02-16 01:44:00  1900.0  1900.0  1900.0  1900.0  1  0\n2022-03-03 00:19:00  1963.0  1963.0  1963.0  1963.0  1  0\n2022-03-07 08:23:00  2035.0  2035.0  2035.0  2035.0  5  0\n2022-03-07 10:45:00  2035.0  2035.0  2035.0  2035.0  5  0",
      "text/html": "<div>\n<style scoped>\n    .dataframe tbody tr th:only-of-type {\n        vertical-align: middle;\n    }\n\n    .dataframe tbody tr th {\n        vertical-align: top;\n    }\n\n    .dataframe thead th {\n        text-align: right;\n    }\n</style>\n<table border=\"1\" class=\"dataframe\">\n  <thead>\n    <tr style=\"text-align: right;\">\n      <th></th>\n      <th>1</th>\n      <th>2</th>\n      <th>3</th>\n      <th>4</th>\n      <th>5</th>\n      <th>6</th>\n    </tr>\n    <tr>\n      <th>0</th>\n      <th></th>\n      <th></th>\n      <th></th>\n      <th></th>\n      <th></th>\n      <th></th>\n    </tr>\n  </thead>\n  <tbody>\n    <tr>\n      <th>2022-02-12 02:39:00</th>\n      <td>1900.0</td>\n      <td>1900.0</td>\n      <td>1900.0</td>\n      <td>1900.0</td>\n      <td>1</td>\n      <td>0</td>\n    </tr>\n    <tr>\n      <th>2022-02-16 01:44:00</th>\n      <td>1900.0</td>\n      <td>1900.0</td>\n      <td>1900.0</td>\n      <td>1900.0</td>\n      <td>1</td>\n      <td>0</td>\n    </tr>\n    <tr>\n      <th>2022-03-03 00:19:00</th>\n      <td>1963.0</td>\n      <td>1963.0</td>\n      <td>1963.0</td>\n      <td>1963.0</td>\n      <td>1</td>\n      <td>0</td>\n    </tr>\n    <tr>\n      <th>2022-03-07 08:23:00</th>\n      <td>2035.0</td>\n      <td>2035.0</td>\n      <td>2035.0</td>\n      <td>2035.0</td>\n      <td>5</td>\n      <td>0</td>\n    </tr>\n    <tr>\n      <th>2022-03-07 10:45:00</th>\n      <td>2035.0</td>\n      <td>2035.0</td>\n      <td>2035.0</td>\n      <td>2035.0</td>\n      <td>5</td>\n      <td>0</td>\n    </tr>\n  </tbody>\n</table>\n</div>"
     },
     "execution_count": 23,
     "metadata": {},
     "output_type": "execute_result"
    }
   ],
   "source": [
    "import pandas as pd\n",
    "df = pd.read_csv(GC2312, header=None, parse_dates=True, index_col=0)\n",
    "df.head()"
   ],
   "metadata": {
    "collapsed": false,
    "ExecuteTime": {
     "start_time": "2023-09-24T10:03:05.135662Z",
     "end_time": "2023-09-24T10:03:05.150713Z"
    }
   }
  }
 ],
 "metadata": {
  "kernelspec": {
   "display_name": "Python 3",
   "language": "python",
   "name": "python3"
  },
  "language_info": {
   "codemirror_mode": {
    "name": "ipython",
    "version": 2
   },
   "file_extension": ".py",
   "mimetype": "text/x-python",
   "name": "python",
   "nbconvert_exporter": "python",
   "pygments_lexer": "ipython2",
   "version": "2.7.6"
  }
 },
 "nbformat": 4,
 "nbformat_minor": 0
}
